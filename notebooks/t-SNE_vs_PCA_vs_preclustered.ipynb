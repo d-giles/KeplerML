{
 "cells": [
  {
   "cell_type": "code",
   "execution_count": 1,
   "metadata": {},
   "outputs": [
    {
     "name": "stderr",
     "output_type": "stream",
     "text": [
      "numbapro:1: ImportWarning: The numbapro package is deprecated in favour of the accelerate package. Please update your code to use equivalent functions from accelerate.\n",
      "/home/dgiles/anaconda/lib/python2.7/site-packages/numba/cuda/decorators.py:107: UserWarning: autojit is deprecated and will be removed in a future release. Use jit instead.\n",
      "  warn('autojit is deprecated and will be removed in a future release. Use jit instead.')\n"
     ]
    }
   ],
   "source": [
    "import matplotlib\n",
    "matplotlib.use('TkAgg')\n",
    "import matplotlib.pyplot as plt\n",
    "from matplotlib.figure import Figure\n",
    "from matplotlib.backends.backend_tkagg import FigureCanvasTkAgg, NavigationToolbar2TkAgg\n",
    "from matplotlib import colors\n",
    "import matplotlib.cm as cmx\n",
    "import matplotlib.gridspec as gridspec\n",
    "import numpy as np\n",
    "np.set_printoptions(threshold='nan')\n",
    "import pandas as pd\n",
    "import seaborn as sns\n",
    "import sys\n",
    "if sys.version_info[0] < 3:\n",
    "    import Tkinter as Tk\n",
    "else:\n",
    "    import tkinter as Tk\n",
    "    \n",
    "from tkFileDialog import askopenfilename,askdirectory,asksaveasfile\n",
    "sys.path.append('python')\n",
    "import clusterOutliers\n",
    "import keplerml"
   ]
  },
  {
   "cell_type": "code",
   "execution_count": null,
   "metadata": {},
   "outputs": [],
   "source": [
    "reload(clusterOutliers)"
   ]
  },
  {
   "cell_type": "code",
   "execution_count": 2,
   "metadata": {
    "collapsed": true
   },
   "outputs": [],
   "source": [
    "feats = \"/home/dgiles/Documents/KeplerLCs/output/Q4_output.csv\"\n",
    "fitsDir = \"/home/dgiles/Documents/KeplerLCs/fitsFiles/Q4fitsfiles/\"\n",
    "Q4 = clusterOutliers.clusterOutliers(feats,fitsDir)\n",
    "import pandas as pd\n",
    "sample_path = \"/home/dgiles/Documents/KeplerLCs/output/Q4_Sample.csv\"\n",
    "Q4.dataSample = pd.read_csv(sample_path,index_col=0)\n",
    "Q4.filesSample = Q4.dataSample.index"
   ]
  },
  {
   "cell_type": "code",
   "execution_count": 5,
   "metadata": {},
   "outputs": [
    {
     "name": "stdout",
     "output_type": "stream",
     "text": [
      "0:00:00.152387\n"
     ]
    }
   ],
   "source": [
    "# returns updated dataframe with pca_x and pca_y for each file\n",
    "from datetime import datetime\n",
    "starttime = datetime.now()\n",
    "Q4_pca = Q4.pca_fit(Q4.dataSample.iloc[:,0:60])\n",
    "Q4.dataSample['pca_x']=Q4_pca.T[0]\n",
    "Q4.dataSample['pca_y']=Q4_pca.T[1]\n",
    "print(datetime.now()-starttime)"
   ]
  },
  {
   "cell_type": "code",
   "execution_count": 4,
   "metadata": {},
   "outputs": [
    {
     "name": "stdout",
     "output_type": "stream",
     "text": [
      "[t-SNE] Computing pairwise distances...\n",
      "[t-SNE] Computing 2632 nearest neighbors...\n",
      "[t-SNE] Computed conditional probabilities for sample 1000 / 8774\n",
      "[t-SNE] Computed conditional probabilities for sample 2000 / 8774\n",
      "[t-SNE] Computed conditional probabilities for sample 3000 / 8774\n",
      "[t-SNE] Computed conditional probabilities for sample 4000 / 8774\n",
      "[t-SNE] Computed conditional probabilities for sample 5000 / 8774\n",
      "[t-SNE] Computed conditional probabilities for sample 6000 / 8774\n",
      "[t-SNE] Computed conditional probabilities for sample 7000 / 8774\n",
      "[t-SNE] Computed conditional probabilities for sample 8000 / 8774\n",
      "[t-SNE] Computed conditional probabilities for sample 8774 / 8774\n",
      "[t-SNE] Mean sigma: 1.437116\n",
      "[t-SNE] KL divergence after 100 iterations with early exaggeration: 0.114660\n",
      "[t-SNE] Error after 125 iterations: 0.114660\n",
      "Done.\n",
      "0:07:28.650539\n"
     ]
    }
   ],
   "source": [
    "from datetime import datetime\n",
    "starttime = datetime.now()\n",
    "Q4_tsne = Q4.tsne_fit(Q4.dataSample.iloc[:,0:60])\n",
    "#Q4.dataSample['pca_x']=Q4_pca.T[0]\n",
    "#Q4.dataSample['pca_y']=Q4_pca.T[1]\n",
    "print(datetime.now()-starttime)"
   ]
  },
  {
   "cell_type": "code",
   "execution_count": 4,
   "metadata": {},
   "outputs": [
    {
     "name": "stdout",
     "output_type": "stream",
     "text": [
      "Clustering data...\n",
      "\n",
      "    Epsilon is in the neighborhood of 0.941727596325, \n",
      "    with an average of 1755.0 neighbors within epsilon,\n",
      "    877.5 neighbors in half circle (neighbors/2).\n",
      "    \n",
      "Clustering data with DBSCAN...\n",
      "Tabby has not Not found to be an outlier in DBSCAN\n",
      "There were 1 clusters and 1587 total outliers\n"
     ]
    }
   ],
   "source": [
    "# creates dbscan clusters based on pca reduced data\n",
    "Q4.dataSample['db_pca']=Q4.db_out(Q4.dataSample[['pca_x','pca_y']])"
   ]
  },
  {
   "cell_type": "code",
   "execution_count": 6,
   "metadata": {},
   "outputs": [
    {
     "name": "stdout",
     "output_type": "stream",
     "text": [
      "Estimating Parameters...\n",
      "\n",
      "    Epsilon is in the neighborhood of 0.941727327391, \n",
      "    with an average of 1755.0 neighbors within epsilon,\n",
      "    877.5 neighbors in half circle (neighbors/2).\n",
      "    \n",
      "Clustering data with DBSCAN...\n",
      "Tabby has not Not found to be an outlier in DBSCAN\n",
      "There were 1 clusters and 1374 total outliers\n",
      "0:00:10.729052\n",
      "Estimating Parameters...\n",
      "\n",
      "    Epsilon is in the neighborhood of 1.29673900682, \n",
      "    with an average of 391.0 neighbors within epsilon,\n",
      "    195.5 neighbors in half circle (neighbors/2).\n",
      "    \n",
      "Clustering data with DBSCAN...\n",
      "Tabby has not Not found to be an outlier in DBSCAN\n",
      "There were 1 clusters and 118 total outliers\n",
      "0:00:07.177011\n"
     ]
    }
   ],
   "source": [
    "from datetime import datetime\n",
    "\n",
    "starttime=datetime.now()\n",
    "Q4.db_out(Q4.dataSample[['pca_x','pca_y']])\n",
    "print(datetime.now()-starttime)\n",
    "starttime = datetime.now()\n",
    "Q4.db_out(Q4.dataSample[['tsne_x','tsne_y']])\n",
    "print(datetime.now()-starttime)"
   ]
  },
  {
   "cell_type": "code",
   "execution_count": 5,
   "metadata": {},
   "outputs": [
    {
     "name": "stdout",
     "output_type": "stream",
     "text": [
      "Clustering data...\n",
      "\n",
      "    Epsilon is in the neighborhood of 1.29673900682, \n",
      "    with an average of 391.0 neighbors within epsilon,\n",
      "    195.5 neighbors in half circle (neighbors/2).\n",
      "    \n",
      "Clustering data with DBSCAN...\n",
      "Tabby has not Not found to be an outlier in DBSCAN\n",
      "There were 1 clusters and 120 total outliers\n"
     ]
    }
   ],
   "source": [
    "Q4.dataSample['db_tsne']=Q4.db_out(Q4.dataSample[['tsne_x','tsne_y']])"
   ]
  },
  {
   "cell_type": "code",
   "execution_count": 7,
   "metadata": {},
   "outputs": [
    {
     "name": "stdout",
     "output_type": "stream",
     "text": [
      "Estimating Parameters...\n",
      "\n",
      "    Epsilon is in the neighborhood of 6.97464259858, \n",
      "    with an average of 1755.0 neighbors within epsilon,\n",
      "    877.5 neighbors in half circle (neighbors/2).\n",
      "    \n",
      "Clustering data with DBSCAN...\n",
      "Tabby has not Not found to be an outlier in DBSCAN\n",
      "There were 1 clusters and 295 total outliers\n",
      "0:00:32.402966\n"
     ]
    }
   ],
   "source": [
    "from sklearn import preprocessing\n",
    "starttime = datetime.now()\n",
    "data = Q4.dataSample.iloc[:,0:60]\n",
    "scaler = preprocessing.StandardScaler().fit(data)\n",
    "scaledData = scaler.transform(data)\n",
    "df_scaled  = pd.DataFrame(columns=Q4.dataSample.columns[0:60],index=Q4.dataSample.index,data=scaledData)\n",
    "# Returns updated dataframe with clusters based on scaled data prior to dim reduction\n",
    "Q4.dataSample['db_pre'] = Q4.db_out(df_scaled)\n",
    "print(datetime.now()-starttime)"
   ]
  },
  {
   "cell_type": "code",
   "execution_count": null,
   "metadata": {
    "collapsed": true
   },
   "outputs": [],
   "source": []
  },
  {
   "cell_type": "markdown",
   "metadata": {},
   "source": [
    "x1 = Q4.dataSample.tsne_x\n",
    "y1 = Q4.dataSample.tsne_y\n",
    "\n",
    "x2 = Q4.dataSample.pca_x\n",
    "y2 = Q4.dataSample.pca_y\n",
    "\n",
    "CL1 = Q4.dataSample.db_tsne\n",
    "CL2 = Q4.dataSample.db_pca\n",
    "CL3 = Q4.dataSample.db_pre\n",
    "\n",
    "\n",
    "fig =plt.figure(figsize=[10,15])\n",
    "fig.add_subplot(111).set_title(\"Title\")\n",
    "plt.set_cmap('nipy_spectral')\n",
    "\n",
    "ax1 = fig.add_subplot(311)\n",
    "ax2 = fig.add_subplot(312)\n",
    "ax3 = fig.add_subplot(313)\n",
    "\n",
    "ax1.scatter(x2,y2,c=-CL1)\n",
    "ax1.set_ylabel(\"PCA Y\")\n",
    "ax1.set_title(\"T-SNE Cluster\")\n",
    "ax2.scatter(x2,y2,c=-CL2)\n",
    "ax2.set_ylabel(\"PCA Y\")\n",
    "ax2.set_title(\"PCA Cluster\")\n",
    "ax3.scatter(x2,y2,c=-CL3)\n",
    "ax3.set_ylabel(\"PCA Y\")\n",
    "ax3.set_title(\"Pre Cluster\")\n",
    "plt.xlabel(\"PCA X\")\n",
    "\n",
    "fig2 = plt.figure(figsize=[10,15])\n",
    "ax1 = fig2.add_subplot(311)\n",
    "ax2 = fig2.add_subplot(312)\n",
    "ax3 = fig2.add_subplot(313)\n",
    "\n",
    "ax1.scatter(x1,y1,c=-CL1)\n",
    "ax1.set_ylabel(\"t-SNE Y\")\n",
    "ax1.set_title(\"T-SNE Cluster\")\n",
    "ax2.scatter(x1,y1,c=-CL2)\n",
    "ax2.set_ylabel(\"t-SNE Y\")\n",
    "ax2.set_title(\"PCA Cluster\")\n",
    "ax3.scatter(x1,y1,c=-CL3)\n",
    "ax3.set_ylabel(\"t-SNE Y\")\n",
    "ax3.set_title(\"Pre Cluster\")\n",
    "plt.xlabel(\"t-SNE X\")\n",
    "plt.show()\n",
    "\n",
    "Q4.plot_sample(df=Q4.dataSample,pathtofits=fitsDir,cluster_method='dbscan',reduction_method='pca')"
   ]
  },
  {
   "cell_type": "code",
   "execution_count": null,
   "metadata": {},
   "outputs": [],
   "source": [
    "from sklearn.neighbors import NearestNeighbors\n",
    "data = Q4.dataSample[['pca_x','pca_y']]\n",
    "data=np.array([np.array(data.loc[i]) for i in data.index])\n",
    "\n",
    "# distance array containing all distances\n",
    "nbrs = NearestNeighbors(n_neighbors=int(np.ceil(.2*len(data))), algorithm='ball_tree').fit(data)\n",
    "distances, indices = nbrs.kneighbors(data)\n",
    "# Distance to 2*N/100th instead of 4th because: ... reasons\n",
    "neighbors = int(np.ceil(.02*len(data)))\n",
    "print neighbors\n",
    "distArr = distances[:,neighbors]\n",
    "#distArr = distances[:,4]\n",
    "#neighbors = 4\n",
    "distArr.sort()\n",
    "# x-axis (not meaningful)\n",
    "pts = range(len(distArr))\n",
    "\n",
    "\n",
    "\n",
    "# The following looks for the first instance (past the mid point) where the mean of the following 50 points\n",
    "# is at least 5% greater than the mean of the previous 50 points.\n",
    "# Alternatively, perhaps a better method, we could consider the variance of the points and draw conclusions from that\n",
    "if len(data) <= 200:\n",
    "    number = 10\n",
    "else:\n",
    "    number = 10\n",
    "cutoff = 1.1\n",
    "for i in range(number,len(pts)-number):\n",
    "    if np.mean(distArr[i+1:i+number])>=cutoff*np.mean(distArr[i-number:i-1]) and i>(len(pts)%2+len(pts))/2:\n",
    "\n",
    "        dbEps = distArr[i]\n",
    "        break\n",
    "print i\n",
    "# Estimating nneighbors by finding the number of pts. \n",
    "# that fall w/in our determined eps for each point.\n",
    "\n",
    "count = np.zeros(len(pts))\n",
    "for i in pts:    \n",
    "    for dist in distances[i]:\n",
    "        if dist <= dbEps:\n",
    "            count[i]+=1\n",
    "average = np.median(count)\n",
    "sigma = np.std(count)\n",
    "neighbors = int(average/2) # Divide by 2 for pts on the edges of clusters\n",
    "print(\"\"\"\n",
    "Epsilon is in the neighborhood of %s, \n",
    "with an average of %s neighbors within epsilon,\n",
    "%s neighbors in half circle (neighbors/2).\n",
    "\"\"\"%(dbEps,average,neighbors))\n",
    "\n",
    "plt.scatter(pts,distArr,alpha=.2,s=30)\n",
    "plt.show()"
   ]
  },
  {
   "cell_type": "code",
   "execution_count": 7,
   "metadata": {},
   "outputs": [],
   "source": [
    "Q4_pca_out = [i[:13] for i in Q4.dataSample[Q4.dataSample.db_pca==-1].index]\n",
    "Q4_tsne_out = [i[:13] for i in Q4.dataSample[Q4.dataSample.db_tsne==-1].index]\n",
    "Q4_pre_out = [i[:13] for i in Q4.dataSample[Q4.dataSample.db_pre==-1].index]"
   ]
  },
  {
   "cell_type": "code",
   "execution_count": 8,
   "metadata": {
    "collapsed": true
   },
   "outputs": [],
   "source": [
    "Q4_pca_vs_tsne = set(Q4_pca_out).intersection(Q4_tsne_out)\n",
    "Q4_pre_vs_tsne = set(Q4_pre_out).intersection(Q4_tsne_out) \n",
    "Q4_pca_vs_pre = set(Q4_pre_out).intersection(Q4_pca_out)\n",
    "Q4_comp_all = set(Q4_pca_vs_tsne).intersection(Q4_pre_out)"
   ]
  },
  {
   "cell_type": "code",
   "execution_count": 10,
   "metadata": {
    "scrolled": true
   },
   "outputs": [
    {
     "name": "stdout",
     "output_type": "stream",
     "text": [
      "304\n",
      "1587\n",
      "120\n",
      "\n",
      "99\n",
      "107\n",
      "271\n",
      "94\n"
     ]
    }
   ],
   "source": [
    "print len(Q4_pre_out)\n",
    "print len(Q4_pca_out)\n",
    "print len(Q4_tsne_out)\n",
    "print(\"\")\n",
    "\n",
    "print len(Q4_pca_vs_tsne)\n",
    "print len(Q4_pre_vs_tsne)\n",
    "print len(Q4_pca_vs_pre)\n",
    "print len(Q4_comp_all)"
   ]
  },
  {
   "cell_type": "code",
   "execution_count": null,
   "metadata": {},
   "outputs": [],
   "source": []
  },
  {
   "cell_type": "code",
   "execution_count": 16,
   "metadata": {},
   "outputs": [],
   "source": [
    "# Outlier in pre, not in pca.\n",
    "# Plotted on PCA axes\n",
    "Q4_pre_not_pca = [i for i in Q4_pre_out if i not in Q4_pca_out]\n",
    "ax_tsne = plt.subplot(211)\n",
    "plt.xlabel(\"t-SNE X\")\n",
    "plt.ylabel(\"t-SNE Y\")\n",
    "plt.title(\"Outliers in pre-reduction, not outliers after PCA\")\n",
    "\n",
    "ax_pca = plt.subplot(212)\n",
    "\n",
    "x = Q4.dataSample.tsne_x\n",
    "y = Q4.dataSample.tsne_y\n",
    "ax_tsne.scatter(x,y,c='gray',edgecolors='gray',alpha=.5)\n",
    "\n",
    "x = Q4.dataSample[Q4.dataSample.index.str.contains('|'.join(Q4_pre_not_pca))].tsne_x\n",
    "y = Q4.dataSample[Q4.dataSample.index.str.contains('|'.join(Q4_pre_not_pca))].tsne_y\n",
    "ax_tsne.scatter(x,y,c='r',alpha=1)\n",
    "\n",
    "\n",
    "\n",
    "x = Q4.dataSample.pca_x\n",
    "y = Q4.dataSample.pca_y\n",
    "ax_pca.scatter(x,y,c='gray',edgecolors='gray',alpha=.5)\n",
    "\n",
    "x = Q4.dataSample[Q4.dataSample.index.str.contains('|'.join(Q4_pre_not_pca))].pca_x\n",
    "y = Q4.dataSample[Q4.dataSample.index.str.contains('|'.join(Q4_pre_not_pca))].pca_y\n",
    "ax_pca.scatter(x,y,c='r',alpha=1)\n",
    "\n",
    "plt.xlabel(\"PCA X\")\n",
    "plt.ylabel(\"PCA Y\")\n",
    "plt.show()"
   ]
  },
  {
   "cell_type": "code",
   "execution_count": 20,
   "metadata": {
    "collapsed": true
   },
   "outputs": [],
   "source": [
    "# Outlier in pre, not in tsne.\n",
    "# Plotted on PCA axes\n",
    "Q4_pre_not_tsne = [i for i in Q4_pre_out if i not in Q4_tsne_out]\n",
    "ax_tsne = plt.subplot(211)\n",
    "plt.xlabel(\"t-SNE X\")\n",
    "plt.ylabel(\"t-SNE Y\")\n",
    "plt.title(\"Outliers in pre-reduction, not outliers after t-SNE\")\n",
    "\n",
    "ax_pca = plt.subplot(212)\n",
    "\n",
    "x = Q4.dataSample.tsne_x\n",
    "y = Q4.dataSample.tsne_y\n",
    "ax_tsne.scatter(x,y,c='gray',edgecolors='gray',alpha=.5)\n",
    "\n",
    "x = Q4.dataSample[Q4.dataSample.index.str.contains('|'.join(Q4_pre_not_tsne))].tsne_x\n",
    "y = Q4.dataSample[Q4.dataSample.index.str.contains('|'.join(Q4_pre_not_tsne))].tsne_y\n",
    "ax_tsne.scatter(x,y,c='r',alpha=1)\n",
    "\n",
    "\n",
    "\n",
    "x = Q4.dataSample.pca_x\n",
    "y = Q4.dataSample.pca_y\n",
    "ax_pca.scatter(x,y,c='gray',edgecolors='gray',alpha=.5)\n",
    "\n",
    "x = Q4.dataSample[Q4.dataSample.index.str.contains('|'.join(Q4_pre_not_tsne))].pca_x\n",
    "y = Q4.dataSample[Q4.dataSample.index.str.contains('|'.join(Q4_pre_not_tsne))].pca_y\n",
    "ax_pca.scatter(x,y,c='r',alpha=1)\n",
    "\n",
    "plt.xlabel(\"PCA X\")\n",
    "plt.ylabel(\"PCA Y\")\n",
    "plt.show()"
   ]
  },
  {
   "cell_type": "code",
   "execution_count": 21,
   "metadata": {
    "collapsed": true
   },
   "outputs": [],
   "source": [
    "# Outlier in pca, not in tsne.\n",
    "# Plotted on PCA axes\n",
    "Q4_pca_not_tsne = [i for i in Q4_pca_out if i not in Q4_tsne_out]\n",
    "ax_tsne = plt.subplot(211)\n",
    "plt.xlabel(\"t-SNE X\")\n",
    "plt.ylabel(\"t-SNE Y\")\n",
    "plt.title(\"Outliers in PCA reduction, not outliers in t-SNE reduction\")\n",
    "\n",
    "ax_pca = plt.subplot(212)\n",
    "\n",
    "x = Q4.dataSample.tsne_x\n",
    "y = Q4.dataSample.tsne_y\n",
    "ax_tsne.scatter(x,y,c='gray',edgecolors='gray',alpha=.5)\n",
    "\n",
    "x = Q4.dataSample[Q4.dataSample.index.str.contains('|'.join(Q4_pca_not_tsne))].tsne_x\n",
    "y = Q4.dataSample[Q4.dataSample.index.str.contains('|'.join(Q4_pca_not_tsne))].tsne_y\n",
    "ax_tsne.scatter(x,y,c='r',alpha=1)\n",
    "\n",
    "\n",
    "\n",
    "x = Q4.dataSample.pca_x\n",
    "y = Q4.dataSample.pca_y\n",
    "ax_pca.scatter(x,y,c='gray',edgecolors='gray',alpha=.5)\n",
    "\n",
    "x = Q4.dataSample[Q4.dataSample.index.str.contains('|'.join(Q4_pca_not_tsne))].pca_x\n",
    "y = Q4.dataSample[Q4.dataSample.index.str.contains('|'.join(Q4_pca_not_tsne))].pca_y\n",
    "ax_pca.scatter(x,y,c='r',alpha=1)\n",
    "\n",
    "plt.xlabel(\"PCA X\")\n",
    "plt.ylabel(\"PCA Y\")\n",
    "plt.show()"
   ]
  },
  {
   "cell_type": "code",
   "execution_count": 23,
   "metadata": {
    "collapsed": true
   },
   "outputs": [],
   "source": [
    "# Outlier in pca, not in tsne.\n",
    "# Plotted on PCA axes\n",
    "Q4_pca_not_pre = [i for i in Q4_pca_out if i not in Q4_pre_out]\n",
    "ax_tsne = plt.subplot(211)\n",
    "plt.xlabel(\"t-SNE X\")\n",
    "plt.ylabel(\"t-SNE Y\")\n",
    "plt.title(\"Outliers in PCA reduction, not outliers pre-reduction\")\n",
    "\n",
    "ax_pca = plt.subplot(212)\n",
    "\n",
    "x = Q4.dataSample.tsne_x\n",
    "y = Q4.dataSample.tsne_y\n",
    "ax_tsne.scatter(x,y,c='gray',edgecolors='gray',alpha=.5)\n",
    "\n",
    "x = Q4.dataSample[Q4.dataSample.index.str.contains('|'.join(Q4_pca_not_pre))].tsne_x\n",
    "y = Q4.dataSample[Q4.dataSample.index.str.contains('|'.join(Q4_pca_not_pre))].tsne_y\n",
    "ax_tsne.scatter(x,y,c='r',alpha=1)\n",
    "\n",
    "\n",
    "\n",
    "x = Q4.dataSample.pca_x\n",
    "y = Q4.dataSample.pca_y\n",
    "ax_pca.scatter(x,y,c='gray',edgecolors='gray',alpha=.5)\n",
    "\n",
    "x = Q4.dataSample[Q4.dataSample.index.str.contains('|'.join(Q4_pca_not_pre))].pca_x\n",
    "y = Q4.dataSample[Q4.dataSample.index.str.contains('|'.join(Q4_pca_not_pre))].pca_y\n",
    "ax_pca.scatter(x,y,c='r',alpha=1)\n",
    "\n",
    "plt.xlabel(\"PCA X\")\n",
    "plt.ylabel(\"PCA Y\")\n",
    "plt.show()"
   ]
  },
  {
   "cell_type": "code",
   "execution_count": 25,
   "metadata": {
    "collapsed": true
   },
   "outputs": [],
   "source": [
    "# Outlier in pca, not in tsne.\n",
    "# Plotted on PCA axes\n",
    "Q4_tsne_not_pre = [i for i in Q4_tsne_out if i not in Q4_pre_out]\n",
    "ax_tsne = plt.subplot(211)\n",
    "plt.xlabel(\"t-SNE X\")\n",
    "plt.ylabel(\"t-SNE Y\")\n",
    "plt.title(\"Outliers in t-SNE reduction, not outliers pre-reduction\")\n",
    "\n",
    "ax_pca = plt.subplot(212)\n",
    "\n",
    "x = Q4.dataSample.tsne_x\n",
    "y = Q4.dataSample.tsne_y\n",
    "ax_tsne.scatter(x,y,c='gray',edgecolors='gray',alpha=.5)\n",
    "\n",
    "x = Q4.dataSample[Q4.dataSample.index.str.contains('|'.join(Q4_tsne_not_pre))].tsne_x\n",
    "y = Q4.dataSample[Q4.dataSample.index.str.contains('|'.join(Q4_tsne_not_pre))].tsne_y\n",
    "ax_tsne.scatter(x,y,c='r',alpha=1)\n",
    "\n",
    "\n",
    "\n",
    "x = Q4.dataSample.pca_x\n",
    "y = Q4.dataSample.pca_y\n",
    "ax_pca.scatter(x,y,c='gray',edgecolors='gray',alpha=.5)\n",
    "\n",
    "x = Q4.dataSample[Q4.dataSample.index.str.contains('|'.join(Q4_tsne_not_pre))].pca_x\n",
    "y = Q4.dataSample[Q4.dataSample.index.str.contains('|'.join(Q4_tsne_not_pre))].pca_y\n",
    "ax_pca.scatter(x,y,c='r',alpha=1)\n",
    "\n",
    "plt.xlabel(\"PCA X\")\n",
    "plt.ylabel(\"PCA Y\")\n",
    "plt.show()"
   ]
  },
  {
   "cell_type": "code",
   "execution_count": 26,
   "metadata": {
    "collapsed": true
   },
   "outputs": [],
   "source": [
    "# Outlier in pre, not in pca.\n",
    "# Plotted on PCA axes\n",
    "Q4_tsne_not_pca = [i for i in Q4_tsne_out if i not in Q4_pca_out]\n",
    "ax_tsne = plt.subplot(211)\n",
    "plt.xlabel(\"t-SNE X\")\n",
    "plt.ylabel(\"t-SNE Y\")\n",
    "plt.title(\"Outliers in t-SNE, not outliers in PCA\")\n",
    "\n",
    "ax_pca = plt.subplot(212)\n",
    "\n",
    "x = Q4.dataSample.tsne_x\n",
    "y = Q4.dataSample.tsne_y\n",
    "ax_tsne.scatter(x,y,c='gray',edgecolors='gray',alpha=.5)\n",
    "\n",
    "x = Q4.dataSample[Q4.dataSample.index.str.contains('|'.join(Q4_tsne_not_pca))].tsne_x\n",
    "y = Q4.dataSample[Q4.dataSample.index.str.contains('|'.join(Q4_tsne_not_pca))].tsne_y\n",
    "ax_tsne.scatter(x,y,c='r',alpha=1)\n",
    "\n",
    "\n",
    "\n",
    "x = Q4.dataSample.pca_x\n",
    "y = Q4.dataSample.pca_y\n",
    "ax_pca.scatter(x,y,c='gray',edgecolors='gray',alpha=.5)\n",
    "\n",
    "x = Q4.dataSample[Q4.dataSample.index.str.contains('|'.join(Q4_tsne_not_pca))].pca_x\n",
    "y = Q4.dataSample[Q4.dataSample.index.str.contains('|'.join(Q4_tsne_not_pca))].pca_y\n",
    "ax_pca.scatter(x,y,c='r',alpha=1)\n",
    "\n",
    "plt.xlabel(\"PCA X\")\n",
    "plt.ylabel(\"PCA Y\")\n",
    "plt.show()"
   ]
  },
  {
   "cell_type": "code",
   "execution_count": null,
   "metadata": {},
   "outputs": [],
   "source": [
    "x = Q4.dataSample.pca_x\n",
    "y = Q4.dataSample.pca_y\n",
    "plt.scatter(x,y,c='gray',edgecolors='gray',alpha=.5)\n",
    "x = Q4.dataSample[Q4.dataSample.index.str.contains('|'.join(Q4_pre_pca))].pca_x\n",
    "y = Q4.dataSample[Q4.dataSample.index.str.contains('|'.join(Q4_pre_pca))].pca_y\n",
    "plt.scatter(x,y,c='r')\n",
    "plt.show()"
   ]
  },
  {
   "cell_type": "code",
   "execution_count": null,
   "metadata": {},
   "outputs": [],
   "source": [
    "x = Q4.dataSample.tsne_x\n",
    "y = Q4.dataSample.tsne_y\n",
    "plt.scatter(x,y,c='gray',edgecolors='gray',alpha=.5)\n",
    "x = Q4.dataSample[Q4.dataSample.index.str.contains('|'.join(Q4_pre_pca))].tsne_x\n",
    "y = Q4.dataSample[Q4.dataSample.index.str.contains('|'.join(Q4_pre_pca))].tsne_y\n",
    "plt.scatter(x,y,c='r')\n",
    "plt.show()"
   ]
  },
  {
   "cell_type": "code",
   "execution_count": null,
   "metadata": {
    "collapsed": true
   },
   "outputs": [],
   "source": []
  }
 ],
 "metadata": {
  "kernelspec": {
   "display_name": "Python 3",
   "language": "python",
   "name": "python3"
  },
  "language_info": {
   "codemirror_mode": {
    "name": "ipython",
    "version": 3
   },
   "file_extension": ".py",
   "mimetype": "text/x-python",
   "name": "python",
   "nbconvert_exporter": "python",
   "pygments_lexer": "ipython3",
   "version": "3.6.2"
  }
 },
 "nbformat": 4,
 "nbformat_minor": 1
}
