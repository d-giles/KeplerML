{
 "cells": [
  {
   "cell_type": "code",
   "execution_count": 1,
   "metadata": {},
   "outputs": [],
   "source": [
    "import numpy as np\n",
    "import matplotlib.pyplot as plt\n",
    "from sklearn.cluster import DBSCAN\n",
    "from sklearn.neighbors import NearestNeighbors\n",
    "from sklearn import preprocessing\n",
    "%matplotlib inline"
   ]
  },
  {
   "cell_type": "code",
   "execution_count": 2,
   "metadata": {},
   "outputs": [],
   "source": [
    "def scale_data(data):\n",
    "    scaler = preprocessing.StandardScaler().fit(data)\n",
    "    scaledData = scaler.transform(data)\n",
    "    return scaledData"
   ]
  },
  {
   "cell_type": "code",
   "execution_count": 3,
   "metadata": {},
   "outputs": [],
   "source": [
    "np.random.seed(50)\n",
    "xs = np.random.normal(0,2,9950)\n",
    "xo = np.random.normal(0,100,50)\n",
    "xs = np.append(xs,xo)\n",
    "ys = np.random.normal(0,2,9950)\n",
    "yo = np.random.normal(0,100,50)\n",
    "ys = np.append(ys,yo)\n",
    "data = np.array([xs,ys])\n",
    "X=data.T\n",
    "X = scale_data(X)\n"
   ]
  },
  {
   "cell_type": "code",
   "execution_count": 4,
   "metadata": {},
   "outputs": [],
   "source": [
    "data = np.array([xs,ys])\n",
    "X=data.T"
   ]
  },
  {
   "cell_type": "code",
   "execution_count": 13,
   "metadata": {},
   "outputs": [
    {
     "data": {
      "text/plain": [
       "array([[ -5.55582229e-01,  -3.71470775e-01],\n",
       "       [ -1.20548202e-02,   3.38339481e-02],\n",
       "       [ -2.21718601e-01,   1.73932331e-01],\n",
       "       ..., \n",
       "       [  6.50274920e+00,   3.24975372e+00],\n",
       "       [  1.85034307e+01,   5.69938684e-01],\n",
       "       [ -1.87630702e+00,   1.19565175e+00]])"
      ]
     },
     "execution_count": 13,
     "metadata": {},
     "output_type": "execute_result"
    }
   ],
   "source": [
    "X"
   ]
  },
  {
   "cell_type": "code",
   "execution_count": 5,
   "metadata": {},
   "outputs": [
    {
     "data": {
      "text/plain": [
       "<matplotlib.collections.PathCollection at 0x11ad98160>"
      ]
     },
     "execution_count": 5,
     "metadata": {},
     "output_type": "execute_result"
    },
    {
     "data": {
      "image/png": "[encoded data removed]",
      "text/plain": [
       "<matplotlib.figure.Figure at 0x118917f28>"
      ]
     },
     "metadata": {},
     "output_type": "display_data"
    }
   ],
   "source": [
    "plt.scatter(xs,ys)"
   ]
  },
  {
   "cell_type": "code",
   "execution_count": 7,
   "metadata": {},
   "outputs": [],
   "source": [
    "def eps_est(data,n=4,verbose=True):   \n",
    "    # distance array containing all distances\n",
    "    if verbose:print(\"Calculating nearest neighbor distances...\")\n",
    "    nbrs = NearestNeighbors(n_neighbors=int(max(n+1,100)), algorithm='ball_tree',n_jobs=-1).fit(data)\n",
    "    distances, indices = nbrs.kneighbors(data)\n",
    "    del nbrs\n",
    "    distArr = distances[:,n]\n",
    "    distArr.sort()\n",
    "    del distances\n",
    "    pts = range(len(distArr))\n",
    "\n",
    "    # The following looks for the first instance (past the mid point)\n",
    "    # where the mean of the following [number] points\n",
    "    # is at least (cutoff-1)*100% greater than the mean of the previous [number] points.\n",
    "    \n",
    "    number = max(10,int(np.ceil(len(data)/500)))\n",
    "    cutoff = max(distArr)/10\n",
    "    if verbose:print(\"Finding elbow...\")\n",
    "    for i in range(int(np.ceil(len(pts)/2)),len(pts)-number):\n",
    "        if np.mean(distArr[i+1:i+number])>=cutoff*np.mean(distArr[i-number:i-1]):\n",
    "            dbEps = distArr[i]\n",
    "            pt=pts[i]\n",
    "            break\n",
    "\n",
    "    if verbose:\n",
    "        print(\"\"\"\n",
    "        Epsilon is in the neighborhood of {:05.2f}.\n",
    "        \"\"\".format(dbEps))\n",
    "    plt.scatter(range(len(distArr)),distArr)\n",
    "    plt.scatter(pts[pt-number:pt+number],distArr[pt-number:pt+number])\n",
    "    plt.scatter(pt,dbEps)\n",
    "    return dbEps,distArr"
   ]
  },
  {
   "cell_type": "code",
   "execution_count": 10,
   "metadata": {},
   "outputs": [
    {
     "name": "stdout",
     "output_type": "stream",
     "text": [
      "Calculating nearest neighbor distances...\n",
      "Finding elbow...\n",
      "\n",
      "        Epsilon is in the neighborhood of 02.89.\n",
      "        \n"
     ]
    },
    {
     "data": {
      "text/plain": [
       "<matplotlib.text.Text at 0x11e773ba8>"
      ]
     },
     "execution_count": 10,
     "metadata": {},
     "output_type": "execute_result"
    },
    {
     "data": {
      "image/png": "[encoded data removed]",
      "text/plain": [
       "<matplotlib.figure.Figure at 0x11dc496d8>"
      ]
     },
     "metadata": {},
     "output_type": "display_data"
    }
   ],
   "source": [
    "eps,dists = eps_est(X,n=20)\n",
    "plt.xscale('log')\n",
    "plt.yticks(fontsize=14)\n",
    "plt.xlabel('Point i',fontsize=18)\n",
    "plt.ylabel('Distance to k-th neighbor',fontsize=18)"
   ]
  },
  {
   "cell_type": "code",
   "execution_count": 22,
   "metadata": {},
   "outputs": [
    {
     "name": "stdout",
     "output_type": "stream",
     "text": [
      "Calculating nearest neighbor distances...\n",
      "Finding elbow...\n",
      "\n",
      "        Epsilon is in the neighborhood of 00.28.\n",
      "        \n"
     ]
    },
    {
     "data": {
      "image/png": "[encoded data removed]",
      "text/plain": [
       "<matplotlib.figure.Figure at 0x1141bccc0>"
      ]
     },
     "metadata": {},
     "output_type": "display_data"
    }
   ],
   "source": [
    "\n",
    "samp_inds = np.random.choice(range(len(xs)),2000,replace=False)\n",
    "eps_samp,dists_samp = eps_est(X[samp_inds])\n",
    "samp_cluster_density = 4*float(len(X))/float(len(samp_inds))/eps_samp**2\n"
   ]
  },
  {
   "cell_type": "code",
   "execution_count": 23,
   "metadata": {},
   "outputs": [
    {
     "name": "stdout",
     "output_type": "stream",
     "text": [
      "250.369186167\n"
     ]
    }
   ],
   "source": [
    "print(samp_cluster_density)"
   ]
  },
  {
   "cell_type": "code",
   "execution_count": 148,
   "metadata": {},
   "outputs": [],
   "source": [
    "X_samp=X[samp_inds]"
   ]
  },
  {
   "cell_type": "code",
   "execution_count": 53,
   "metadata": {},
   "outputs": [
    {
     "data": {
      "text/plain": [
       "array([[  1.72713207e+00,   4.30568173e-01],\n",
       "       [  2.02025488e-01,  -1.82368137e-01],\n",
       "       [ -1.41283521e+02,   7.16604969e+01],\n",
       "       [  8.56931722e-01,   5.42468787e-01],\n",
       "       [  2.44626474e+00,   4.25755200e+00],\n",
       "       [  7.57463315e-01,   3.38543012e-01],\n",
       "       [ -4.88512061e+00,  -1.19407450e+00],\n",
       "       [ -9.92475738e-01,   1.74914818e+00],\n",
       "       [  5.56459380e-01,  -1.90041719e-01],\n",
       "       [  1.55984803e+02,  -1.42017689e+02],\n",
       "       [  1.21919520e+00,  -6.58768113e-01],\n",
       "       [ -8.11132841e-01,   8.22523441e-01],\n",
       "       [  2.20419733e-01,  -2.02310392e+00],\n",
       "       [  8.88557857e+01,  -4.34362993e+01],\n",
       "       [ -1.07192319e+00,   1.79268828e+00],\n",
       "       [ -2.25771678e+00,   2.92739901e+00],\n",
       "       [ -4.53065587e-01,  -1.90239770e+00],\n",
       "       [  1.75320579e+00,   3.24779071e+00],\n",
       "       [ -2.57225860e+01,  -2.00128462e+01],\n",
       "       [  1.00106219e+00,   6.81840435e-01],\n",
       "       [  5.93260201e-01,  -1.25654567e+00],\n",
       "       [  1.34828917e+02,  -1.06043620e+02],\n",
       "       [  1.14853914e-01,  -3.29412869e+00],\n",
       "       [ -3.19309901e+00,   3.60744686e+00],\n",
       "       [  4.51804978e+00,   1.95263888e+00],\n",
       "       [ -1.03642382e+00,   3.40099056e-01],\n",
       "       [ -3.42252319e+00,   1.14286685e+00],\n",
       "       [  7.98639597e-01,   2.70349801e+00],\n",
       "       [ -6.73274310e-01,   5.85014429e-02],\n",
       "       [  9.72345290e-01,  -4.68373761e-01],\n",
       "       [ -2.49366598e+00,   8.94120859e-02],\n",
       "       [ -3.37149092e-01,  -5.51345436e-01],\n",
       "       [  6.85367384e-02,  -1.67446472e+00],\n",
       "       [  7.82629566e-01,  -6.37828910e-01],\n",
       "       [ -7.26866806e-01,  -2.88551125e+00],\n",
       "       [  1.52252502e+00,   3.49042003e-02],\n",
       "       [ -1.57810359e-01,  -2.63683107e+00],\n",
       "       [ -9.33167584e-01,  -2.87255266e+00],\n",
       "       [ -4.25726115e-01,  -6.61919824e-01],\n",
       "       [ -3.59557831e-01,  -1.11009765e+00],\n",
       "       [ -1.02637727e+00,   9.64110487e-01],\n",
       "       [  2.72349193e+00,  -4.30216913e+00],\n",
       "       [ -3.33270434e+00,   2.18079007e-01],\n",
       "       [ -3.52603430e+00,   2.96155588e+00],\n",
       "       [  3.00007863e-01,   3.28721851e+00],\n",
       "       [ -3.91797864e-01,  -1.98709374e+00],\n",
       "       [ -3.15190576e+00,  -7.32614509e-01],\n",
       "       [ -1.86085169e+00,   2.97250260e-01],\n",
       "       [  4.82987361e-01,   4.52922772e-01],\n",
       "       [  4.83149664e-01,  -6.97391284e-01],\n",
       "       [  7.22119671e-01,  -2.47155424e+00],\n",
       "       [ -9.06696218e-01,  -6.23599102e-01],\n",
       "       [  1.52651479e+00,   7.66109173e-01],\n",
       "       [ -1.43859237e+00,  -3.01443895e+00],\n",
       "       [ -1.34002977e+00,   3.12478130e+00],\n",
       "       [  2.93200190e+00,   8.73824918e-01],\n",
       "       [  1.84001392e+00,   6.92472713e-01],\n",
       "       [  1.06225949e+00,   3.70241990e+00],\n",
       "       [  1.35914103e+00,   5.15088686e-01],\n",
       "       [  7.54469557e-01,   2.23555849e+00],\n",
       "       [ -6.52252813e-01,   5.98473342e-01],\n",
       "       [  3.61608972e+00,   4.70867121e-02],\n",
       "       [ -1.15309558e+00,  -1.01723214e+00],\n",
       "       [ -1.08222879e+00,   1.97472375e+00],\n",
       "       [ -1.52439659e+02,  -1.33297122e+02],\n",
       "       [  2.44434146e+00,  -6.44085960e-01],\n",
       "       [  1.35198959e+00,  -2.61247406e-01],\n",
       "       [ -3.02044543e+00,   2.23378148e-01],\n",
       "       [  4.45412166e+00,   3.09523866e+00],\n",
       "       [  2.29579337e+00,  -1.85075469e+00],\n",
       "       [ -9.70035437e-01,  -6.69951558e-02],\n",
       "       [  2.44435793e+00,  -1.56616377e-01],\n",
       "       [  1.60286125e+00,  -3.72442680e-01],\n",
       "       [  2.30771448e-01,   3.43068916e+00],\n",
       "       [ -4.04330178e+00,   8.14449791e-01],\n",
       "       [ -1.05136244e+00,  -2.77456189e+00],\n",
       "       [  2.05071535e+00,  -1.37499804e-01],\n",
       "       [  1.81654983e-01,   2.71025043e-01],\n",
       "       [ -3.70667213e-01,   7.41382403e-01],\n",
       "       [ -1.68457509e+00,  -4.09663059e+00],\n",
       "       [  1.59869594e+00,  -3.31937839e-01],\n",
       "       [  1.56659308e+00,  -4.70210170e-01],\n",
       "       [  1.73284974e+00,  -8.93203863e-01],\n",
       "       [ -5.62523985e-01,  -2.70067178e+00],\n",
       "       [  5.74441952e+00,   1.04376970e+00],\n",
       "       [  1.03671190e+00,   9.44013938e-02],\n",
       "       [ -7.52194727e-01,  -1.35775583e+00],\n",
       "       [  7.84258027e-01,  -3.90218101e-02],\n",
       "       [  1.34359118e+00,  -3.08839164e+00],\n",
       "       [  1.42998251e+00,   3.20885362e+00],\n",
       "       [  2.16931475e-01,   8.97204610e-01],\n",
       "       [ -4.01773504e+00,  -2.50293958e-01],\n",
       "       [  2.52675279e-01,   2.75388154e+00],\n",
       "       [ -1.74072023e+00,  -6.16363473e-01],\n",
       "       [  5.87586348e-01,  -3.70943705e+00],\n",
       "       [  2.98457934e-01,  -3.14251678e-02],\n",
       "       [  2.56050584e+00,  -9.33095758e-01],\n",
       "       [ -1.66738840e+00,   4.27521318e-01],\n",
       "       [ -1.87931586e+00,  -1.16889609e+00],\n",
       "       [ -2.24298716e-01,   2.98457696e+00],\n",
       "       [  1.11154918e+00,  -3.04110457e+00],\n",
       "       [  6.67768554e-02,   7.89627276e-01],\n",
       "       [ -1.96678963e+00,  -1.91474996e+00],\n",
       "       [  3.45766788e+00,   3.65026701e-01],\n",
       "       [  2.90012090e+00,   7.50122734e-01],\n",
       "       [  3.18348058e-03,  -9.05137588e-01],\n",
       "       [  1.18160223e+00,  -1.02985927e+00],\n",
       "       [ -9.11044094e-03,   2.28242832e+00],\n",
       "       [  1.16144612e+00,   7.63122174e-01],\n",
       "       [  3.69672758e+00,   1.71294608e+00],\n",
       "       [  1.58278568e+00,   2.65331336e+00],\n",
       "       [  9.71545690e-01,  -1.67170830e+00],\n",
       "       [  4.30425060e-01,   3.20979318e+00],\n",
       "       [  2.48046470e+00,   1.39734259e+00],\n",
       "       [ -4.68303736e-01,  -1.36206161e+00],\n",
       "       [  7.41819725e+01,   7.11423876e+01],\n",
       "       [ -8.97408892e-01,  -5.67527189e-01],\n",
       "       [  1.56128479e-01,   2.80737295e-01],\n",
       "       [  1.10285009e+00,  -2.33527540e+00],\n",
       "       [ -1.42556915e+00,   8.31708396e-01],\n",
       "       [  7.34153502e-01,   4.59442818e-01],\n",
       "       [ -1.05176455e+00,  -2.49147966e+00],\n",
       "       [ -2.56619336e-03,  -2.81180790e+00],\n",
       "       [  3.84391640e-02,  -2.21079428e+00],\n",
       "       [  1.42931683e+00,   6.45200044e-01],\n",
       "       [ -1.46758931e+00,  -4.38110430e+00],\n",
       "       [  2.99395579e+00,  -1.83370117e+00],\n",
       "       [  8.15248479e-01,   3.69129895e+00],\n",
       "       [  6.62564604e-01,   1.47487261e+00],\n",
       "       [ -1.88420488e+00,   3.01033922e+00],\n",
       "       [ -5.62378446e-01,   9.72124827e-01],\n",
       "       [  6.33577358e-01,   4.61832418e+00],\n",
       "       [ -2.86839602e-01,  -1.90163868e+00],\n",
       "       [ -5.76479293e-01,   1.08336198e+00],\n",
       "       [ -4.49090358e-01,   1.90531475e+00],\n",
       "       [ -1.50632907e+00,   2.49040003e+00],\n",
       "       [ -2.73298643e-01,   4.28128415e+00],\n",
       "       [ -1.08143196e+00,   2.07004406e+00],\n",
       "       [  1.34002578e+00,  -5.30510212e+00],\n",
       "       [ -1.53597142e-01,   1.10422804e+00],\n",
       "       [ -9.68976590e-01,   1.94249843e+00],\n",
       "       [ -3.43161886e+00,   1.49809873e+00],\n",
       "       [ -1.99458648e+00,  -8.27838435e-01],\n",
       "       [  2.27685470e+01,  -1.33824599e+02],\n",
       "       [  2.26282824e+00,   1.77144035e+00],\n",
       "       [  2.51516663e+00,   1.93246517e+00],\n",
       "       [  1.05354819e-02,   1.99954641e-01],\n",
       "       [ -4.86613272e-01,   1.58176609e-01],\n",
       "       [  1.84076893e+00,   7.15162957e-02],\n",
       "       [ -1.36901820e+00,  -2.78982394e+00],\n",
       "       [ -5.01842412e-01,   8.84611347e-01],\n",
       "       [ -1.67537162e+00,  -1.89802432e-01],\n",
       "       [  9.31805954e-01,  -1.90576464e+00],\n",
       "       [  3.48839996e+00,  -1.05462895e+00],\n",
       "       [ -1.18966189e+00,   8.78998444e-01],\n",
       "       [  3.21738200e+01,   7.40880844e+00],\n",
       "       [  1.66113178e+00,   1.13132583e+00],\n",
       "       [  8.41317085e-01,  -2.58082803e+00],\n",
       "       [  7.38547525e+00,   4.18745310e+01],\n",
       "       [ -1.43550623e+00,  -1.02174601e+00],\n",
       "       [  3.42986584e-01,  -1.73393399e+00],\n",
       "       [  7.61556687e-01,  -1.83240025e+00],\n",
       "       [  2.16720004e+00,   7.98555483e-01],\n",
       "       [  1.48607612e+00,  -1.34440781e+00],\n",
       "       [  1.65621646e+00,   4.49186989e-01],\n",
       "       [  9.97967503e-01,   1.32823342e+00],\n",
       "       [  4.27120643e+00,  -1.61252214e+00],\n",
       "       [ -3.06862506e+01,  -7.59023308e+01],\n",
       "       [  2.74070854e+00,  -1.26303732e-01],\n",
       "       [  4.03265365e-01,  -9.38439615e-01],\n",
       "       [ -3.01728474e-01,  -7.12904806e-01],\n",
       "       [ -4.22010284e+01,   6.25531101e+01],\n",
       "       [ -9.50378572e-01,   1.13337510e-01],\n",
       "       [  4.36987924e+01,   7.49464886e+01],\n",
       "       [  9.70626813e-01,  -2.94464916e+00],\n",
       "       [ -6.92557380e+00,   2.40333273e-01],\n",
       "       [  1.61592899e+00,  -2.30355631e-01],\n",
       "       [ -4.92924620e-01,   2.82674812e+00],\n",
       "       [ -4.74690676e+00,   3.38658394e+00],\n",
       "       [ -8.93598434e-01,   2.13613481e+00],\n",
       "       [  2.58638419e+00,   2.85304698e-01],\n",
       "       [ -1.60367836e+00,  -1.00688858e+00],\n",
       "       [ -1.10985261e+00,   3.72478011e+00],\n",
       "       [ -1.24185685e+00,  -3.79867770e-01],\n",
       "       [ -1.56093843e+00,  -2.47526322e+00],\n",
       "       [  9.47517985e-01,  -8.05517984e-01],\n",
       "       [  9.72855255e-01,   1.64749952e+00],\n",
       "       [  1.10772528e-01,   2.88883770e+00],\n",
       "       [ -9.59872059e-01,  -1.98687525e+00],\n",
       "       [  1.72438743e+00,   1.66668321e+00],\n",
       "       [ -1.28182813e+00,  -1.57172001e+00],\n",
       "       [ -2.70440823e+00,  -9.28067877e-01],\n",
       "       [  1.49313783e+00,   1.47480923e+00],\n",
       "       [ -2.35049601e+00,   2.91292541e+00],\n",
       "       [  7.14093856e-01,  -1.07768275e+00],\n",
       "       [ -7.61978076e+00,  -1.48867495e+00],\n",
       "       [ -6.22219402e-02,  -4.63478715e-02],\n",
       "       [  1.52236039e+00,  -5.50019471e-02],\n",
       "       [  1.85392620e+00,   1.02050606e+00],\n",
       "       [ -1.40795120e+02,   1.89992278e+01]])"
      ]
     },
     "execution_count": 53,
     "metadata": {},
     "output_type": "execute_result"
    }
   ],
   "source": [
    "X_samp"
   ]
  },
  {
   "cell_type": "code",
   "execution_count": null,
   "metadata": {},
   "outputs": [],
   "source": []
  }
 ],
 "metadata": {
  "kernelspec": {
   "display_name": "Python 3",
   "language": "python",
   "name": "python3"
  },
  "language_info": {
   "codemirror_mode": {
    "name": "ipython",
    "version": 3
   },
   "file_extension": ".py",
   "mimetype": "text/x-python",
   "name": "python",
   "nbconvert_exporter": "python",
   "pygments_lexer": "ipython3",
   "version": "3.6.1"
  }
 },
 "nbformat": 4,
 "nbformat_minor": 2
}
