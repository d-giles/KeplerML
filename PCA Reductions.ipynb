{
 "cells": [
  {
   "cell_type": "markdown",
   "metadata": {},
   "source": [
    "This notebook seeks to explore the utility of dimensionality reduction with PCA prior to clustering. At the time of this writing, this notebook considers 3 levels of variance explained: 90%, 95%, and 99%. \n",
    "Aside from the reduction we will process the data in the same way as previously done. We will scale the data using sklearn's standardScaler and cluster the data using the method clusterOutliers.db_out.\n",
    "We will compare these reductions to the clustering done on the full set of features. "
   ]
  },
  {
   "cell_type": "code",
   "execution_count": 1,
   "metadata": {
    "collapsed": true
   },
   "outputs": [],
   "source": [
    "# Some standard imports for math and data handling\n",
    "import numpy as np\n",
    "import pandas as pd\n",
    "from scipy import stats\n",
    "\n",
    "# Imports for processing specific to this workbook\n",
    "from sklearn.decomposition import PCA\n",
    "from sklearn import preprocessing\n",
    "from datetime import datetime\n",
    "\n",
    "# Import the custom code developed for this work\n",
    "import sys\n",
    "np.set_printoptions(threshold=sys.maxsize)\n",
    "sys.path.append('python')\n",
    "from clusterOutliers import clusterOutliers as coo\n",
    "from clusterOutliers import import_gen\n",
    "import quarterTools as qt"
   ]
  },
  {
   "cell_type": "markdown",
   "metadata": {},
   "source": [
    "\"\"\"\n",
    "Calling import_gen with defaults, creates an importer for clusterOutlier objects w/ data \n",
    "stored in a common directory with a common naming convention.\n",
    "    path to data files directory (filedir): /home/dgiles/Documents/KeplerLCs/output/\n",
    "    output file suffix (suffix): _output.p\n",
    "    path to fits files directory (fitsdir): /home/dgiles/Documents/KeplerLCs/fitsFiles\n",
    "    output file extension (out_file_ext): .coo\n",
    "    \n",
    "This has been executed on 5/19/2019 to initialize the cluster outlier objects, this cell does not need to be run again\n",
    "unless the definition of the object is significantly altered as it will overwrite the existing object based only on the \n",
    "feature data. Doing this would overwrite any work or additions made to the cluster outlier object including \n",
    "dimensionality reductions, outlier scoring, and any other analysis stored in these objects. This cell has been\n",
    "converted to markdown to avoid accidentally running the code.\n",
    "\"\"\"\n",
    "```\n",
    "import_quarter = import_gen()\n",
    "# Q_dict contains a clusterOutlier object for each quarter.\n",
    "Q_dict = {'Q{}'.format(i):import_quarter('Q{}'.format(i)) for i in range(1,18)}\n",
    "for k in Q_dict:\n",
    "    Q_dict[k].save()\n",
    "```"
   ]
  },
  {
   "cell_type": "markdown",
   "metadata": {},
   "source": [
    "The code below is used to import existing cluster outlier objects."
   ]
  },
  {
   "cell_type": "code",
   "execution_count": 5,
   "metadata": {},
   "outputs": [],
   "source": [
    "import pickle\n",
    "Q_dict = dict()\n",
    "for i in range(1,18):\n",
    "    with open('/home/dgiles/Documents/KeplerLCs/output/Q{}.coo'.format(i),'rb') as file:\n",
    "        Q_dict['Q{}'.format(i)]=pickle.load(file)\n"
   ]
  },
  {
   "cell_type": "markdown",
   "metadata": {},
   "source": [
    "# Reductions and Clustering"
   ]
  },
  {
   "cell_type": "code",
   "execution_count": 11,
   "metadata": {},
   "outputs": [
    {
     "name": "stdout",
     "output_type": "stream",
     "text": [
      "Scaling data using StandardScaler...\n"
     ]
    },
    {
     "name": "stderr",
     "output_type": "stream",
     "text": [
      "/home/dgiles/anaconda3/envs/KeplerFull37/lib/python3.7/site-packages/sklearn/preprocessing/data.py:645: DataConversionWarning: Data with input dtype float64, object were all converted to float64 by StandardScaler.\n",
      "  return self.partial_fit(X, y)\n",
      "python/quarterTools.py:90: DataConversionWarning: Data with input dtype float64, object were all converted to float64 by StandardScaler.\n",
      "  scaled_data = scaler.transform(data)\n"
     ]
    },
    {
     "name": "stdout",
     "output_type": "stream",
     "text": [
      "Finding minimum number of dimensions to explain 90.0% of the variance...\n",
      "\n",
      "        Dimensions: 16,\n",
      "        Variance explained: 91.0%\n",
      "        \n",
      "Scaling data using StandardScaler...\n"
     ]
    },
    {
     "name": "stderr",
     "output_type": "stream",
     "text": [
      "/home/dgiles/anaconda3/envs/KeplerFull37/lib/python3.7/site-packages/sklearn/preprocessing/data.py:645: DataConversionWarning: Data with input dtype float64, object were all converted to float64 by StandardScaler.\n",
      "  return self.partial_fit(X, y)\n",
      "python/quarterTools.py:90: DataConversionWarning: Data with input dtype float64, object were all converted to float64 by StandardScaler.\n",
      "  scaled_data = scaler.transform(data)\n"
     ]
    },
    {
     "name": "stdout",
     "output_type": "stream",
     "text": [
      "Finding minimum number of dimensions to explain 95.0% of the variance...\n",
      "\n",
      "        Dimensions: 21,\n",
      "        Variance explained: 95.4%\n",
      "        \n",
      "Scaling data using StandardScaler...\n"
     ]
    },
    {
     "name": "stderr",
     "output_type": "stream",
     "text": [
      "/home/dgiles/anaconda3/envs/KeplerFull37/lib/python3.7/site-packages/sklearn/preprocessing/data.py:645: DataConversionWarning: Data with input dtype float64, object were all converted to float64 by StandardScaler.\n",
      "  return self.partial_fit(X, y)\n",
      "python/quarterTools.py:90: DataConversionWarning: Data with input dtype float64, object were all converted to float64 by StandardScaler.\n",
      "  scaled_data = scaler.transform(data)\n"
     ]
    },
    {
     "name": "stdout",
     "output_type": "stream",
     "text": [
      "Finding minimum number of dimensions to explain 99.0% of the variance...\n",
      "\n",
      "        Dimensions: 30,\n",
      "        Variance explained: 99.0%\n",
      "        \n",
      "Scaling data using StandardScaler...\n"
     ]
    },
    {
     "name": "stderr",
     "output_type": "stream",
     "text": [
      "/home/dgiles/anaconda3/envs/KeplerFull37/lib/python3.7/site-packages/sklearn/preprocessing/data.py:645: DataConversionWarning: Data with input dtype float64, object were all converted to float64 by StandardScaler.\n",
      "  return self.partial_fit(X, y)\n",
      "python/quarterTools.py:90: DataConversionWarning: Data with input dtype float64, object were all converted to float64 by StandardScaler.\n",
      "  scaled_data = scaler.transform(data)\n"
     ]
    },
    {
     "name": "stdout",
     "output_type": "stream",
     "text": [
      "Finding minimum number of dimensions to explain 90.0% of the variance...\n",
      "\n",
      "        Dimensions: 16,\n",
      "        Variance explained: 91.0%\n",
      "        \n",
      "Scaling data using StandardScaler...\n"
     ]
    },
    {
     "name": "stderr",
     "output_type": "stream",
     "text": [
      "/home/dgiles/anaconda3/envs/KeplerFull37/lib/python3.7/site-packages/sklearn/preprocessing/data.py:645: DataConversionWarning: Data with input dtype float64, object were all converted to float64 by StandardScaler.\n",
      "  return self.partial_fit(X, y)\n",
      "python/quarterTools.py:90: DataConversionWarning: Data with input dtype float64, object were all converted to float64 by StandardScaler.\n",
      "  scaled_data = scaler.transform(data)\n"
     ]
    },
    {
     "name": "stdout",
     "output_type": "stream",
     "text": [
      "Finding minimum number of dimensions to explain 95.0% of the variance...\n",
      "\n",
      "        Dimensions: 21,\n",
      "        Variance explained: 95.4%\n",
      "        \n",
      "Scaling data using StandardScaler...\n"
     ]
    },
    {
     "name": "stderr",
     "output_type": "stream",
     "text": [
      "/home/dgiles/anaconda3/envs/KeplerFull37/lib/python3.7/site-packages/sklearn/preprocessing/data.py:645: DataConversionWarning: Data with input dtype float64, object were all converted to float64 by StandardScaler.\n",
      "  return self.partial_fit(X, y)\n",
      "python/quarterTools.py:90: DataConversionWarning: Data with input dtype float64, object were all converted to float64 by StandardScaler.\n",
      "  scaled_data = scaler.transform(data)\n"
     ]
    },
    {
     "name": "stdout",
     "output_type": "stream",
     "text": [
      "Finding minimum number of dimensions to explain 99.0% of the variance...\n",
      "\n",
      "        Dimensions: 30,\n",
      "        Variance explained: 99.0%\n",
      "        \n",
      "Scaling data using StandardScaler...\n"
     ]
    },
    {
     "name": "stderr",
     "output_type": "stream",
     "text": [
      "/home/dgiles/anaconda3/envs/KeplerFull37/lib/python3.7/site-packages/sklearn/preprocessing/data.py:645: DataConversionWarning: Data with input dtype float64, object were all converted to float64 by StandardScaler.\n",
      "  return self.partial_fit(X, y)\n",
      "python/quarterTools.py:90: DataConversionWarning: Data with input dtype float64, object were all converted to float64 by StandardScaler.\n",
      "  scaled_data = scaler.transform(data)\n"
     ]
    },
    {
     "name": "stdout",
     "output_type": "stream",
     "text": [
      "Finding minimum number of dimensions to explain 90.0% of the variance...\n",
      "\n",
      "        Dimensions: 16,\n",
      "        Variance explained: 91.0%\n",
      "        \n",
      "Scaling data using StandardScaler...\n"
     ]
    },
    {
     "name": "stderr",
     "output_type": "stream",
     "text": [
      "/home/dgiles/anaconda3/envs/KeplerFull37/lib/python3.7/site-packages/sklearn/preprocessing/data.py:645: DataConversionWarning: Data with input dtype float64, object were all converted to float64 by StandardScaler.\n",
      "  return self.partial_fit(X, y)\n",
      "python/quarterTools.py:90: DataConversionWarning: Data with input dtype float64, object were all converted to float64 by StandardScaler.\n",
      "  scaled_data = scaler.transform(data)\n"
     ]
    },
    {
     "name": "stdout",
     "output_type": "stream",
     "text": [
      "Finding minimum number of dimensions to explain 95.0% of the variance...\n",
      "\n",
      "        Dimensions: 21,\n",
      "        Variance explained: 95.4%\n",
      "        \n",
      "Scaling data using StandardScaler...\n"
     ]
    },
    {
     "name": "stderr",
     "output_type": "stream",
     "text": [
      "/home/dgiles/anaconda3/envs/KeplerFull37/lib/python3.7/site-packages/sklearn/preprocessing/data.py:645: DataConversionWarning: Data with input dtype float64, object were all converted to float64 by StandardScaler.\n",
      "  return self.partial_fit(X, y)\n",
      "python/quarterTools.py:90: DataConversionWarning: Data with input dtype float64, object were all converted to float64 by StandardScaler.\n",
      "  scaled_data = scaler.transform(data)\n"
     ]
    },
    {
     "name": "stdout",
     "output_type": "stream",
     "text": [
      "Finding minimum number of dimensions to explain 99.0% of the variance...\n",
      "\n",
      "        Dimensions: 30,\n",
      "        Variance explained: 99.0%\n",
      "        \n",
      "Scaling data using StandardScaler...\n"
     ]
    },
    {
     "name": "stderr",
     "output_type": "stream",
     "text": [
      "/home/dgiles/anaconda3/envs/KeplerFull37/lib/python3.7/site-packages/sklearn/preprocessing/data.py:645: DataConversionWarning: Data with input dtype float64, object were all converted to float64 by StandardScaler.\n",
      "  return self.partial_fit(X, y)\n",
      "python/quarterTools.py:90: DataConversionWarning: Data with input dtype float64, object were all converted to float64 by StandardScaler.\n",
      "  scaled_data = scaler.transform(data)\n"
     ]
    },
    {
     "name": "stdout",
     "output_type": "stream",
     "text": [
      "Finding minimum number of dimensions to explain 90.0% of the variance...\n",
      "\n",
      "        Dimensions: 16,\n",
      "        Variance explained: 91.0%\n",
      "        \n",
      "Scaling data using StandardScaler...\n"
     ]
    },
    {
     "name": "stderr",
     "output_type": "stream",
     "text": [
      "/home/dgiles/anaconda3/envs/KeplerFull37/lib/python3.7/site-packages/sklearn/preprocessing/data.py:645: DataConversionWarning: Data with input dtype float64, object were all converted to float64 by StandardScaler.\n",
      "  return self.partial_fit(X, y)\n",
      "python/quarterTools.py:90: DataConversionWarning: Data with input dtype float64, object were all converted to float64 by StandardScaler.\n",
      "  scaled_data = scaler.transform(data)\n"
     ]
    },
    {
     "name": "stdout",
     "output_type": "stream",
     "text": [
      "Finding minimum number of dimensions to explain 95.0% of the variance...\n",
      "\n",
      "        Dimensions: 21,\n",
      "        Variance explained: 95.4%\n",
      "        \n",
      "Scaling data using StandardScaler...\n"
     ]
    },
    {
     "name": "stderr",
     "output_type": "stream",
     "text": [
      "/home/dgiles/anaconda3/envs/KeplerFull37/lib/python3.7/site-packages/sklearn/preprocessing/data.py:645: DataConversionWarning: Data with input dtype float64, object were all converted to float64 by StandardScaler.\n",
      "  return self.partial_fit(X, y)\n",
      "python/quarterTools.py:90: DataConversionWarning: Data with input dtype float64, object were all converted to float64 by StandardScaler.\n",
      "  scaled_data = scaler.transform(data)\n"
     ]
    },
    {
     "name": "stdout",
     "output_type": "stream",
     "text": [
      "Finding minimum number of dimensions to explain 99.0% of the variance...\n",
      "\n",
      "        Dimensions: 30,\n",
      "        Variance explained: 99.0%\n",
      "        \n",
      "Scaling data using StandardScaler...\n"
     ]
    },
    {
     "name": "stderr",
     "output_type": "stream",
     "text": [
      "/home/dgiles/anaconda3/envs/KeplerFull37/lib/python3.7/site-packages/sklearn/preprocessing/data.py:645: DataConversionWarning: Data with input dtype float64, object were all converted to float64 by StandardScaler.\n",
      "  return self.partial_fit(X, y)\n",
      "python/quarterTools.py:90: DataConversionWarning: Data with input dtype float64, object were all converted to float64 by StandardScaler.\n",
      "  scaled_data = scaler.transform(data)\n"
     ]
    },
    {
     "name": "stdout",
     "output_type": "stream",
     "text": [
      "Finding minimum number of dimensions to explain 90.0% of the variance...\n",
      "\n",
      "        Dimensions: 16,\n",
      "        Variance explained: 91.0%\n",
      "        \n",
      "Scaling data using StandardScaler...\n"
     ]
    },
    {
     "name": "stderr",
     "output_type": "stream",
     "text": [
      "/home/dgiles/anaconda3/envs/KeplerFull37/lib/python3.7/site-packages/sklearn/preprocessing/data.py:645: DataConversionWarning: Data with input dtype float64, object were all converted to float64 by StandardScaler.\n",
      "  return self.partial_fit(X, y)\n",
      "python/quarterTools.py:90: DataConversionWarning: Data with input dtype float64, object were all converted to float64 by StandardScaler.\n",
      "  scaled_data = scaler.transform(data)\n"
     ]
    },
    {
     "name": "stdout",
     "output_type": "stream",
     "text": [
      "Finding minimum number of dimensions to explain 95.0% of the variance...\n",
      "\n",
      "        Dimensions: 21,\n",
      "        Variance explained: 95.4%\n",
      "        \n",
      "Scaling data using StandardScaler...\n"
     ]
    },
    {
     "name": "stderr",
     "output_type": "stream",
     "text": [
      "/home/dgiles/anaconda3/envs/KeplerFull37/lib/python3.7/site-packages/sklearn/preprocessing/data.py:645: DataConversionWarning: Data with input dtype float64, object were all converted to float64 by StandardScaler.\n",
      "  return self.partial_fit(X, y)\n",
      "python/quarterTools.py:90: DataConversionWarning: Data with input dtype float64, object were all converted to float64 by StandardScaler.\n",
      "  scaled_data = scaler.transform(data)\n"
     ]
    },
    {
     "name": "stdout",
     "output_type": "stream",
     "text": [
      "Finding minimum number of dimensions to explain 99.0% of the variance...\n",
      "\n",
      "        Dimensions: 30,\n",
      "        Variance explained: 99.0%\n",
      "        \n",
      "Scaling data using StandardScaler...\n"
     ]
    },
    {
     "name": "stderr",
     "output_type": "stream",
     "text": [
      "/home/dgiles/anaconda3/envs/KeplerFull37/lib/python3.7/site-packages/sklearn/preprocessing/data.py:645: DataConversionWarning: Data with input dtype float64, object were all converted to float64 by StandardScaler.\n",
      "  return self.partial_fit(X, y)\n",
      "python/quarterTools.py:90: DataConversionWarning: Data with input dtype float64, object were all converted to float64 by StandardScaler.\n",
      "  scaled_data = scaler.transform(data)\n"
     ]
    },
    {
     "name": "stdout",
     "output_type": "stream",
     "text": [
      "Finding minimum number of dimensions to explain 90.0% of the variance...\n",
      "\n",
      "        Dimensions: 16,\n",
      "        Variance explained: 91.0%\n",
      "        \n",
      "Scaling data using StandardScaler...\n"
     ]
    },
    {
     "name": "stderr",
     "output_type": "stream",
     "text": [
      "/home/dgiles/anaconda3/envs/KeplerFull37/lib/python3.7/site-packages/sklearn/preprocessing/data.py:645: DataConversionWarning: Data with input dtype float64, object were all converted to float64 by StandardScaler.\n",
      "  return self.partial_fit(X, y)\n",
      "python/quarterTools.py:90: DataConversionWarning: Data with input dtype float64, object were all converted to float64 by StandardScaler.\n",
      "  scaled_data = scaler.transform(data)\n"
     ]
    },
    {
     "name": "stdout",
     "output_type": "stream",
     "text": [
      "Finding minimum number of dimensions to explain 95.0% of the variance...\n",
      "\n",
      "        Dimensions: 21,\n",
      "        Variance explained: 95.4%\n",
      "        \n",
      "Scaling data using StandardScaler...\n"
     ]
    },
    {
     "name": "stderr",
     "output_type": "stream",
     "text": [
      "/home/dgiles/anaconda3/envs/KeplerFull37/lib/python3.7/site-packages/sklearn/preprocessing/data.py:645: DataConversionWarning: Data with input dtype float64, object were all converted to float64 by StandardScaler.\n",
      "  return self.partial_fit(X, y)\n",
      "python/quarterTools.py:90: DataConversionWarning: Data with input dtype float64, object were all converted to float64 by StandardScaler.\n",
      "  scaled_data = scaler.transform(data)\n"
     ]
    },
    {
     "name": "stdout",
     "output_type": "stream",
     "text": [
      "Finding minimum number of dimensions to explain 99.0% of the variance...\n",
      "\n",
      "        Dimensions: 30,\n",
      "        Variance explained: 99.0%\n",
      "        \n",
      "Scaling data using StandardScaler...\n"
     ]
    },
    {
     "name": "stderr",
     "output_type": "stream",
     "text": [
      "/home/dgiles/anaconda3/envs/KeplerFull37/lib/python3.7/site-packages/sklearn/preprocessing/data.py:645: DataConversionWarning: Data with input dtype float64, object were all converted to float64 by StandardScaler.\n",
      "  return self.partial_fit(X, y)\n",
      "python/quarterTools.py:90: DataConversionWarning: Data with input dtype float64, object were all converted to float64 by StandardScaler.\n",
      "  scaled_data = scaler.transform(data)\n"
     ]
    },
    {
     "name": "stdout",
     "output_type": "stream",
     "text": [
      "Finding minimum number of dimensions to explain 90.0% of the variance...\n",
      "\n",
      "        Dimensions: 16,\n",
      "        Variance explained: 91.0%\n",
      "        \n",
      "Scaling data using StandardScaler...\n"
     ]
    },
    {
     "name": "stderr",
     "output_type": "stream",
     "text": [
      "/home/dgiles/anaconda3/envs/KeplerFull37/lib/python3.7/site-packages/sklearn/preprocessing/data.py:645: DataConversionWarning: Data with input dtype float64, object were all converted to float64 by StandardScaler.\n",
      "  return self.partial_fit(X, y)\n",
      "python/quarterTools.py:90: DataConversionWarning: Data with input dtype float64, object were all converted to float64 by StandardScaler.\n",
      "  scaled_data = scaler.transform(data)\n"
     ]
    },
    {
     "name": "stdout",
     "output_type": "stream",
     "text": [
      "Finding minimum number of dimensions to explain 95.0% of the variance...\n",
      "\n",
      "        Dimensions: 21,\n",
      "        Variance explained: 95.4%\n",
      "        \n",
      "Scaling data using StandardScaler...\n"
     ]
    },
    {
     "name": "stderr",
     "output_type": "stream",
     "text": [
      "/home/dgiles/anaconda3/envs/KeplerFull37/lib/python3.7/site-packages/sklearn/preprocessing/data.py:645: DataConversionWarning: Data with input dtype float64, object were all converted to float64 by StandardScaler.\n",
      "  return self.partial_fit(X, y)\n",
      "python/quarterTools.py:90: DataConversionWarning: Data with input dtype float64, object were all converted to float64 by StandardScaler.\n",
      "  scaled_data = scaler.transform(data)\n"
     ]
    },
    {
     "name": "stdout",
     "output_type": "stream",
     "text": [
      "Finding minimum number of dimensions to explain 99.0% of the variance...\n",
      "\n",
      "        Dimensions: 30,\n",
      "        Variance explained: 99.0%\n",
      "        \n",
      "Scaling data using StandardScaler...\n"
     ]
    },
    {
     "name": "stderr",
     "output_type": "stream",
     "text": [
      "/home/dgiles/anaconda3/envs/KeplerFull37/lib/python3.7/site-packages/sklearn/preprocessing/data.py:645: DataConversionWarning: Data with input dtype float64, object were all converted to float64 by StandardScaler.\n",
      "  return self.partial_fit(X, y)\n",
      "python/quarterTools.py:90: DataConversionWarning: Data with input dtype float64, object were all converted to float64 by StandardScaler.\n",
      "  scaled_data = scaler.transform(data)\n"
     ]
    },
    {
     "name": "stdout",
     "output_type": "stream",
     "text": [
      "Finding minimum number of dimensions to explain 90.0% of the variance...\n",
      "\n",
      "        Dimensions: 16,\n",
      "        Variance explained: 91.0%\n",
      "        \n",
      "Scaling data using StandardScaler...\n"
     ]
    },
    {
     "name": "stderr",
     "output_type": "stream",
     "text": [
      "/home/dgiles/anaconda3/envs/KeplerFull37/lib/python3.7/site-packages/sklearn/preprocessing/data.py:645: DataConversionWarning: Data with input dtype float64, object were all converted to float64 by StandardScaler.\n",
      "  return self.partial_fit(X, y)\n",
      "python/quarterTools.py:90: DataConversionWarning: Data with input dtype float64, object were all converted to float64 by StandardScaler.\n",
      "  scaled_data = scaler.transform(data)\n"
     ]
    },
    {
     "name": "stdout",
     "output_type": "stream",
     "text": [
      "Finding minimum number of dimensions to explain 95.0% of the variance...\n",
      "\n",
      "        Dimensions: 21,\n",
      "        Variance explained: 95.4%\n",
      "        \n",
      "Scaling data using StandardScaler...\n"
     ]
    },
    {
     "name": "stderr",
     "output_type": "stream",
     "text": [
      "/home/dgiles/anaconda3/envs/KeplerFull37/lib/python3.7/site-packages/sklearn/preprocessing/data.py:645: DataConversionWarning: Data with input dtype float64, object were all converted to float64 by StandardScaler.\n",
      "  return self.partial_fit(X, y)\n",
      "python/quarterTools.py:90: DataConversionWarning: Data with input dtype float64, object were all converted to float64 by StandardScaler.\n",
      "  scaled_data = scaler.transform(data)\n"
     ]
    },
    {
     "name": "stdout",
     "output_type": "stream",
     "text": [
      "Finding minimum number of dimensions to explain 99.0% of the variance...\n",
      "\n",
      "        Dimensions: 30,\n",
      "        Variance explained: 99.0%\n",
      "        \n",
      "Scaling data using StandardScaler...\n"
     ]
    },
    {
     "name": "stderr",
     "output_type": "stream",
     "text": [
      "/home/dgiles/anaconda3/envs/KeplerFull37/lib/python3.7/site-packages/sklearn/preprocessing/data.py:645: DataConversionWarning: Data with input dtype float64, object were all converted to float64 by StandardScaler.\n",
      "  return self.partial_fit(X, y)\n",
      "python/quarterTools.py:90: DataConversionWarning: Data with input dtype float64, object were all converted to float64 by StandardScaler.\n",
      "  scaled_data = scaler.transform(data)\n"
     ]
    },
    {
     "name": "stdout",
     "output_type": "stream",
     "text": [
      "Finding minimum number of dimensions to explain 90.0% of the variance...\n",
      "\n",
      "        Dimensions: 16,\n",
      "        Variance explained: 91.0%\n",
      "        \n",
      "Scaling data using StandardScaler...\n"
     ]
    },
    {
     "name": "stderr",
     "output_type": "stream",
     "text": [
      "/home/dgiles/anaconda3/envs/KeplerFull37/lib/python3.7/site-packages/sklearn/preprocessing/data.py:645: DataConversionWarning: Data with input dtype float64, object were all converted to float64 by StandardScaler.\n",
      "  return self.partial_fit(X, y)\n",
      "python/quarterTools.py:90: DataConversionWarning: Data with input dtype float64, object were all converted to float64 by StandardScaler.\n",
      "  scaled_data = scaler.transform(data)\n"
     ]
    },
    {
     "name": "stdout",
     "output_type": "stream",
     "text": [
      "Finding minimum number of dimensions to explain 95.0% of the variance...\n",
      "\n",
      "        Dimensions: 21,\n",
      "        Variance explained: 95.4%\n",
      "        \n",
      "Scaling data using StandardScaler...\n"
     ]
    },
    {
     "name": "stderr",
     "output_type": "stream",
     "text": [
      "/home/dgiles/anaconda3/envs/KeplerFull37/lib/python3.7/site-packages/sklearn/preprocessing/data.py:645: DataConversionWarning: Data with input dtype float64, object were all converted to float64 by StandardScaler.\n",
      "  return self.partial_fit(X, y)\n",
      "python/quarterTools.py:90: DataConversionWarning: Data with input dtype float64, object were all converted to float64 by StandardScaler.\n",
      "  scaled_data = scaler.transform(data)\n"
     ]
    },
    {
     "name": "stdout",
     "output_type": "stream",
     "text": [
      "Finding minimum number of dimensions to explain 99.0% of the variance...\n",
      "\n",
      "        Dimensions: 30,\n",
      "        Variance explained: 99.0%\n",
      "        \n",
      "Scaling data using StandardScaler...\n"
     ]
    },
    {
     "name": "stderr",
     "output_type": "stream",
     "text": [
      "/home/dgiles/anaconda3/envs/KeplerFull37/lib/python3.7/site-packages/sklearn/preprocessing/data.py:645: DataConversionWarning: Data with input dtype float64, object were all converted to float64 by StandardScaler.\n",
      "  return self.partial_fit(X, y)\n",
      "python/quarterTools.py:90: DataConversionWarning: Data with input dtype float64, object were all converted to float64 by StandardScaler.\n",
      "  scaled_data = scaler.transform(data)\n"
     ]
    },
    {
     "name": "stdout",
     "output_type": "stream",
     "text": [
      "Finding minimum number of dimensions to explain 90.0% of the variance...\n",
      "\n",
      "        Dimensions: 16,\n",
      "        Variance explained: 91.0%\n",
      "        \n",
      "Scaling data using StandardScaler...\n"
     ]
    },
    {
     "name": "stderr",
     "output_type": "stream",
     "text": [
      "/home/dgiles/anaconda3/envs/KeplerFull37/lib/python3.7/site-packages/sklearn/preprocessing/data.py:645: DataConversionWarning: Data with input dtype float64, object were all converted to float64 by StandardScaler.\n",
      "  return self.partial_fit(X, y)\n",
      "python/quarterTools.py:90: DataConversionWarning: Data with input dtype float64, object were all converted to float64 by StandardScaler.\n",
      "  scaled_data = scaler.transform(data)\n"
     ]
    },
    {
     "name": "stdout",
     "output_type": "stream",
     "text": [
      "Finding minimum number of dimensions to explain 95.0% of the variance...\n",
      "\n",
      "        Dimensions: 21,\n",
      "        Variance explained: 95.4%\n",
      "        \n",
      "Scaling data using StandardScaler...\n"
     ]
    },
    {
     "name": "stderr",
     "output_type": "stream",
     "text": [
      "/home/dgiles/anaconda3/envs/KeplerFull37/lib/python3.7/site-packages/sklearn/preprocessing/data.py:645: DataConversionWarning: Data with input dtype float64, object were all converted to float64 by StandardScaler.\n",
      "  return self.partial_fit(X, y)\n",
      "python/quarterTools.py:90: DataConversionWarning: Data with input dtype float64, object were all converted to float64 by StandardScaler.\n",
      "  scaled_data = scaler.transform(data)\n"
     ]
    },
    {
     "name": "stdout",
     "output_type": "stream",
     "text": [
      "Finding minimum number of dimensions to explain 99.0% of the variance...\n",
      "\n",
      "        Dimensions: 30,\n",
      "        Variance explained: 99.0%\n",
      "        \n",
      "Scaling data using StandardScaler...\n"
     ]
    },
    {
     "name": "stderr",
     "output_type": "stream",
     "text": [
      "/home/dgiles/anaconda3/envs/KeplerFull37/lib/python3.7/site-packages/sklearn/preprocessing/data.py:645: DataConversionWarning: Data with input dtype float64, object were all converted to float64 by StandardScaler.\n",
      "  return self.partial_fit(X, y)\n",
      "python/quarterTools.py:90: DataConversionWarning: Data with input dtype float64, object were all converted to float64 by StandardScaler.\n",
      "  scaled_data = scaler.transform(data)\n"
     ]
    },
    {
     "name": "stdout",
     "output_type": "stream",
     "text": [
      "Finding minimum number of dimensions to explain 90.0% of the variance...\n",
      "\n",
      "        Dimensions: 16,\n",
      "        Variance explained: 91.0%\n",
      "        \n",
      "Scaling data using StandardScaler...\n"
     ]
    },
    {
     "name": "stderr",
     "output_type": "stream",
     "text": [
      "/home/dgiles/anaconda3/envs/KeplerFull37/lib/python3.7/site-packages/sklearn/preprocessing/data.py:645: DataConversionWarning: Data with input dtype float64, object were all converted to float64 by StandardScaler.\n",
      "  return self.partial_fit(X, y)\n",
      "python/quarterTools.py:90: DataConversionWarning: Data with input dtype float64, object were all converted to float64 by StandardScaler.\n",
      "  scaled_data = scaler.transform(data)\n"
     ]
    },
    {
     "name": "stdout",
     "output_type": "stream",
     "text": [
      "Finding minimum number of dimensions to explain 95.0% of the variance...\n",
      "\n",
      "        Dimensions: 21,\n",
      "        Variance explained: 95.4%\n",
      "        \n",
      "Scaling data using StandardScaler...\n"
     ]
    },
    {
     "name": "stderr",
     "output_type": "stream",
     "text": [
      "/home/dgiles/anaconda3/envs/KeplerFull37/lib/python3.7/site-packages/sklearn/preprocessing/data.py:645: DataConversionWarning: Data with input dtype float64, object were all converted to float64 by StandardScaler.\n",
      "  return self.partial_fit(X, y)\n",
      "python/quarterTools.py:90: DataConversionWarning: Data with input dtype float64, object were all converted to float64 by StandardScaler.\n",
      "  scaled_data = scaler.transform(data)\n"
     ]
    },
    {
     "name": "stdout",
     "output_type": "stream",
     "text": [
      "Finding minimum number of dimensions to explain 99.0% of the variance...\n",
      "\n",
      "        Dimensions: 30,\n",
      "        Variance explained: 99.0%\n",
      "        \n",
      "Scaling data using StandardScaler...\n"
     ]
    },
    {
     "name": "stderr",
     "output_type": "stream",
     "text": [
      "/home/dgiles/anaconda3/envs/KeplerFull37/lib/python3.7/site-packages/sklearn/preprocessing/data.py:645: DataConversionWarning: Data with input dtype float64, object were all converted to float64 by StandardScaler.\n",
      "  return self.partial_fit(X, y)\n",
      "python/quarterTools.py:90: DataConversionWarning: Data with input dtype float64, object were all converted to float64 by StandardScaler.\n",
      "  scaled_data = scaler.transform(data)\n"
     ]
    },
    {
     "name": "stdout",
     "output_type": "stream",
     "text": [
      "Finding minimum number of dimensions to explain 90.0% of the variance...\n",
      "\n",
      "        Dimensions: 16,\n",
      "        Variance explained: 91.0%\n",
      "        \n",
      "Scaling data using StandardScaler...\n"
     ]
    },
    {
     "name": "stderr",
     "output_type": "stream",
     "text": [
      "/home/dgiles/anaconda3/envs/KeplerFull37/lib/python3.7/site-packages/sklearn/preprocessing/data.py:645: DataConversionWarning: Data with input dtype float64, object were all converted to float64 by StandardScaler.\n",
      "  return self.partial_fit(X, y)\n",
      "python/quarterTools.py:90: DataConversionWarning: Data with input dtype float64, object were all converted to float64 by StandardScaler.\n",
      "  scaled_data = scaler.transform(data)\n"
     ]
    },
    {
     "name": "stdout",
     "output_type": "stream",
     "text": [
      "Finding minimum number of dimensions to explain 95.0% of the variance...\n",
      "\n",
      "        Dimensions: 21,\n",
      "        Variance explained: 95.4%\n",
      "        \n",
      "Scaling data using StandardScaler...\n"
     ]
    },
    {
     "name": "stderr",
     "output_type": "stream",
     "text": [
      "/home/dgiles/anaconda3/envs/KeplerFull37/lib/python3.7/site-packages/sklearn/preprocessing/data.py:645: DataConversionWarning: Data with input dtype float64, object were all converted to float64 by StandardScaler.\n",
      "  return self.partial_fit(X, y)\n",
      "python/quarterTools.py:90: DataConversionWarning: Data with input dtype float64, object were all converted to float64 by StandardScaler.\n",
      "  scaled_data = scaler.transform(data)\n"
     ]
    },
    {
     "name": "stdout",
     "output_type": "stream",
     "text": [
      "Finding minimum number of dimensions to explain 99.0% of the variance...\n",
      "\n",
      "        Dimensions: 30,\n",
      "        Variance explained: 99.0%\n",
      "        \n",
      "Scaling data using StandardScaler...\n"
     ]
    },
    {
     "name": "stderr",
     "output_type": "stream",
     "text": [
      "/home/dgiles/anaconda3/envs/KeplerFull37/lib/python3.7/site-packages/sklearn/preprocessing/data.py:645: DataConversionWarning: Data with input dtype float64, object were all converted to float64 by StandardScaler.\n",
      "  return self.partial_fit(X, y)\n",
      "python/quarterTools.py:90: DataConversionWarning: Data with input dtype float64, object were all converted to float64 by StandardScaler.\n",
      "  scaled_data = scaler.transform(data)\n"
     ]
    },
    {
     "name": "stdout",
     "output_type": "stream",
     "text": [
      "Finding minimum number of dimensions to explain 90.0% of the variance...\n",
      "\n",
      "        Dimensions: 16,\n",
      "        Variance explained: 91.0%\n",
      "        \n",
      "Scaling data using StandardScaler...\n"
     ]
    },
    {
     "name": "stderr",
     "output_type": "stream",
     "text": [
      "/home/dgiles/anaconda3/envs/KeplerFull37/lib/python3.7/site-packages/sklearn/preprocessing/data.py:645: DataConversionWarning: Data with input dtype float64, object were all converted to float64 by StandardScaler.\n",
      "  return self.partial_fit(X, y)\n",
      "python/quarterTools.py:90: DataConversionWarning: Data with input dtype float64, object were all converted to float64 by StandardScaler.\n",
      "  scaled_data = scaler.transform(data)\n"
     ]
    },
    {
     "name": "stdout",
     "output_type": "stream",
     "text": [
      "Finding minimum number of dimensions to explain 95.0% of the variance...\n",
      "\n",
      "        Dimensions: 21,\n",
      "        Variance explained: 95.4%\n",
      "        \n",
      "Scaling data using StandardScaler...\n"
     ]
    },
    {
     "name": "stderr",
     "output_type": "stream",
     "text": [
      "/home/dgiles/anaconda3/envs/KeplerFull37/lib/python3.7/site-packages/sklearn/preprocessing/data.py:645: DataConversionWarning: Data with input dtype float64, object were all converted to float64 by StandardScaler.\n",
      "  return self.partial_fit(X, y)\n",
      "python/quarterTools.py:90: DataConversionWarning: Data with input dtype float64, object were all converted to float64 by StandardScaler.\n",
      "  scaled_data = scaler.transform(data)\n"
     ]
    },
    {
     "name": "stdout",
     "output_type": "stream",
     "text": [
      "Finding minimum number of dimensions to explain 99.0% of the variance...\n",
      "\n",
      "        Dimensions: 30,\n",
      "        Variance explained: 99.0%\n",
      "        \n",
      "Scaling data using StandardScaler...\n"
     ]
    },
    {
     "name": "stderr",
     "output_type": "stream",
     "text": [
      "/home/dgiles/anaconda3/envs/KeplerFull37/lib/python3.7/site-packages/sklearn/preprocessing/data.py:645: DataConversionWarning: Data with input dtype float64, object were all converted to float64 by StandardScaler.\n",
      "  return self.partial_fit(X, y)\n",
      "python/quarterTools.py:90: DataConversionWarning: Data with input dtype float64, object were all converted to float64 by StandardScaler.\n",
      "  scaled_data = scaler.transform(data)\n"
     ]
    },
    {
     "name": "stdout",
     "output_type": "stream",
     "text": [
      "Finding minimum number of dimensions to explain 90.0% of the variance...\n",
      "\n",
      "        Dimensions: 16,\n",
      "        Variance explained: 91.0%\n",
      "        \n",
      "Scaling data using StandardScaler...\n"
     ]
    },
    {
     "name": "stderr",
     "output_type": "stream",
     "text": [
      "/home/dgiles/anaconda3/envs/KeplerFull37/lib/python3.7/site-packages/sklearn/preprocessing/data.py:645: DataConversionWarning: Data with input dtype float64, object were all converted to float64 by StandardScaler.\n",
      "  return self.partial_fit(X, y)\n",
      "python/quarterTools.py:90: DataConversionWarning: Data with input dtype float64, object were all converted to float64 by StandardScaler.\n",
      "  scaled_data = scaler.transform(data)\n"
     ]
    },
    {
     "name": "stdout",
     "output_type": "stream",
     "text": [
      "Finding minimum number of dimensions to explain 95.0% of the variance...\n",
      "\n",
      "        Dimensions: 21,\n",
      "        Variance explained: 95.4%\n",
      "        \n",
      "Scaling data using StandardScaler...\n"
     ]
    },
    {
     "name": "stderr",
     "output_type": "stream",
     "text": [
      "/home/dgiles/anaconda3/envs/KeplerFull37/lib/python3.7/site-packages/sklearn/preprocessing/data.py:645: DataConversionWarning: Data with input dtype float64, object were all converted to float64 by StandardScaler.\n",
      "  return self.partial_fit(X, y)\n",
      "python/quarterTools.py:90: DataConversionWarning: Data with input dtype float64, object were all converted to float64 by StandardScaler.\n",
      "  scaled_data = scaler.transform(data)\n"
     ]
    },
    {
     "name": "stdout",
     "output_type": "stream",
     "text": [
      "Finding minimum number of dimensions to explain 99.0% of the variance...\n",
      "\n",
      "        Dimensions: 30,\n",
      "        Variance explained: 99.0%\n",
      "        \n",
      "Scaling data using StandardScaler...\n"
     ]
    },
    {
     "name": "stderr",
     "output_type": "stream",
     "text": [
      "/home/dgiles/anaconda3/envs/KeplerFull37/lib/python3.7/site-packages/sklearn/preprocessing/data.py:645: DataConversionWarning: Data with input dtype float64, object were all converted to float64 by StandardScaler.\n",
      "  return self.partial_fit(X, y)\n",
      "python/quarterTools.py:90: DataConversionWarning: Data with input dtype float64, object were all converted to float64 by StandardScaler.\n",
      "  scaled_data = scaler.transform(data)\n"
     ]
    },
    {
     "name": "stdout",
     "output_type": "stream",
     "text": [
      "Finding minimum number of dimensions to explain 90.0% of the variance...\n",
      "\n",
      "        Dimensions: 16,\n",
      "        Variance explained: 91.0%\n",
      "        \n",
      "Scaling data using StandardScaler...\n"
     ]
    },
    {
     "name": "stderr",
     "output_type": "stream",
     "text": [
      "/home/dgiles/anaconda3/envs/KeplerFull37/lib/python3.7/site-packages/sklearn/preprocessing/data.py:645: DataConversionWarning: Data with input dtype float64, object were all converted to float64 by StandardScaler.\n",
      "  return self.partial_fit(X, y)\n",
      "python/quarterTools.py:90: DataConversionWarning: Data with input dtype float64, object were all converted to float64 by StandardScaler.\n",
      "  scaled_data = scaler.transform(data)\n"
     ]
    },
    {
     "name": "stdout",
     "output_type": "stream",
     "text": [
      "Finding minimum number of dimensions to explain 95.0% of the variance...\n",
      "\n",
      "        Dimensions: 21,\n",
      "        Variance explained: 95.4%\n",
      "        \n",
      "Scaling data using StandardScaler...\n"
     ]
    },
    {
     "name": "stderr",
     "output_type": "stream",
     "text": [
      "/home/dgiles/anaconda3/envs/KeplerFull37/lib/python3.7/site-packages/sklearn/preprocessing/data.py:645: DataConversionWarning: Data with input dtype float64, object were all converted to float64 by StandardScaler.\n",
      "  return self.partial_fit(X, y)\n",
      "python/quarterTools.py:90: DataConversionWarning: Data with input dtype float64, object were all converted to float64 by StandardScaler.\n",
      "  scaled_data = scaler.transform(data)\n"
     ]
    },
    {
     "name": "stdout",
     "output_type": "stream",
     "text": [
      "Finding minimum number of dimensions to explain 99.0% of the variance...\n",
      "\n",
      "        Dimensions: 30,\n",
      "        Variance explained: 99.0%\n",
      "        \n",
      "Scaling data using StandardScaler...\n"
     ]
    },
    {
     "name": "stderr",
     "output_type": "stream",
     "text": [
      "/home/dgiles/anaconda3/envs/KeplerFull37/lib/python3.7/site-packages/sklearn/preprocessing/data.py:645: DataConversionWarning: Data with input dtype float64, object were all converted to float64 by StandardScaler.\n",
      "  return self.partial_fit(X, y)\n",
      "python/quarterTools.py:90: DataConversionWarning: Data with input dtype float64, object were all converted to float64 by StandardScaler.\n",
      "  scaled_data = scaler.transform(data)\n"
     ]
    },
    {
     "name": "stdout",
     "output_type": "stream",
     "text": [
      "Finding minimum number of dimensions to explain 90.0% of the variance...\n",
      "\n",
      "        Dimensions: 16,\n",
      "        Variance explained: 91.0%\n",
      "        \n",
      "Scaling data using StandardScaler...\n"
     ]
    },
    {
     "name": "stderr",
     "output_type": "stream",
     "text": [
      "/home/dgiles/anaconda3/envs/KeplerFull37/lib/python3.7/site-packages/sklearn/preprocessing/data.py:645: DataConversionWarning: Data with input dtype float64, object were all converted to float64 by StandardScaler.\n",
      "  return self.partial_fit(X, y)\n",
      "python/quarterTools.py:90: DataConversionWarning: Data with input dtype float64, object were all converted to float64 by StandardScaler.\n",
      "  scaled_data = scaler.transform(data)\n"
     ]
    },
    {
     "name": "stdout",
     "output_type": "stream",
     "text": [
      "Finding minimum number of dimensions to explain 95.0% of the variance...\n",
      "\n",
      "        Dimensions: 21,\n",
      "        Variance explained: 95.4%\n",
      "        \n",
      "Scaling data using StandardScaler...\n"
     ]
    },
    {
     "name": "stderr",
     "output_type": "stream",
     "text": [
      "/home/dgiles/anaconda3/envs/KeplerFull37/lib/python3.7/site-packages/sklearn/preprocessing/data.py:645: DataConversionWarning: Data with input dtype float64, object were all converted to float64 by StandardScaler.\n",
      "  return self.partial_fit(X, y)\n",
      "python/quarterTools.py:90: DataConversionWarning: Data with input dtype float64, object were all converted to float64 by StandardScaler.\n",
      "  scaled_data = scaler.transform(data)\n"
     ]
    },
    {
     "name": "stdout",
     "output_type": "stream",
     "text": [
      "Finding minimum number of dimensions to explain 99.0% of the variance...\n",
      "\n",
      "        Dimensions: 30,\n",
      "        Variance explained: 99.0%\n",
      "        \n",
      "Scaling data using StandardScaler...\n"
     ]
    },
    {
     "name": "stderr",
     "output_type": "stream",
     "text": [
      "/home/dgiles/anaconda3/envs/KeplerFull37/lib/python3.7/site-packages/sklearn/preprocessing/data.py:645: DataConversionWarning: Data with input dtype float64, object were all converted to float64 by StandardScaler.\n",
      "  return self.partial_fit(X, y)\n",
      "python/quarterTools.py:90: DataConversionWarning: Data with input dtype float64, object were all converted to float64 by StandardScaler.\n",
      "  scaled_data = scaler.transform(data)\n"
     ]
    },
    {
     "name": "stdout",
     "output_type": "stream",
     "text": [
      "Finding minimum number of dimensions to explain 90.0% of the variance...\n",
      "\n",
      "        Dimensions: 16,\n",
      "        Variance explained: 91.0%\n",
      "        \n",
      "Scaling data using StandardScaler...\n"
     ]
    },
    {
     "name": "stderr",
     "output_type": "stream",
     "text": [
      "/home/dgiles/anaconda3/envs/KeplerFull37/lib/python3.7/site-packages/sklearn/preprocessing/data.py:645: DataConversionWarning: Data with input dtype float64, object were all converted to float64 by StandardScaler.\n",
      "  return self.partial_fit(X, y)\n",
      "python/quarterTools.py:90: DataConversionWarning: Data with input dtype float64, object were all converted to float64 by StandardScaler.\n",
      "  scaled_data = scaler.transform(data)\n"
     ]
    },
    {
     "name": "stdout",
     "output_type": "stream",
     "text": [
      "Finding minimum number of dimensions to explain 95.0% of the variance...\n",
      "\n",
      "        Dimensions: 21,\n",
      "        Variance explained: 95.4%\n",
      "        \n",
      "Scaling data using StandardScaler...\n"
     ]
    },
    {
     "name": "stderr",
     "output_type": "stream",
     "text": [
      "/home/dgiles/anaconda3/envs/KeplerFull37/lib/python3.7/site-packages/sklearn/preprocessing/data.py:645: DataConversionWarning: Data with input dtype float64, object were all converted to float64 by StandardScaler.\n",
      "  return self.partial_fit(X, y)\n",
      "python/quarterTools.py:90: DataConversionWarning: Data with input dtype float64, object were all converted to float64 by StandardScaler.\n",
      "  scaled_data = scaler.transform(data)\n"
     ]
    },
    {
     "name": "stdout",
     "output_type": "stream",
     "text": [
      "Finding minimum number of dimensions to explain 99.0% of the variance...\n",
      "\n",
      "        Dimensions: 30,\n",
      "        Variance explained: 99.0%\n",
      "        \n"
     ]
    }
   ],
   "source": [
    "# Creating PCA reductions for each quarter that explain 90%, 95%, and 99% of variance\n",
    "for k in Q_dict:\n",
    "    pca90 = Q_dict['Q{}'.format(i)].pca_red(df='self',red_name='PCA90',var_rat=0.9,scaled=False,verbose=True)\n",
    "    pca95 = Q_dict['Q{}'.format(i)].pca_red(df='self',red_name='PCA95',var_rat=0.95,scaled=False,verbose=True)\n",
    "    pca99 = Q_dict['Q{}'.format(i)].pca_red(df='self',red_name='PCA99',var_rat=0.99,scaled=False,verbose=True)\n",
    "\n",
    "for k in Q_dict:\n",
    "    Q_dict[k].save()"
   ]
  },
  {
   "cell_type": "code",
   "execution_count": 8,
   "metadata": {},
   "outputs": [],
   "source": []
  }
 ],
 "metadata": {
  "kernelspec": {
   "display_name": "Python 3",
   "language": "python",
   "name": "python3"
  },
  "language_info": {
   "codemirror_mode": {
    "name": "ipython",
    "version": 3
   },
   "file_extension": ".py",
   "mimetype": "text/x-python",
   "name": "python",
   "nbconvert_exporter": "python",
   "pygments_lexer": "ipython3",
   "version": "3.7.3"
  }
 },
 "nbformat": 4,
 "nbformat_minor": 2
}
