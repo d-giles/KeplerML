{
 "cells": [
  {
   "cell_type": "code",
   "execution_count": 1,
   "metadata": {},
   "outputs": [
    {
     "name": "stderr",
     "output_type": "stream",
     "text": [
      "numbapro:1: ImportWarning: The numbapro package is deprecated in favour of the accelerate package. Please update your code to use equivalent functions from accelerate.\n",
      "/home/dgiles/anaconda/lib/python2.7/site-packages/numba/cuda/decorators.py:107: UserWarning: autojit is deprecated and will be removed in a future release. Use jit instead.\n",
      "  warn('autojit is deprecated and will be removed in a future release. Use jit instead.')\n"
     ]
    }
   ],
   "source": [
    "import matplotlib\n",
    "matplotlib.use('TkAgg')\n",
    "import matplotlib.pyplot as plt\n",
    "from matplotlib.figure import Figure\n",
    "from matplotlib.backends.backend_tkagg import FigureCanvasTkAgg, NavigationToolbar2TkAgg\n",
    "from matplotlib import colors\n",
    "import matplotlib.cm as cmx\n",
    "import matplotlib.gridspec as gridspec\n",
    "import numpy as np\n",
    "np.set_printoptions(threshold='nan')\n",
    "import pandas as pd\n",
    "import seaborn as sns\n",
    "import sys\n",
    "if sys.version_info[0] < 3:\n",
    "    import Tkinter as Tk\n",
    "else:\n",
    "    import tkinter as Tk\n",
    "    \n",
    "from tkFileDialog import askopenfilename,askdirectory,asksaveasfile\n",
    "sys.path.append('python')\n",
    "from clusterOutliers import clusterOutliers\n",
    "import keplerml"
   ]
  },
  {
   "cell_type": "markdown",
   "metadata": {},
   "source": [
    "## Import the features created with keplerml.py"
   ]
  },
  {
   "cell_type": "code",
   "execution_count": 2,
   "metadata": {},
   "outputs": [
    {
     "name": "stdout",
     "output_type": "stream",
     "text": [
      "Creating random file list...\n",
      "Checking for Tabby...\n",
      "Adding Tabby...\n"
     ]
    },
    {
     "data": {
      "text/plain": [
       "\"\\n# Example for looping through 17 quarters of kepler data.\\nQ = np.zeros(17)\\n# This doesn't work\\nfor i in range(1,18):\\n    featCSV = 'Q%s.csv'%i\\n    fitsDir = 'KeplerLCs/fitsfiles/Q%sfitsfiles'%i\\n    Q[i-1] = clusterOutliers(featCSV,fitsDir)\\n    randSample[i-1] = Q[i-1].randSample(5000)\\n\""
      ]
     },
     "execution_count": 2,
     "metadata": {},
     "output_type": "execute_result"
    }
   ],
   "source": [
    "# User defined\n",
    "featCSV = \"/home/dgiles/Documents/KeplerLCs/output/Q4_output.csv\" # Path to csv containing feature data (should be a pandas dataframe saved as a csv)\n",
    "fitsDir = \"/home/dgiles/Documents/KeplerLCs/fitsFiles/Q4fitsfiles\" # path to fits files\n",
    "\n",
    "Q = clusterOutliers(featCSV,fitsDir)\n",
    "# Create a random sampling of the data from the imported files.\n",
    "# Use randomSampleWTabby method to ensure Tabby star is included.\n",
    "Q_sample = Q.randSampleWTabby(5000) # choose number of samples\n",
    "\n",
    "\"\"\"\n",
    "# Example for looping through 17 quarters of kepler data.\n",
    "Q = np.zeros(17)\n",
    "# This doesn't work\n",
    "for i in range(1,18):\n",
    "    featCSV = 'Q%s.csv'%i\n",
    "    fitsDir = 'KeplerLCs/fitsfiles/Q%sfitsfiles'%i\n",
    "    Q[i-1] = clusterOutliers(featCSV,fitsDir)\n",
    "    randSample[i-1] = Q[i-1].randSample(5000)\n",
    "\"\"\""
   ]
  },
  {
   "cell_type": "code",
   "execution_count": null,
   "metadata": {
    "collapsed": true
   },
   "outputs": [],
   "source": [
    "# User defined\n",
    "featCSV = \"/home/dgiles/Documents/KeplerLCs/output/Q4_output.csv\" # Path to csv containing feature data (should be a pandas dataframe saved as a csv)\n",
    "fitsDir = \"/home/dgiles/Documents/KeplerLCs/fitsFiles/Q4fitsfiles\" # path to fits files\n",
    "\n",
    "Q4 = clusterOutliers(featCSV,fitsDir)\n",
    "Q4_Sample = Q4.randomSampleWTabby(5000)\n",
    "\n",
    "Q4.sample_tsne_fit()\n",
    "print(\"K-means\")\n",
    "Q4.sample_km_out()\n",
    "print(\"DBSCAN\")\n",
    "Q4.sample_db_out()\n",
    "# The Kepler IDs of each lc, without the timestamp, to identify in other quarters\n",
    "kID = [i[:13] for i in Q4_sample]"
   ]
  },
  {
   "cell_type": "code",
   "execution_count": null,
   "metadata": {
    "collapsed": true
   },
   "outputs": [],
   "source": [
    "# User defined\n",
    "featCSV = \"/home/dgiles/Documents/KeplerLCs/output/Q8_output.csv\" # Path to csv containing feature data (should be a pandas dataframe saved as a csv)\n",
    "fitsDir = \"/home/dgiles/Documents/KeplerLCs/fitsFiles/Q8fitsfiles\" # path to fits files\n",
    "Q8 = clusterOutliers(featCSV,fitsDir)\n",
    "# Creating a data sample set using the kIDs from the original quarter\n",
    "Q8_Sample = Q8.data[Q8.data.index.str.contains('|'.join(kID))]\n",
    "# Defining the sample instead of randomly generating it.\n",
    "Q8.dataSample = Q8_Sample\n",
    "Q8.filesSample = Q8_Sample.index\n",
    "Q8.sampleGenerated = True\n",
    "Q8.sample_tsne_fit()\n",
    "print(\"K-means\")\n",
    "Q8.sample_km_out()\n",
    "print(\"DBSCAN\")\n",
    "Q8.sample_db_out()\n",
    "# The Kepler IDs of each lc, without the timestamp, to identify in other quarters\n",
    "kID = [i[:13] for i in Q8_sample]"
   ]
  },
  {
   "cell_type": "code",
   "execution_count": null,
   "metadata": {
    "collapsed": true
   },
   "outputs": [],
   "source": [
    "# User defined\n",
    "featCSV = \"/home/dgiles/Documents/KeplerLCs/output/Q11_output.csv\" # Path to csv containing feature data (should be a pandas dataframe saved as a csv)\n",
    "fitsDir = \"/home/dgiles/Documents/KeplerLCs/fitsFiles/Q11fitsfiles\" # path to fits files\n",
    "Q11 = clusterOutliers(featCSV,fitsDir)\n",
    "# Creating a data sample set using the kIDs from the original quarter\n",
    "Q11_Sample = Q11.data[Q11.data.index.str.contains('|'.join(kID))]\n",
    "# Defining the sample instead of randomly generating it.\n",
    "Q11.dataSample = Q11_Sample\n",
    "Q11.filesSample = Q11_Sample.index\n",
    "Q11.sampleGenerated = True\n",
    "Q11.sample_tsne_fit()\n",
    "print(\"K-means\")\n",
    "Q11.sample_km_out()\n",
    "print(\"DBSCAN\")\n",
    "Q11.sample_db_out()\n",
    "# The Kepler IDs of each lc, without the timestamp, to identify in other quarters\n",
    "kID = [i[:13] for i in Q11_sample]"
   ]
  },
  {
   "cell_type": "code",
   "execution_count": null,
   "metadata": {
    "collapsed": true
   },
   "outputs": [],
   "source": [
    "# User defined\n",
    "featCSV = \"/home/dgiles/Documents/KeplerLCs/output/Q16_output.csv\" # Path to csv containing feature data (should be a pandas dataframe saved as a csv)\n",
    "fitsDir = \"/home/dgiles/Documents/KeplerLCs/fitsFiles/Q16fitsfiles\" # path to fits files\n",
    "Q16 = clusterOutliers(featCSV,fitsDir)\n",
    "# Creating a data sample set using the kIDs from the original quarter\n",
    "Q16_Sample = Q16.data[Q16.data.index.str.contains('|'.join(kID))]\n",
    "# Defining the sample instead of randomly generating it.\n",
    "Q16.dataSample = Q16_Sample\n",
    "Q16.filesSample = Q16_Sample.index\n",
    "Q16.sampleGenerated = True\n",
    "Q16.sample_tsne_fit()\n",
    "print(\"K-means\")\n",
    "Q16.sample_km_out()\n",
    "print(\"DBSCAN\")\n",
    "Q16.sample_db_out()\n",
    "# The Kepler IDs of each lc, without the timestamp, to identify in other quarters\n",
    "kID = [i[:13] for i in Q16_sample]"
   ]
  },
  {
   "cell_type": "code",
   "execution_count": null,
   "metadata": {
    "collapsed": true
   },
   "outputs": [],
   "source": [
    "# User defined\n",
    "featCSV = \"/home/dgiles/Documents/KeplerLCs/output/Q4_output.csv\" # Path to csv containing feature data (should be a pandas dataframe saved as a csv)\n",
    "fitsDir = \"/home/dgiles/Documents/KeplerLCs/fitsFiles/Q4fitsfiles\" # path to fits files\n",
    "\n",
    "Q4 = clusterOutliers(featCSV,fitsDir)\n",
    "# Creating a data sample set using the kIDs from the original quarter\n",
    "Q4_Sample = Q4.data[Q4.data.index.str.contains('|'.join(kID))]\n",
    "# Defining the sample instead of randomly generating it.\n",
    "Q4.dataSample = Q4_Sample\n",
    "Q4.filesSample = Q4_Sample.index\n",
    "Q4.sampleGenerated = True\n",
    "\n",
    "Q4.sample_tsne_fit()\n",
    "print(\"K-means\")\n",
    "Q4.sample_km_out()\n",
    "print(\"DBSCAN\")\n",
    "Q4.sample_db_out()\n",
    "# The Kepler IDs of each lc, without the timestamp, to identify in other quarters\n",
    "kID = [i[:13] for i in Q4_sample]"
   ]
  },
  {
   "cell_type": "code",
   "execution_count": 3,
   "metadata": {},
   "outputs": [
    {
     "name": "stdout",
     "output_type": "stream",
     "text": [
      "[t-SNE] Computing pairwise distances...\n",
      "[t-SNE] Computing 1501 nearest neighbors...\n",
      "[t-SNE] Computed conditional probabilities for sample 1000 / 5000\n",
      "[t-SNE] Computed conditional probabilities for sample 2000 / 5000\n",
      "[t-SNE] Computed conditional probabilities for sample 3000 / 5000\n",
      "[t-SNE] Computed conditional probabilities for sample 4000 / 5000\n",
      "[t-SNE] Computed conditional probabilities for sample 5000 / 5000\n",
      "[t-SNE] Mean sigma: 1.470482\n",
      "[t-SNE] KL divergence after 100 iterations with early exaggeration: 0.223403\n",
      "[t-SNE] Error after 125 iterations: 0.223403\n",
      "Done.\n"
     ]
    },
    {
     "data": {
      "text/plain": [
       "'\\n# Example for looping through 17 quarters of kepler data.\\ntsneFit = np.zeros(17)\\nfor i in range(17):\\n    tsneFit[i] = Q[i].tsne_fit(Q[i].dataSample)\\n'"
      ]
     },
     "execution_count": 3,
     "metadata": {},
     "output_type": "execute_result"
    }
   ],
   "source": [
    "\"\"\"\n",
    "sample_tsne_fit reduces the dimensionality of the sample created using randSample or\n",
    "randSampleWTabby. It will not operate on the full set due to computational limitations.\n",
    "tsne_fit can be used on other data frames and will return a 2D set of coordinates\n",
    "corresponding to the original data.\n",
    "\"\"\"\n",
    "try:\n",
    "    Q.sample_tsne_fit()\n",
    "except ValueError:\n",
    "    print(\"Something went wrong, too few samples maybe? That's been an issue.\")\n",
    "    \n",
    "\"\"\"\n",
    "# Example for looping through 17 quarters of kepler data.\n",
    "tsneFit = np.zeros(17)\n",
    "for i in range(17):\n",
    "    tsneFit[i] = Q[i].tsne_fit(Q[i].dataSample)\n",
    "\"\"\""
   ]
  },
  {
   "cell_type": "code",
   "execution_count": 4,
   "metadata": {},
   "outputs": [
    {
     "name": "stdout",
     "output_type": "stream",
     "text": [
      "K-means\n",
      "Tabby has NOT been found to be an outlier in k-means\n",
      "There were 0 outliers in 1 clusters\n",
      "DBSCAN\n",
      "Clustering data...\n"
     ]
    },
    {
     "name": "stderr",
     "output_type": "stream",
     "text": [
      "/home/dgiles/anaconda/lib/python2.7/site-packages/sklearn/externals/joblib/parallel.py:131: DeprecationWarning: using a non-integer number instead of an integer will result in an error in the future\n",
      "  return [func(*args, **kwargs) for func, args, kwargs in self.items]\n",
      "/home/dgiles/anaconda/lib/python2.7/site-packages/sklearn/externals/joblib/parallel.py:131: DeprecationWarning: using a non-integer number instead of an integer will result in an error in the future\n",
      "  return [func(*args, **kwargs) for func, args, kwargs in self.items]\n",
      "/home/dgiles/anaconda/lib/python2.7/site-packages/sklearn/externals/joblib/parallel.py:131: DeprecationWarning: using a non-integer number instead of an integer will result in an error in the future\n",
      "  return [func(*args, **kwargs) for func, args, kwargs in self.items]\n",
      "/home/dgiles/anaconda/lib/python2.7/site-packages/sklearn/externals/joblib/parallel.py:131: DeprecationWarning: using a non-integer number instead of an integer will result in an error in the future\n",
      "  return [func(*args, **kwargs) for func, args, kwargs in self.items]\n"
     ]
    },
    {
     "name": "stdout",
     "output_type": "stream",
     "text": [
      "\n",
      "    Epsilon is in the neighborhood of 1.41999053533, \n",
      "    with an average of 210.0 neighbors within epsilon,\n",
      "    105.0 neighbors in half circle (neighbors/2).\n",
      "    \n",
      "Clustering data with DBSCAN...\n",
      "Tabby has not Not found to be an outlier in DBSCAN\n",
      "There were 2 clusters and 63 total outliers\n"
     ]
    },
    {
     "data": {
      "text/plain": [
       "'\\n# Example for looping through 17 quarters of kepler data.\\nfor i in range(17):\\n    Q[i].km_out()\\n    Q[i].db_out()\\n'"
      ]
     },
     "execution_count": 4,
     "metadata": {},
     "output_type": "execute_result"
    }
   ],
   "source": [
    "\"\"\"\n",
    "sample_km_out and sample_db_out operate on the sample generated with sample_tsne_fit.\n",
    "km_out and db_out can be used on any dataframe with arbitrary dimensionality. These\n",
    "will return the cluster labels with outliers labeled as -1.\n",
    "\"\"\"\n",
    "print(\"K-means\")\n",
    "Q.sample_km_out()\n",
    "print(\"DBSCAN\")\n",
    "Q.sample_db_out()\n",
    "\n",
    "\"\"\"\n",
    "# Example for looping through 17 quarters of kepler data.\n",
    "for i in range(17):\n",
    "    Q[i].km_out()\n",
    "    Q[i].db_out()\n",
    "\"\"\""
   ]
  },
  {
   "cell_type": "code",
   "execution_count": 5,
   "metadata": {},
   "outputs": [
    {
     "name": "stdout",
     "output_type": "stream",
     "text": [
      "Plotting.\n",
      "window closed.\n"
     ]
    },
    {
     "ename": "SystemExit",
     "evalue": "",
     "output_type": "error",
     "traceback": [
      "An exception has occurred, use %tb to see the full traceback.\n",
      "\u001b[1;31mSystemExit\u001b[0m\n"
     ]
    },
    {
     "name": "stderr",
     "output_type": "stream",
     "text": [
      "To exit: use 'exit', 'quit', or Ctrl-D.\n"
     ]
    }
   ],
   "source": [
    "Q.plot_sample('dbscan')"
   ]
  },
  {
   "cell_type": "code",
   "execution_count": 36,
   "metadata": {},
   "outputs": [
    {
     "data": {
      "text/plain": [
       "<module 'km_outliers' from 'python/km_outliers.py'>"
      ]
     },
     "execution_count": 36,
     "metadata": {},
     "output_type": "execute_result"
    }
   ],
   "source": [
    "reload(km_outliers)"
   ]
  },
  {
   "cell_type": "code",
   "execution_count": null,
   "metadata": {},
   "outputs": [],
   "source": [
    "from sklearn import preprocessing\n",
    "data_tbs = np.array(Q.dataSample.iloc[:,0:60])\n",
    "scaler = preprocessing.StandardScaler().fit(data_tbs)\n",
    "scaledData = scaler.transform(data_tbs)\n",
    "opt_k = km_outliers.optimalK(scaledData)\n",
    "print(opt_k)"
   ]
  },
  {
   "cell_type": "code",
   "execution_count": 114,
   "metadata": {},
   "outputs": [
    {
     "name": "stdout",
     "output_type": "stream",
     "text": [
      "(15, 0.90668407009692642)\n"
     ]
    },
    {
     "data": {
      "image/png": "[encoded data removed]",
      "text/plain": [
       "<matplotlib.figure.Figure at 0x7efcaa38bf10>"
      ]
     },
     "metadata": {},
     "output_type": "display_data"
    }
   ],
   "source": [
    "%matplotlib inline\n",
    "from sklearn.decomposition import PCA\n",
    "\n",
    "data_tbs = np.array(Q.dataSample.iloc[:,0:60])\n",
    "scaler = preprocessing.StandardScaler().fit(data_tbs)\n",
    "scaledData = scaler.transform(data_tbs)\n",
    "for i in range(60):\n",
    "    pca = PCA(n_components=i)\n",
    "    pca.fit(scaledData)\n",
    "    if sum(pca.explained_variance_ratio_) >= .9:\n",
    "        break\n",
    "print(i,sum(pca.explained_variance_ratio_))\n",
    "pcafit = pca.fit_transform(scaledData)\n",
    "plt.scatter(pcafit[:,0],pcafit[:,1])\n",
    "plt.show()"
   ]
  },
  {
   "cell_type": "code",
   "execution_count": 102,
   "metadata": {},
   "outputs": [
    {
     "data": {
      "image/png": "[encoded data removed]",
      "text/plain": [
       "<matplotlib.figure.Figure at 0x7efcaa3cab10>"
      ]
     },
     "metadata": {},
     "output_type": "display_data"
    }
   ],
   "source": [
    "from sklearn.manifold import Isomap\n",
    "data_tbs = np.array(Q.dataSample.iloc[:,0:60])\n",
    "scaler = preprocessing.StandardScaler().fit(data_tbs)\n",
    "scaledData = scaler.transform(data_tbs)\n",
    "\n",
    "iso = Isomap(n_components=2)\n",
    "isofit = iso.fit_transform(scaledData)\n",
    "plt.scatter(isofit[:,0],isofit[:,1])\n",
    "plt.show()"
   ]
  },
  {
   "cell_type": "code",
   "execution_count": 103,
   "metadata": {},
   "outputs": [
    {
     "data": {
      "image/png": "[encoded data removed]",
      "text/plain": [
       "<matplotlib.figure.Figure at 0x7efcaa1be650>"
      ]
     },
     "metadata": {},
     "output_type": "display_data"
    }
   ],
   "source": [
    "from sklearn.manifold import TSNE\n",
    "data_tbs = np.array(Q.dataSample.iloc[:,0:60])\n",
    "scaler = preprocessing.StandardScaler().fit(data_tbs)\n",
    "scaledData = scaler.transform(data_tbs)\n",
    "\n",
    "tsne = TSNE(n_components=2, init='random')\n",
    "tsnefit = tsne.fit_transform(scaledData)\n",
    "plt.scatter(tsnefit[:,0],tsnefit[:,1])\n",
    "plt.show()"
   ]
  },
  {
   "cell_type": "code",
   "execution_count": 107,
   "metadata": {},
   "outputs": [
    {
     "data": {
      "image/png": "[encoded data removed]",
      "text/plain": [
       "<matplotlib.figure.Figure at 0x7efca9b88150>"
      ]
     },
     "metadata": {},
     "output_type": "display_data"
    }
   ],
   "source": [
    "from sklearn.manifold import TSNE\n",
    "data_tbs = np.array(Q.dataSample.iloc[:,0:60])\n",
    "scaler = preprocessing.StandardScaler().fit(data_tbs)\n",
    "scaledData = scaler.transform(data_tbs)\n",
    "\n",
    "tsne = TSNE(n_components=2, init='random', perplexity=500)\n",
    "tsnefit = tsne.fit_transform(scaledData)\n",
    "plt.scatter(tsnefit[:,0],tsnefit[:,1])\n",
    "plt.show()"
   ]
  },
  {
   "cell_type": "code",
   "execution_count": 104,
   "metadata": {},
   "outputs": [
    {
     "data": {
      "image/png": "[encoded data removed]",
      "text/plain": [
       "<matplotlib.figure.Figure at 0x7efca9f44510>"
      ]
     },
     "metadata": {},
     "output_type": "display_data"
    }
   ],
   "source": [
    "from sklearn.manifold import TSNE\n",
    "data_tbs = np.array(Q.dataSample.iloc[:,0:60])\n",
    "scaler = preprocessing.StandardScaler().fit(data_tbs)\n",
    "scaledData = scaler.transform(data_tbs)\n",
    "\n",
    "tsne = TSNE(n_components=2,init='pca')\n",
    "tsnefit = tsne.fit_transform(scaledData)\n",
    "plt.scatter(tsnefit[:,0],tsnefit[:,1])\n",
    "plt.show()"
   ]
  },
  {
   "cell_type": "code",
   "execution_count": 105,
   "metadata": {},
   "outputs": [
    {
     "data": {
      "image/png": "[encoded data removed]",
      "text/plain": [
       "<matplotlib.figure.Figure at 0x7efcaa055390>"
      ]
     },
     "metadata": {},
     "output_type": "display_data"
    }
   ],
   "source": [
    "from sklearn.manifold import TSNE\n",
    "data_tbs = np.array(Q.dataSample.iloc[:,0:60])\n",
    "scaler = preprocessing.StandardScaler().fit(data_tbs)\n",
    "scaledData = scaler.transform(data_tbs)\n",
    "\n",
    "tsne = TSNE(n_components=2,init='pca',perplexity=500)\n",
    "tsnefit = tsne.fit_transform(scaledData)\n",
    "plt.scatter(tsnefit[:,0],tsnefit[:,1])\n",
    "plt.show()"
   ]
  },
  {
   "cell_type": "code",
   "execution_count": 116,
   "metadata": {},
   "outputs": [],
   "source": [
    "# The Kepler IDs of each lc, without the timestamp, to identify in other quarters\n",
    "kID = [i[:13] for i in Q_sample]"
   ]
  },
  {
   "cell_type": "code",
   "execution_count": 117,
   "metadata": {},
   "outputs": [
    {
     "name": "stdout",
     "output_type": "stream",
     "text": [
      "[t-SNE] Computing pairwise distances...\n",
      "[t-SNE] Computing 1447 nearest neighbors...\n",
      "[t-SNE] Computed conditional probabilities for sample 1000 / 4823\n",
      "[t-SNE] Computed conditional probabilities for sample 2000 / 4823\n",
      "[t-SNE] Computed conditional probabilities for sample 3000 / 4823\n",
      "[t-SNE] Computed conditional probabilities for sample 4000 / 4823\n",
      "[t-SNE] Computed conditional probabilities for sample 4823 / 4823\n",
      "[t-SNE] Mean sigma: 1.506066\n",
      "[t-SNE] KL divergence after 100 iterations with early exaggeration: 0.249265\n",
      "[t-SNE] Error after 125 iterations: 0.249265\n",
      "Done.\n",
      "K-means\n"
     ]
    },
    {
     "name": "stderr",
     "output_type": "stream",
     "text": [
      "python/clusterOutliers.py:118: SettingWithCopyWarning: \n",
      "A value is trying to be set on a copy of a slice from a DataFrame.\n",
      "Try using .loc[row_indexer,col_indexer] = value instead\n",
      "\n",
      "See the caveats in the documentation: http://pandas.pydata.org/pandas-docs/stable/indexing.html#indexing-view-versus-copy\n",
      "  self.dataSample['tsne_x'] = tsne_fit.T[0]\n",
      "python/clusterOutliers.py:119: SettingWithCopyWarning: \n",
      "A value is trying to be set on a copy of a slice from a DataFrame.\n",
      "Try using .loc[row_indexer,col_indexer] = value instead\n",
      "\n",
      "See the caveats in the documentation: http://pandas.pydata.org/pandas-docs/stable/indexing.html#indexing-view-versus-copy\n",
      "  self.dataSample['tsne_y'] = tsne_fit.T[1]\n"
     ]
    },
    {
     "name": "stdout",
     "output_type": "stream",
     "text": [
      "Tabby has NOT been found to be an outlier in k-means\n",
      "There were 0 outliers in 1 clusters\n",
      "DBSCAN\n"
     ]
    },
    {
     "name": "stderr",
     "output_type": "stream",
     "text": [
      "python/clusterOutliers.py:151: SettingWithCopyWarning: \n",
      "A value is trying to be set on a copy of a slice from a DataFrame.\n",
      "Try using .loc[row_indexer,col_indexer] = value instead\n",
      "\n",
      "See the caveats in the documentation: http://pandas.pydata.org/pandas-docs/stable/indexing.html#indexing-view-versus-copy\n",
      "  self.dataSample['km_cluster']=clusterLabels\n"
     ]
    },
    {
     "name": "stdout",
     "output_type": "stream",
     "text": [
      "Clustering data...\n"
     ]
    },
    {
     "name": "stderr",
     "output_type": "stream",
     "text": [
      "/home/dgiles/anaconda/lib/python2.7/site-packages/sklearn/externals/joblib/parallel.py:131: DeprecationWarning: using a non-integer number instead of an integer will result in an error in the future\n",
      "  return [func(*args, **kwargs) for func, args, kwargs in self.items]\n",
      "/home/dgiles/anaconda/lib/python2.7/site-packages/sklearn/externals/joblib/parallel.py:131: DeprecationWarning: using a non-integer number instead of an integer will result in an error in the future\n",
      "  return [func(*args, **kwargs) for func, args, kwargs in self.items]\n",
      "/home/dgiles/anaconda/lib/python2.7/site-packages/sklearn/externals/joblib/parallel.py:131: DeprecationWarning: using a non-integer number instead of an integer will result in an error in the future\n",
      "  return [func(*args, **kwargs) for func, args, kwargs in self.items]\n",
      "/home/dgiles/anaconda/lib/python2.7/site-packages/sklearn/externals/joblib/parallel.py:131: DeprecationWarning: using a non-integer number instead of an integer will result in an error in the future\n",
      "  return [func(*args, **kwargs) for func, args, kwargs in self.items]\n"
     ]
    },
    {
     "name": "stdout",
     "output_type": "stream",
     "text": [
      "\n",
      "    Epsilon is in the neighborhood of 1.48243027068, \n",
      "    with an average of 231.0 neighbors within epsilon,\n",
      "    115.5 neighbors in half circle (neighbors/2).\n",
      "    \n",
      "Clustering data with DBSCAN...\n",
      "Tabby has been found to be an outlier in DBSCAN.\n",
      "There were 1 clusters and 133 total outliers\n"
     ]
    },
    {
     "name": "stderr",
     "output_type": "stream",
     "text": [
      "python/clusterOutliers.py:161: SettingWithCopyWarning: \n",
      "A value is trying to be set on a copy of a slice from a DataFrame.\n",
      "Try using .loc[row_indexer,col_indexer] = value instead\n",
      "\n",
      "See the caveats in the documentation: http://pandas.pydata.org/pandas-docs/stable/indexing.html#indexing-view-versus-copy\n",
      "  self.dataSample['db_cluster']=clusterLabels\n"
     ]
    },
    {
     "name": "stdout",
     "output_type": "stream",
     "text": [
      "Plotting.\n",
      "window closed.\n"
     ]
    },
    {
     "ename": "SystemExit",
     "evalue": "",
     "output_type": "error",
     "traceback": [
      "An exception has occurred, use %tb to see the full traceback.\n",
      "\u001b[1;31mSystemExit\u001b[0m\n"
     ]
    },
    {
     "name": "stderr",
     "output_type": "stream",
     "text": [
      "To exit: use 'exit', 'quit', or Ctrl-D.\n"
     ]
    }
   ],
   "source": [
    "import pandas as pd\n",
    "# User defined\n",
    "featCSV = \"/home/dgiles/Documents/KeplerLCs/output/Q8_output.csv\" # Path to csv containing feature data (should be a pandas dataframe saved as a csv)\n",
    "fitsDir = \"/home/dgiles/Documents/KeplerLCs/fitsFiles/Q8fitsfiles\" # path to fits files\n",
    "Q8 = clusterOutliers(featCSV,fitsDir)\n",
    "# Creating a data sample set using the kIDs from the original quarter\n",
    "Q8_Sample = Q8.data[Q8.data.index.str.contains('|'.join(kID))]\n",
    "# Defining the sample instead of randomly generating it.\n",
    "Q8.dataSample = Q8_Sample\n",
    "Q8.filesSample = Q8_Sample.index\n",
    "Q8.sampleGenerated = True\n",
    "Q8.sample_tsne_fit()\n",
    "print(\"K-means\")\n",
    "Q8.sample_km_out()\n",
    "print(\"DBSCAN\")\n",
    "Q8.sample_db_out()"
   ]
  },
  {
   "cell_type": "code",
   "execution_count": 125,
   "metadata": {},
   "outputs": [
    {
     "name": "stdout",
     "output_type": "stream",
     "text": [
      "Plotting.\n",
      "window closed.\n"
     ]
    },
    {
     "ename": "SystemExit",
     "evalue": "",
     "output_type": "error",
     "traceback": [
      "An exception has occurred, use %tb to see the full traceback.\n",
      "\u001b[1;31mSystemExit\u001b[0m\n"
     ]
    },
    {
     "name": "stderr",
     "output_type": "stream",
     "text": [
      "To exit: use 'exit', 'quit', or Ctrl-D.\n"
     ]
    }
   ],
   "source": [
    "Q8.plot_sample('dbscan')"
   ]
  },
  {
   "cell_type": "code",
   "execution_count": 132,
   "metadata": {},
   "outputs": [
    {
     "name": "stdout",
     "output_type": "stream",
     "text": [
      "(2848, 'kplr008462852-2011073133259_llc.fits')\n",
      "Plotting.\n",
      "(2848, '/home/dgiles/Documents/KeplerLCs/fitsFiles/Q8fitsfiles/kplr008462852-2011073133259_llc.fits')\n",
      "(348, '/home/dgiles/Documents/KeplerLCs/fitsFiles/Q8fitsfiles/kplr003560212-2011073133259_llc.fits')\n",
      "(4390, '/home/dgiles/Documents/KeplerLCs/fitsFiles/Q8fitsfiles/kplr011246163-2011073133259_llc.fits')\n",
      "(4763, '/home/dgiles/Documents/KeplerLCs/fitsFiles/Q8fitsfiles/kplr012404615-2011073133259_llc.fits')\n",
      "(1100, '/home/dgiles/Documents/KeplerLCs/fitsFiles/Q8fitsfiles/kplr005353374-2011073133259_llc.fits')\n",
      "(1519, '/home/dgiles/Documents/KeplerLCs/fitsFiles/Q8fitsfiles/kplr006118779-2011073133259_llc.fits')\n",
      "window closed.\n"
     ]
    },
    {
     "ename": "SystemExit",
     "evalue": "",
     "output_type": "error",
     "traceback": [
      "An exception has occurred, use %tb to see the full traceback.\n",
      "\u001b[1;31mSystemExit\u001b[0m\n"
     ]
    },
    {
     "name": "stderr",
     "output_type": "stream",
     "text": [
      "To exit: use 'exit', 'quit', or Ctrl-D.\n"
     ]
    }
   ],
   "source": [
    "root = Tk.Tk()\n",
    "root.wm_title(\"Scatter\")\n",
    "\"\"\"--- import light curve data ---\"\"\"\n",
    "pathtofits = fitsDir\n",
    "method = 'dbscan'\n",
    "files = Q8.filesSample\n",
    "if method == 'dbscan':\n",
    "    clusterLabels = Q8.dataSample.db_cluster\n",
    "elif method == 'kmeans':\n",
    "    clusterLabels = Q8.dataSample.km_cluster\n",
    "\n",
    "# data is an array containing each data point\n",
    "data = np.array(Q8.dataSample[['tsne_x','tsne_y']])\n",
    "\n",
    "cNorm  = colors.Normalize(vmin=0, vmax=max(clusterLabels))\n",
    "scalarMap = cmx.ScalarMappable(norm=cNorm, cmap='jet')\n",
    "\n",
    "# tsneX has all the x-coordinates\n",
    "tsneX = Q8.dataSample.tsne_x\n",
    "# tsneY has all the y-coordinates\n",
    "tsneY = Q8.dataSample.tsne_y\n",
    "\n",
    "data_out = Q8.dataSample[clusterLabels==-1]\n",
    "outX = data_out.tsne_x\n",
    "outY = data_out.tsne_y\n",
    "files_out = data_out.index\n",
    "\n",
    "data_cluster = Q8.dataSample[clusterLabels!=-1]\n",
    "clusterX = data_cluster.tsne_x\n",
    "clusterY = data_cluster.tsne_y\n",
    "files_cluster = data_cluster.index\n",
    "\n",
    "\n",
    "\"\"\"--- Organizing data and Labels ---\"\"\"\n",
    "\n",
    "\n",
    "if Q8.dataSample.index.str.contains('8462852').any():\n",
    "    tabbyInd = list(Q8.dataSample.index).index(Q8.dataSample[Q8.dataSample.index.str.contains('8462852')].index[0])            \n",
    "    print(tabbyInd,files[tabbyInd])\n",
    "else:\n",
    "    tabbyInd = 0\n",
    "\n",
    "\n",
    "fig = Figure(figsize=(20,10))\n",
    "\n",
    "# a tk.DrawingArea\n",
    "canvas = FigureCanvasTkAgg(fig, master=root)\n",
    "canvas.get_tk_widget().pack(side=Tk.TOP, fill=Tk.BOTH, expand=1)\n",
    "# Toolbar to help navigate the data (pan, zoom, save image, etc.)\n",
    "toolbar = NavigationToolbar2TkAgg(canvas, root)\n",
    "toolbar.update()\n",
    "canvas._tkcanvas.pack(side=Tk.TOP, fill=Tk.BOTH, expand=1)\n",
    "\n",
    "gs = gridspec.GridSpec(2,6)\n",
    "\n",
    "with sns.axes_style(\"white\"):\n",
    "    # empty subplot for scattered data\n",
    "    ax = fig.add_subplot(gs[0,:4])\n",
    "    # empty subplot for lightcurves\n",
    "    ax2 = fig.add_subplot(gs[1,:])\n",
    "    # empty subplot for center detail\n",
    "    ax3 = fig.add_subplot(gs[0,4:])\n",
    "\n",
    "def read_kepler_curve(Q8,index):\n",
    "    \"\"\"\n",
    "    Given the path of a fits file, this will extract the light curve and normalize it.\n",
    "    \"\"\"\n",
    "    file = Q8.fitsDir+Q8.filesSample[index]\n",
    "    print(index,file)\n",
    "    lc = pyfits.getdata(file)\n",
    "    t = lc.field('TIME')\n",
    "    f = lc.field('PDCSAP_FLUX')\n",
    "    err = lc.field('PDCSAP_FLUX_ERR')\n",
    "\n",
    "    err = err[np.isfinite(t)]\n",
    "    f = f[np.isfinite(t)]\n",
    "    t = t[np.isfinite(t)]\n",
    "    err = err[np.isfinite(f)]\n",
    "    t = t[np.isfinite(f)]\n",
    "    f = f[np.isfinite(f)]\n",
    "    err = err/np.median(f)\n",
    "    nf = f / np.median(f)\n",
    "\n",
    "    return t, nf, err\n",
    "    \n",
    "def distance(point, event):\n",
    "    \"\"\"Return distance between mouse position and given data point\n",
    "\n",
    "    Args:\n",
    "        point (np.array): np.array of shape (3,), with x,y,z in data coords\n",
    "        event (MouseEvent): mouse event (which contains mouse position in .x and .xdata)\n",
    "    Returns:\n",
    "        distance (np.float64): distance (in screen coords) between mouse pos and data point\n",
    "    \"\"\"\n",
    "    assert point.shape == (2,), \"distance: point.shape is wrong: %s, must be (2,)\" % point.shape\n",
    "    x2,y2 = ax.transData.transform((point[0],point[1]))\n",
    "\n",
    "    return np.sqrt ((x2 - event.x)**2 + (y2 - event.y)**2)\n",
    "\n",
    "def calcClosestDatapoint(XT, event):\n",
    "    \"\"\"Calculate which data point is closest to the mouse position.\n",
    "\n",
    "    Args:\n",
    "        XT (np.array) - array of points, of shape (numPoints, 2)\n",
    "        event (MouseEvent) - mouse event (containing mouse position)\n",
    "    Returns:\n",
    "        smallestIndex (int) - the index (into the array of points X) of the element closest to the mouse position\n",
    "    \"\"\"\n",
    "    distances = [distance (XT[:,i], event) for i in range(XT.shape[1])]\n",
    "\n",
    "    return np.argmin(distances)\n",
    "\n",
    "def drawData(index):\n",
    "    # Plots the lightcurve of the point chosen\n",
    "    ax2.cla()\n",
    "\n",
    "    t,nf,err=read_kepler_curve(Q8,index)\n",
    "\n",
    "    x=t\n",
    "    y=nf\n",
    "\n",
    "    axrange=0.55*(max(y)-min(y))\n",
    "    mid=(max(y)+min(y))/2\n",
    "    yaxmin = mid-axrange\n",
    "    yaxmax = mid+axrange\n",
    "    if yaxmin < .95:\n",
    "        if yaxmax > 1.05:\n",
    "            ax2.set_ylim(yaxmin,yaxmax)\n",
    "        else:\n",
    "            ax2.set_ylim(yaxmin,1.05)\n",
    "    elif yaxmax > 1.05:\n",
    "        ax2.set_ylim(.95,yaxmax)\n",
    "    else:\n",
    "        ax2.set_ylim(.95,1.05)\n",
    "\n",
    "    if files[index] in files_cluster:\n",
    "        color = 'blue'\n",
    "    else:\n",
    "        color = 'red'\n",
    "    ax2.plot(x, y, 'o',markeredgecolor='none', c=color, alpha=0.2)\n",
    "    ax2.plot(x, y, '-',markeredgecolor='none', c=color, alpha=0.7)\n",
    "    #ax2.set_title(files[index][:13],fontsize = 20)\n",
    "    ax2.set_xlabel('Time (Days)',fontsize=22)\n",
    "    ax2.set_ylabel(r'$\\frac{\\Delta F}{F}$',fontsize=30)\n",
    "\n",
    "    fig.suptitle(files[index][:13],fontsize=30)\n",
    "\n",
    "    canvas.draw()\n",
    "\n",
    "def annotatePt(XT, index):\n",
    "    \"\"\"Create popover label in 3d chart\n",
    "\n",
    "    Args:\n",
    "        X (np.array) - array of points, of shape (numPoints, 3)\n",
    "        index (int) - index (into points array X) of item which should be printed\n",
    "    Returns:\n",
    "        None\n",
    "    \"\"\"\n",
    "    x2, y2 = XT[index][0], XT[index][1]\n",
    "    # Either update the position, or create the annotation\n",
    "    if hasattr(annotatePt, 'label'):\n",
    "        annotatePt.label.remove()\n",
    "        annotatePt.emph.remove()\n",
    "    if hasattr(annotatePt, 'emphCD'):\n",
    "        annotatePt.emphCD.remove()\n",
    "\n",
    "    # Get data point from array of points X, at position index\n",
    "    annotatePt.label = ax.annotate( \"\",\n",
    "        xy = (x2, y2), xytext = (x2+10, y2+10),\n",
    "        arrowprops = dict(headlength=20,headwidth=20,width=6,shrink=.1,color='red'))\n",
    "    annotatePt.emph = ax.scatter(x2,y2,marker='o',s=50,c='red')\n",
    "    if files[index] in files_cluster:\n",
    "        annotatePt.emphCD = ax3.scatter(x2,y2,marker='o',s=150,c='red')\n",
    "    else:\n",
    "        annotatePt.emphCD = ax.scatter(x2,y2,marker='o',s=50,c='red')\n",
    "    canvas.draw()\n",
    "\n",
    "\n",
    "def onMouseClick(event, X):\n",
    "    \"\"\"Event that is triggered when mouse is clicked. Shows lightcurve for data point closest to mouse.\"\"\"\n",
    "    XT = np.array(X.T) # array organized by feature, each in it's own array\n",
    "    closestIndex = calcClosestDatapoint(XT, event)\n",
    "    drawData(closestIndex)\n",
    "\n",
    "def onMouseRelease(event, X):\n",
    "    XT = np.array(X.T)\n",
    "    closestIndex = calcClosestDatapoint(XT, event)\n",
    "    annotatePt(X,closestIndex)\n",
    "    #for centerIndex in centerIndices:\n",
    "    #    annotateCenter(XT,centerIndex)\n",
    "\n",
    "def connect(X):\n",
    "    if hasattr(connect,'cidpress'):\n",
    "        fig.canvas.mpl_disconnect(connect.cidpress)\n",
    "    if hasattr(connect,'cidrelease'):\n",
    "        fig.canvas.mpl_disconnect(connect.cidrelease)\n",
    "\n",
    "    connect.cidpress = fig.canvas.mpl_connect('button_press_event', lambda event: onMouseClick(event,X))\n",
    "    connect.cidrelease = fig.canvas.mpl_connect('button_release_event', lambda event: onMouseRelease(event, X))\n",
    "\n",
    "def redraw():       \n",
    "    # Clear the existing plots\n",
    "    ax.cla()\n",
    "    ax2.cla()\n",
    "    ax3.cla()\n",
    "    # Set those labels\n",
    "    ax.set_xlabel(\"T-SNE X\",fontsize=18)\n",
    "    ax.set_ylabel(\"T-SNE Y\",fontsize=18)\n",
    "    # Scatter the data\n",
    "    ax.scatter(outX, outY,c=\"black\",s=30,cmap='jet')\n",
    "\n",
    "    ax.hexbin(clusterX,clusterY,mincnt=5,bins=\"log\",cmap=\"inferno\",gridsize=35)\n",
    "    hb = ax3.hexbin(clusterX,clusterY,mincnt=5,bins=\"log\",cmap=\"inferno\",gridsize=35)\n",
    "    cb = fig.colorbar(hb)\n",
    "    \"\"\"\n",
    "    ax.scatter(clusterX,clusterY,s=30,c='g')\n",
    "    ax3.scatter(clusterX,clusterY)\n",
    "    \"\"\"\n",
    "    ax3.set_title(\"Center Density Detail\")\n",
    "    ax3.set_xlabel(\"T-SNE X\",fontsize=18)\n",
    "    ax3.set_ylabel(\"T-SNE Y\",fontsize=18)\n",
    "\n",
    "    #for centerIndex in centerIndices:\n",
    "    #    annotateCenter(currentData1,centerIndex)\n",
    "\n",
    "    if hasattr(redraw,'cidenter'):\n",
    "            fig.canvas.mpl_disconnect(redraw.cidenter)\n",
    "            fig.canvas.mpl_disconnect(redraw.cidexit)\n",
    "    connect(data)\n",
    "\n",
    "    annotatePt(data,tabbyInd)\n",
    "\n",
    "    drawData(tabbyInd)\n",
    "    #fig.savefig('Plots/Q16_PCA_kmeans/Tabby.png')\n",
    "    canvas.draw()\n",
    "    canvas.show()\n",
    "print(\"Plotting.\")\n",
    "redraw()\n",
    "\n",
    "def _delete_window():\n",
    "    print(\"window closed.\")\n",
    "    root.destroy()\n",
    "    sys.exit()\n",
    "\n",
    "root.protocol(\"WM_DELETE_WINDOW\",_delete_window)\n",
    "root.mainloop()"
   ]
  },
  {
   "cell_type": "code",
   "execution_count": 124,
   "metadata": {},
   "outputs": [
    {
     "data": {
      "text/plain": [
       "[<matplotlib.lines.Line2D at 0x7efcaa43f6d0>]"
      ]
     },
     "execution_count": 124,
     "metadata": {},
     "output_type": "execute_result"
    },
    {
     "data": {
      "image/png": "[encoded data removed]",
      "text/plain": [
       "<matplotlib.figure.Figure at 0x7efca9abe450>"
      ]
     },
     "metadata": {},
     "output_type": "display_data"
    }
   ],
   "source": [
    "import pyfits\n",
    "def read_kepler_curve(file):\n",
    "    \"\"\"\n",
    "    Given the path of a fits file, this will extract the light curve and normalize it.\n",
    "    \"\"\"\n",
    "\n",
    "    lc = pyfits.getdata(file)\n",
    "    t = lc.field('TIME')\n",
    "    f = lc.field('PDCSAP_FLUX')\n",
    "    err = lc.field('PDCSAP_FLUX_ERR')\n",
    "\n",
    "    err = err[np.isfinite(t)]\n",
    "    f = f[np.isfinite(t)]\n",
    "    t = t[np.isfinite(t)]\n",
    "    err = err[np.isfinite(f)]\n",
    "    t = t[np.isfinite(f)]\n",
    "    f = f[np.isfinite(f)]\n",
    "    err = err/np.median(f)\n",
    "    nf = f / np.median(f)\n",
    "\n",
    "    return t, nf, err\n",
    "\n",
    "tabbyID = Q8.dataSample[Q8.dataSample.index.str.contains('8462852')].index[0]\n",
    "fitsDir = \"/home/dgiles/Documents/KeplerLCs/fitsFiles/Q8fitsfiles/\"\n",
    "tabby_path = fitsDir+tabbyID\n",
    "\n",
    "t,nf,err = read_kepler_curve(tabby_path)\n",
    "plt.plot(t,nf)"
   ]
  },
  {
   "cell_type": "code",
   "execution_count": null,
   "metadata": {
    "collapsed": true
   },
   "outputs": [],
   "source": [
    "\n"
   ]
  }
 ],
 "metadata": {
  "anaconda-cloud": {},
  "kernelspec": {
   "display_name": "Python 2",
   "language": "python",
   "name": "python2"
  },
  "language_info": {
   "codemirror_mode": {
    "name": "ipython",
    "version": 2
   },
   "file_extension": ".py",
   "mimetype": "text/x-python",
   "name": "python",
   "nbconvert_exporter": "python",
   "pygments_lexer": "ipython2",
   "version": "2.7.11"
  }
 },
 "nbformat": 4,
 "nbformat_minor": 2
}
