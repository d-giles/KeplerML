{
 "cells": [
  {
   "cell_type": "code",
   "execution_count": 7,
   "metadata": {},
   "outputs": [],
   "source": [
    "import numpy as np\n",
    "import pandas as pd\n",
    "import sys\n",
    "\n",
    "sys.path.append('python')\n",
    "from clusterOutliers import clusterOutliers as coo"
   ]
  },
  {
   "cell_type": "code",
   "execution_count": 5,
   "metadata": {},
   "outputs": [],
   "source": [
    "def make_sampler(inds=['8462852']): \n",
    "    \"\"\"\n",
    "    Args:\n",
    "        inds (Array of strings) - array of indices, as identifying strings, to be pulled from a data frame, \n",
    "                                  can be with or without kplr prefix\n",
    "    Returns:\n",
    "        Function that will pull the data, indicated by inds, from a dataframe df \n",
    "        \n",
    "    Useful to generate samples across quarters with common sources where data is contained as a \n",
    "    Pandas dataframe, with indices set to be identifying labels (i.e. kplr008462852)\n",
    "    \n",
    "    To use:\n",
    "        Define array containing IDs of sources of interest as strings\n",
    "        Define a sample generator by calling make_sampler(inds=Array of string IDs)\n",
    "        Generate dataframe by calling new function.\n",
    "\n",
    "    Example:\n",
    "    tabby_sample = make_sampler(inds=['8462852'])\n",
    "    Q4_sample = tabby_sample(Q4.data)\n",
    "    Q8_sample = tabby_sample(Q8.data)\n",
    "    etc.\n",
    "    \"\"\"\n",
    "    return lambda df: df[df.index.str.contains('|'.join(inds))]\n",
    "\n",
    "def import_generator(suffix='_FullSample.csv',\n",
    "                     filepath=\"/home/dgiles/Documents/KeplerLCs/output/\",\n",
    "                    fits_files_directory=\"/home/dgiles/Documents/KeplerLCs/fitsFiles/\"):\n",
    "    \"\"\"\n",
    "    Args:\n",
    "        suffix (str) - the suffix of the file to be imported\n",
    "        filepath (optional, str) - filepath to the file to be imported\n",
    "        fits_files_directory (optional, str) - path to the directory containing the fits files\n",
    "        \n",
    "    Returns:\n",
    "        lambda function that with single str input of the prefix, typically a Q#.\n",
    "    \n",
    "    Use:\n",
    "        Enables simpler import of multiple quarters of data contained \n",
    "        in the same location with the same suffixes.\n",
    "    \n",
    "    Requirements: \n",
    "    import sys\n",
    "    sys.path.append('python')\n",
    "    from clusterOutliers import clusterOutliers as coo\n",
    "    \"\"\"\n",
    "    return lambda QN: coo(filepath+QN+suffix,fits_files_directory+QN+\"fitsfiles\")"
   ]
  },
  {
   "cell_type": "code",
   "execution_count": 8,
   "metadata": {},
   "outputs": [],
   "source": [
    "import_quarter = import_generator(suffix=\"_FullSample.csv\")\n",
    "#qs = ['Q4','Q8','Q11','Q16']\n",
    "#PCA_folder = \"/home/dgiles/Documents/KeplerLCs/output/PCA_reductions/\"\n",
    "#paper_qs = dict(zip(qs,[import_quarter(Q) for Q in qs]))\n",
    "Q4p = import_quarter('Q4')"
   ]
  },
  {
   "cell_type": "code",
   "execution_count": 46,
   "metadata": {},
   "outputs": [],
   "source": [
    "ebs_list = list(np.genfromtxt('list_EBs.csv',delimiter=',',dtype=str)[:,0])"
   ]
  },
  {
   "cell_type": "code",
   "execution_count": 47,
   "metadata": {},
   "outputs": [
    {
     "data": {
      "text/plain": [
       "['3863594',\n",
       " '10417986',\n",
       " '8912468',\n",
       " '8758716',\n",
       " '10855535',\n",
       " '9472174',\n",
       " '9612468',\n",
       " '6613627',\n",
       " '5302006',\n",
       " '9898401']"
      ]
     },
     "execution_count": 47,
     "metadata": {},
     "output_type": "execute_result"
    }
   ],
   "source": [
    "list(ebs_list)[:10]"
   ]
  },
  {
   "cell_type": "code",
   "execution_count": 49,
   "metadata": {},
   "outputs": [],
   "source": [
    "eb_sampler = make_sampler(ebs_list)\n",
    "Q4_ebs = eb_sampler(Q4p.data)"
   ]
  },
  {
   "cell_type": "code",
   "execution_count": 57,
   "metadata": {},
   "outputs": [
    {
     "name": "stdout",
     "output_type": "stream",
     "text": [
      "\n",
      "Of 2187 eclipsing binaries identified in the kepler field, 1673 (76.50%) are found to be outliers.\n",
      "\n"
     ]
    }
   ],
   "source": [
    "print(\"\"\"\n",
    "Of {} eclipsing binaries identified in the kepler field, {} ({:05.2f}%) are found to be outliers.\n",
    "\"\"\".format(len(Q4_ebs),len(Q4_ebs[Q4_ebs.db_out==-1]),100*len(Q4_ebs[Q4_ebs.db_out==-1])/len(Q4_ebs)))"
   ]
  },
  {
   "cell_type": "code",
   "execution_count": null,
   "metadata": {},
   "outputs": [],
   "source": [
    "koi_list = list(np.genfromtxt('list_koi_full.txt',delimiter=',',dtype=str)[:,0])\n",
    "koi_sampler = make_sampler(koi_list)\n",
    "Q4_koi = koi_sampler(Q4p.data)\n",
    "print(\"\"\"\n",
    "Of {} KOIs, {} ({:05.2f}%) are found to be outliers.\n",
    "\"\"\".format(len(Q4_koi),len(Q4_koi[Q4_koi.db_out==-1]),100*len(Q4_koi[Q4_koi.db_out==-1])/len(Q4_koi)))"
   ]
  },
  {
   "cell_type": "code",
   "execution_count": 59,
   "metadata": {},
   "outputs": [
    {
     "name": "stdout",
     "output_type": "stream",
     "text": [
      "\n",
      "Of 6856 KOIs, 1243 (18.13%) are found to be outliers.\n",
      "\n"
     ]
    }
   ],
   "source": [
    "print(\"\"\"\n",
    "Of {} KOIs, {} ({:05.2f}%) are found to be outliers.\n",
    "\"\"\".format(len(Q4_koi),len(Q4_koi[Q4_koi.db_out==-1]),100*len(Q4_koi[Q4_koi.db_out==-1])/len(Q4_koi)))"
   ]
  },
  {
   "cell_type": "code",
   "execution_count": 60,
   "metadata": {},
   "outputs": [
    {
     "name": "stdout",
     "output_type": "stream",
     "text": [
      "\n",
      "Of 1399 KOIs, 94 (06.72%) are found to be outliers.\n",
      "\n"
     ]
    }
   ],
   "source": [
    "koi_list = list(np.genfromtxt('list_koi_confirmed.txt',delimiter=',',dtype=str)[:,0])\n",
    "koi_sampler = make_sampler(koi_list)\n",
    "Q4_koi = koi_sampler(Q4p.data)\n",
    "print(\"\"\"\n",
    "Of {} KOIs, {} ({:05.2f}%) are found to be outliers.\n",
    "\"\"\".format(len(Q4_koi),len(Q4_koi[Q4_koi.db_out==-1]),100*len(Q4_koi[Q4_koi.db_out==-1])/len(Q4_koi)))"
   ]
  },
  {
   "cell_type": "code",
   "execution_count": 61,
   "metadata": {},
   "outputs": [
    {
     "name": "stdout",
     "output_type": "stream",
     "text": [
      "\n",
      "Of 1765 KOIs, 85 (04.82%) are found to be outliers.\n",
      "\n"
     ]
    }
   ],
   "source": [
    "koi_list = list(np.genfromtxt('list_koi_candidate.txt',delimiter=',',dtype=str)[:,0])\n",
    "koi_sampler = make_sampler(koi_list)\n",
    "Q4_koi = koi_sampler(Q4p.data)\n",
    "print(\"\"\"\n",
    "Of {} KOIs, {} ({:05.2f}%) are found to be outliers.\n",
    "\"\"\".format(len(Q4_koi),len(Q4_koi[Q4_koi.db_out==-1]),100*len(Q4_koi[Q4_koi.db_out==-1])/len(Q4_koi)))"
   ]
  },
  {
   "cell_type": "code",
   "execution_count": 63,
   "metadata": {},
   "outputs": [
    {
     "data": {
      "text/plain": [
       "Index(['kplr001026957', 'kplr001161345', 'kplr001293379', 'kplr001429589',\n",
       "       'kplr001431122', 'kplr001432789', 'kplr001575873', 'kplr001717722',\n",
       "       'kplr001718958', 'kplr001721157'],\n",
       "      dtype='object', name='KID')"
      ]
     },
     "execution_count": 63,
     "metadata": {},
     "output_type": "execute_result"
    }
   ],
   "source": [
    "Q4_koi.index[:10]"
   ]
  },
  {
   "cell_type": "code",
   "execution_count": null,
   "metadata": {},
   "outputs": [],
   "source": []
  }
 ],
 "metadata": {
  "kernelspec": {
   "display_name": "Python 3",
   "language": "python",
   "name": "python3"
  },
  "language_info": {
   "codemirror_mode": {
    "name": "ipython",
    "version": 3
   },
   "file_extension": ".py",
   "mimetype": "text/x-python",
   "name": "python",
   "nbconvert_exporter": "python",
   "pygments_lexer": "ipython3",
   "version": "3.6.2"
  }
 },
 "nbformat": 4,
 "nbformat_minor": 2
}
