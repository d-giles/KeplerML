{
 "cells": [
  {
   "cell_type": "markdown",
   "metadata": {},
   "source": [
    "This notebook seeks to explore the utility of dimensionality reduction with PCA prior to clustering. At the time of this writing, this notebook considers 3 levels of variance explained: 90%, 95%, and 99%. \n",
    "Aside from the reduction we will process the data in the same way as previously done. We will scale the data using sklearn's standardScaler and cluster the data using the method clusterOutliers.db_out.\n",
    "We will compare these reductions to the clustering done on the "
   ]
  },
  {
   "cell_type": "code",
   "execution_count": null,
   "metadata": {},
   "outputs": [],
   "source": []
  },
  {
   "cell_type": "code",
   "execution_count": 88,
   "metadata": {
    "collapsed": true
   },
   "outputs": [],
   "source": [
    "# Some standard imports for math and data handling\n",
    "import numpy as np\n",
    "np.set_printoptions(threshold=sys.maxsize)\n",
    "import pandas as pd\n",
    "from scipy import stats\n",
    "\n",
    "# Imports for processing specific to this workbook\n",
    "from sklearn.decomposition import PCA\n",
    "from sklearn import preprocessing\n",
    "from datetime import datetime\n",
    "\n",
    "# Import the custom code developed for this work\n",
    "import sys\n",
    "sys.path.append('python')\n",
    "from clusterOutliers import clusterOutliers as coo"
   ]
  },
  {
   "cell_type": "code",
   "execution_count": 50,
   "metadata": {
    "collapsed": true
   },
   "outputs": [],
   "source": [
    "def import_quarter(QN='Q4'):\n",
    "    # Import the dataframe containing the data\n",
    "    featCSV = \"/home/dgiles/Documents/KeplerLCs/output/\"+QN+\"_FullSample.csv\" # Path to csv containing feature data (should be a pandas dataframe saved as a csv)\n",
    "    fitsDir = \"/home/dgiles/Documents/KeplerLCs/fitsFiles/\"+QN+\"fitsfiles\" # path to fits files folder\n",
    "    return coo(featCSV,fitsDir)\n",
    "\n",
    "Q4 = import_quarter('Q4')\n",
    "Q8 = import_quarter('Q8')\n",
    "Q11 = import_quarter('Q11')\n",
    "Q16 = import_quarter('Q16')"
   ]
  },
  {
   "cell_type": "code",
   "execution_count": 4,
   "metadata": {},
   "outputs": [
    {
     "name": "stdout",
     "output_type": "stream",
     "text": [
      "Index(['db_out', 'pca_x', 'pca_y', 'db_cluster', 'exc_labels'], dtype='object')\n"
     ]
    }
   ],
   "source": [
    "# Check what's in the data\n",
    "print(Q4.data.columns[60:])"
   ]
  },
  {
   "cell_type": "markdown",
   "metadata": {},
   "source": [
    "* db_out - cluster designation made earlier by this work (based on DBSCAN, but focused on outliers. Only has 3 designations.)\n",
    "* pca_x - 1st dimension of a 2D PCA reduction\n",
    "* pca_y - 2nd dimension of a 2D PCA reduction\n",
    "* db_cluster - Actual DBSCAN cluster identifier\n",
    "* exc_labels - Labels for each object as to whether they are outliers in a single quarter, multiple quarters, or all quarters. "
   ]
  },
  {
   "cell_type": "code",
   "execution_count": 46,
   "metadata": {
    "collapsed": true
   },
   "outputs": [],
   "source": [
    "def dataScaler(qdf):\n",
    "    \"\"\"\n",
    "    Data scaler for this work, returns a dataframe w/ scaled features\n",
    "    \"\"\"\n",
    "    data = qdf.iloc[:,0:60]\n",
    "    scaler = preprocessing.StandardScaler().fit(data)\n",
    "    scaled_data = scaler.transform(data)\n",
    "    scaled_df = pd.DataFrame(index=qdf.index,\\\n",
    "                             columns=qdf.columns[:60],\\\n",
    "                             data=scaled_data)\n",
    "    return scaled_df"
   ]
  },
  {
   "cell_type": "code",
   "execution_count": 47,
   "metadata": {
    "collapsed": true
   },
   "outputs": [],
   "source": [
    "def pca_red(data,scaled=False,var_rat=0.9):\n",
    "    \"\"\"\n",
    "    Returns a pca reduction of the given data that explains a\n",
    "    given fraction of the variance.\n",
    "    Args:\n",
    "        data (pandas dataframe) - the data to be reduced\n",
    "        var_rat (float between 0 and 1) - the ratio of variance to be \n",
    "            explained by the transformed data\n",
    "            \n",
    "    Returns:\n",
    "        reduced_data - numpy array of reduced data\n",
    "        prints the number of dimensions and the explained variance\n",
    "    \"\"\"\n",
    "    if scaled:\n",
    "        scaled_data = data\n",
    "    else:\n",
    "        print(\"Scaling data using StandardScaler...\")\n",
    "        scaled_data = dataScaler(data)\n",
    "\n",
    "    print(\"Finding minimum number of dimensions to explain {:04.1f}% of the variance...\".format(var_rat*100))\n",
    "    \n",
    "    for i in range(60):\n",
    "        pca = PCA(n_components=i)\n",
    "        pca.fit(scaled_data)\n",
    "        if sum(pca.explained_variance_ratio_) >= var_rat:\n",
    "            break\n",
    "    print(\"\"\"\n",
    "    Dimensions: {:d},\n",
    "    Variance explained: {:04.1f}%\n",
    "    \"\"\".format(i,sum(pca.explained_variance_ratio_)*100))\n",
    "    reduced_data = pd.DataFrame(index=data.index, \\\n",
    "                                data=pca.transform(scaled_data))\n",
    "    return reduced_data\n"
   ]
  },
  {
   "cell_type": "markdown",
   "metadata": {},
   "source": [
    "# Reductions and Clustering"
   ]
  },
  {
   "cell_type": "markdown",
   "metadata": {},
   "source": [
    "## Quarter 4"
   ]
  },
  {
   "cell_type": "code",
   "execution_count": 97,
   "metadata": {
    "collapsed": true
   },
   "outputs": [
    {
     "name": "stdout",
     "output_type": "stream",
     "text": [
      "PCA Reduction explaining 90% of the variance:\n",
      "Scaling data using StandardScaler...\n",
      "Finding minimum number of dimensions to explain 90.0% of the variance...\n",
      "\n",
      "    Dimensions: 18,\n",
      "    Variance explained: 90.5%\n",
      "    \n",
      "Time to reduce: 0:00:13.124157\n",
      "PCA Reduction explaining 95% of the variance:\n",
      "Scaling data using StandardScaler...\n",
      "Finding minimum number of dimensions to explain 95.0% of the variance...\n",
      "\n",
      "    Dimensions: 23,\n",
      "    Variance explained: 95.1%\n",
      "    \n",
      "Time to reduce: 0:00:19.107702\n",
      "PCA Reduction explaining 99% of the variance:\n",
      "Scaling data using StandardScaler...\n",
      "Finding minimum number of dimensions to explain 99.0% of the variance...\n",
      "\n",
      "    Dimensions: 35,\n",
      "    Variance explained: 99.1%\n",
      "    \n",
      "Time to reduce: 0:00:39.758400\n"
     ]
    }
   ],
   "source": [
    "# Only want to scale the feature data generated by keplerml.py\n",
    "data_tbs = Q4.data.iloc[:,0:60]\n",
    "reds = dict()\n",
    "for i,vr in enumerate([0.9,0.95,0.99]):\n",
    "    print(\"PCA Reduction explaining {:02.0f}% of the variance:\".format(vr*100))\n",
    "    start = datetime.now()\n",
    "    reds[i] = pca_red(data_tbs, var_rat=vr)\n",
    "    print(\"Time to reduce: {}\".format(datetime.now()-start))\n",
    "    print(\"\")"
   ]
  },
  {
   "cell_type": "code",
   "execution_count": 102,
   "metadata": {
    "collapsed": true
   },
   "outputs": [
    {
     "name": "stdout",
     "output_type": "stream",
     "text": [
      "Estimating Parameters...\n",
      "Sampling data for parameter estimation...\n",
      "Calculating nearest neighbor distances...\n",
      "Finding elbow...\n",
      "\n",
      "        Epsilon is in the neighborhood of 04.04.\n",
      "        \n",
      "Scaling density...\n",
      "Clustering data with DBSCAN, eps=04.04,min_samples=59.9156...\n"
     ]
    },
    {
     "name": "stderr",
     "output_type": "stream",
     "text": [
      "/home/dgiles/anaconda/envs/py36/lib/python3.6/site-packages/sklearn/externals/joblib/parallel.py:131: VisibleDeprecationWarning: using a non-integer number instead of an integer will result in an error in the future\n",
      "  return [func(*args, **kwargs) for func, args, kwargs in self.items]\n",
      "python/db_outliers.py:112: VisibleDeprecationWarning: using a non-integer number instead of an integer will result in an error in the future\n",
      "  distArr = distances[:,min_n]    #this should be calculated before eps_est and fed in, it's\n"
     ]
    },
    {
     "name": "stdout",
     "output_type": "stream",
     "text": [
      "There were 2 clusters and 3216 total outliers\n",
      "Time to cluster: 0:05:05.053670\n",
      "Estimating Parameters...\n",
      "Sampling data for parameter estimation...\n",
      "Calculating nearest neighbor distances...\n",
      "Finding elbow...\n",
      "\n",
      "        Epsilon is in the neighborhood of 03.83.\n",
      "        \n",
      "Scaling density...\n",
      "Clustering data with DBSCAN, eps=03.83,min_samples=59.9156...\n",
      "There were 2 clusters and 4203 total outliers\n",
      "Time to cluster: 0:05:09.315667\n",
      "Estimating Parameters...\n",
      "Sampling data for parameter estimation...\n",
      "Calculating nearest neighbor distances...\n",
      "Finding elbow...\n",
      "\n",
      "        Epsilon is in the neighborhood of 05.13.\n",
      "        \n",
      "Scaling density...\n",
      "Clustering data with DBSCAN, eps=05.13,min_samples=59.9156...\n",
      "There were 2 clusters and 3203 total outliers\n",
      "Time to cluster: 0:07:33.823373\n"
     ]
    }
   ],
   "source": [
    "for k in reds:\n",
    "    start = datetime.now()\n",
    "    out_labels = Q4.db_out(df=reds[k])\n",
    "    reds[k]['db_out']=out_labels\n",
    "    print(\"Time to cluster: {}\".format(datetime.now()-start))"
   ]
  },
  {
   "cell_type": "code",
   "execution_count": 105,
   "metadata": {
    "collapsed": true
   },
   "outputs": [],
   "source": [
    "PCA_folder = \"/home/dgiles/Documents/KeplerLCs/output/PCA_reductions/\""
   ]
  },
  {
   "cell_type": "code",
   "execution_count": 104,
   "metadata": {
    "collapsed": true
   },
   "outputs": [],
   "source": [
    "reds[0].to_csv(PCA_folder+\"Q4_PCA90\")\n",
    "reds[1].to_csv(PCA_folder+\"Q4_PCA95\")\n",
    "reds[2].to_csv(PCA_folder+\"Q4_PCA99\")"
   ]
  },
  {
   "cell_type": "code",
   "execution_count": 109,
   "metadata": {
    "collapsed": true
   },
   "outputs": [],
   "source": [
    "QN=\"Q4\"\n",
    "fitsDir = \"/home/dgiles/Documents/KeplerLCs/fitsFiles/\"+QN+\"fitsfiles\"\n",
    "Q4_pca90 = coo(feats=PCA_folder+QN+\"_PCA90\",fitsDir=fitsDir)\n",
    "Q4_pca95 = coo(feats=PCA_folder+QN+\"_PCA95\",fitsDir=fitsDir)\n",
    "Q4_pca99 = coo(feats=PCA_folder+QN+\"_PCA99\",fitsDir=fitsDir)"
   ]
  },
  {
   "cell_type": "markdown",
   "metadata": {},
   "source": [
    "## Quarter 8"
   ]
  },
  {
   "cell_type": "code",
   "execution_count": 111,
   "metadata": {
    "collapsed": true
   },
   "outputs": [
    {
     "name": "stdout",
     "output_type": "stream",
     "text": [
      "PCA Reduction explaining 90% of the variance:\n",
      "Scaling data using StandardScaler...\n",
      "Finding minimum number of dimensions to explain 90.0% of the variance...\n",
      "\n",
      "    Dimensions: 18,\n",
      "    Variance explained: 90.7%\n",
      "    \n",
      "Time to reduce: 0:00:14.487903\n",
      "\n",
      "Estimating Parameters...\n",
      "Sampling data for parameter estimation...\n",
      "Calculating nearest neighbor distances...\n",
      "Finding elbow...\n",
      "\n",
      "        Epsilon is in the neighborhood of 04.07.\n",
      "        \n",
      "Scaling density...\n",
      "Clustering data with DBSCAN, eps=04.07,min_samples=59.9156...\n"
     ]
    },
    {
     "name": "stderr",
     "output_type": "stream",
     "text": [
      "/home/dgiles/anaconda/envs/py36/lib/python3.6/site-packages/sklearn/externals/joblib/parallel.py:131: VisibleDeprecationWarning: using a non-integer number instead of an integer will result in an error in the future\n",
      "  return [func(*args, **kwargs) for func, args, kwargs in self.items]\n",
      "python/db_outliers.py:112: VisibleDeprecationWarning: using a non-integer number instead of an integer will result in an error in the future\n",
      "  distArr = distances[:,min_n]    #this should be calculated before eps_est and fed in, it's\n"
     ]
    },
    {
     "name": "stdout",
     "output_type": "stream",
     "text": [
      "There were 2 clusters and 3475 total outliers\n",
      "Time to cluster: 0:05:40.626828\n",
      "    Total time to process: 0:05:55.115283\n",
      "\n",
      "PCA Reduction explaining 95% of the variance:\n",
      "Scaling data using StandardScaler...\n",
      "Finding minimum number of dimensions to explain 95.0% of the variance...\n",
      "\n",
      "    Dimensions: 24,\n",
      "    Variance explained: 95.4%\n",
      "    \n",
      "Time to reduce: 0:00:21.812244\n",
      "\n",
      "Estimating Parameters...\n",
      "Sampling data for parameter estimation...\n",
      "Calculating nearest neighbor distances...\n",
      "Finding elbow...\n",
      "\n",
      "        Epsilon is in the neighborhood of 04.46.\n",
      "        \n",
      "Scaling density...\n",
      "Clustering data with DBSCAN, eps=04.46,min_samples=59.9156...\n",
      "There were 2 clusters and 3658 total outliers\n",
      "Time to cluster: 0:06:48.035085\n",
      "    Total time to process: 0:07:09.847866\n",
      "\n",
      "PCA Reduction explaining 99% of the variance:\n",
      "Scaling data using StandardScaler...\n",
      "Finding minimum number of dimensions to explain 99.0% of the variance...\n",
      "\n",
      "    Dimensions: 36,\n",
      "    Variance explained: 99.1%\n",
      "    \n",
      "Time to reduce: 0:00:40.486147\n",
      "\n",
      "Estimating Parameters...\n",
      "Sampling data for parameter estimation...\n",
      "Calculating nearest neighbor distances...\n",
      "Finding elbow...\n",
      "\n",
      "        Epsilon is in the neighborhood of 05.24.\n",
      "        \n",
      "Scaling density...\n",
      "Clustering data with DBSCAN, eps=05.24,min_samples=59.9156...\n",
      "There were 2 clusters and 3327 total outliers\n",
      "Time to cluster: 0:07:45.262471\n",
      "    Total time to process: 0:08:25.749158\n",
      "\n"
     ]
    }
   ],
   "source": [
    "# Only want to scale the feature data generated by keplerml.py\n",
    "data_tbs = Q8.data.iloc[:,0:60]\n",
    "reds = dict()\n",
    "for i,vr in enumerate([0.9,0.95,0.99]):\n",
    "    print(\"PCA Reduction explaining {:02.0f}% of the variance:\".format(vr*100))\n",
    "    rstart = datetime.now()\n",
    "    reds[i] = pca_red(data_tbs, var_rat=vr)\n",
    "    print(\"Time to reduce: {}\".format(datetime.now()-rstart))\n",
    "    print(\"\")\n",
    "    cstart = datetime.now()\n",
    "    # it doesn't matter which cluster object calls the \n",
    "    # method since the data frame to be processed is provided explicitly\n",
    "    out_labels = Q4.db_out(df=reds[i]) \n",
    "    reds[i]['db_out']=out_labels\n",
    "    print(\"\"\"Time to cluster: {}\n",
    "    Total time to process: {}\"\"\".format(datetime.now()-cstart,datetime.now()-rstart))\n",
    "    print(\"\")"
   ]
  },
  {
   "cell_type": "code",
   "execution_count": 112,
   "metadata": {
    "collapsed": true
   },
   "outputs": [],
   "source": [
    "reds[0].to_csv(PCA_folder+\"Q8_PCA90\")\n",
    "reds[1].to_csv(PCA_folder+\"Q8_PCA95\")\n",
    "reds[2].to_csv(PCA_folder+\"Q8_PCA99\")"
   ]
  },
  {
   "cell_type": "code",
   "execution_count": 113,
   "metadata": {
    "collapsed": true
   },
   "outputs": [],
   "source": [
    "QN=\"Q8\"\n",
    "fitsDir = \"/home/dgiles/Documents/KeplerLCs/fitsFiles/\"+QN+\"fitsfiles\"\n",
    "Q8_pca90 = coo(feats=PCA_folder+QN+\"_PCA90\",fitsDir=fitsDir)\n",
    "Q8_pca95 = coo(feats=PCA_folder+QN+\"_PCA95\",fitsDir=fitsDir)\n",
    "Q8_pca99 = coo(feats=PCA_folder+QN+\"_PCA99\",fitsDir=fitsDir)"
   ]
  },
  {
   "cell_type": "markdown",
   "metadata": {},
   "source": [
    "## Quarter 11"
   ]
  },
  {
   "cell_type": "code",
   "execution_count": 114,
   "metadata": {
    "collapsed": true
   },
   "outputs": [
    {
     "name": "stdout",
     "output_type": "stream",
     "text": [
      "PCA Reduction explaining 90% of the variance:\n",
      "Scaling data using StandardScaler...\n",
      "Finding minimum number of dimensions to explain 90.0% of the variance...\n",
      "\n",
      "    Dimensions: 17,\n",
      "    Variance explained: 90.8%\n",
      "    \n",
      "Time to reduce: 0:00:13.315329\n",
      "\n",
      "Estimating Parameters...\n",
      "Sampling data for parameter estimation...\n",
      "Calculating nearest neighbor distances...\n",
      "Finding elbow...\n",
      "\n",
      "        Epsilon is in the neighborhood of 03.14.\n",
      "        \n",
      "Scaling density...\n",
      "Clustering data with DBSCAN, eps=03.14,min_samples=59.9156...\n"
     ]
    },
    {
     "name": "stderr",
     "output_type": "stream",
     "text": [
      "/home/dgiles/anaconda/envs/py36/lib/python3.6/site-packages/sklearn/externals/joblib/parallel.py:131: VisibleDeprecationWarning: using a non-integer number instead of an integer will result in an error in the future\n",
      "  return [func(*args, **kwargs) for func, args, kwargs in self.items]\n",
      "python/db_outliers.py:112: VisibleDeprecationWarning: using a non-integer number instead of an integer will result in an error in the future\n",
      "  distArr = distances[:,min_n]    #this should be calculated before eps_est and fed in, it's\n"
     ]
    },
    {
     "name": "stdout",
     "output_type": "stream",
     "text": [
      "There were 2 clusters and 4712 total outliers\n",
      "Time to cluster: 0:05:45.844997\n",
      "    Total time to process: 0:05:59.160851\n",
      "\n",
      "PCA Reduction explaining 95% of the variance:\n",
      "Scaling data using StandardScaler...\n",
      "Finding minimum number of dimensions to explain 95.0% of the variance...\n",
      "\n",
      "    Dimensions: 22,\n",
      "    Variance explained: 95.1%\n",
      "    \n",
      "Time to reduce: 0:00:19.301998\n",
      "\n",
      "Estimating Parameters...\n",
      "Sampling data for parameter estimation...\n",
      "Calculating nearest neighbor distances...\n",
      "Finding elbow...\n",
      "\n",
      "        Epsilon is in the neighborhood of 04.63.\n",
      "        \n",
      "Scaling density...\n",
      "Clustering data with DBSCAN, eps=04.63,min_samples=59.9156...\n",
      "There were 2 clusters and 3217 total outliers\n",
      "Time to cluster: 0:06:34.340393\n",
      "    Total time to process: 0:06:53.643074\n",
      "\n",
      "PCA Reduction explaining 99% of the variance:\n",
      "Scaling data using StandardScaler...\n",
      "Finding minimum number of dimensions to explain 99.0% of the variance...\n",
      "\n",
      "    Dimensions: 34,\n",
      "    Variance explained: 99.1%\n",
      "    \n",
      "Time to reduce: 0:00:38.415011\n",
      "\n",
      "Estimating Parameters...\n",
      "Sampling data for parameter estimation...\n",
      "Calculating nearest neighbor distances...\n",
      "Finding elbow...\n",
      "\n",
      "        Epsilon is in the neighborhood of 05.27.\n",
      "        \n",
      "Scaling density...\n",
      "Clustering data with DBSCAN, eps=05.27,min_samples=59.9156...\n",
      "There were 2 clusters and 3074 total outliers\n",
      "Time to cluster: 0:08:31.832725\n",
      "    Total time to process: 0:09:10.247935\n",
      "\n"
     ]
    }
   ],
   "source": [
    "# Only want to scale the feature data generated by keplerml.py\n",
    "data_tbs = Q11.data.iloc[:,0:60]\n",
    "reds = dict()\n",
    "for i,vr in enumerate([0.9,0.95,0.99]):\n",
    "    print(\"PCA Reduction explaining {:02.0f}% of the variance:\".format(vr*100))\n",
    "    rstart = datetime.now()\n",
    "    reds[i] = pca_red(data_tbs, var_rat=vr)\n",
    "    print(\"Time to reduce: {}\".format(datetime.now()-rstart))\n",
    "    print(\"\")\n",
    "    cstart = datetime.now()\n",
    "    # it doesn't matter which cluster object calls the \n",
    "    # method since the data frame to be processed is provided explicitly\n",
    "    out_labels = Q4.db_out(df=reds[i]) \n",
    "    reds[i]['db_out']=out_labels\n",
    "    print(\"\"\"Time to cluster: {}\n",
    "    Total time to process: {}\"\"\".format(datetime.now()-cstart,datetime.now()-rstart))\n",
    "    print(\"\")"
   ]
  },
  {
   "cell_type": "code",
   "execution_count": 115,
   "metadata": {
    "collapsed": true
   },
   "outputs": [],
   "source": [
    "reds[0].to_csv(PCA_folder+\"Q11_PCA90\")\n",
    "reds[1].to_csv(PCA_folder+\"Q11_PCA95\")\n",
    "reds[2].to_csv(PCA_folder+\"Q11_PCA99\")"
   ]
  },
  {
   "cell_type": "code",
   "execution_count": 116,
   "metadata": {
    "collapsed": true
   },
   "outputs": [],
   "source": [
    "QN=\"Q11\"\n",
    "fitsDir = \"/home/dgiles/Documents/KeplerLCs/fitsFiles/\"+QN+\"fitsfiles\"\n",
    "Q11_pca90 = coo(feats=PCA_folder+QN+\"_PCA90\",fitsDir=fitsDir)\n",
    "Q11_pca95 = coo(feats=PCA_folder+QN+\"_PCA95\",fitsDir=fitsDir)\n",
    "Q11_pca99 = coo(feats=PCA_folder+QN+\"_PCA99\",fitsDir=fitsDir)"
   ]
  },
  {
   "cell_type": "markdown",
   "metadata": {},
   "source": [
    "## Quarter 16"
   ]
  },
  {
   "cell_type": "code",
   "execution_count": 117,
   "metadata": {
    "collapsed": true
   },
   "outputs": [
    {
     "name": "stdout",
     "output_type": "stream",
     "text": [
      "PCA Reduction explaining 90% of the variance:\n",
      "Scaling data using StandardScaler...\n",
      "Finding minimum number of dimensions to explain 90.0% of the variance...\n",
      "\n",
      "    Dimensions: 17,\n",
      "    Variance explained: 90.1%\n",
      "    \n",
      "Time to reduce: 0:00:13.144180\n",
      "\n",
      "Estimating Parameters...\n",
      "Sampling data for parameter estimation...\n",
      "Calculating nearest neighbor distances...\n",
      "Finding elbow...\n",
      "\n",
      "        Epsilon is in the neighborhood of 03.92.\n",
      "        \n",
      "Scaling density...\n",
      "Clustering data with DBSCAN, eps=03.92,min_samples=59.9156...\n"
     ]
    },
    {
     "name": "stderr",
     "output_type": "stream",
     "text": [
      "/home/dgiles/anaconda/envs/py36/lib/python3.6/site-packages/sklearn/externals/joblib/parallel.py:131: VisibleDeprecationWarning: using a non-integer number instead of an integer will result in an error in the future\n",
      "  return [func(*args, **kwargs) for func, args, kwargs in self.items]\n",
      "python/db_outliers.py:112: VisibleDeprecationWarning: using a non-integer number instead of an integer will result in an error in the future\n",
      "  distArr = distances[:,min_n]    #this should be calculated before eps_est and fed in, it's\n"
     ]
    },
    {
     "name": "stdout",
     "output_type": "stream",
     "text": [
      "There were 2 clusters and 3526 total outliers\n",
      "Time to cluster: 0:06:31.139474\n",
      "    Total time to process: 0:06:44.284192\n",
      "\n",
      "PCA Reduction explaining 95% of the variance:\n",
      "Scaling data using StandardScaler...\n",
      "Finding minimum number of dimensions to explain 95.0% of the variance...\n",
      "\n",
      "    Dimensions: 23,\n",
      "    Variance explained: 95.6%\n",
      "    \n",
      "Time to reduce: 0:00:21.149542\n",
      "\n",
      "Estimating Parameters...\n",
      "Sampling data for parameter estimation...\n",
      "Calculating nearest neighbor distances...\n",
      "Finding elbow...\n",
      "\n",
      "        Epsilon is in the neighborhood of 04.50.\n",
      "        \n",
      "Scaling density...\n",
      "Clustering data with DBSCAN, eps=04.50,min_samples=59.9156...\n",
      "There were 2 clusters and 3484 total outliers\n",
      "Time to cluster: 0:06:04.522204\n",
      "    Total time to process: 0:06:25.672290\n",
      "\n",
      "PCA Reduction explaining 99% of the variance:\n",
      "Scaling data using StandardScaler...\n",
      "Finding minimum number of dimensions to explain 99.0% of the variance...\n",
      "\n",
      "    Dimensions: 34,\n",
      "    Variance explained: 99.0%\n",
      "    \n",
      "Time to reduce: 0:00:36.888205\n",
      "\n",
      "Estimating Parameters...\n",
      "Sampling data for parameter estimation...\n",
      "Calculating nearest neighbor distances...\n",
      "Finding elbow...\n",
      "\n",
      "        Epsilon is in the neighborhood of 04.52.\n",
      "        \n",
      "Scaling density...\n",
      "Clustering data with DBSCAN, eps=04.52,min_samples=59.9156...\n",
      "There were 2 clusters and 4037 total outliers\n",
      "Time to cluster: 0:06:42.448290\n",
      "    Total time to process: 0:07:19.336811\n",
      "\n"
     ]
    }
   ],
   "source": [
    "# Only want to scale the feature data generated by keplerml.py\n",
    "data_tbs = Q16.data.iloc[:,0:60]\n",
    "reds = dict()\n",
    "for i,vr in enumerate([0.9,0.95,0.99]):\n",
    "    print(\"PCA Reduction explaining {:02.0f}% of the variance:\".format(vr*100))\n",
    "    rstart = datetime.now()\n",
    "    reds[i] = pca_red(data_tbs, var_rat=vr)\n",
    "    print(\"Time to reduce: {}\".format(datetime.now()-rstart))\n",
    "    print(\"\")\n",
    "    cstart = datetime.now()\n",
    "    # it doesn't matter which cluster object calls the \n",
    "    # method since the data frame to be processed is provided explicitly\n",
    "    out_labels = Q4.db_out(df=reds[i]) \n",
    "    reds[i]['db_out']=out_labels\n",
    "    print(\"\"\"Time to cluster: {}\n",
    "    Total time to process: {}\"\"\".format(datetime.now()-cstart,datetime.now()-rstart))\n",
    "    print(\"\")"
   ]
  },
  {
   "cell_type": "code",
   "execution_count": 118,
   "metadata": {
    "collapsed": true
   },
   "outputs": [],
   "source": [
    "reds[0].to_csv(PCA_folder+\"Q16_PCA90\")\n",
    "reds[1].to_csv(PCA_folder+\"Q16_PCA95\")\n",
    "reds[2].to_csv(PCA_folder+\"Q16_PCA99\")"
   ]
  },
  {
   "cell_type": "code",
   "execution_count": 119,
   "metadata": {
    "collapsed": true
   },
   "outputs": [],
   "source": [
    "QN=\"Q16\"\n",
    "fitsDir = \"/home/dgiles/Documents/KeplerLCs/fitsFiles/\"+QN+\"fitsfiles\"\n",
    "Q16_pca90 = coo(feats=PCA_folder+QN+\"_PCA90\",fitsDir=fitsDir)\n",
    "Q16_pca95 = coo(feats=PCA_folder+QN+\"_PCA95\",fitsDir=fitsDir)\n",
    "Q16_pca99 = coo(feats=PCA_folder+QN+\"_PCA99\",fitsDir=fitsDir)"
   ]
  },
  {
   "cell_type": "markdown",
   "metadata": {},
   "source": [
    "## Baselines"
   ]
  },
  {
   "cell_type": "code",
   "execution_count": 49,
   "metadata": {
    "scrolled": true
   },
   "outputs": [
    {
     "name": "stdout",
     "output_type": "stream",
     "text": [
      "Estimating Parameters...\n",
      "Sampling data for parameter estimation...\n",
      "Calculating nearest neighbor distances...\n",
      "Finding elbow...\n",
      "\n",
      "        Epsilon is in the neighborhood of 05.36.\n",
      "        \n",
      "Scaling density...\n",
      "Clustering data with DBSCAN, eps=05.36,min_samples=59.9156...\n"
     ]
    },
    {
     "name": "stderr",
     "output_type": "stream",
     "text": [
      "/home/dgiles/anaconda/envs/py36/lib/python3.6/site-packages/sklearn/externals/joblib/parallel.py:131: VisibleDeprecationWarning: using a non-integer number instead of an integer will result in an error in the future\n",
      "  return [func(*args, **kwargs) for func, args, kwargs in self.items]\n",
      "python/db_outliers.py:112: VisibleDeprecationWarning: using a non-integer number instead of an integer will result in an error in the future\n",
      "  distArr = distances[:,min_n]    #this should be calculated before eps_est and fed in, it's\n"
     ]
    },
    {
     "name": "stdout",
     "output_type": "stream",
     "text": [
      "There were 2 clusters and 3098 total outliers\n",
      "Time to cluster: 0:13:06.068176\n"
     ]
    }
   ],
   "source": [
    "start = datetime.now()\n",
    "scaled_data = dataScaler(Q4.data)\n",
    "Q4_base = Q4.db_out(df=scaled_data)\n",
    "print(\"Time to cluster: {}\".format(datetime.now()-start))"
   ]
  },
  {
   "cell_type": "code",
   "execution_count": null,
   "metadata": {},
   "outputs": [
    {
     "name": "stdout",
     "output_type": "stream",
     "text": [
      "Quarter 8 baseline\n"
     ]
    }
   ],
   "source": [
    "\"\"\"\n",
    "This cell did run, but connectivity issues messed up the output. \n",
    "Not sure what to do about that... The details of the clustering are lost.\n",
    "Might rerun it so that the output is explicitly included (looking back at past code\n",
    "has been a pain since I didn't save the output and have lost the calculated\n",
    "parameters in the process for past work.)\n",
    "\"\"\"\n",
    "print(\"Quarter 8 baseline\")\n",
    "start = datetime.now()\n",
    "scaled_data = dataScaler(Q8.data)\n",
    "Q8_base = Q8.db_out(df=scaled_data)\n",
    "print(\"Time to cluster: {}\".format(datetime.now()-start))\n",
    "\n",
    "print(\"Quarter 11 baseline\")\n",
    "start = datetime.now()\n",
    "scaled_data = dataScaler(Q11.data)\n",
    "Q11_base = Q11.db_out(df=scaled_data)\n",
    "print(\"Time to cluster: {}\".format(datetime.now()-start))\n",
    "\n",
    "print(\"Quarter 16 baseline\")\n",
    "start = datetime.now()\n",
    "scaled_data = dataScaler(Q16.data)\n",
    "Q16_base = Q16.db_out(df=scaled_data)\n",
    "print(\"Time to cluster: {}\".format(datetime.now()-start))"
   ]
  },
  {
   "cell_type": "code",
   "execution_count": 59,
   "metadata": {
    "scrolled": true
   },
   "outputs": [
    {
     "name": "stdout",
     "output_type": "stream",
     "text": [
      "\n",
      "Q4 Total Outliers: 3098\n",
      "Q8 Total Outliers: 4123\n",
      "Q11 Total Outliers: 3151\n",
      "Q16 Total Outliers: 4796\n",
      "\n"
     ]
    }
   ],
   "source": [
    "print(\"\"\"\n",
    "Q4 Total Outliers: {:d}\n",
    "Q8 Total Outliers: {:d}\n",
    "Q11 Total Outliers: {:d}\n",
    "Q16 Total Outliers: {:d}\n",
    "\"\"\".format(len(Q4_base[Q4_base==-1]),\n",
    "           len(Q8_base[Q8_base==-1]),\n",
    "           len(Q11_base[Q11_base==-1]),\n",
    "           len(Q16_base[Q16_base==-1])\n",
    "          )\n",
    "     )"
   ]
  },
  {
   "cell_type": "code",
   "execution_count": 124,
   "metadata": {
    "collapsed": true
   },
   "outputs": [],
   "source": [
    "# The clusterOutlier objects bring in previously calculated cluster designations\n",
    "# We have redone the clustering here in the interest of ensuring we apply\n",
    "# the same methodology throughout.\n",
    "# So we store the newly produced cluster output in 'b' versions.\n",
    "# I don't know if this is working the way I intend it to...\n",
    "Q4b = Q4\n",
    "Q4b.data['db_out']=Q4_base\n",
    "Q8b = Q8\n",
    "Q8b.data['db_out']=Q8_base\n",
    "Q11b = Q11\n",
    "Q11b.data['db_out']=Q11_base\n",
    "Q16b = Q16\n",
    "Q16b.data['db_out']=Q16_base"
   ]
  },
  {
   "cell_type": "code",
   "execution_count": 200,
   "metadata": {
    "collapsed": true
   },
   "outputs": [],
   "source": [
    "Q4.data.to_csv(PCA_folder+\"Q4_base\")\n",
    "Q8.data.to_csv(PCA_folder+\"Q8_base\")\n",
    "Q11.data.to_csv(PCA_folder+\"Q11_base\")\n",
    "Q16.data.to_csv(PCA_folder+\"Q16_base\")"
   ]
  },
  {
   "cell_type": "markdown",
   "metadata": {},
   "source": [
    "# Outlier Population Comparisons"
   ]
  },
  {
   "cell_type": "markdown",
   "metadata": {},
   "source": [
    "## Outliers In Common"
   ]
  },
  {
   "cell_type": "code",
   "execution_count": 163,
   "metadata": {
    "collapsed": true
   },
   "outputs": [],
   "source": [
    "kid_out = lambda q: q.data.index[q.data.db_out==-1]\n",
    "kid_edge = lambda q: q.data.index[q.data.db_out==1]"
   ]
  },
  {
   "cell_type": "code",
   "execution_count": 164,
   "metadata": {
    "collapsed": true
   },
   "outputs": [],
   "source": [
    "Q4a = import_quarter('Q4')\n",
    "Q8a = import_quarter('Q8')\n",
    "Q11a = import_quarter('Q11')\n",
    "Q16a = import_quarter('Q16')"
   ]
  },
  {
   "cell_type": "code",
   "execution_count": 183,
   "metadata": {
    "collapsed": true
   },
   "outputs": [],
   "source": [
    "def cluster_comparison(qd1,qd2):\n",
    "    \"\"\"\n",
    "    Comparing populations of outliers from quarter data 1 to quarter data 2\n",
    "    \"\"\"\n",
    "    \n",
    "    # outliers\n",
    "    qd1_outs = kid_out(qd1)\n",
    "    qd2_outs = kid_out(qd2)\n",
    "    outs_comm = np.intersect1d(qd1_outs,qd2_outs)\n",
    "    print(\"\"\"\n",
    "    Outliers in first set:  {:d}\n",
    "    Outliers in second set: {:d}\n",
    "    Outliers in common:     {:d}\"\"\".format(len(qd1_outs),len(qd2_outs),len(outs_comm)))    \n",
    "    \n",
    "    # edges and outliers\n",
    "    # Not doing edge-only overlap because it's a smaller population\n",
    "    # and I don't think it's as informative as the combined overlap.\n",
    "    qd1_edges = kid_edge(qd1)\n",
    "    qd1_not_core = np.append(qd1_outs,qd1_edges)\n",
    "    qd2_edges = kid_edge(qd2)\n",
    "    qd2_not_core = np.append(qd2_outs,qd2_edges)\n",
    "    not_core_comm = np.intersect1d(qd1_not_core,qd2_not_core)\n",
    "    print(\"\"\"\n",
    "    Non-core first set:  {:d}\n",
    "    Non-core second set: {:d}\n",
    "    Non-core overlap:    {:d}\n",
    "    \"\"\".format(len(qd1_not_core),len(qd2_not_core),len(not_core_comm)))"
   ]
  },
  {
   "cell_type": "code",
   "execution_count": 194,
   "metadata": {},
   "outputs": [
    {
     "name": "stdout",
     "output_type": "stream",
     "text": [
      "Quarter 4\n",
      "Paper to Baseline\n",
      "\n",
      "    Outliers in first set:  4866\n",
      "    Outliers in second set: 3098\n",
      "    Outliers in common:     3098\n",
      "\n",
      "    Non-core first set:  7255\n",
      "    Non-core second set: 4679\n",
      "    Non-core overlap:    4679\n",
      "    \n",
      "Paper to PCA 90\n",
      "\n",
      "    Outliers in first set:  4866\n",
      "    Outliers in second set: 3216\n",
      "    Outliers in common:     3216\n",
      "\n",
      "    Non-core first set:  7255\n",
      "    Non-core second set: 4848\n",
      "    Non-core overlap:    4848\n",
      "    \n",
      "Paper to PCA 95\n",
      "\n",
      "    Outliers in first set:  4866\n",
      "    Outliers in second set: 4203\n",
      "    Outliers in common:     4200\n",
      "\n",
      "    Non-core first set:  7255\n",
      "    Non-core second set: 6225\n",
      "    Non-core overlap:    6219\n",
      "    \n",
      "Paper to PCA 99\n",
      "\n",
      "    Outliers in first set:  4866\n",
      "    Outliers in second set: 3203\n",
      "    Outliers in common:     3203\n",
      "\n",
      "    Non-core first set:  7255\n",
      "    Non-core second set: 4809\n",
      "    Non-core overlap:    4809\n",
      "    \n",
      "Baseline to PCA 90\n",
      "\n",
      "    Outliers in first set:  3098\n",
      "    Outliers in second set: 3216\n",
      "    Outliers in common:     2958\n",
      "\n",
      "    Non-core first set:  4679\n",
      "    Non-core second set: 4848\n",
      "    Non-core overlap:    4476\n",
      "    \n",
      "Baseline to PCA 95\n",
      "\n",
      "    Outliers in first set:  3098\n",
      "    Outliers in second set: 4203\n",
      "    Outliers in common:     3085\n",
      "\n",
      "    Non-core first set:  4679\n",
      "    Non-core second set: 6225\n",
      "    Non-core overlap:    4654\n",
      "    \n",
      "Baseline to PCA 99\n",
      "\n",
      "    Outliers in first set:  3098\n",
      "    Outliers in second set: 3203\n",
      "    Outliers in common:     3075\n",
      "\n",
      "    Non-core first set:  4679\n",
      "    Non-core second set: 4809\n",
      "    Non-core overlap:    4639\n",
      "    \n",
      "90 to 95\n",
      "\n",
      "    Outliers in first set:  3216\n",
      "    Outliers in second set: 4203\n",
      "    Outliers in common:     3216\n",
      "\n",
      "    Non-core first set:  4848\n",
      "    Non-core second set: 6225\n",
      "    Non-core overlap:    4848\n",
      "    \n",
      "90 to 99\n",
      "\n",
      "    Outliers in first set:  3216\n",
      "    Outliers in second set: 3203\n",
      "    Outliers in common:     3022\n",
      "\n",
      "    Non-core first set:  4848\n",
      "    Non-core second set: 4809\n",
      "    Non-core overlap:    4584\n",
      "    \n",
      "95 to 99\n",
      "\n",
      "    Outliers in first set:  4203\n",
      "    Outliers in second set: 3203\n",
      "    Outliers in common:     3192\n",
      "\n",
      "    Non-core first set:  6225\n",
      "    Non-core second set: 4809\n",
      "    Non-core overlap:    4790\n",
      "    \n"
     ]
    }
   ],
   "source": [
    "print(\"Quarter 4\")\n",
    "print(\"Paper to Baseline\")\n",
    "cluster_comparison(Q4a,Q4)\n",
    "print(\"Paper to PCA 90\")\n",
    "cluster_comparison(Q4a,Q4_pca90)\n",
    "print(\"Paper to PCA 95\")\n",
    "cluster_comparison(Q4a,Q4_pca95)\n",
    "print(\"Paper to PCA 99\")\n",
    "cluster_comparison(Q4a,Q4_pca99)\n",
    "print(\"Baseline to PCA 90\")\n",
    "cluster_comparison(Q4,Q4_pca90)\n",
    "print(\"Baseline to PCA 95\")\n",
    "cluster_comparison(Q4,Q4_pca95)\n",
    "print(\"Baseline to PCA 99\")\n",
    "cluster_comparison(Q4,Q4_pca99)\n",
    "print(\"90 to 95\")\n",
    "cluster_comparison(Q4_pca90,Q4_pca95)\n",
    "print(\"90 to 99\")\n",
    "cluster_comparison(Q4_pca90,Q4_pca99)\n",
    "print(\"95 to 99\")\n",
    "cluster_comparison(Q4_pca95,Q4_pca99)"
   ]
  },
  {
   "cell_type": "code",
   "execution_count": 195,
   "metadata": {},
   "outputs": [
    {
     "name": "stdout",
     "output_type": "stream",
     "text": [
      "Quarter 8\n",
      "Paper to Baseline\n",
      "\n",
      "    Outliers in first set:  5044\n",
      "    Outliers in second set: 4123\n",
      "    Outliers in common:     4123\n",
      "\n",
      "    Non-core first set:  7554\n",
      "    Non-core second set: 6053\n",
      "    Non-core overlap:    6053\n",
      "    \n",
      "Paper to PCA 90\n",
      "\n",
      "    Outliers in first set:  5044\n",
      "    Outliers in second set: 3475\n",
      "    Outliers in common:     3475\n",
      "\n",
      "    Non-core first set:  7554\n",
      "    Non-core second set: 5125\n",
      "    Non-core overlap:    5125\n",
      "    \n",
      "Paper to PCA 95\n",
      "\n",
      "    Outliers in first set:  5044\n",
      "    Outliers in second set: 3658\n",
      "    Outliers in common:     3658\n",
      "\n",
      "    Non-core first set:  7554\n",
      "    Non-core second set: 5450\n",
      "    Non-core overlap:    5450\n",
      "    \n",
      "Paper to PCA 99\n",
      "\n",
      "    Outliers in first set:  5044\n",
      "    Outliers in second set: 3327\n",
      "    Outliers in common:     3327\n",
      "\n",
      "    Non-core first set:  7554\n",
      "    Non-core second set: 4924\n",
      "    Non-core overlap:    4924\n",
      "    \n",
      "Baseline to PCA 90\n",
      "\n",
      "    Outliers in first set:  4123\n",
      "    Outliers in second set: 3475\n",
      "    Outliers in common:     3452\n",
      "\n",
      "    Non-core first set:  6053\n",
      "    Non-core second set: 5125\n",
      "    Non-core overlap:    5098\n",
      "    \n",
      "Baseline to PCA 95\n",
      "\n",
      "    Outliers in first set:  4123\n",
      "    Outliers in second set: 3658\n",
      "    Outliers in common:     3653\n",
      "\n",
      "    Non-core first set:  6053\n",
      "    Non-core second set: 5450\n",
      "    Non-core overlap:    5445\n",
      "    \n",
      "Baseline to PCA 99\n",
      "\n",
      "    Outliers in first set:  4123\n",
      "    Outliers in second set: 3327\n",
      "    Outliers in common:     3327\n",
      "\n",
      "    Non-core first set:  6053\n",
      "    Non-core second set: 4924\n",
      "    Non-core overlap:    4924\n",
      "    \n",
      "90 to 95\n",
      "\n",
      "    Outliers in first set:  3475\n",
      "    Outliers in second set: 3658\n",
      "    Outliers in common:     3406\n",
      "\n",
      "    Non-core first set:  5125\n",
      "    Non-core second set: 5450\n",
      "    Non-core overlap:    5061\n",
      "    \n",
      "90 to 99\n",
      "\n",
      "    Outliers in first set:  3475\n",
      "    Outliers in second set: 3327\n",
      "    Outliers in common:     3202\n",
      "\n",
      "    Non-core first set:  5125\n",
      "    Non-core second set: 4924\n",
      "    Non-core overlap:    4742\n",
      "    \n",
      "95 to 99\n",
      "\n",
      "    Outliers in first set:  3658\n",
      "    Outliers in second set: 3327\n",
      "    Outliers in common:     3315\n",
      "\n",
      "    Non-core first set:  5450\n",
      "    Non-core second set: 4924\n",
      "    Non-core overlap:    4902\n",
      "    \n"
     ]
    }
   ],
   "source": [
    "print(\"Quarter 8\")\n",
    "print(\"Paper to Baseline\")\n",
    "cluster_comparison(Q8a,Q8)\n",
    "print(\"Paper to PCA 90\")\n",
    "cluster_comparison(Q8a,Q8_pca90)\n",
    "print(\"Paper to PCA 95\")\n",
    "cluster_comparison(Q8a,Q8_pca95)\n",
    "print(\"Paper to PCA 99\")\n",
    "cluster_comparison(Q8a,Q8_pca99)\n",
    "print(\"Baseline to PCA 90\")\n",
    "cluster_comparison(Q8,Q8_pca90)\n",
    "print(\"Baseline to PCA 95\")\n",
    "cluster_comparison(Q8,Q8_pca95)\n",
    "print(\"Baseline to PCA 99\")\n",
    "cluster_comparison(Q8,Q8_pca99)\n",
    "print(\"90 to 95\")\n",
    "cluster_comparison(Q8_pca90,Q8_pca95)\n",
    "print(\"90 to 99\")\n",
    "cluster_comparison(Q8_pca90,Q8_pca99)\n",
    "print(\"95 to 99\")\n",
    "cluster_comparison(Q8_pca95,Q8_pca99)"
   ]
  },
  {
   "cell_type": "code",
   "execution_count": 196,
   "metadata": {},
   "outputs": [
    {
     "name": "stdout",
     "output_type": "stream",
     "text": [
      "Quarter 8\n",
      "Paper to Baseline\n",
      "\n",
      "    Outliers in first set:  5044\n",
      "    Outliers in second set: 4123\n",
      "    Outliers in common:     4123\n",
      "\n",
      "    Non-core first set:  7554\n",
      "    Non-core second set: 6053\n",
      "    Non-core overlap:    6053\n",
      "    \n",
      "Paper to PCA 90\n",
      "\n",
      "    Outliers in first set:  5044\n",
      "    Outliers in second set: 3475\n",
      "    Outliers in common:     3475\n",
      "\n",
      "    Non-core first set:  7554\n",
      "    Non-core second set: 5125\n",
      "    Non-core overlap:    5125\n",
      "    \n",
      "Paper to PCA 95\n",
      "\n",
      "    Outliers in first set:  5044\n",
      "    Outliers in second set: 3658\n",
      "    Outliers in common:     3658\n",
      "\n",
      "    Non-core first set:  7554\n",
      "    Non-core second set: 5450\n",
      "    Non-core overlap:    5450\n",
      "    \n",
      "Paper to PCA 99\n",
      "\n",
      "    Outliers in first set:  5044\n",
      "    Outliers in second set: 3327\n",
      "    Outliers in common:     3327\n",
      "\n",
      "    Non-core first set:  7554\n",
      "    Non-core second set: 4924\n",
      "    Non-core overlap:    4924\n",
      "    \n",
      "Baseline to PCA 90\n",
      "\n",
      "    Outliers in first set:  4123\n",
      "    Outliers in second set: 3475\n",
      "    Outliers in common:     3452\n",
      "\n",
      "    Non-core first set:  6053\n",
      "    Non-core second set: 5125\n",
      "    Non-core overlap:    5098\n",
      "    \n",
      "Baseline to PCA 95\n",
      "\n",
      "    Outliers in first set:  4123\n",
      "    Outliers in second set: 3658\n",
      "    Outliers in common:     3653\n",
      "\n",
      "    Non-core first set:  6053\n",
      "    Non-core second set: 5450\n",
      "    Non-core overlap:    5445\n",
      "    \n",
      "Baseline to PCA 99\n",
      "\n",
      "    Outliers in first set:  4123\n",
      "    Outliers in second set: 3327\n",
      "    Outliers in common:     3327\n",
      "\n",
      "    Non-core first set:  6053\n",
      "    Non-core second set: 4924\n",
      "    Non-core overlap:    4924\n",
      "    \n",
      "90 to 95\n",
      "\n",
      "    Outliers in first set:  3475\n",
      "    Outliers in second set: 3658\n",
      "    Outliers in common:     3406\n",
      "\n",
      "    Non-core first set:  5125\n",
      "    Non-core second set: 5450\n",
      "    Non-core overlap:    5061\n",
      "    \n",
      "90 to 99\n",
      "\n",
      "    Outliers in first set:  3475\n",
      "    Outliers in second set: 3327\n",
      "    Outliers in common:     3202\n",
      "\n",
      "    Non-core first set:  5125\n",
      "    Non-core second set: 4924\n",
      "    Non-core overlap:    4742\n",
      "    \n",
      "95 to 99\n",
      "\n",
      "    Outliers in first set:  3658\n",
      "    Outliers in second set: 3327\n",
      "    Outliers in common:     3315\n",
      "\n",
      "    Non-core first set:  5450\n",
      "    Non-core second set: 4924\n",
      "    Non-core overlap:    4902\n",
      "    \n"
     ]
    }
   ],
   "source": [
    "print(\"Quarter 8\")\n",
    "print(\"Paper to Baseline\")\n",
    "cluster_comparison(Q8a,Q8)\n",
    "print(\"Paper to PCA 90\")\n",
    "cluster_comparison(Q8a,Q8_pca90)\n",
    "print(\"Paper to PCA 95\")\n",
    "cluster_comparison(Q8a,Q8_pca95)\n",
    "print(\"Paper to PCA 99\")\n",
    "cluster_comparison(Q8a,Q8_pca99)\n",
    "print(\"Baseline to PCA 90\")\n",
    "cluster_comparison(Q8,Q8_pca90)\n",
    "print(\"Baseline to PCA 95\")\n",
    "cluster_comparison(Q8,Q8_pca95)\n",
    "print(\"Baseline to PCA 99\")\n",
    "cluster_comparison(Q8,Q8_pca99)\n",
    "print(\"90 to 95\")\n",
    "cluster_comparison(Q8_pca90,Q8_pca95)\n",
    "print(\"90 to 99\")\n",
    "cluster_comparison(Q8_pca90,Q8_pca99)\n",
    "print(\"95 to 99\")\n",
    "cluster_comparison(Q8_pca95,Q8_pca99)"
   ]
  },
  {
   "cell_type": "code",
   "execution_count": 198,
   "metadata": {},
   "outputs": [
    {
     "name": "stdout",
     "output_type": "stream",
     "text": [
      "Quarter 11\n",
      "Paper to Baseline\n",
      "\n",
      "    Outliers in first set:  5879\n",
      "    Outliers in second set: 3151\n",
      "    Outliers in common:     3151\n",
      "\n",
      "    Non-core first set:  8856\n",
      "    Non-core second set: 4845\n",
      "    Non-core overlap:    4845\n",
      "    \n",
      "Paper to PCA 90\n",
      "\n",
      "    Outliers in first set:  5879\n",
      "    Outliers in second set: 4712\n",
      "    Outliers in common:     4705\n",
      "\n",
      "    Non-core first set:  8856\n",
      "    Non-core second set: 6860\n",
      "    Non-core overlap:    6844\n",
      "    \n",
      "Paper to PCA 95\n",
      "\n",
      "    Outliers in first set:  5879\n",
      "    Outliers in second set: 3217\n",
      "    Outliers in common:     3217\n",
      "\n",
      "    Non-core first set:  8856\n",
      "    Non-core second set: 4933\n",
      "    Non-core overlap:    4933\n",
      "    \n",
      "Paper to PCA 99\n",
      "\n",
      "    Outliers in first set:  5879\n",
      "    Outliers in second set: 3074\n",
      "    Outliers in common:     3074\n",
      "\n",
      "    Non-core first set:  8856\n",
      "    Non-core second set: 4736\n",
      "    Non-core overlap:    4736\n",
      "    \n",
      "Baseline to PCA 90\n",
      "\n",
      "    Outliers in first set:  3151\n",
      "    Outliers in second set: 4712\n",
      "    Outliers in common:     3140\n",
      "\n",
      "    Non-core first set:  4845\n",
      "    Non-core second set: 6860\n",
      "    Non-core overlap:    4821\n",
      "    \n",
      "Baseline to PCA 95\n",
      "\n",
      "    Outliers in first set:  3151\n",
      "    Outliers in second set: 3217\n",
      "    Outliers in common:     3066\n",
      "\n",
      "    Non-core first set:  4845\n",
      "    Non-core second set: 4933\n",
      "    Non-core overlap:    4723\n",
      "    \n",
      "Baseline to PCA 99\n",
      "\n",
      "    Outliers in first set:  3151\n",
      "    Outliers in second set: 3074\n",
      "    Outliers in common:     3071\n",
      "\n",
      "    Non-core first set:  4845\n",
      "    Non-core second set: 4736\n",
      "    Non-core overlap:    4732\n",
      "    \n",
      "90 to 95\n",
      "\n",
      "    Outliers in first set:  4712\n",
      "    Outliers in second set: 3217\n",
      "    Outliers in common:     3216\n",
      "\n",
      "    Non-core first set:  6860\n",
      "    Non-core second set: 4933\n",
      "    Non-core overlap:    4925\n",
      "    \n",
      "90 to 99\n",
      "\n",
      "    Outliers in first set:  4712\n",
      "    Outliers in second set: 3074\n",
      "    Outliers in common:     3072\n",
      "\n",
      "    Non-core first set:  6860\n",
      "    Non-core second set: 4736\n",
      "    Non-core overlap:    4723\n",
      "    \n",
      "95 to 99\n",
      "\n",
      "    Outliers in first set:  3217\n",
      "    Outliers in second set: 3074\n",
      "    Outliers in common:     3028\n",
      "\n",
      "    Non-core first set:  4933\n",
      "    Non-core second set: 4736\n",
      "    Non-core overlap:    4681\n",
      "    \n"
     ]
    }
   ],
   "source": [
    "print(\"Quarter 11\")\n",
    "print(\"Paper to Baseline\")\n",
    "cluster_comparison(Q11a,Q11)\n",
    "print(\"Paper to PCA 90\")\n",
    "cluster_comparison(Q11a,Q11_pca90)\n",
    "print(\"Paper to PCA 95\")\n",
    "cluster_comparison(Q11a,Q11_pca95)\n",
    "print(\"Paper to PCA 99\")\n",
    "cluster_comparison(Q11a,Q11_pca99)\n",
    "print(\"Baseline to PCA 90\")\n",
    "cluster_comparison(Q11,Q11_pca90)\n",
    "print(\"Baseline to PCA 95\")\n",
    "cluster_comparison(Q11,Q11_pca95)\n",
    "print(\"Baseline to PCA 99\")\n",
    "cluster_comparison(Q11,Q11_pca99)\n",
    "print(\"90 to 95\")\n",
    "cluster_comparison(Q11_pca90,Q11_pca95)\n",
    "print(\"90 to 99\")\n",
    "cluster_comparison(Q11_pca90,Q11_pca99)\n",
    "print(\"95 to 99\")\n",
    "cluster_comparison(Q11_pca95,Q11_pca99)"
   ]
  },
  {
   "cell_type": "code",
   "execution_count": 199,
   "metadata": {},
   "outputs": [
    {
     "name": "stdout",
     "output_type": "stream",
     "text": [
      "Quarter 16\n",
      "Paper to Baseline\n",
      "\n",
      "    Outliers in first set:  5750\n",
      "    Outliers in second set: 4796\n",
      "    Outliers in common:     4796\n",
      "\n",
      "    Non-core first set:  8660\n",
      "    Non-core second set: 6989\n",
      "    Non-core overlap:    6989\n",
      "    \n",
      "Paper to PCA 90\n",
      "\n",
      "    Outliers in first set:  5750\n",
      "    Outliers in second set: 3526\n",
      "    Outliers in common:     3526\n",
      "\n",
      "    Non-core first set:  8660\n",
      "    Non-core second set: 5195\n",
      "    Non-core overlap:    5195\n",
      "    \n",
      "Paper to PCA 95\n",
      "\n",
      "    Outliers in first set:  5750\n",
      "    Outliers in second set: 3484\n",
      "    Outliers in common:     3484\n",
      "\n",
      "    Non-core first set:  8660\n",
      "    Non-core second set: 5204\n",
      "    Non-core overlap:    5204\n",
      "    \n",
      "Paper to PCA 99\n",
      "\n",
      "    Outliers in first set:  5750\n",
      "    Outliers in second set: 4037\n",
      "    Outliers in common:     4037\n",
      "\n",
      "    Non-core first set:  8660\n",
      "    Non-core second set: 5926\n",
      "    Non-core overlap:    5926\n",
      "    \n",
      "Baseline to PCA 90\n",
      "\n",
      "    Outliers in first set:  4796\n",
      "    Outliers in second set: 3526\n",
      "    Outliers in common:     3526\n",
      "\n",
      "    Non-core first set:  6989\n",
      "    Non-core second set: 5195\n",
      "    Non-core overlap:    5193\n",
      "    \n",
      "Baseline to PCA 95\n",
      "\n",
      "    Outliers in first set:  4796\n",
      "    Outliers in second set: 3484\n",
      "    Outliers in common:     3484\n",
      "\n",
      "    Non-core first set:  6989\n",
      "    Non-core second set: 5204\n",
      "    Non-core overlap:    5204\n",
      "    \n",
      "Baseline to PCA 99\n",
      "\n",
      "    Outliers in first set:  4796\n",
      "    Outliers in second set: 4037\n",
      "    Outliers in common:     4037\n",
      "\n",
      "    Non-core first set:  6989\n",
      "    Non-core second set: 5926\n",
      "    Non-core overlap:    5926\n",
      "    \n",
      "90 to 95\n",
      "\n",
      "    Outliers in first set:  3526\n",
      "    Outliers in second set: 3484\n",
      "    Outliers in common:     3344\n",
      "\n",
      "    Non-core first set:  5195\n",
      "    Non-core second set: 5204\n",
      "    Non-core overlap:    4975\n",
      "    \n",
      "90 to 99\n",
      "\n",
      "    Outliers in first set:  3526\n",
      "    Outliers in second set: 4037\n",
      "    Outliers in common:     3498\n",
      "\n",
      "    Non-core first set:  5195\n",
      "    Non-core second set: 5926\n",
      "    Non-core overlap:    5158\n",
      "    \n",
      "95 to 99\n",
      "\n",
      "    Outliers in first set:  3484\n",
      "    Outliers in second set: 4037\n",
      "    Outliers in common:     3484\n",
      "\n",
      "    Non-core first set:  5204\n",
      "    Non-core second set: 5926\n",
      "    Non-core overlap:    5204\n",
      "    \n"
     ]
    }
   ],
   "source": [
    "print(\"Quarter 16\")\n",
    "print(\"Paper to Baseline\")\n",
    "cluster_comparison(Q16a,Q16)\n",
    "print(\"Paper to PCA 90\")\n",
    "cluster_comparison(Q16a,Q16_pca90)\n",
    "print(\"Paper to PCA 95\")\n",
    "cluster_comparison(Q16a,Q16_pca95)\n",
    "print(\"Paper to PCA 99\")\n",
    "cluster_comparison(Q16a,Q16_pca99)\n",
    "print(\"Baseline to PCA 90\")\n",
    "cluster_comparison(Q16,Q16_pca90)\n",
    "print(\"Baseline to PCA 95\")\n",
    "cluster_comparison(Q16,Q16_pca95)\n",
    "print(\"Baseline to PCA 99\")\n",
    "cluster_comparison(Q16,Q16_pca99)\n",
    "print(\"90 to 95\")\n",
    "cluster_comparison(Q16_pca90,Q16_pca95)\n",
    "print(\"90 to 99\")\n",
    "cluster_comparison(Q16_pca90,Q16_pca99)\n",
    "print(\"95 to 99\")\n",
    "cluster_comparison(Q16_pca95,Q16_pca99)"
   ]
  },
  {
   "cell_type": "markdown",
   "metadata": {},
   "source": [
    "## Some plots"
   ]
  },
  {
   "cell_type": "code",
   "execution_count": 201,
   "metadata": {
    "collapsed": true
   },
   "outputs": [],
   "source": [
    "import matplotlib.pyplot as plt\n",
    "import seaborn as sns\n",
    "%matplotlib inline"
   ]
  },
  {
   "cell_type": "code",
   "execution_count": 203,
   "metadata": {},
   "outputs": [
    {
     "data": {
      "text/html": [
       "<div>\n",
       "<style>\n",
       "    .dataframe thead tr:only-child th {\n",
       "        text-align: right;\n",
       "    }\n",
       "\n",
       "    .dataframe thead th {\n",
       "        text-align: left;\n",
       "    }\n",
       "\n",
       "    .dataframe tbody tr th {\n",
       "        vertical-align: top;\n",
       "    }\n",
       "</style>\n",
       "<table border=\"1\" class=\"dataframe\">\n",
       "  <thead>\n",
       "    <tr style=\"text-align: right;\">\n",
       "      <th></th>\n",
       "      <th>0</th>\n",
       "      <th>1</th>\n",
       "      <th>2</th>\n",
       "      <th>3</th>\n",
       "      <th>4</th>\n",
       "    </tr>\n",
       "    <tr>\n",
       "      <th>KID</th>\n",
       "      <th></th>\n",
       "      <th></th>\n",
       "      <th></th>\n",
       "      <th></th>\n",
       "      <th></th>\n",
       "    </tr>\n",
       "  </thead>\n",
       "  <tbody>\n",
       "    <tr>\n",
       "      <th>kplr000757076</th>\n",
       "      <td>-0.506421</td>\n",
       "      <td>-0.434655</td>\n",
       "      <td>-0.167335</td>\n",
       "      <td>-0.653499</td>\n",
       "      <td>1.755279</td>\n",
       "    </tr>\n",
       "    <tr>\n",
       "      <th>kplr000757099</th>\n",
       "      <td>4.484396</td>\n",
       "      <td>-0.604195</td>\n",
       "      <td>1.211985</td>\n",
       "      <td>-4.750476</td>\n",
       "      <td>-2.081261</td>\n",
       "    </tr>\n",
       "    <tr>\n",
       "      <th>kplr000757137</th>\n",
       "      <td>0.920785</td>\n",
       "      <td>-3.099399</td>\n",
       "      <td>0.623951</td>\n",
       "      <td>-2.486847</td>\n",
       "      <td>-2.150655</td>\n",
       "    </tr>\n",
       "    <tr>\n",
       "      <th>kplr000757280</th>\n",
       "      <td>0.139649</td>\n",
       "      <td>-2.545948</td>\n",
       "      <td>0.364790</td>\n",
       "      <td>-0.499807</td>\n",
       "      <td>0.013925</td>\n",
       "    </tr>\n",
       "    <tr>\n",
       "      <th>kplr000757450</th>\n",
       "      <td>1.470896</td>\n",
       "      <td>-2.336332</td>\n",
       "      <td>0.516864</td>\n",
       "      <td>0.586687</td>\n",
       "      <td>-0.658776</td>\n",
       "    </tr>\n",
       "    <tr>\n",
       "      <th>kplr000891901</th>\n",
       "      <td>-0.620495</td>\n",
       "      <td>-0.222029</td>\n",
       "      <td>-0.081033</td>\n",
       "      <td>0.249993</td>\n",
       "      <td>1.040637</td>\n",
       "    </tr>\n",
       "    <tr>\n",
       "      <th>kplr000891916</th>\n",
       "      <td>1.590050</td>\n",
       "      <td>-4.515782</td>\n",
       "      <td>1.260458</td>\n",
       "      <td>0.351274</td>\n",
       "      <td>-1.284734</td>\n",
       "    </tr>\n",
       "    <tr>\n",
       "      <th>kplr000892107</th>\n",
       "      <td>-0.504158</td>\n",
       "      <td>-0.360687</td>\n",
       "      <td>-0.112151</td>\n",
       "      <td>-0.705359</td>\n",
       "      <td>1.315910</td>\n",
       "    </tr>\n",
       "    <tr>\n",
       "      <th>kplr000892195</th>\n",
       "      <td>-0.774194</td>\n",
       "      <td>1.081286</td>\n",
       "      <td>-0.064552</td>\n",
       "      <td>0.511291</td>\n",
       "      <td>-0.390051</td>\n",
       "    </tr>\n",
       "    <tr>\n",
       "      <th>kplr000892203</th>\n",
       "      <td>-0.755890</td>\n",
       "      <td>1.062718</td>\n",
       "      <td>-0.288351</td>\n",
       "      <td>-0.440668</td>\n",
       "      <td>0.670562</td>\n",
       "    </tr>\n",
       "  </tbody>\n",
       "</table>\n",
       "</div>"
      ],
      "text/plain": [
       "                      0         1         2         3         4\n",
       "KID                                                            \n",
       "kplr000757076 -0.506421 -0.434655 -0.167335 -0.653499  1.755279\n",
       "kplr000757099  4.484396 -0.604195  1.211985 -4.750476 -2.081261\n",
       "kplr000757137  0.920785 -3.099399  0.623951 -2.486847 -2.150655\n",
       "kplr000757280  0.139649 -2.545948  0.364790 -0.499807  0.013925\n",
       "kplr000757450  1.470896 -2.336332  0.516864  0.586687 -0.658776\n",
       "kplr000891901 -0.620495 -0.222029 -0.081033  0.249993  1.040637\n",
       "kplr000891916  1.590050 -4.515782  1.260458  0.351274 -1.284734\n",
       "kplr000892107 -0.504158 -0.360687 -0.112151 -0.705359  1.315910\n",
       "kplr000892195 -0.774194  1.081286 -0.064552  0.511291 -0.390051\n",
       "kplr000892203 -0.755890  1.062718 -0.288351 -0.440668  0.670562"
      ]
     },
     "execution_count": 203,
     "metadata": {},
     "output_type": "execute_result"
    }
   ],
   "source": [
    "Q4_pca90.data[Q4_pca90.data.columns[:5]][:10]"
   ]
  },
  {
   "cell_type": "code",
   "execution_count": 213,
   "metadata": {},
   "outputs": [
    {
     "data": {
      "text/plain": [
       "<seaborn.axisgrid.PairGrid at 0x7f9805b04f28>"
      ]
     },
     "execution_count": 213,
     "metadata": {},
     "output_type": "execute_result"
    },
    {
     "data": {
      "image/png": "[encoded data removed]",
      "text/plain": [
       "<matplotlib.figure.Figure at 0x7f98059e36d8>"
      ]
     },
     "metadata": {},
     "output_type": "display_data"
    }
   ],
   "source": [
    "sns.pairplot(Q4_pca90.data,vars=['0','1','2','3','4'],hue='db_out',diag_kind='kde')"
   ]
  },
  {
   "cell_type": "code",
   "execution_count": 215,
   "metadata": {},
   "outputs": [
    {
     "data": {
      "text/plain": [
       "<seaborn.axisgrid.PairGrid at 0x7f97f3a610f0>"
      ]
     },
     "execution_count": 215,
     "metadata": {},
     "output_type": "execute_result"
    },
    {
     "data": {
      "image/png": "[encoded data removed]",
      "text/plain": [
       "<matplotlib.figure.Figure at 0x7f97f40c2940>"
      ]
     },
     "metadata": {},
     "output_type": "display_data"
    }
   ],
   "source": [
    "PG = sns.PairGrid(Q4_pca90.data[Q4_pca90.data['1']<75],vars=['0','1','2','3','4'],hue='db_out')\n",
    "PG.map_lower(sns.kdeplot)\n",
    "PG.map_upper(plt.scatter, edgecolor=None,s=1)\n",
    "PG.map_diag(sns.kdeplot, lw=1)"
   ]
  },
  {
   "cell_type": "code",
   "execution_count": null,
   "metadata": {
    "collapsed": true
   },
   "outputs": [
    {
     "data": {
      "text/plain": [
       "<mpl_toolkits.mplot3d.art3d.Path3DCollection at 0x7f97f1d42978>"
      ]
     },
     "execution_count": 218,
     "metadata": {},
     "output_type": "execute_result"
    },
    {
     "name": "stderr",
     "output_type": "stream",
     "text": [
      "ERROR:tornado.general:Uncaught exception, closing connection.\n",
      "Traceback (most recent call last):\n",
      "  File \"/home/dgiles/anaconda/envs/py36/lib/python3.6/site-packages/matplotlib/colors.py\", line 141, in to_rgba\n",
      "    rgba = _colors_full_map.cache[c, alpha]\n",
      "TypeError: unhashable type: 'numpy.ndarray'\n",
      "\n",
      "During handling of the above exception, another exception occurred:\n",
      "\n",
      "Traceback (most recent call last):\n",
      "  File \"/home/dgiles/anaconda/envs/py36/lib/python3.6/site-packages/zmq/eventloop/zmqstream.py\", line 414, in _run_callback\n",
      "    callback(*args, **kwargs)\n",
      "  File \"/home/dgiles/anaconda/envs/py36/lib/python3.6/site-packages/tornado/stack_context.py\", line 277, in null_wrapper\n",
      "    return fn(*args, **kwargs)\n",
      "  File \"/home/dgiles/anaconda/envs/py36/lib/python3.6/site-packages/ipykernel/kernelbase.py\", line 283, in dispatcher\n",
      "    return self.dispatch_shell(stream, msg)\n",
      "  File \"/home/dgiles/anaconda/envs/py36/lib/python3.6/site-packages/ipykernel/kernelbase.py\", line 235, in dispatch_shell\n",
      "    handler(stream, idents, msg)\n",
      "  File \"/home/dgiles/anaconda/envs/py36/lib/python3.6/site-packages/ipykernel/kernelbase.py\", line 399, in execute_request\n",
      "    user_expressions, allow_stdin)\n",
      "  File \"/home/dgiles/anaconda/envs/py36/lib/python3.6/site-packages/ipykernel/ipkernel.py\", line 196, in do_execute\n",
      "    res = shell.run_cell(code, store_history=store_history, silent=silent)\n",
      "  File \"/home/dgiles/anaconda/envs/py36/lib/python3.6/site-packages/ipykernel/zmqshell.py\", line 533, in run_cell\n",
      "    return super(ZMQInteractiveShell, self).run_cell(*args, **kwargs)\n",
      "  File \"/home/dgiles/anaconda/envs/py36/lib/python3.6/site-packages/IPython/core/interactiveshell.py\", line 2706, in run_cell\n",
      "    self.events.trigger('post_execute')\n",
      "  File \"/home/dgiles/anaconda/envs/py36/lib/python3.6/site-packages/IPython/core/events.py\", line 73, in trigger\n",
      "    func(*args, **kwargs)\n",
      "  File \"/home/dgiles/anaconda/envs/py36/lib/python3.6/site-packages/matplotlib/pyplot.py\", line 149, in post_execute\n",
      "    draw_all()\n",
      "  File \"/home/dgiles/anaconda/envs/py36/lib/python3.6/site-packages/matplotlib/_pylab_helpers.py\", line 150, in draw_all\n",
      "    f_mgr.canvas.draw_idle()\n",
      "  File \"/home/dgiles/anaconda/envs/py36/lib/python3.6/site-packages/matplotlib/backend_bases.py\", line 2040, in draw_idle\n",
      "    self.draw(*args, **kwargs)\n",
      "  File \"/home/dgiles/anaconda/envs/py36/lib/python3.6/site-packages/matplotlib/backends/backend_agg.py\", line 464, in draw\n",
      "    self.figure.draw(self.renderer)\n",
      "  File \"/home/dgiles/anaconda/envs/py36/lib/python3.6/site-packages/matplotlib/artist.py\", line 63, in draw_wrapper\n",
      "    draw(artist, renderer, *args, **kwargs)\n",
      "  File \"/home/dgiles/anaconda/envs/py36/lib/python3.6/site-packages/matplotlib/figure.py\", line 1144, in draw\n",
      "    renderer, self, dsu, self.suppressComposite)\n",
      "  File \"/home/dgiles/anaconda/envs/py36/lib/python3.6/site-packages/matplotlib/image.py\", line 139, in _draw_list_compositing_images\n",
      "    a.draw(renderer)\n",
      "  File \"/home/dgiles/anaconda/envs/py36/lib/python3.6/site-packages/mpl_toolkits/mplot3d/axes3d.py\", line 271, in draw\n",
      "    for col in self.collections]\n",
      "  File \"/home/dgiles/anaconda/envs/py36/lib/python3.6/site-packages/mpl_toolkits/mplot3d/axes3d.py\", line 271, in <listcomp>\n",
      "    for col in self.collections]\n",
      "  File \"/home/dgiles/anaconda/envs/py36/lib/python3.6/site-packages/mpl_toolkits/mplot3d/art3d.py\", line 465, in do_3d_projection\n",
      "    self.set_edgecolors(ecs)\n",
      "  File \"/home/dgiles/anaconda/envs/py36/lib/python3.6/site-packages/matplotlib/collections.py\", line 745, in set_edgecolors\n",
      "    return self.set_edgecolor(c)\n",
      "  File \"/home/dgiles/anaconda/envs/py36/lib/python3.6/site-packages/matplotlib/collections.py\", line 741, in set_edgecolor\n",
      "    self._set_edgecolor(c)\n",
      "  File \"/home/dgiles/anaconda/envs/py36/lib/python3.6/site-packages/matplotlib/collections.py\", line 722, in _set_edgecolor\n",
      "    self._edgecolors = mcolors.to_rgba_array(c, self._alpha)\n",
      "  File \"/home/dgiles/anaconda/envs/py36/lib/python3.6/site-packages/matplotlib/colors.py\", line 218, in to_rgba_array\n",
      "    return np.array([to_rgba(c, alpha)], float)\n",
      "  File \"/home/dgiles/anaconda/envs/py36/lib/python3.6/site-packages/matplotlib/colors.py\", line 143, in to_rgba\n",
      "    rgba = _to_rgba_no_colorcycle(c, alpha)\n",
      "  File \"/home/dgiles/anaconda/envs/py36/lib/python3.6/site-packages/matplotlib/colors.py\", line 194, in _to_rgba_no_colorcycle\n",
      "    raise ValueError(\"Invalid RGBA argument: {!r}\".format(orig_c))\n",
      "  File \"/home/dgiles/anaconda/envs/py36/lib/python3.6/site-packages/numpy/core/numeric.py\", line 1807, in array_repr\n",
      "    ', ', \"array(\")\n",
      "  File \"/home/dgiles/anaconda/envs/py36/lib/python3.6/site-packages/numpy/core/arrayprint.py\", line 447, in array2string\n",
      "    separator, prefix, formatter=formatter)\n",
      "  File \"/home/dgiles/anaconda/envs/py36/lib/python3.6/site-packages/numpy/core/arrayprint.py\", line 325, in _array2string\n",
      "    _summaryEdgeItems, summary_insert)[:-1]\n",
      "  File \"/home/dgiles/anaconda/envs/py36/lib/python3.6/site-packages/numpy/core/arrayprint.py\", line 520, in _formatArray\n",
      "    s = s.rstrip() + sep.rstrip() + '\\n'*max(rank-1, 1)\n",
      "KeyboardInterrupt\n",
      "ERROR:tornado.general:Uncaught exception, closing connection.\n",
      "Traceback (most recent call last):\n",
      "  File \"/home/dgiles/anaconda/envs/py36/lib/python3.6/site-packages/matplotlib/colors.py\", line 141, in to_rgba\n",
      "    rgba = _colors_full_map.cache[c, alpha]\n",
      "TypeError: unhashable type: 'numpy.ndarray'\n",
      "\n",
      "During handling of the above exception, another exception occurred:\n",
      "\n",
      "Traceback (most recent call last):\n",
      "  File \"/home/dgiles/anaconda/envs/py36/lib/python3.6/site-packages/zmq/eventloop/zmqstream.py\", line 440, in _handle_events\n",
      "    self._handle_recv()\n",
      "  File \"/home/dgiles/anaconda/envs/py36/lib/python3.6/site-packages/zmq/eventloop/zmqstream.py\", line 472, in _handle_recv\n",
      "    self._run_callback(callback, msg)\n",
      "  File \"/home/dgiles/anaconda/envs/py36/lib/python3.6/site-packages/zmq/eventloop/zmqstream.py\", line 414, in _run_callback\n",
      "    callback(*args, **kwargs)\n",
      "  File \"/home/dgiles/anaconda/envs/py36/lib/python3.6/site-packages/tornado/stack_context.py\", line 277, in null_wrapper\n",
      "    return fn(*args, **kwargs)\n",
      "  File \"/home/dgiles/anaconda/envs/py36/lib/python3.6/site-packages/ipykernel/kernelbase.py\", line 283, in dispatcher\n",
      "    return self.dispatch_shell(stream, msg)\n",
      "  File \"/home/dgiles/anaconda/envs/py36/lib/python3.6/site-packages/ipykernel/kernelbase.py\", line 235, in dispatch_shell\n",
      "    handler(stream, idents, msg)\n",
      "  File \"/home/dgiles/anaconda/envs/py36/lib/python3.6/site-packages/ipykernel/kernelbase.py\", line 399, in execute_request\n",
      "    user_expressions, allow_stdin)\n",
      "  File \"/home/dgiles/anaconda/envs/py36/lib/python3.6/site-packages/ipykernel/ipkernel.py\", line 196, in do_execute\n",
      "    res = shell.run_cell(code, store_history=store_history, silent=silent)\n",
      "  File \"/home/dgiles/anaconda/envs/py36/lib/python3.6/site-packages/ipykernel/zmqshell.py\", line 533, in run_cell\n",
      "    return super(ZMQInteractiveShell, self).run_cell(*args, **kwargs)\n",
      "  File \"/home/dgiles/anaconda/envs/py36/lib/python3.6/site-packages/IPython/core/interactiveshell.py\", line 2706, in run_cell\n",
      "    self.events.trigger('post_execute')\n",
      "  File \"/home/dgiles/anaconda/envs/py36/lib/python3.6/site-packages/IPython/core/events.py\", line 73, in trigger\n",
      "    func(*args, **kwargs)\n",
      "  File \"/home/dgiles/anaconda/envs/py36/lib/python3.6/site-packages/matplotlib/pyplot.py\", line 149, in post_execute\n",
      "    draw_all()\n",
      "  File \"/home/dgiles/anaconda/envs/py36/lib/python3.6/site-packages/matplotlib/_pylab_helpers.py\", line 150, in draw_all\n",
      "    f_mgr.canvas.draw_idle()\n",
      "  File \"/home/dgiles/anaconda/envs/py36/lib/python3.6/site-packages/matplotlib/backend_bases.py\", line 2040, in draw_idle\n",
      "    self.draw(*args, **kwargs)\n",
      "  File \"/home/dgiles/anaconda/envs/py36/lib/python3.6/site-packages/matplotlib/backends/backend_agg.py\", line 464, in draw\n",
      "    self.figure.draw(self.renderer)\n",
      "  File \"/home/dgiles/anaconda/envs/py36/lib/python3.6/site-packages/matplotlib/artist.py\", line 63, in draw_wrapper\n",
      "    draw(artist, renderer, *args, **kwargs)\n",
      "  File \"/home/dgiles/anaconda/envs/py36/lib/python3.6/site-packages/matplotlib/figure.py\", line 1144, in draw\n",
      "    renderer, self, dsu, self.suppressComposite)\n",
      "  File \"/home/dgiles/anaconda/envs/py36/lib/python3.6/site-packages/matplotlib/image.py\", line 139, in _draw_list_compositing_images\n",
      "    a.draw(renderer)\n",
      "  File \"/home/dgiles/anaconda/envs/py36/lib/python3.6/site-packages/mpl_toolkits/mplot3d/axes3d.py\", line 271, in draw\n",
      "    for col in self.collections]\n",
      "  File \"/home/dgiles/anaconda/envs/py36/lib/python3.6/site-packages/mpl_toolkits/mplot3d/axes3d.py\", line 271, in <listcomp>\n",
      "    for col in self.collections]\n",
      "  File \"/home/dgiles/anaconda/envs/py36/lib/python3.6/site-packages/mpl_toolkits/mplot3d/art3d.py\", line 465, in do_3d_projection\n",
      "    self.set_edgecolors(ecs)\n",
      "  File \"/home/dgiles/anaconda/envs/py36/lib/python3.6/site-packages/matplotlib/collections.py\", line 745, in set_edgecolors\n",
      "    return self.set_edgecolor(c)\n",
      "  File \"/home/dgiles/anaconda/envs/py36/lib/python3.6/site-packages/matplotlib/collections.py\", line 741, in set_edgecolor\n",
      "    self._set_edgecolor(c)\n",
      "  File \"/home/dgiles/anaconda/envs/py36/lib/python3.6/site-packages/matplotlib/collections.py\", line 722, in _set_edgecolor\n",
      "    self._edgecolors = mcolors.to_rgba_array(c, self._alpha)\n",
      "  File \"/home/dgiles/anaconda/envs/py36/lib/python3.6/site-packages/matplotlib/colors.py\", line 218, in to_rgba_array\n",
      "    return np.array([to_rgba(c, alpha)], float)\n",
      "  File \"/home/dgiles/anaconda/envs/py36/lib/python3.6/site-packages/matplotlib/colors.py\", line 143, in to_rgba\n",
      "    rgba = _to_rgba_no_colorcycle(c, alpha)\n",
      "  File \"/home/dgiles/anaconda/envs/py36/lib/python3.6/site-packages/matplotlib/colors.py\", line 194, in _to_rgba_no_colorcycle\n",
      "    raise ValueError(\"Invalid RGBA argument: {!r}\".format(orig_c))\n",
      "  File \"/home/dgiles/anaconda/envs/py36/lib/python3.6/site-packages/numpy/core/numeric.py\", line 1807, in array_repr\n",
      "    ', ', \"array(\")\n",
      "  File \"/home/dgiles/anaconda/envs/py36/lib/python3.6/site-packages/numpy/core/arrayprint.py\", line 447, in array2string\n",
      "    separator, prefix, formatter=formatter)\n",
      "  File \"/home/dgiles/anaconda/envs/py36/lib/python3.6/site-packages/numpy/core/arrayprint.py\", line 325, in _array2string\n",
      "    _summaryEdgeItems, summary_insert)[:-1]\n",
      "  File \"/home/dgiles/anaconda/envs/py36/lib/python3.6/site-packages/numpy/core/arrayprint.py\", line 520, in _formatArray\n",
      "    s = s.rstrip() + sep.rstrip() + '\\n'*max(rank-1, 1)\n",
      "KeyboardInterrupt\n"
     ]
    }
   ],
   "source": [
    "from mpl_toolkits.mplot3d import Axes3D\n",
    "%matplotlib inline\n",
    "fig = plt.figure()\n",
    "ax = fig.add_subplot(111, projection='3d')\n",
    "data = Q4_pca90.data[Q4_pca90.data.db_out==0]\n",
    "xs = data['1']\n",
    "ys = data['2']\n",
    "zs = data['3']\n",
    "#cs = Q4_pca90.data['db_out']\n",
    "ax.scatter(xs, ys, zs,c=cs)\n"
   ]
  },
  {
   "cell_type": "code",
   "execution_count": null,
   "metadata": {
    "collapsed": true
   },
   "outputs": [],
   "source": []
  }
 ],
 "metadata": {
  "kernelspec": {
   "display_name": "Python 3",
   "language": "python",
   "name": "python3"
  },
  "language_info": {
   "codemirror_mode": {
    "name": "ipython",
    "version": 3
   },
   "file_extension": ".py",
   "mimetype": "text/x-python",
   "name": "python",
   "nbconvert_exporter": "python",
   "pygments_lexer": "ipython3",
   "version": "3.6.8"
  }
 },
 "nbformat": 4,
 "nbformat_minor": 2
}
