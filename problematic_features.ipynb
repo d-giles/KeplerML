{
 "cells": [
  {
   "cell_type": "code",
   "execution_count": 1,
   "metadata": {},
   "outputs": [
    {
     "ename": "RuntimeError",
     "evalue": "module compiled against API version 0xb but this version of numpy is 0xa",
     "output_type": "error",
     "traceback": [
      "\u001b[0;31m---------------------------------------------------------------------------\u001b[0m",
      "\u001b[0;31mRuntimeError\u001b[0m                              Traceback (most recent call last)",
      "\u001b[0;31mRuntimeError\u001b[0m: module compiled against API version 0xb but this version of numpy is 0xa"
     ]
    }
   ],
   "source": [
    "import sys\n",
    "sys.path.append('python')\n",
    "import numpy as np\n",
    "import pandas as pd\n",
    "import pickle\n",
    "import keplerml\n",
    "np.set_printoptions(threshold=sys.maxsize)"
   ]
  },
  {
   "cell_type": "code",
   "execution_count": 2,
   "metadata": {},
   "outputs": [],
   "source": [
    "Q1_fl = '/home/dgiles/Documents/KeplerLCs/filelists/Q1_filelist_completed.txt'\n",
    "with open(Q1_fl,'r') as file:\n",
    "    files = file.readlines()\n",
    "\n",
    "path_to_fits = '/home/dgiles/Documents/KeplerLCs/fitsFiles/Q1fitsfiles/'\n"
   ]
  },
  {
   "cell_type": "code",
   "execution_count": 2,
   "metadata": {},
   "outputs": [],
   "source": [
    "from datetime import datetime\n",
    "import multiprocessing"
   ]
  },
  {
   "cell_type": "code",
   "execution_count": null,
   "metadata": {},
   "outputs": [
    {
     "name": "stdout",
     "output_type": "stream",
     "text": [
      "Processing 52496 files...\n",
      "Using 2 cpus to calculate features...\n",
      "Processing 96900 files...\n",
      "Using 2 cpus to calculate features...\n",
      "Processing 142747 files...\n",
      "Using 2 cpus to calculate features...\n",
      "Processing 169817 files...\n",
      "Using 2 cpus to calculate features...\n",
      "Processing 156126 files...\n",
      "Using 2 cpus to calculate features...\n",
      "Processing 163305 files...\n",
      "Using 2 cpus to calculate features...\n",
      "Processing 166897 files...\n",
      "Processing 165283 files...\n",
      "Using 2 cpus to calculate features...\n",
      "Using 2 cpus to calculate features...\n",
      "Processing 164065 files...\n",
      "Using 2 cpus to calculate features...\n",
      "Processing 167783 files...\n",
      "Processing 167243 files...\n",
      "Using 2 cpus to calculate features...\n",
      "Processing 166910 files...\n",
      "Using 2 cpus to calculate features...\n",
      "Using 2 cpus to calculate features...\n",
      "Processing 166268 files...\n",
      "Using 2 cpus to calculate features...\n",
      "Processing 164737 files...\n",
      "Processing 166631 files...\n",
      "Using 2 cpus to calculate features...\n",
      "Using 2 cpus to calculate features...\n",
      "Processing 167508 files...\n",
      "Using 2 cpus to calculate features...\n",
      "Processing 166867 files...\n",
      "Processing 167575 files...\n",
      "Using 2 cpus to calculate features...\n",
      "Using 2 cpus to calculate features...\n"
     ]
    },
    {
     "name": "stderr",
     "output_type": "stream",
     "text": [
      "/home/dgiles/anaconda/envs/py36/lib/python3.6/site-packages/pyfits/file.py:319: UserWarning: File may have been truncated: actual file length (131072) is smaller than the expected size (457920)\n",
      "  (self.size, pos))\n"
     ]
    },
    {
     "name": "stdout",
     "output_type": "stream",
     "text": [
      "buffer is too small for requested array. Try downloading /home/dgiles/Documents/KeplerLCs/fitsFiles/Q2fitsfiles/kplr011028868-2009259160929_llc.fits again.\n"
     ]
    },
    {
     "name": "stderr",
     "output_type": "stream",
     "text": [
      "/home/dgiles/anaconda/envs/py36/lib/python3.6/site-packages/numpy/lib/function_base.py:2569: RuntimeWarning: invalid value encountered in true_divide\n",
      "  c /= stddev[:, None]\n",
      "/home/dgiles/anaconda/envs/py36/lib/python3.6/site-packages/numpy/lib/function_base.py:2570: RuntimeWarning: invalid value encountered in true_divide\n",
      "  c /= stddev[None, :]\n",
      "/home/dgiles/anaconda/envs/py36/lib/python3.6/site-packages/numpy/lib/function_base.py:2569: RuntimeWarning: invalid value encountered in true_divide\n",
      "  c /= stddev[:, None]\n",
      "/home/dgiles/anaconda/envs/py36/lib/python3.6/site-packages/numpy/lib/function_base.py:2570: RuntimeWarning: invalid value encountered in true_divide\n",
      "  c /= stddev[None, :]\n"
     ]
    },
    {
     "name": "stdout",
     "output_type": "stream",
     "text": [
      "Features have been calculated\n",
      "Cleaning up...\n",
      "Saving output to data/output/Q0_output.p\n",
      "Done.\n",
      "Q0 took 5:57:18.447557\n",
      "Features have been calculated\n",
      "Cleaning up...\n",
      "Saving output to data/output/Q3_output.p\n",
      "Features have been calculated\n",
      "Cleaning up...\n",
      "Saving output to data/output/Q1_output.p\n",
      "Features have been calculated\n",
      "Cleaning up...\n",
      "Saving output to data/output/Q17_output.p\n",
      "Done.\n",
      "Q3 took 18:25:24.614758\n",
      "Features have been calculated\n",
      "Cleaning up...\n",
      "Saving output to data/output/Q2_output.p\n",
      "Features have been calculated\n",
      "Cleaning up...\n",
      "Saving output to data/output/Q8_output.p\n"
     ]
    }
   ],
   "source": [
    "\"\"\"\n",
    "!!! THIS CELL PROCESSES FEATURES FOR ALL DATA IN ALL 17 QUARTERS !!!\n",
    "!!! PROCESSING TIME IS ROUGHLY 2 HOURS (???) PER QUARTER         !!!\n",
    "\"\"\"\n",
    "def multiprocessing_func(i):\n",
    "    Q_fl = '/home/dgiles/Documents/KeplerLCs/filelists/Q{}_filelist'.format(i)\n",
    "    path_to_fits = '/home/dgiles/Documents/KeplerLCs/fitsFiles/Q{}fitsfiles/'.format(i)\n",
    "    with open(Q_fl,'r') as file:\n",
    "        files = file.readlines()\n",
    "    starttime = datetime.now()\n",
    "    keplerml.features_from_filelist(files,path_to_fits,'data/output/Q{}_output.p'.format(i),\n",
    "                                    fl_as_array=True,verbose=True, numCpus=2,\n",
    "                                    tmp_file='Q{}_tmp_data.p'.format(i))\n",
    "    print(\"Q{} took {}\".format(i,datetime.now()-starttime))\n",
    "\n",
    "processes=[]\n",
    "for i in range(18):\n",
    "    \n",
    "    p = multiprocessing.Process(target=multiprocessing_func,args=(i,))\n",
    "    processes.append(p)\n",
    "    p.start()\n",
    "for process in processes:\n",
    "    process.join()"
   ]
  },
  {
   "cell_type": "code",
   "execution_count": 14,
   "metadata": {},
   "outputs": [],
   "source": [
    "def save_output(out_file,tmpfile):\n",
    "    \"\"\"\n",
    "    Reads in the finished data file (tmp_data.p by default), sorts it, and saves it to the\n",
    "    specified output csv. Effectively just sorting a csv and renaming it.\n",
    "    \"\"\"\n",
    "    df = pd.DataFrame()\n",
    "    with open(tmpfile, 'rb') as fr:\n",
    "        try:\n",
    "            i=0\n",
    "            while True:\n",
    "                i+=1\n",
    "                if i%1000==0:\n",
    "                    print(\"{}/??? loaded\".format(i))\n",
    "                df = df.append(pickle.load(fr))\n",
    "        except EOFError:\n",
    "            pass\n",
    "    df = df.sort_index()\n",
    "    pickle.dump(df,open(out_file,'wb'))\n",
    "    os.remove(tmpfile)\n",
    "    return"
   ]
  },
  {
   "cell_type": "code",
   "execution_count": 15,
   "metadata": {},
   "outputs": [
    {
     "name": "stdout",
     "output_type": "stream",
     "text": [
      "1000/??? loaded\n",
      "2000/??? loaded\n",
      "3000/??? loaded\n",
      "4000/??? loaded\n",
      "5000/??? loaded\n",
      "6000/??? loaded\n",
      "7000/??? loaded\n",
      "8000/??? loaded\n",
      "9000/??? loaded\n",
      "10000/??? loaded\n",
      "11000/??? loaded\n",
      "12000/??? loaded\n",
      "13000/??? loaded\n",
      "14000/??? loaded\n",
      "15000/??? loaded\n",
      "16000/??? loaded\n",
      "17000/??? loaded\n",
      "18000/??? loaded\n",
      "19000/??? loaded\n",
      "20000/??? loaded\n",
      "21000/??? loaded\n",
      "22000/??? loaded\n",
      "23000/??? loaded\n",
      "24000/??? loaded\n",
      "25000/??? loaded\n",
      "26000/??? loaded\n",
      "27000/??? loaded\n",
      "28000/??? loaded\n",
      "29000/??? loaded\n",
      "30000/??? loaded\n",
      "31000/??? loaded\n",
      "32000/??? loaded\n",
      "33000/??? loaded\n",
      "34000/??? loaded\n",
      "35000/??? loaded\n",
      "36000/??? loaded\n",
      "37000/??? loaded\n",
      "38000/??? loaded\n",
      "39000/??? loaded\n",
      "40000/??? loaded\n",
      "41000/??? loaded\n",
      "42000/??? loaded\n",
      "43000/??? loaded\n",
      "44000/??? loaded\n",
      "45000/??? loaded\n",
      "46000/??? loaded\n",
      "47000/??? loaded\n",
      "48000/??? loaded\n",
      "49000/??? loaded\n",
      "50000/??? loaded\n",
      "51000/??? loaded\n",
      "52000/??? loaded\n",
      "53000/??? loaded\n",
      "54000/??? loaded\n",
      "55000/??? loaded\n",
      "56000/??? loaded\n",
      "57000/??? loaded\n",
      "58000/??? loaded\n",
      "59000/??? loaded\n",
      "60000/??? loaded\n",
      "61000/??? loaded\n",
      "62000/??? loaded\n",
      "63000/??? loaded\n",
      "64000/??? loaded\n",
      "65000/??? loaded\n",
      "66000/??? loaded\n",
      "67000/??? loaded\n",
      "68000/??? loaded\n",
      "69000/??? loaded\n",
      "70000/??? loaded\n",
      "71000/??? loaded\n",
      "72000/??? loaded\n",
      "73000/??? loaded\n",
      "74000/??? loaded\n",
      "75000/??? loaded\n",
      "76000/??? loaded\n",
      "77000/??? loaded\n",
      "78000/??? loaded\n",
      "79000/??? loaded\n",
      "80000/??? loaded\n",
      "81000/??? loaded\n",
      "82000/??? loaded\n",
      "83000/??? loaded\n",
      "84000/??? loaded\n",
      "85000/??? loaded\n",
      "86000/??? loaded\n",
      "87000/??? loaded\n",
      "88000/??? loaded\n",
      "89000/??? loaded\n",
      "90000/??? loaded\n",
      "91000/??? loaded\n",
      "92000/??? loaded\n",
      "93000/??? loaded\n",
      "94000/??? loaded\n",
      "95000/??? loaded\n",
      "96000/??? loaded\n",
      "97000/??? loaded\n",
      "98000/??? loaded\n",
      "99000/??? loaded\n",
      "100000/??? loaded\n",
      "101000/??? loaded\n",
      "102000/??? loaded\n",
      "103000/??? loaded\n",
      "104000/??? loaded\n",
      "105000/??? loaded\n",
      "106000/??? loaded\n",
      "107000/??? loaded\n",
      "108000/??? loaded\n",
      "109000/??? loaded\n",
      "110000/??? loaded\n",
      "111000/??? loaded\n",
      "112000/??? loaded\n",
      "113000/??? loaded\n",
      "114000/??? loaded\n",
      "115000/??? loaded\n",
      "116000/??? loaded\n",
      "117000/??? loaded\n",
      "118000/??? loaded\n",
      "119000/??? loaded\n",
      "120000/??? loaded\n",
      "121000/??? loaded\n",
      "122000/??? loaded\n",
      "123000/??? loaded\n",
      "124000/??? loaded\n",
      "125000/??? loaded\n",
      "126000/??? loaded\n",
      "127000/??? loaded\n",
      "128000/??? loaded\n",
      "129000/??? loaded\n",
      "130000/??? loaded\n",
      "131000/??? loaded\n",
      "132000/??? loaded\n",
      "133000/??? loaded\n",
      "134000/??? loaded\n",
      "135000/??? loaded\n",
      "136000/??? loaded\n",
      "137000/??? loaded\n",
      "138000/??? loaded\n",
      "139000/??? loaded\n",
      "140000/??? loaded\n",
      "141000/??? loaded\n",
      "142000/??? loaded\n",
      "143000/??? loaded\n",
      "144000/??? loaded\n",
      "145000/??? loaded\n",
      "146000/??? loaded\n",
      "147000/??? loaded\n",
      "148000/??? loaded\n",
      "149000/??? loaded\n",
      "150000/??? loaded\n",
      "151000/??? loaded\n",
      "152000/??? loaded\n",
      "153000/??? loaded\n",
      "154000/??? loaded\n",
      "155000/??? loaded\n",
      "156000/??? loaded\n"
     ]
    },
    {
     "ename": "NameError",
     "evalue": "name 'os' is not defined",
     "output_type": "error",
     "traceback": [
      "\u001b[0;31m---------------------------------------------------------------------------\u001b[0m",
      "\u001b[0;31mNameError\u001b[0m                                 Traceback (most recent call last)",
      "\u001b[0;32m<ipython-input-15-186e3648123c>\u001b[0m in \u001b[0;36m<module>\u001b[0;34m()\u001b[0m\n\u001b[1;32m      1\u001b[0m \u001b[0mi\u001b[0m\u001b[0;34m=\u001b[0m\u001b[0;36m1\u001b[0m\u001b[0;34m\u001b[0m\u001b[0;34m\u001b[0m\u001b[0m\n\u001b[0;32m----> 2\u001b[0;31m \u001b[0msave_output\u001b[0m\u001b[0;34m(\u001b[0m\u001b[0;34m'Q{}_output.p'\u001b[0m\u001b[0;34m.\u001b[0m\u001b[0mformat\u001b[0m\u001b[0;34m(\u001b[0m\u001b[0mi\u001b[0m\u001b[0;34m)\u001b[0m\u001b[0;34m,\u001b[0m\u001b[0;34m'Q{}_tmp_data.p'\u001b[0m\u001b[0;34m.\u001b[0m\u001b[0mformat\u001b[0m\u001b[0;34m(\u001b[0m\u001b[0mi\u001b[0m\u001b[0;34m)\u001b[0m\u001b[0;34m)\u001b[0m\u001b[0;34m\u001b[0m\u001b[0;34m\u001b[0m\u001b[0m\n\u001b[0m",
      "\u001b[0;32m<ipython-input-14-75d264d88531>\u001b[0m in \u001b[0;36msave_output\u001b[0;34m(out_file, tmpfile)\u001b[0m\n\u001b[1;32m     17\u001b[0m     \u001b[0mdf\u001b[0m \u001b[0;34m=\u001b[0m \u001b[0mdf\u001b[0m\u001b[0;34m.\u001b[0m\u001b[0msort_index\u001b[0m\u001b[0;34m(\u001b[0m\u001b[0;34m)\u001b[0m\u001b[0;34m\u001b[0m\u001b[0;34m\u001b[0m\u001b[0m\n\u001b[1;32m     18\u001b[0m     \u001b[0mpickle\u001b[0m\u001b[0;34m.\u001b[0m\u001b[0mdump\u001b[0m\u001b[0;34m(\u001b[0m\u001b[0mdf\u001b[0m\u001b[0;34m,\u001b[0m\u001b[0mopen\u001b[0m\u001b[0;34m(\u001b[0m\u001b[0mout_file\u001b[0m\u001b[0;34m,\u001b[0m\u001b[0;34m'wb'\u001b[0m\u001b[0;34m)\u001b[0m\u001b[0;34m)\u001b[0m\u001b[0;34m\u001b[0m\u001b[0;34m\u001b[0m\u001b[0m\n\u001b[0;32m---> 19\u001b[0;31m     \u001b[0mos\u001b[0m\u001b[0;34m.\u001b[0m\u001b[0mremove\u001b[0m\u001b[0;34m(\u001b[0m\u001b[0mtmpfile\u001b[0m\u001b[0;34m)\u001b[0m\u001b[0;34m\u001b[0m\u001b[0;34m\u001b[0m\u001b[0m\n\u001b[0m\u001b[1;32m     20\u001b[0m     \u001b[0;32mreturn\u001b[0m\u001b[0;34m\u001b[0m\u001b[0;34m\u001b[0m\u001b[0m\n",
      "\u001b[0;31mNameError\u001b[0m: name 'os' is not defined"
     ]
    }
   ],
   "source": [
    "i=1\n",
    "save_output('Q{}_output.p'.format(i),'Q{}_tmp_data.p'.format(i))"
   ]
  },
  {
   "cell_type": "code",
   "execution_count": 4,
   "metadata": {},
   "outputs": [
    {
     "name": "stdout",
     "output_type": "stream",
     "text": [
      "5.34 s ± 225 ms per loop (mean ± std. dev. of 7 runs, 1 loop each)\n"
     ]
    }
   ],
   "source": [
    "%timeit keplerml.features_from_filelist(files[:100],path_to_fits,'f1_samp',fl_as_array=True,numCpus=1,verbose=False)"
   ]
  },
  {
   "cell_type": "code",
   "execution_count": 11,
   "metadata": {},
   "outputs": [
    {
     "data": {
      "text/plain": [
       "142747"
      ]
     },
     "execution_count": 11,
     "metadata": {},
     "output_type": "execute_result"
    }
   ],
   "source": [
    "Q2_fl='/home/dgiles/Documents/KeplerLCs/filelists/Q{}_filelist'.format(2)\n",
    "with open(Q2_fl,'r') as file:\n",
    "    files = file.readlines()\n",
    "len(files)"
   ]
  },
  {
   "cell_type": "code",
   "execution_count": 16,
   "metadata": {},
   "outputs": [
    {
     "ename": "TypeError",
     "evalue": "file must have 'read' and 'readline' attributes",
     "output_type": "error",
     "traceback": [
      "\u001b[0;31m---------------------------------------------------------------------------\u001b[0m",
      "\u001b[0;31mTypeError\u001b[0m                                 Traceback (most recent call last)",
      "\u001b[0;32m<ipython-input-16-e87d68a3741b>\u001b[0m in \u001b[0;36m<module>\u001b[0;34m()\u001b[0m\n\u001b[0;32m----> 1\u001b[0;31m \u001b[0mpickle\u001b[0m\u001b[0;34m.\u001b[0m\u001b[0mload\u001b[0m\u001b[0;34m(\u001b[0m\u001b[0;34m'Q1_output.p'\u001b[0m\u001b[0;34m)\u001b[0m\u001b[0;34m\u001b[0m\u001b[0;34m\u001b[0m\u001b[0m\n\u001b[0m",
      "\u001b[0;31mTypeError\u001b[0m: file must have 'read' and 'readline' attributes"
     ]
    }
   ],
   "source": [
    "pickle.load(open('Q1_output.p'))"
   ]
  },
  {
   "cell_type": "code",
   "execution_count": null,
   "metadata": {},
   "outputs": [],
   "source": []
  }
 ],
 "metadata": {
  "kernelspec": {
   "display_name": "Python 3",
   "language": "python",
   "name": "python3"
  },
  "language_info": {
   "codemirror_mode": {
    "name": "ipython",
    "version": 3
   },
   "file_extension": ".py",
   "mimetype": "text/x-python",
   "name": "python",
   "nbconvert_exporter": "python",
   "pygments_lexer": "ipython3",
   "version": "3.6.8"
  }
 },
 "nbformat": 4,
 "nbformat_minor": 2
}
