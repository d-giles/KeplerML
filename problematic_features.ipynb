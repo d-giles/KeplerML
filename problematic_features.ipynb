{
 "cells": [
  {
   "cell_type": "code",
   "execution_count": 1,
   "metadata": {},
   "outputs": [
    {
     "ename": "RuntimeError",
     "evalue": "module compiled against API version 0xb but this version of numpy is 0xa",
     "output_type": "error",
     "traceback": [
      "\u001b[0;31m---------------------------------------------------------------------------\u001b[0m",
      "\u001b[0;31mRuntimeError\u001b[0m                              Traceback (most recent call last)",
      "\u001b[0;31mRuntimeError\u001b[0m: module compiled against API version 0xb but this version of numpy is 0xa"
     ]
    }
   ],
   "source": [
    "import sys\n",
    "sys.path.append('python')\n",
    "import numpy as np\n",
    "import pandas as pd\n",
    "import pickle\n",
    "import keplerml\n",
    "np.set_printoptions(threshold=sys.maxsize)"
   ]
  },
  {
   "cell_type": "code",
   "execution_count": 2,
   "metadata": {},
   "outputs": [],
   "source": [
    "Q1_fl = '/home/dgiles/Documents/KeplerLCs/filelists/Q1_filelist_completed.txt'\n",
    "with open(Q1_fl,'r') as file:\n",
    "    files = file.readlines()\n",
    "\n",
    "path_to_fits = '/home/dgiles/Documents/KeplerLCs/fitsFiles/Q1fitsfiles/'\n"
   ]
  },
  {
   "cell_type": "code",
   "execution_count": 2,
   "metadata": {},
   "outputs": [],
   "source": [
    "from datetime import datetime\n",
    "import multiprocessing"
   ]
  },
  {
   "cell_type": "code",
   "execution_count": 8,
   "metadata": {},
   "outputs": [],
   "source": [
    "for process in processes:\n",
    "    process.join()"
   ]
  },
  {
   "cell_type": "code",
   "execution_count": null,
   "metadata": {},
   "outputs": [
    {
     "name": "stdout",
     "output_type": "stream",
     "text": [
      "Processing 52496 files...\n",
      "Using 2 cpus to calculate features...\n",
      "Processing 96900 files...\n",
      "Using 2 cpus to calculate features...\n",
      "Processing 142747 files...\n",
      "Using 2 cpus to calculate features...\n",
      "Processing 169817 files...\n",
      "Using 2 cpus to calculate features...\n",
      "Processing 156126 files...\n",
      "Using 2 cpus to calculate features...\n",
      "Processing 163305 files...\n",
      "Using 2 cpus to calculate features...\n",
      "Processing 166897 files...\n",
      "Processing 165283 files...\n",
      "Using 2 cpus to calculate features...\n",
      "Using 2 cpus to calculate features...\n",
      "Processing 164065 files...\n",
      "Using 2 cpus to calculate features...\n",
      "Processing 167783 files...\n",
      "Processing 167243 files...\n",
      "Using 2 cpus to calculate features...\n",
      "Processing 166910 files...\n",
      "Using 2 cpus to calculate features...\n",
      "Using 2 cpus to calculate features...\n",
      "Processing 166268 files...\n",
      "Using 2 cpus to calculate features...\n",
      "Processing 164737 files...\n",
      "Processing 166631 files...\n",
      "Using 2 cpus to calculate features...\n",
      "Using 2 cpus to calculate features...\n",
      "Processing 167508 files...\n",
      "Using 2 cpus to calculate features...\n",
      "Processing 166867 files...\n",
      "Processing 167575 files...\n",
      "Using 2 cpus to calculate features...\n",
      "Using 2 cpus to calculate features...\n"
     ]
    }
   ],
   "source": [
    "\"\"\"\n",
    "!!! THIS CELL PROCESSES FEATURES FOR ALL DATA IN ALL 17 QUARTERS !!!\n",
    "!!! PROCESSING TIME IS ROUGHLY 2 HOURS (???) PER QUARTER         !!!\n",
    "\"\"\"\n",
    "def multiprocessing_func(i):\n",
    "    Q_fl = '/home/dgiles/Documents/KeplerLCs/filelists/Q{}_filelist'.format(i)\n",
    "    path_to_fits = '/home/dgiles/Documents/KeplerLCs/fitsFiles/Q{}fitsfiles/'.format(i)\n",
    "    with open(Q_fl,'r') as file:\n",
    "        files = file.readlines()\n",
    "    starttime = datetime.now()\n",
    "    keplerml.features_from_filelist(files,path_to_fits,'data/output/Q{}_output.p'.format(i),\n",
    "                                    fl_as_array=True,verbose=True, numCpus=2,\n",
    "                                    tmp_file='Q{}_tmp_data.p'.format(i))\n",
    "    print(\"Q{} took {}\".format(i,datetime.now()-starttime))\n",
    "\n",
    "processes=[]\n",
    "for i in range(18):\n",
    "    \n",
    "    p = multiprocessing.Process(target=multiprocessing_func,args=(i,))\n",
    "    processes.append(p)\n",
    "    p.start()\n",
    "for process in processes:\n",
    "    process.join()"
   ]
  },
  {
   "cell_type": "code",
   "execution_count": 7,
   "metadata": {},
   "outputs": [],
   "source": [
    "p.join()"
   ]
  },
  {
   "cell_type": "code",
   "execution_count": 4,
   "metadata": {},
   "outputs": [
    {
     "name": "stdout",
     "output_type": "stream",
     "text": [
      "5.34 s ± 225 ms per loop (mean ± std. dev. of 7 runs, 1 loop each)\n"
     ]
    }
   ],
   "source": [
    "%timeit keplerml.features_from_filelist(files[:100],path_to_fits,'f1_samp',fl_as_array=True,numCpus=1,verbose=False)"
   ]
  },
  {
   "cell_type": "code",
   "execution_count": 11,
   "metadata": {},
   "outputs": [
    {
     "data": {
      "text/plain": [
       "142747"
      ]
     },
     "execution_count": 11,
     "metadata": {},
     "output_type": "execute_result"
    }
   ],
   "source": [
    "Q2_fl='/home/dgiles/Documents/KeplerLCs/filelists/Q{}_filelist'.format(2)\n",
    "with open(Q2_fl,'r') as file:\n",
    "    files = file.readlines()\n",
    "len(files)"
   ]
  },
  {
   "cell_type": "code",
   "execution_count": null,
   "metadata": {},
   "outputs": [],
   "source": []
  }
 ],
 "metadata": {
  "kernelspec": {
   "display_name": "Python 3",
   "language": "python",
   "name": "python3"
  },
  "language_info": {
   "codemirror_mode": {
    "name": "ipython",
    "version": 3
   },
   "file_extension": ".py",
   "mimetype": "text/x-python",
   "name": "python",
   "nbconvert_exporter": "python",
   "pygments_lexer": "ipython3",
   "version": "3.6.8"
  }
 },
 "nbformat": 4,
 "nbformat_minor": 2
}
