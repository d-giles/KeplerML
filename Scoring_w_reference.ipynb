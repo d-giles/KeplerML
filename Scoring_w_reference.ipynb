{
 "cells": [
  {
   "cell_type": "markdown",
   "metadata": {},
   "source": [
    "This notebook clusters each quarter using 10 randomly generated 1k sample subsets. The score is the average of the 1st nearest neighbor to the 4th nearest neighbor of the sample. This is roughly the same as the average of the scores for the neighbors $\\frac{N}{1000}$ to $4*\\frac{N}{1000}$, where $N$ is the size of the quarter. The median scores for each point are recorded as final score for each point.\n",
    "\n",
    "Scores are scaled such that the reference sinusoid features, having amplitude 0.5 (dF/F) and a period of 1 day, has a score of 1."
   ]
  },
  {
   "cell_type": "code",
   "execution_count": 1,
   "metadata": {},
   "outputs": [],
   "source": [
    "# Some standard imports for math and data handling\n",
    "import sys\n",
    "import numpy as np\n",
    "np.set_printoptions(threshold=sys.maxsize)\n",
    "import pandas as pd\n",
    "from scipy import stats\n",
    "import matplotlib.pyplot as plt\n",
    "import pickle\n",
    "\n",
    "# Imports for processing specific to this workbook\n",
    "from sklearn.decomposition import PCA\n",
    "from sklearn.neighbors import NearestNeighbors\n",
    "from sklearn import preprocessing\n",
    "from datetime import datetime\n",
    "\n",
    "# Import the custom code developed for this work\n",
    "sys.path.append('python')\n",
    "from clusterOutliers import clusterOutliers as coo\n",
    "import quarterTools as qt\n",
    "%matplotlib inline"
   ]
  },
  {
   "cell_type": "code",
   "execution_count": 2,
   "metadata": {},
   "outputs": [],
   "source": [
    "path_to_output = '/Users/Dan/Documents/KeplerLCs/output/'"
   ]
  },
  {
   "cell_type": "code",
   "execution_count": 3,
   "metadata": {},
   "outputs": [],
   "source": [
    "Q_dict = dict()\n",
    "for i in range(1,18):\n",
    "    with open(path_to_output+'Q{}_ref.coo'.format(i),'rb') as file:\n",
    "        Q_dict['Q{}'.format(i)]=pickle.load(file)"
   ]
  },
  {
   "cell_type": "code",
   "execution_count": 12,
   "metadata": {},
   "outputs": [],
   "source": [
    "scores_dict = dict()\n",
    "for smethod in Q_dict['Q1'].scores.columns:\n",
    "    df = pd.DataFrame({'KIC':[]})\n",
    "    for Q in Q_dict.keys():\n",
    "        inds = [int(i[4:13]) for i in Q_dict[Q].scores[smethod].index[:-1]]\n",
    "        df2 = pd.DataFrame({'KIC':inds,Q:Q_dict[Q].scores[smethod].values[:-1]})\n",
    "        df = pd.merge(df,df2,how='outer').sort_values(by='KIC')\n",
    "    scores_dict[smethod] = df"
   ]
  },
  {
   "cell_type": "code",
   "execution_count": 14,
   "metadata": {},
   "outputs": [],
   "source": [
    "for smethod in scores_dict.keys():\n",
    "    scores_dict[smethod].to_pickle('./scores/'+smethod+'ref')"
   ]
  },
  {
   "cell_type": "code",
   "execution_count": 9,
   "metadata": {},
   "outputs": [],
   "source": [
    "# Reductions and previous scores need to be removed for rescoring\n",
    "for Q in Q_dict.keys():\n",
    "    Q_dict[Q].reductions={}\n",
    "    Q_dict[Q].scores={}"
   ]
  },
  {
   "cell_type": "code",
   "execution_count": 16,
   "metadata": {},
   "outputs": [],
   "source": [
    "# Saving copies to new files\n",
    "# Commented out to avoid accidental overwrite\n",
    "\"\"\"\n",
    "for Q in Q_dict.keys():\n",
    "    Q_dict[Q].save(of='/home/dgiles/Documents/KeplerLCs/output/{}_ref.coo'.format(Q))\n",
    "\"\"\""
   ]
  },
  {
   "cell_type": "code",
   "execution_count": 21,
   "metadata": {},
   "outputs": [],
   "source": [
    "# The sinusoid should really be reproduced and features recalculated to match the duration \n",
    "# of the quarter in question, or else the features altered to take into account differences\n",
    "# in lightcuve size and duration... For now, however, the gain is estimated to be minimal for\n",
    "# the very similar Kepler quarters.\n",
    "with open('sinusoid_feats.npy','rb') as file:\n",
    "    sinusoid_feats = pickle.load(file)\n",
    "\n",
    "sinusoid_feats_df = pd.DataFrame(index=['sinusoid'],columns=Q_dict['Q1'].data.columns,data=[sinusoid_feats])\n",
    "\n",
    "for Q in Q_dict.keys():\n",
    "    Q_dict[Q].data=Q_dict[Q].data.append(sinusoid_feats_df)"
   ]
  },
  {
   "cell_type": "code",
   "execution_count": 28,
   "metadata": {
    "collapsed": true,
    "jupyter": {
     "outputs_hidden": true
    }
   },
   "outputs": [
    {
     "name": "stdout",
     "output_type": "stream",
     "text": [
      "Starting Q1.\n",
      "Scaling data using StandardScaler...\n",
      "Finding minimum number of dimensions to explain 90.0% of the variance...\n",
      "\n",
      "        Dimensions: 19,\n",
      "        Variance explained: 90.5%\n",
      "        \n",
      "Scaling data using StandardScaler...\n",
      "Finding minimum number of dimensions to explain 95.0% of the variance...\n",
      "\n",
      "        Dimensions: 25,\n",
      "        Variance explained: 95.3%\n",
      "        \n",
      "Scaling data using StandardScaler...\n",
      "Finding minimum number of dimensions to explain 99.0% of the variance...\n",
      "\n",
      "        Dimensions: 36,\n",
      "        Variance explained: 99.0%\n",
      "        \n",
      "Starting Q2.\n",
      "Scaling data using StandardScaler...\n"
     ]
    },
    {
     "name": "stderr",
     "output_type": "stream",
     "text": [
      "/home/dgiles/anaconda3/envs/KeplerFull37/lib/python3.7/site-packages/sklearn/preprocessing/data.py:645: DataConversionWarning: Data with input dtype float64, object were all converted to float64 by StandardScaler.\n",
      "  return self.partial_fit(X, y)\n",
      "python/quarterTools.py:90: DataConversionWarning: Data with input dtype float64, object were all converted to float64 by StandardScaler.\n",
      "  scaled_data = scaler.transform(data)\n"
     ]
    },
    {
     "name": "stdout",
     "output_type": "stream",
     "text": [
      "Finding minimum number of dimensions to explain 90.0% of the variance...\n",
      "\n",
      "        Dimensions: 18,\n",
      "        Variance explained: 90.2%\n",
      "        \n",
      "Scaling data using StandardScaler...\n"
     ]
    },
    {
     "name": "stderr",
     "output_type": "stream",
     "text": [
      "/home/dgiles/anaconda3/envs/KeplerFull37/lib/python3.7/site-packages/sklearn/preprocessing/data.py:645: DataConversionWarning: Data with input dtype float64, object were all converted to float64 by StandardScaler.\n",
      "  return self.partial_fit(X, y)\n",
      "python/quarterTools.py:90: DataConversionWarning: Data with input dtype float64, object were all converted to float64 by StandardScaler.\n",
      "  scaled_data = scaler.transform(data)\n"
     ]
    },
    {
     "name": "stdout",
     "output_type": "stream",
     "text": [
      "Finding minimum number of dimensions to explain 95.0% of the variance...\n",
      "\n",
      "        Dimensions: 24,\n",
      "        Variance explained: 95.3%\n",
      "        \n",
      "Scaling data using StandardScaler...\n"
     ]
    },
    {
     "name": "stderr",
     "output_type": "stream",
     "text": [
      "/home/dgiles/anaconda3/envs/KeplerFull37/lib/python3.7/site-packages/sklearn/preprocessing/data.py:645: DataConversionWarning: Data with input dtype float64, object were all converted to float64 by StandardScaler.\n",
      "  return self.partial_fit(X, y)\n",
      "python/quarterTools.py:90: DataConversionWarning: Data with input dtype float64, object were all converted to float64 by StandardScaler.\n",
      "  scaled_data = scaler.transform(data)\n"
     ]
    },
    {
     "name": "stdout",
     "output_type": "stream",
     "text": [
      "Finding minimum number of dimensions to explain 99.0% of the variance...\n",
      "\n",
      "        Dimensions: 37,\n",
      "        Variance explained: 99.1%\n",
      "        \n",
      "Starting Q3.\n",
      "Scaling data using StandardScaler...\n"
     ]
    },
    {
     "name": "stderr",
     "output_type": "stream",
     "text": [
      "/home/dgiles/anaconda3/envs/KeplerFull37/lib/python3.7/site-packages/sklearn/preprocessing/data.py:645: DataConversionWarning: Data with input dtype float64, object were all converted to float64 by StandardScaler.\n",
      "  return self.partial_fit(X, y)\n",
      "python/quarterTools.py:90: DataConversionWarning: Data with input dtype float64, object were all converted to float64 by StandardScaler.\n",
      "  scaled_data = scaler.transform(data)\n"
     ]
    },
    {
     "name": "stdout",
     "output_type": "stream",
     "text": [
      "Finding minimum number of dimensions to explain 90.0% of the variance...\n",
      "\n",
      "        Dimensions: 17,\n",
      "        Variance explained: 90.6%\n",
      "        \n",
      "Scaling data using StandardScaler...\n"
     ]
    },
    {
     "name": "stderr",
     "output_type": "stream",
     "text": [
      "/home/dgiles/anaconda3/envs/KeplerFull37/lib/python3.7/site-packages/sklearn/preprocessing/data.py:645: DataConversionWarning: Data with input dtype float64, object were all converted to float64 by StandardScaler.\n",
      "  return self.partial_fit(X, y)\n",
      "python/quarterTools.py:90: DataConversionWarning: Data with input dtype float64, object were all converted to float64 by StandardScaler.\n",
      "  scaled_data = scaler.transform(data)\n"
     ]
    },
    {
     "name": "stdout",
     "output_type": "stream",
     "text": [
      "Finding minimum number of dimensions to explain 95.0% of the variance...\n",
      "\n",
      "        Dimensions: 22,\n",
      "        Variance explained: 95.2%\n",
      "        \n",
      "Scaling data using StandardScaler...\n"
     ]
    },
    {
     "name": "stderr",
     "output_type": "stream",
     "text": [
      "/home/dgiles/anaconda3/envs/KeplerFull37/lib/python3.7/site-packages/sklearn/preprocessing/data.py:645: DataConversionWarning: Data with input dtype float64, object were all converted to float64 by StandardScaler.\n",
      "  return self.partial_fit(X, y)\n",
      "python/quarterTools.py:90: DataConversionWarning: Data with input dtype float64, object were all converted to float64 by StandardScaler.\n",
      "  scaled_data = scaler.transform(data)\n"
     ]
    },
    {
     "name": "stdout",
     "output_type": "stream",
     "text": [
      "Finding minimum number of dimensions to explain 99.0% of the variance...\n",
      "\n",
      "        Dimensions: 33,\n",
      "        Variance explained: 99.0%\n",
      "        \n",
      "Starting Q4.\n",
      "Scaling data using StandardScaler...\n"
     ]
    },
    {
     "name": "stderr",
     "output_type": "stream",
     "text": [
      "/home/dgiles/anaconda3/envs/KeplerFull37/lib/python3.7/site-packages/sklearn/preprocessing/data.py:645: DataConversionWarning: Data with input dtype float64, object were all converted to float64 by StandardScaler.\n",
      "  return self.partial_fit(X, y)\n",
      "python/quarterTools.py:90: DataConversionWarning: Data with input dtype float64, object were all converted to float64 by StandardScaler.\n",
      "  scaled_data = scaler.transform(data)\n"
     ]
    },
    {
     "name": "stdout",
     "output_type": "stream",
     "text": [
      "Finding minimum number of dimensions to explain 90.0% of the variance...\n",
      "\n",
      "        Dimensions: 18,\n",
      "        Variance explained: 90.4%\n",
      "        \n",
      "Scaling data using StandardScaler...\n"
     ]
    },
    {
     "name": "stderr",
     "output_type": "stream",
     "text": [
      "/home/dgiles/anaconda3/envs/KeplerFull37/lib/python3.7/site-packages/sklearn/preprocessing/data.py:645: DataConversionWarning: Data with input dtype float64, object were all converted to float64 by StandardScaler.\n",
      "  return self.partial_fit(X, y)\n",
      "python/quarterTools.py:90: DataConversionWarning: Data with input dtype float64, object were all converted to float64 by StandardScaler.\n",
      "  scaled_data = scaler.transform(data)\n"
     ]
    },
    {
     "name": "stdout",
     "output_type": "stream",
     "text": [
      "Finding minimum number of dimensions to explain 95.0% of the variance...\n",
      "\n",
      "        Dimensions: 24,\n",
      "        Variance explained: 95.6%\n",
      "        \n",
      "Scaling data using StandardScaler...\n"
     ]
    },
    {
     "name": "stderr",
     "output_type": "stream",
     "text": [
      "/home/dgiles/anaconda3/envs/KeplerFull37/lib/python3.7/site-packages/sklearn/preprocessing/data.py:645: DataConversionWarning: Data with input dtype float64, object were all converted to float64 by StandardScaler.\n",
      "  return self.partial_fit(X, y)\n",
      "python/quarterTools.py:90: DataConversionWarning: Data with input dtype float64, object were all converted to float64 by StandardScaler.\n",
      "  scaled_data = scaler.transform(data)\n"
     ]
    },
    {
     "name": "stdout",
     "output_type": "stream",
     "text": [
      "Finding minimum number of dimensions to explain 99.0% of the variance...\n",
      "\n",
      "        Dimensions: 36,\n",
      "        Variance explained: 99.2%\n",
      "        \n",
      "Starting Q5.\n",
      "Scaling data using StandardScaler...\n"
     ]
    },
    {
     "name": "stderr",
     "output_type": "stream",
     "text": [
      "/home/dgiles/anaconda3/envs/KeplerFull37/lib/python3.7/site-packages/sklearn/preprocessing/data.py:645: DataConversionWarning: Data with input dtype float64, object were all converted to float64 by StandardScaler.\n",
      "  return self.partial_fit(X, y)\n",
      "python/quarterTools.py:90: DataConversionWarning: Data with input dtype float64, object were all converted to float64 by StandardScaler.\n",
      "  scaled_data = scaler.transform(data)\n"
     ]
    },
    {
     "name": "stdout",
     "output_type": "stream",
     "text": [
      "Finding minimum number of dimensions to explain 90.0% of the variance...\n",
      "\n",
      "        Dimensions: 17,\n",
      "        Variance explained: 90.0%\n",
      "        \n",
      "Scaling data using StandardScaler...\n"
     ]
    },
    {
     "name": "stderr",
     "output_type": "stream",
     "text": [
      "/home/dgiles/anaconda3/envs/KeplerFull37/lib/python3.7/site-packages/sklearn/preprocessing/data.py:645: DataConversionWarning: Data with input dtype float64, object were all converted to float64 by StandardScaler.\n",
      "  return self.partial_fit(X, y)\n",
      "python/quarterTools.py:90: DataConversionWarning: Data with input dtype float64, object were all converted to float64 by StandardScaler.\n",
      "  scaled_data = scaler.transform(data)\n"
     ]
    },
    {
     "name": "stdout",
     "output_type": "stream",
     "text": [
      "Finding minimum number of dimensions to explain 95.0% of the variance...\n",
      "\n",
      "        Dimensions: 23,\n",
      "        Variance explained: 95.2%\n",
      "        \n",
      "Scaling data using StandardScaler...\n"
     ]
    },
    {
     "name": "stderr",
     "output_type": "stream",
     "text": [
      "/home/dgiles/anaconda3/envs/KeplerFull37/lib/python3.7/site-packages/sklearn/preprocessing/data.py:645: DataConversionWarning: Data with input dtype float64, object were all converted to float64 by StandardScaler.\n",
      "  return self.partial_fit(X, y)\n",
      "python/quarterTools.py:90: DataConversionWarning: Data with input dtype float64, object were all converted to float64 by StandardScaler.\n",
      "  scaled_data = scaler.transform(data)\n"
     ]
    },
    {
     "name": "stdout",
     "output_type": "stream",
     "text": [
      "Finding minimum number of dimensions to explain 99.0% of the variance...\n",
      "\n",
      "        Dimensions: 35,\n",
      "        Variance explained: 99.1%\n",
      "        \n",
      "Starting Q6.\n",
      "Scaling data using StandardScaler...\n"
     ]
    },
    {
     "name": "stderr",
     "output_type": "stream",
     "text": [
      "/home/dgiles/anaconda3/envs/KeplerFull37/lib/python3.7/site-packages/sklearn/preprocessing/data.py:645: DataConversionWarning: Data with input dtype float64, object were all converted to float64 by StandardScaler.\n",
      "  return self.partial_fit(X, y)\n",
      "python/quarterTools.py:90: DataConversionWarning: Data with input dtype float64, object were all converted to float64 by StandardScaler.\n",
      "  scaled_data = scaler.transform(data)\n"
     ]
    },
    {
     "name": "stdout",
     "output_type": "stream",
     "text": [
      "Finding minimum number of dimensions to explain 90.0% of the variance...\n",
      "\n",
      "        Dimensions: 15,\n",
      "        Variance explained: 90.5%\n",
      "        \n",
      "Scaling data using StandardScaler...\n"
     ]
    },
    {
     "name": "stderr",
     "output_type": "stream",
     "text": [
      "/home/dgiles/anaconda3/envs/KeplerFull37/lib/python3.7/site-packages/sklearn/preprocessing/data.py:645: DataConversionWarning: Data with input dtype float64, object were all converted to float64 by StandardScaler.\n",
      "  return self.partial_fit(X, y)\n",
      "python/quarterTools.py:90: DataConversionWarning: Data with input dtype float64, object were all converted to float64 by StandardScaler.\n",
      "  scaled_data = scaler.transform(data)\n"
     ]
    },
    {
     "name": "stdout",
     "output_type": "stream",
     "text": [
      "Finding minimum number of dimensions to explain 95.0% of the variance...\n",
      "\n",
      "        Dimensions: 19,\n",
      "        Variance explained: 95.2%\n",
      "        \n",
      "Scaling data using StandardScaler...\n"
     ]
    },
    {
     "name": "stderr",
     "output_type": "stream",
     "text": [
      "/home/dgiles/anaconda3/envs/KeplerFull37/lib/python3.7/site-packages/sklearn/preprocessing/data.py:645: DataConversionWarning: Data with input dtype float64, object were all converted to float64 by StandardScaler.\n",
      "  return self.partial_fit(X, y)\n",
      "python/quarterTools.py:90: DataConversionWarning: Data with input dtype float64, object were all converted to float64 by StandardScaler.\n",
      "  scaled_data = scaler.transform(data)\n"
     ]
    },
    {
     "name": "stdout",
     "output_type": "stream",
     "text": [
      "Finding minimum number of dimensions to explain 99.0% of the variance...\n",
      "\n",
      "        Dimensions: 28,\n",
      "        Variance explained: 99.1%\n",
      "        \n",
      "Starting Q7.\n",
      "Scaling data using StandardScaler...\n"
     ]
    },
    {
     "name": "stderr",
     "output_type": "stream",
     "text": [
      "/home/dgiles/anaconda3/envs/KeplerFull37/lib/python3.7/site-packages/sklearn/preprocessing/data.py:645: DataConversionWarning: Data with input dtype float64, object were all converted to float64 by StandardScaler.\n",
      "  return self.partial_fit(X, y)\n",
      "python/quarterTools.py:90: DataConversionWarning: Data with input dtype float64, object were all converted to float64 by StandardScaler.\n",
      "  scaled_data = scaler.transform(data)\n"
     ]
    },
    {
     "name": "stdout",
     "output_type": "stream",
     "text": [
      "Finding minimum number of dimensions to explain 90.0% of the variance...\n",
      "\n",
      "        Dimensions: 15,\n",
      "        Variance explained: 90.6%\n",
      "        \n",
      "Scaling data using StandardScaler...\n"
     ]
    },
    {
     "name": "stderr",
     "output_type": "stream",
     "text": [
      "/home/dgiles/anaconda3/envs/KeplerFull37/lib/python3.7/site-packages/sklearn/preprocessing/data.py:645: DataConversionWarning: Data with input dtype float64, object were all converted to float64 by StandardScaler.\n",
      "  return self.partial_fit(X, y)\n",
      "python/quarterTools.py:90: DataConversionWarning: Data with input dtype float64, object were all converted to float64 by StandardScaler.\n",
      "  scaled_data = scaler.transform(data)\n"
     ]
    },
    {
     "name": "stdout",
     "output_type": "stream",
     "text": [
      "Finding minimum number of dimensions to explain 95.0% of the variance...\n",
      "\n",
      "        Dimensions: 20,\n",
      "        Variance explained: 95.5%\n",
      "        \n",
      "Scaling data using StandardScaler...\n"
     ]
    },
    {
     "name": "stderr",
     "output_type": "stream",
     "text": [
      "/home/dgiles/anaconda3/envs/KeplerFull37/lib/python3.7/site-packages/sklearn/preprocessing/data.py:645: DataConversionWarning: Data with input dtype float64, object were all converted to float64 by StandardScaler.\n",
      "  return self.partial_fit(X, y)\n",
      "python/quarterTools.py:90: DataConversionWarning: Data with input dtype float64, object were all converted to float64 by StandardScaler.\n",
      "  scaled_data = scaler.transform(data)\n"
     ]
    },
    {
     "name": "stdout",
     "output_type": "stream",
     "text": [
      "Finding minimum number of dimensions to explain 99.0% of the variance...\n",
      "\n",
      "        Dimensions: 30,\n",
      "        Variance explained: 99.1%\n",
      "        \n",
      "Starting Q8.\n",
      "Scaling data using StandardScaler...\n"
     ]
    },
    {
     "name": "stderr",
     "output_type": "stream",
     "text": [
      "/home/dgiles/anaconda3/envs/KeplerFull37/lib/python3.7/site-packages/sklearn/preprocessing/data.py:645: DataConversionWarning: Data with input dtype float64, object were all converted to float64 by StandardScaler.\n",
      "  return self.partial_fit(X, y)\n",
      "python/quarterTools.py:90: DataConversionWarning: Data with input dtype float64, object were all converted to float64 by StandardScaler.\n",
      "  scaled_data = scaler.transform(data)\n"
     ]
    },
    {
     "name": "stdout",
     "output_type": "stream",
     "text": [
      "Finding minimum number of dimensions to explain 90.0% of the variance...\n",
      "\n",
      "        Dimensions: 17,\n",
      "        Variance explained: 90.5%\n",
      "        \n",
      "Scaling data using StandardScaler...\n"
     ]
    },
    {
     "name": "stderr",
     "output_type": "stream",
     "text": [
      "/home/dgiles/anaconda3/envs/KeplerFull37/lib/python3.7/site-packages/sklearn/preprocessing/data.py:645: DataConversionWarning: Data with input dtype float64, object were all converted to float64 by StandardScaler.\n",
      "  return self.partial_fit(X, y)\n",
      "python/quarterTools.py:90: DataConversionWarning: Data with input dtype float64, object were all converted to float64 by StandardScaler.\n",
      "  scaled_data = scaler.transform(data)\n"
     ]
    },
    {
     "name": "stdout",
     "output_type": "stream",
     "text": [
      "Finding minimum number of dimensions to explain 95.0% of the variance...\n",
      "\n",
      "        Dimensions: 22,\n",
      "        Variance explained: 95.3%\n",
      "        \n",
      "Scaling data using StandardScaler...\n"
     ]
    },
    {
     "name": "stderr",
     "output_type": "stream",
     "text": [
      "/home/dgiles/anaconda3/envs/KeplerFull37/lib/python3.7/site-packages/sklearn/preprocessing/data.py:645: DataConversionWarning: Data with input dtype float64, object were all converted to float64 by StandardScaler.\n",
      "  return self.partial_fit(X, y)\n",
      "python/quarterTools.py:90: DataConversionWarning: Data with input dtype float64, object were all converted to float64 by StandardScaler.\n",
      "  scaled_data = scaler.transform(data)\n"
     ]
    },
    {
     "name": "stdout",
     "output_type": "stream",
     "text": [
      "Finding minimum number of dimensions to explain 99.0% of the variance...\n",
      "\n",
      "        Dimensions: 34,\n",
      "        Variance explained: 99.1%\n",
      "        \n",
      "Starting Q9.\n",
      "Scaling data using StandardScaler...\n"
     ]
    },
    {
     "name": "stderr",
     "output_type": "stream",
     "text": [
      "/home/dgiles/anaconda3/envs/KeplerFull37/lib/python3.7/site-packages/sklearn/preprocessing/data.py:645: DataConversionWarning: Data with input dtype float64, object were all converted to float64 by StandardScaler.\n",
      "  return self.partial_fit(X, y)\n",
      "python/quarterTools.py:90: DataConversionWarning: Data with input dtype float64, object were all converted to float64 by StandardScaler.\n",
      "  scaled_data = scaler.transform(data)\n"
     ]
    },
    {
     "name": "stdout",
     "output_type": "stream",
     "text": [
      "Finding minimum number of dimensions to explain 90.0% of the variance...\n",
      "\n",
      "        Dimensions: 17,\n",
      "        Variance explained: 90.8%\n",
      "        \n",
      "Scaling data using StandardScaler...\n"
     ]
    },
    {
     "name": "stderr",
     "output_type": "stream",
     "text": [
      "/home/dgiles/anaconda3/envs/KeplerFull37/lib/python3.7/site-packages/sklearn/preprocessing/data.py:645: DataConversionWarning: Data with input dtype float64, object were all converted to float64 by StandardScaler.\n",
      "  return self.partial_fit(X, y)\n",
      "python/quarterTools.py:90: DataConversionWarning: Data with input dtype float64, object were all converted to float64 by StandardScaler.\n",
      "  scaled_data = scaler.transform(data)\n"
     ]
    },
    {
     "name": "stdout",
     "output_type": "stream",
     "text": [
      "Finding minimum number of dimensions to explain 95.0% of the variance...\n",
      "\n",
      "        Dimensions: 22,\n",
      "        Variance explained: 95.2%\n",
      "        \n",
      "Scaling data using StandardScaler...\n"
     ]
    },
    {
     "name": "stderr",
     "output_type": "stream",
     "text": [
      "/home/dgiles/anaconda3/envs/KeplerFull37/lib/python3.7/site-packages/sklearn/preprocessing/data.py:645: DataConversionWarning: Data with input dtype float64, object were all converted to float64 by StandardScaler.\n",
      "  return self.partial_fit(X, y)\n",
      "python/quarterTools.py:90: DataConversionWarning: Data with input dtype float64, object were all converted to float64 by StandardScaler.\n",
      "  scaled_data = scaler.transform(data)\n"
     ]
    },
    {
     "name": "stdout",
     "output_type": "stream",
     "text": [
      "Finding minimum number of dimensions to explain 99.0% of the variance...\n",
      "\n",
      "        Dimensions: 34,\n",
      "        Variance explained: 99.1%\n",
      "        \n",
      "Starting Q10.\n",
      "Scaling data using StandardScaler...\n"
     ]
    },
    {
     "name": "stderr",
     "output_type": "stream",
     "text": [
      "/home/dgiles/anaconda3/envs/KeplerFull37/lib/python3.7/site-packages/sklearn/preprocessing/data.py:645: DataConversionWarning: Data with input dtype float64, object were all converted to float64 by StandardScaler.\n",
      "  return self.partial_fit(X, y)\n",
      "python/quarterTools.py:90: DataConversionWarning: Data with input dtype float64, object were all converted to float64 by StandardScaler.\n",
      "  scaled_data = scaler.transform(data)\n"
     ]
    },
    {
     "name": "stdout",
     "output_type": "stream",
     "text": [
      "Finding minimum number of dimensions to explain 90.0% of the variance...\n",
      "\n",
      "        Dimensions: 18,\n",
      "        Variance explained: 90.7%\n",
      "        \n",
      "Scaling data using StandardScaler...\n"
     ]
    },
    {
     "name": "stderr",
     "output_type": "stream",
     "text": [
      "/home/dgiles/anaconda3/envs/KeplerFull37/lib/python3.7/site-packages/sklearn/preprocessing/data.py:645: DataConversionWarning: Data with input dtype float64, object were all converted to float64 by StandardScaler.\n",
      "  return self.partial_fit(X, y)\n",
      "python/quarterTools.py:90: DataConversionWarning: Data with input dtype float64, object were all converted to float64 by StandardScaler.\n",
      "  scaled_data = scaler.transform(data)\n"
     ]
    },
    {
     "name": "stdout",
     "output_type": "stream",
     "text": [
      "Finding minimum number of dimensions to explain 95.0% of the variance...\n",
      "\n",
      "        Dimensions: 23,\n",
      "        Variance explained: 95.0%\n",
      "        \n",
      "Scaling data using StandardScaler...\n"
     ]
    },
    {
     "name": "stderr",
     "output_type": "stream",
     "text": [
      "/home/dgiles/anaconda3/envs/KeplerFull37/lib/python3.7/site-packages/sklearn/preprocessing/data.py:645: DataConversionWarning: Data with input dtype float64, object were all converted to float64 by StandardScaler.\n",
      "  return self.partial_fit(X, y)\n",
      "python/quarterTools.py:90: DataConversionWarning: Data with input dtype float64, object were all converted to float64 by StandardScaler.\n",
      "  scaled_data = scaler.transform(data)\n"
     ]
    },
    {
     "name": "stdout",
     "output_type": "stream",
     "text": [
      "Finding minimum number of dimensions to explain 99.0% of the variance...\n",
      "\n",
      "        Dimensions: 35,\n",
      "        Variance explained: 99.0%\n",
      "        \n",
      "Starting Q11.\n",
      "Scaling data using StandardScaler...\n"
     ]
    },
    {
     "name": "stderr",
     "output_type": "stream",
     "text": [
      "/home/dgiles/anaconda3/envs/KeplerFull37/lib/python3.7/site-packages/sklearn/preprocessing/data.py:645: DataConversionWarning: Data with input dtype float64, object were all converted to float64 by StandardScaler.\n",
      "  return self.partial_fit(X, y)\n",
      "python/quarterTools.py:90: DataConversionWarning: Data with input dtype float64, object were all converted to float64 by StandardScaler.\n",
      "  scaled_data = scaler.transform(data)\n"
     ]
    },
    {
     "name": "stdout",
     "output_type": "stream",
     "text": [
      "Finding minimum number of dimensions to explain 90.0% of the variance...\n",
      "\n",
      "        Dimensions: 16,\n",
      "        Variance explained: 90.5%\n",
      "        \n",
      "Scaling data using StandardScaler...\n"
     ]
    },
    {
     "name": "stderr",
     "output_type": "stream",
     "text": [
      "/home/dgiles/anaconda3/envs/KeplerFull37/lib/python3.7/site-packages/sklearn/preprocessing/data.py:645: DataConversionWarning: Data with input dtype float64, object were all converted to float64 by StandardScaler.\n",
      "  return self.partial_fit(X, y)\n",
      "python/quarterTools.py:90: DataConversionWarning: Data with input dtype float64, object were all converted to float64 by StandardScaler.\n",
      "  scaled_data = scaler.transform(data)\n"
     ]
    },
    {
     "name": "stdout",
     "output_type": "stream",
     "text": [
      "Finding minimum number of dimensions to explain 95.0% of the variance...\n",
      "\n",
      "        Dimensions: 21,\n",
      "        Variance explained: 95.5%\n",
      "        \n",
      "Scaling data using StandardScaler...\n"
     ]
    },
    {
     "name": "stderr",
     "output_type": "stream",
     "text": [
      "/home/dgiles/anaconda3/envs/KeplerFull37/lib/python3.7/site-packages/sklearn/preprocessing/data.py:645: DataConversionWarning: Data with input dtype float64, object were all converted to float64 by StandardScaler.\n",
      "  return self.partial_fit(X, y)\n",
      "python/quarterTools.py:90: DataConversionWarning: Data with input dtype float64, object were all converted to float64 by StandardScaler.\n",
      "  scaled_data = scaler.transform(data)\n"
     ]
    },
    {
     "name": "stdout",
     "output_type": "stream",
     "text": [
      "Finding minimum number of dimensions to explain 99.0% of the variance...\n",
      "\n",
      "        Dimensions: 32,\n",
      "        Variance explained: 99.1%\n",
      "        \n",
      "Starting Q12.\n",
      "Scaling data using StandardScaler...\n"
     ]
    },
    {
     "name": "stderr",
     "output_type": "stream",
     "text": [
      "/home/dgiles/anaconda3/envs/KeplerFull37/lib/python3.7/site-packages/sklearn/preprocessing/data.py:645: DataConversionWarning: Data with input dtype float64, object were all converted to float64 by StandardScaler.\n",
      "  return self.partial_fit(X, y)\n",
      "python/quarterTools.py:90: DataConversionWarning: Data with input dtype float64, object were all converted to float64 by StandardScaler.\n",
      "  scaled_data = scaler.transform(data)\n"
     ]
    },
    {
     "name": "stdout",
     "output_type": "stream",
     "text": [
      "Finding minimum number of dimensions to explain 90.0% of the variance...\n",
      "\n",
      "        Dimensions: 19,\n",
      "        Variance explained: 90.8%\n",
      "        \n",
      "Scaling data using StandardScaler...\n"
     ]
    },
    {
     "name": "stderr",
     "output_type": "stream",
     "text": [
      "/home/dgiles/anaconda3/envs/KeplerFull37/lib/python3.7/site-packages/sklearn/preprocessing/data.py:645: DataConversionWarning: Data with input dtype float64, object were all converted to float64 by StandardScaler.\n",
      "  return self.partial_fit(X, y)\n",
      "python/quarterTools.py:90: DataConversionWarning: Data with input dtype float64, object were all converted to float64 by StandardScaler.\n",
      "  scaled_data = scaler.transform(data)\n"
     ]
    },
    {
     "name": "stdout",
     "output_type": "stream",
     "text": [
      "Finding minimum number of dimensions to explain 95.0% of the variance...\n",
      "\n",
      "        Dimensions: 24,\n",
      "        Variance explained: 95.4%\n",
      "        \n",
      "Scaling data using StandardScaler...\n"
     ]
    },
    {
     "name": "stderr",
     "output_type": "stream",
     "text": [
      "/home/dgiles/anaconda3/envs/KeplerFull37/lib/python3.7/site-packages/sklearn/preprocessing/data.py:645: DataConversionWarning: Data with input dtype float64, object were all converted to float64 by StandardScaler.\n",
      "  return self.partial_fit(X, y)\n",
      "python/quarterTools.py:90: DataConversionWarning: Data with input dtype float64, object were all converted to float64 by StandardScaler.\n",
      "  scaled_data = scaler.transform(data)\n"
     ]
    },
    {
     "name": "stdout",
     "output_type": "stream",
     "text": [
      "Finding minimum number of dimensions to explain 99.0% of the variance...\n",
      "\n",
      "        Dimensions: 35,\n",
      "        Variance explained: 99.1%\n",
      "        \n",
      "Starting Q13.\n",
      "Scaling data using StandardScaler...\n"
     ]
    },
    {
     "name": "stderr",
     "output_type": "stream",
     "text": [
      "/home/dgiles/anaconda3/envs/KeplerFull37/lib/python3.7/site-packages/sklearn/preprocessing/data.py:645: DataConversionWarning: Data with input dtype float64, object were all converted to float64 by StandardScaler.\n",
      "  return self.partial_fit(X, y)\n",
      "python/quarterTools.py:90: DataConversionWarning: Data with input dtype float64, object were all converted to float64 by StandardScaler.\n",
      "  scaled_data = scaler.transform(data)\n"
     ]
    },
    {
     "name": "stdout",
     "output_type": "stream",
     "text": [
      "Finding minimum number of dimensions to explain 90.0% of the variance...\n",
      "\n",
      "        Dimensions: 19,\n",
      "        Variance explained: 91.1%\n",
      "        \n",
      "Scaling data using StandardScaler...\n"
     ]
    },
    {
     "name": "stderr",
     "output_type": "stream",
     "text": [
      "/home/dgiles/anaconda3/envs/KeplerFull37/lib/python3.7/site-packages/sklearn/preprocessing/data.py:645: DataConversionWarning: Data with input dtype float64, object were all converted to float64 by StandardScaler.\n",
      "  return self.partial_fit(X, y)\n",
      "python/quarterTools.py:90: DataConversionWarning: Data with input dtype float64, object were all converted to float64 by StandardScaler.\n",
      "  scaled_data = scaler.transform(data)\n"
     ]
    },
    {
     "name": "stdout",
     "output_type": "stream",
     "text": [
      "Finding minimum number of dimensions to explain 95.0% of the variance...\n",
      "\n",
      "        Dimensions: 24,\n",
      "        Variance explained: 95.1%\n",
      "        \n",
      "Scaling data using StandardScaler...\n"
     ]
    },
    {
     "name": "stderr",
     "output_type": "stream",
     "text": [
      "/home/dgiles/anaconda3/envs/KeplerFull37/lib/python3.7/site-packages/sklearn/preprocessing/data.py:645: DataConversionWarning: Data with input dtype float64, object were all converted to float64 by StandardScaler.\n",
      "  return self.partial_fit(X, y)\n",
      "python/quarterTools.py:90: DataConversionWarning: Data with input dtype float64, object were all converted to float64 by StandardScaler.\n",
      "  scaled_data = scaler.transform(data)\n"
     ]
    },
    {
     "name": "stdout",
     "output_type": "stream",
     "text": [
      "Finding minimum number of dimensions to explain 99.0% of the variance...\n",
      "\n",
      "        Dimensions: 36,\n",
      "        Variance explained: 99.0%\n",
      "        \n",
      "Starting Q14.\n",
      "Scaling data using StandardScaler...\n"
     ]
    },
    {
     "name": "stderr",
     "output_type": "stream",
     "text": [
      "/home/dgiles/anaconda3/envs/KeplerFull37/lib/python3.7/site-packages/sklearn/preprocessing/data.py:645: DataConversionWarning: Data with input dtype float64, object were all converted to float64 by StandardScaler.\n",
      "  return self.partial_fit(X, y)\n",
      "python/quarterTools.py:90: DataConversionWarning: Data with input dtype float64, object were all converted to float64 by StandardScaler.\n",
      "  scaled_data = scaler.transform(data)\n"
     ]
    },
    {
     "name": "stdout",
     "output_type": "stream",
     "text": [
      "Finding minimum number of dimensions to explain 90.0% of the variance...\n",
      "\n",
      "        Dimensions: 18,\n",
      "        Variance explained: 90.0%\n",
      "        \n",
      "Scaling data using StandardScaler...\n"
     ]
    },
    {
     "name": "stderr",
     "output_type": "stream",
     "text": [
      "/home/dgiles/anaconda3/envs/KeplerFull37/lib/python3.7/site-packages/sklearn/preprocessing/data.py:645: DataConversionWarning: Data with input dtype float64, object were all converted to float64 by StandardScaler.\n",
      "  return self.partial_fit(X, y)\n",
      "python/quarterTools.py:90: DataConversionWarning: Data with input dtype float64, object were all converted to float64 by StandardScaler.\n",
      "  scaled_data = scaler.transform(data)\n"
     ]
    },
    {
     "name": "stdout",
     "output_type": "stream",
     "text": [
      "Finding minimum number of dimensions to explain 95.0% of the variance...\n",
      "\n",
      "        Dimensions: 24,\n",
      "        Variance explained: 95.2%\n",
      "        \n",
      "Scaling data using StandardScaler...\n"
     ]
    },
    {
     "name": "stderr",
     "output_type": "stream",
     "text": [
      "/home/dgiles/anaconda3/envs/KeplerFull37/lib/python3.7/site-packages/sklearn/preprocessing/data.py:645: DataConversionWarning: Data with input dtype float64, object were all converted to float64 by StandardScaler.\n",
      "  return self.partial_fit(X, y)\n",
      "python/quarterTools.py:90: DataConversionWarning: Data with input dtype float64, object were all converted to float64 by StandardScaler.\n",
      "  scaled_data = scaler.transform(data)\n"
     ]
    },
    {
     "name": "stdout",
     "output_type": "stream",
     "text": [
      "Finding minimum number of dimensions to explain 99.0% of the variance...\n",
      "\n",
      "        Dimensions: 36,\n",
      "        Variance explained: 99.1%\n",
      "        \n",
      "Starting Q15.\n",
      "Scaling data using StandardScaler...\n"
     ]
    },
    {
     "name": "stderr",
     "output_type": "stream",
     "text": [
      "/home/dgiles/anaconda3/envs/KeplerFull37/lib/python3.7/site-packages/sklearn/preprocessing/data.py:645: DataConversionWarning: Data with input dtype float64, object were all converted to float64 by StandardScaler.\n",
      "  return self.partial_fit(X, y)\n",
      "python/quarterTools.py:90: DataConversionWarning: Data with input dtype float64, object were all converted to float64 by StandardScaler.\n",
      "  scaled_data = scaler.transform(data)\n"
     ]
    },
    {
     "name": "stdout",
     "output_type": "stream",
     "text": [
      "Finding minimum number of dimensions to explain 90.0% of the variance...\n",
      "\n",
      "        Dimensions: 18,\n",
      "        Variance explained: 91.1%\n",
      "        \n",
      "Scaling data using StandardScaler...\n"
     ]
    },
    {
     "name": "stderr",
     "output_type": "stream",
     "text": [
      "/home/dgiles/anaconda3/envs/KeplerFull37/lib/python3.7/site-packages/sklearn/preprocessing/data.py:645: DataConversionWarning: Data with input dtype float64, object were all converted to float64 by StandardScaler.\n",
      "  return self.partial_fit(X, y)\n",
      "python/quarterTools.py:90: DataConversionWarning: Data with input dtype float64, object were all converted to float64 by StandardScaler.\n",
      "  scaled_data = scaler.transform(data)\n"
     ]
    },
    {
     "name": "stdout",
     "output_type": "stream",
     "text": [
      "Finding minimum number of dimensions to explain 95.0% of the variance...\n",
      "\n",
      "        Dimensions: 23,\n",
      "        Variance explained: 95.6%\n",
      "        \n",
      "Scaling data using StandardScaler...\n"
     ]
    },
    {
     "name": "stderr",
     "output_type": "stream",
     "text": [
      "/home/dgiles/anaconda3/envs/KeplerFull37/lib/python3.7/site-packages/sklearn/preprocessing/data.py:645: DataConversionWarning: Data with input dtype float64, object were all converted to float64 by StandardScaler.\n",
      "  return self.partial_fit(X, y)\n",
      "python/quarterTools.py:90: DataConversionWarning: Data with input dtype float64, object were all converted to float64 by StandardScaler.\n",
      "  scaled_data = scaler.transform(data)\n"
     ]
    },
    {
     "name": "stdout",
     "output_type": "stream",
     "text": [
      "Finding minimum number of dimensions to explain 99.0% of the variance...\n",
      "\n",
      "        Dimensions: 34,\n",
      "        Variance explained: 99.0%\n",
      "        \n",
      "Starting Q16.\n",
      "Scaling data using StandardScaler...\n"
     ]
    },
    {
     "name": "stderr",
     "output_type": "stream",
     "text": [
      "/home/dgiles/anaconda3/envs/KeplerFull37/lib/python3.7/site-packages/sklearn/preprocessing/data.py:645: DataConversionWarning: Data with input dtype float64, object were all converted to float64 by StandardScaler.\n",
      "  return self.partial_fit(X, y)\n",
      "python/quarterTools.py:90: DataConversionWarning: Data with input dtype float64, object were all converted to float64 by StandardScaler.\n",
      "  scaled_data = scaler.transform(data)\n"
     ]
    },
    {
     "name": "stdout",
     "output_type": "stream",
     "text": [
      "Finding minimum number of dimensions to explain 90.0% of the variance...\n",
      "\n",
      "        Dimensions: 17,\n",
      "        Variance explained: 90.4%\n",
      "        \n",
      "Scaling data using StandardScaler...\n"
     ]
    },
    {
     "name": "stderr",
     "output_type": "stream",
     "text": [
      "/home/dgiles/anaconda3/envs/KeplerFull37/lib/python3.7/site-packages/sklearn/preprocessing/data.py:645: DataConversionWarning: Data with input dtype float64, object were all converted to float64 by StandardScaler.\n",
      "  return self.partial_fit(X, y)\n",
      "python/quarterTools.py:90: DataConversionWarning: Data with input dtype float64, object were all converted to float64 by StandardScaler.\n",
      "  scaled_data = scaler.transform(data)\n"
     ]
    },
    {
     "name": "stdout",
     "output_type": "stream",
     "text": [
      "Finding minimum number of dimensions to explain 95.0% of the variance...\n",
      "\n",
      "        Dimensions: 23,\n",
      "        Variance explained: 95.5%\n",
      "        \n",
      "Scaling data using StandardScaler...\n"
     ]
    },
    {
     "name": "stderr",
     "output_type": "stream",
     "text": [
      "/home/dgiles/anaconda3/envs/KeplerFull37/lib/python3.7/site-packages/sklearn/preprocessing/data.py:645: DataConversionWarning: Data with input dtype float64, object were all converted to float64 by StandardScaler.\n",
      "  return self.partial_fit(X, y)\n",
      "python/quarterTools.py:90: DataConversionWarning: Data with input dtype float64, object were all converted to float64 by StandardScaler.\n",
      "  scaled_data = scaler.transform(data)\n"
     ]
    },
    {
     "name": "stdout",
     "output_type": "stream",
     "text": [
      "Finding minimum number of dimensions to explain 99.0% of the variance...\n",
      "\n",
      "        Dimensions: 35,\n",
      "        Variance explained: 99.1%\n",
      "        \n",
      "Starting Q17.\n",
      "Scaling data using StandardScaler...\n"
     ]
    },
    {
     "name": "stderr",
     "output_type": "stream",
     "text": [
      "/home/dgiles/anaconda3/envs/KeplerFull37/lib/python3.7/site-packages/sklearn/preprocessing/data.py:645: DataConversionWarning: Data with input dtype float64, object were all converted to float64 by StandardScaler.\n",
      "  return self.partial_fit(X, y)\n",
      "python/quarterTools.py:90: DataConversionWarning: Data with input dtype float64, object were all converted to float64 by StandardScaler.\n",
      "  scaled_data = scaler.transform(data)\n"
     ]
    },
    {
     "name": "stdout",
     "output_type": "stream",
     "text": [
      "Finding minimum number of dimensions to explain 90.0% of the variance...\n",
      "\n",
      "        Dimensions: 16,\n",
      "        Variance explained: 91.0%\n",
      "        \n",
      "Scaling data using StandardScaler...\n"
     ]
    },
    {
     "name": "stderr",
     "output_type": "stream",
     "text": [
      "/home/dgiles/anaconda3/envs/KeplerFull37/lib/python3.7/site-packages/sklearn/preprocessing/data.py:645: DataConversionWarning: Data with input dtype float64, object were all converted to float64 by StandardScaler.\n",
      "  return self.partial_fit(X, y)\n",
      "python/quarterTools.py:90: DataConversionWarning: Data with input dtype float64, object were all converted to float64 by StandardScaler.\n",
      "  scaled_data = scaler.transform(data)\n"
     ]
    },
    {
     "name": "stdout",
     "output_type": "stream",
     "text": [
      "Finding minimum number of dimensions to explain 95.0% of the variance...\n",
      "\n",
      "        Dimensions: 21,\n",
      "        Variance explained: 95.4%\n",
      "        \n",
      "Scaling data using StandardScaler...\n"
     ]
    },
    {
     "name": "stderr",
     "output_type": "stream",
     "text": [
      "/home/dgiles/anaconda3/envs/KeplerFull37/lib/python3.7/site-packages/sklearn/preprocessing/data.py:645: DataConversionWarning: Data with input dtype float64, object were all converted to float64 by StandardScaler.\n",
      "  return self.partial_fit(X, y)\n",
      "python/quarterTools.py:90: DataConversionWarning: Data with input dtype float64, object were all converted to float64 by StandardScaler.\n",
      "  scaled_data = scaler.transform(data)\n"
     ]
    },
    {
     "name": "stdout",
     "output_type": "stream",
     "text": [
      "Finding minimum number of dimensions to explain 99.0% of the variance...\n",
      "\n",
      "        Dimensions: 31,\n",
      "        Variance explained: 99.2%\n",
      "        \n"
     ]
    }
   ],
   "source": [
    "for Q in Q_dict.keys():\n",
    "    print(\"Starting {}.\".format(Q))\n",
    "    pca90 = Q_dict[Q].pca_red(df='self',red_name='PCA90',var_rat=0.9,scaled=False,verbose=True)\n",
    "    pca95 = Q_dict[Q].pca_red(df='self',red_name='PCA95',var_rat=0.95,scaled=False,verbose=True)\n",
    "    pca99 = Q_dict[Q].pca_red(df='self',red_name='PCA99',var_rat=0.99,scaled=False,verbose=True)"
   ]
  },
  {
   "cell_type": "code",
   "execution_count": 5,
   "metadata": {},
   "outputs": [],
   "source": [
    "def dist_scores(data,d2s=None,k=1):\n",
    "    \"\"\"\n",
    "    This method scores data based on distance to the k-th neighbor for a range of k's from kmin to kmax\n",
    "    Args:\n",
    "        data (Numpy array or Pandas dataframe) - Full set of data, scaled appropriately.\n",
    "        d2s (Numpy array or Pandas dataframe) - Subset of data to be scored (if None, scores the full dataset)\n",
    "        k (integer) - neighbor to score to, defaults to 1st nearest neighbor\n",
    "    Returns:\n",
    "        scoress (Numpy array) - MinMax scaled scores for data in d2s. \n",
    "    \"\"\"\n",
    "    if type(d2s)==type(None):\n",
    "        d2s=data\n",
    "    nbrs = NearestNeighbors(n_neighbors=k+1, algorithm='ball_tree',n_jobs=-1).fit(data)\n",
    "    distances, indices = nbrs.kneighbors(d2s)\n",
    "\n",
    "    # empty numpy array which will contain scores\n",
    "    scores = np.zeros((1,len(distances))) \n",
    "    \n",
    "    k_scores = distances[:,k]\n",
    "    # not using sklearn's preprocessing module bc scaling 1D at a time.\n",
    "    scores = (k_scores-k_scores.min())/(k_scores.max()-k_scores.min()) #min max scaled\n",
    "    \n",
    "    # TODO: readjust scaling so that the extreme outliers don't affect scores of the rest.\n",
    "    # Potentially scale 90th percentile, define all beyond that as having a score of 1.\n",
    "    \n",
    "    return scores"
   ]
  },
  {
   "cell_type": "code",
   "execution_count": 6,
   "metadata": {},
   "outputs": [],
   "source": [
    "def dist_scores_s(data,d2s=None,samp_size=10000,n_iter=10,k=1):\n",
    "    \"\"\"\n",
    "    The 's' stands for speed. This scores to a sample subset rather than the full set of data.\n",
    "    This means that the nearest neighbor examined is really the nearest neighbor in the subset.\n",
    "    Args:\n",
    "        data (Numpy array or Pandas dataframe) - Full set of data (scaled and culled of irrelevant data)\n",
    "        d2s (Numpy array or Pandas dataframe) - Subset of data to be scored (optional if interested in a subset)\n",
    "        k (integer) - Neighbor to which the distance is considered the score\n",
    "        n_iter (integer) - Number of iterations, \n",
    "            ***TODO: if None, will loop until scores converge (not implemented)***\n",
    "    Returns:\n",
    "        scores (Numpy array) - MinMax scaled scores for data in d2s. \n",
    "        \n",
    "    Purpose:\n",
    "        Calculate scores for each point within the dataset in an efficient manner. The score is based on the \n",
    "        distance to the k nearest neighbor, but in this implementation a reference sample is generated and\n",
    "        used to calculate distances instead of the genuine neighbors. This is in order to make this process \n",
    "        scalable to larger datasets, calculating the actual k nearest neighbor distance for all points for\n",
    "        high dimensional data is not particularly efficient.\n",
    "        Consideration: use an average of k nearest neighbor distances for several values of k to account for \n",
    "        imperfect distance analogies.\n",
    "        \n",
    "    \"\"\"\n",
    "    if type(d2s)==type(None):\n",
    "        d2s=data\n",
    "    \n",
    "    # Initial run\n",
    "    ref_data_sample = data.sample(n=samp_size)\n",
    "    scores_i = dist_scores(ref_data_sample,d2s=d2s,k=k)\n",
    "    for i in range(n_iter):\n",
    "        # Creating a random sample of reference points to which distances will be calculated for all data\n",
    "        # Speed improvements: using ball_tree to calculate distance to only k+1 neighbors\n",
    "        # Using subset of reference points for calculating distances\n",
    "        ref_data_sample = data.sample(n=samp_size)\n",
    "        scores_i += dist_scores(ref_data_sample,d2s=d2s,k=k)\n",
    "    \n",
    "    # empty numpy array which will contain scores\n",
    "    scores = np.zeros((1,len(data))) \n",
    "    scores = scores_i/(n_iter+1)\n",
    "    return scores\n"
   ]
  },
  {
   "cell_type": "code",
   "execution_count": 51,
   "metadata": {
    "collapsed": true,
    "jupyter": {
     "outputs_hidden": true
    }
   },
   "outputs": [
    {
     "name": "stderr",
     "output_type": "stream",
     "text": [
      "/home/dgiles/anaconda3/envs/KeplerFull37/lib/python3.7/site-packages/sklearn/preprocessing/data.py:645: DataConversionWarning: Data with input dtype float64, object were all converted to float64 by StandardScaler.\n",
      "  return self.partial_fit(X, y)\n",
      "python/quarterTools.py:90: DataConversionWarning: Data with input dtype float64, object were all converted to float64 by StandardScaler.\n",
      "  scaled_data = scaler.transform(data)\n",
      "/home/dgiles/anaconda3/envs/KeplerFull37/lib/python3.7/site-packages/sklearn/preprocessing/data.py:645: DataConversionWarning: Data with input dtype float64, object were all converted to float64 by StandardScaler.\n",
      "  return self.partial_fit(X, y)\n",
      "python/quarterTools.py:90: DataConversionWarning: Data with input dtype float64, object were all converted to float64 by StandardScaler.\n",
      "  scaled_data = scaler.transform(data)\n",
      "/home/dgiles/anaconda3/envs/KeplerFull37/lib/python3.7/site-packages/sklearn/preprocessing/data.py:645: DataConversionWarning: Data with input dtype float64, object were all converted to float64 by StandardScaler.\n",
      "  return self.partial_fit(X, y)\n",
      "python/quarterTools.py:90: DataConversionWarning: Data with input dtype float64, object were all converted to float64 by StandardScaler.\n",
      "  scaled_data = scaler.transform(data)\n",
      "/home/dgiles/anaconda3/envs/KeplerFull37/lib/python3.7/site-packages/sklearn/preprocessing/data.py:645: DataConversionWarning: Data with input dtype float64, object were all converted to float64 by StandardScaler.\n",
      "  return self.partial_fit(X, y)\n",
      "python/quarterTools.py:90: DataConversionWarning: Data with input dtype float64, object were all converted to float64 by StandardScaler.\n",
      "  scaled_data = scaler.transform(data)\n",
      "/home/dgiles/anaconda3/envs/KeplerFull37/lib/python3.7/site-packages/sklearn/preprocessing/data.py:645: DataConversionWarning: Data with input dtype float64, object were all converted to float64 by StandardScaler.\n",
      "  return self.partial_fit(X, y)\n",
      "python/quarterTools.py:90: DataConversionWarning: Data with input dtype float64, object were all converted to float64 by StandardScaler.\n",
      "  scaled_data = scaler.transform(data)\n",
      "/home/dgiles/anaconda3/envs/KeplerFull37/lib/python3.7/site-packages/sklearn/preprocessing/data.py:645: DataConversionWarning: Data with input dtype float64, object were all converted to float64 by StandardScaler.\n",
      "  return self.partial_fit(X, y)\n",
      "python/quarterTools.py:90: DataConversionWarning: Data with input dtype float64, object were all converted to float64 by StandardScaler.\n",
      "  scaled_data = scaler.transform(data)\n",
      "/home/dgiles/anaconda3/envs/KeplerFull37/lib/python3.7/site-packages/sklearn/preprocessing/data.py:645: DataConversionWarning: Data with input dtype float64, object were all converted to float64 by StandardScaler.\n",
      "  return self.partial_fit(X, y)\n",
      "python/quarterTools.py:90: DataConversionWarning: Data with input dtype float64, object were all converted to float64 by StandardScaler.\n",
      "  scaled_data = scaler.transform(data)\n",
      "/home/dgiles/anaconda3/envs/KeplerFull37/lib/python3.7/site-packages/sklearn/preprocessing/data.py:645: DataConversionWarning: Data with input dtype float64, object were all converted to float64 by StandardScaler.\n",
      "  return self.partial_fit(X, y)\n",
      "python/quarterTools.py:90: DataConversionWarning: Data with input dtype float64, object were all converted to float64 by StandardScaler.\n",
      "  scaled_data = scaler.transform(data)\n",
      "/home/dgiles/anaconda3/envs/KeplerFull37/lib/python3.7/site-packages/sklearn/preprocessing/data.py:645: DataConversionWarning: Data with input dtype float64, object were all converted to float64 by StandardScaler.\n",
      "  return self.partial_fit(X, y)\n",
      "python/quarterTools.py:90: DataConversionWarning: Data with input dtype float64, object were all converted to float64 by StandardScaler.\n",
      "  scaled_data = scaler.transform(data)\n",
      "/home/dgiles/anaconda3/envs/KeplerFull37/lib/python3.7/site-packages/sklearn/preprocessing/data.py:645: DataConversionWarning: Data with input dtype float64, object were all converted to float64 by StandardScaler.\n",
      "  return self.partial_fit(X, y)\n",
      "python/quarterTools.py:90: DataConversionWarning: Data with input dtype float64, object were all converted to float64 by StandardScaler.\n",
      "  scaled_data = scaler.transform(data)\n",
      "/home/dgiles/anaconda3/envs/KeplerFull37/lib/python3.7/site-packages/sklearn/preprocessing/data.py:645: DataConversionWarning: Data with input dtype float64, object were all converted to float64 by StandardScaler.\n",
      "  return self.partial_fit(X, y)\n",
      "python/quarterTools.py:90: DataConversionWarning: Data with input dtype float64, object were all converted to float64 by StandardScaler.\n",
      "  scaled_data = scaler.transform(data)\n",
      "/home/dgiles/anaconda3/envs/KeplerFull37/lib/python3.7/site-packages/sklearn/preprocessing/data.py:645: DataConversionWarning: Data with input dtype float64, object were all converted to float64 by StandardScaler.\n",
      "  return self.partial_fit(X, y)\n",
      "python/quarterTools.py:90: DataConversionWarning: Data with input dtype float64, object were all converted to float64 by StandardScaler.\n",
      "  scaled_data = scaler.transform(data)\n",
      "/home/dgiles/anaconda3/envs/KeplerFull37/lib/python3.7/site-packages/sklearn/preprocessing/data.py:645: DataConversionWarning: Data with input dtype float64, object were all converted to float64 by StandardScaler.\n",
      "  return self.partial_fit(X, y)\n",
      "python/quarterTools.py:90: DataConversionWarning: Data with input dtype float64, object were all converted to float64 by StandardScaler.\n",
      "  scaled_data = scaler.transform(data)\n",
      "/home/dgiles/anaconda3/envs/KeplerFull37/lib/python3.7/site-packages/sklearn/preprocessing/data.py:645: DataConversionWarning: Data with input dtype float64, object were all converted to float64 by StandardScaler.\n",
      "  return self.partial_fit(X, y)\n",
      "python/quarterTools.py:90: DataConversionWarning: Data with input dtype float64, object were all converted to float64 by StandardScaler.\n",
      "  scaled_data = scaler.transform(data)\n",
      "/home/dgiles/anaconda3/envs/KeplerFull37/lib/python3.7/site-packages/sklearn/preprocessing/data.py:645: DataConversionWarning: Data with input dtype float64, object were all converted to float64 by StandardScaler.\n",
      "  return self.partial_fit(X, y)\n",
      "python/quarterTools.py:90: DataConversionWarning: Data with input dtype float64, object were all converted to float64 by StandardScaler.\n",
      "  scaled_data = scaler.transform(data)\n",
      "/home/dgiles/anaconda3/envs/KeplerFull37/lib/python3.7/site-packages/sklearn/preprocessing/data.py:645: DataConversionWarning: Data with input dtype float64, object were all converted to float64 by StandardScaler.\n",
      "  return self.partial_fit(X, y)\n",
      "python/quarterTools.py:90: DataConversionWarning: Data with input dtype float64, object were all converted to float64 by StandardScaler.\n",
      "  scaled_data = scaler.transform(data)\n"
     ]
    }
   ],
   "source": [
    "# Starting with full-featured scoring\n",
    "# Loop through all quarters in Q_dict.\n",
    "for Q in Q_dict.keys():\n",
    "    # Use StandardScaler to normalize all features\n",
    "    Q_data_scaled = qt.data_scaler(Q_dict[Q].data)\n",
    "    # Score each object by its proximity to its neighbors, use sampling to improve computing time\n",
    "    scores = dist_scores_s(data = Q_data_scaled,samp_size=1000,n_iter=10,k=1)\n",
    "    # Scale the data by the score of the sinusoid (which must be the final index)\n",
    "    scoresdf = pd.DataFrame(data = scores.T/scores[-1], columns=['Unreduced'],index=Q_data_scaled.index)\n",
    "    # Save scores to the cluster outlier object. \n",
    "    # Note: Not sure why it's rescaled... probably leftover and redundant. Shouldn't hurt anything\n",
    "    # since the score of the sinusoid should be scaled to 1 by all post-score scaling.\n",
    "    Q_dict[Q].scores = scoresdf/scoresdf.loc['sinusoid','Unreduced']"
   ]
  },
  {
   "cell_type": "code",
   "execution_count": 52,
   "metadata": {},
   "outputs": [],
   "source": [
    "for Q in Q_dict.keys():\n",
    "    for red_key in Q_dict[Q].reductions.keys():\n",
    "        Q_data_scaled = qt.data_scaler(Q_dict[Q].reductions[red_key])\n",
    "        scores = dist_scores_s(data = Q_data_scaled,samp_size=1000,n_iter=10,k=1)\n",
    "        scoresdf = pd.DataFrame(data = scores.T/scores[-1], columns=[red_key],index=Q_data_scaled.index)\n",
    "        Q_dict[Q].scores[red_key]=scoresdf[red_key]"
   ]
  },
  {
   "cell_type": "code",
   "execution_count": 226,
   "metadata": {},
   "outputs": [],
   "source": [
    "for Q in Q_dict.keys():\n",
    "    Q_dict[Q].save()"
   ]
  },
  {
   "cell_type": "code",
   "execution_count": 245,
   "metadata": {},
   "outputs": [],
   "source": [
    "def plot_scores(quarter_dict,id='8462852',qs=['Q4','Q8','Q11','Q16']):\n",
    "    sampler = qt.make_sampler([id])\n",
    "\n",
    "    pca90_scores = []\n",
    "    pca95_scores = []\n",
    "    pca99_scores = []\n",
    "    raw_scores = []\n",
    "\n",
    "    pca90_mean = []\n",
    "    pca95_mean = []\n",
    "    pca99_mean = []\n",
    "    raw_mean = []\n",
    "\n",
    "    for Q in qs:\n",
    "        print(Q)\n",
    "        Qid_scores = sampler(quarter_dict[Q].scores)\n",
    "        pca90_scores.append(Qid_scores.iloc[0,1])\n",
    "        pca95_scores.append(Qid_scores.iloc[0,2])\n",
    "        pca99_scores.append(Qid_scores.iloc[0,3])\n",
    "        raw_scores.append(Qid_scores.iloc[0,0])\n",
    "        \n",
    "        \"\"\"pca90_mean.append(quarter_dict[Q].scores.iloc[:,1].mean())\n",
    "        pca95_mean.append(quarter_dict[Q].scores.iloc[:,2].mean())\n",
    "        pca99_mean.append(quarter_dict[Q].scores.iloc[:,3].mean())\n",
    "        raw_mean.append(quarter_dict[Q].scores.iloc[:,0].mean())\"\"\"\n",
    "    \n",
    "    Qints = [int(i[1:]) for i in qs]  \n",
    "    plt.plot(Qints,pca90_scores,marker='x',label='PCA 90')\n",
    "    plt.plot(Qints,pca95_scores,marker='X',label='PCA 95')\n",
    "    plt.plot(Qints,pca99_scores,marker='o',label='PCA 99')\n",
    "    plt.plot(Qints,raw_scores,marker='.', label='All Features')\n",
    "    \"\"\" plt.plot(Qints,pca90_mean,c='black')\n",
    "    plt.plot(Qints,pca95_mean,c='black')\n",
    "    plt.plot(Qints,pca99_mean,c='black')\n",
    "    plt.plot(Qints,raw_mean,c='black')\"\"\"\n",
    "    \n",
    "    plt.title(\"KIC {} Scores\".format(id))\n",
    "    plt.xlabel(\"Quarter Number\")\n",
    "    plt.ylabel(\"Outlier Score\")\n",
    "    plt.legend()"
   ]
  },
  {
   "cell_type": "code",
   "execution_count": 219,
   "metadata": {},
   "outputs": [
    {
     "data": {
      "image/png": "[encoded data removed]",
      "text/plain": [
       "<Figure size 432x288 with 1 Axes>"
      ]
     },
     "metadata": {
      "needs_background": "light"
     },
     "output_type": "display_data"
    }
   ],
   "source": [
    "plot_scores(Q_dict, '8462852',Q_dict.keys())\n",
    "plt.savefig('Figures/Scoring/BoyajianScores.eps')"
   ]
  },
  {
   "cell_type": "code",
   "execution_count": 220,
   "metadata": {},
   "outputs": [
    {
     "data": {
      "text/plain": [
       "<Figure size 432x288 with 0 Axes>"
      ]
     },
     "metadata": {},
     "output_type": "display_data"
    }
   ],
   "source": [
    "plt.savefig('Figures/Scoring/BoyajianScores.eps')"
   ]
  },
  {
   "cell_type": "markdown",
   "metadata": {},
   "source": [
    "### Looking at previous scores, scaled 0 to 1 w/o a common reference"
   ]
  },
  {
   "cell_type": "code",
   "execution_count": 221,
   "metadata": {},
   "outputs": [],
   "source": [
    "Q_noref = dict()\n",
    "for i in range(1,18):\n",
    "    with open('/home/dgiles/Documents/KeplerLCs/output/Q{}.coo'.format(i),'rb') as file:\n",
    "        Q_noref['Q{}'.format(i)]=pickle.load(file)"
   ]
  },
  {
   "cell_type": "code",
   "execution_count": 222,
   "metadata": {},
   "outputs": [],
   "source": [
    "pca90_noref_scores=[]\n",
    "pca95_noref_scores=[]\n",
    "pca99_noref_scores=[]\n",
    "raw_noref_scores=[]\n",
    "\n",
    "for Q in Q_noref.keys():\n",
    "    pca90_series = Q_noref[Q].scores['PCA90_sAverage']\n",
    "    pca95_series = Q_noref[Q].scores['PCA95_sAverage']\n",
    "    pca99_series = Q_noref[Q].scores['PCA99_sAverage']\n",
    "    unreduced_series = Q_noref[Q].scores['sAverage']\n",
    "    frame = {'Unreduced':unreduced_series,\n",
    "             'PCA90':pca90_series,\n",
    "             'PCA95':pca95_series,\n",
    "             'PCA99':pca99_series}\n",
    "    score_frame = pd.DataFrame(frame)\n",
    "    \n",
    "    Q_tabby = tabby_sampler(score_frame)\n",
    "    pca90_noref_scores.append(Q_tabby.iloc[0,1])\n",
    "    pca95_noref_scores.append(Q_tabby.iloc[0,2])\n",
    "    pca99_noref_scores.append(Q_tabby.iloc[0,3])\n",
    "    raw_noref_scores.append(Q_tabby.iloc[0,0])"
   ]
  },
  {
   "cell_type": "code",
   "execution_count": 223,
   "metadata": {},
   "outputs": [
    {
     "data": {
      "text/plain": [
       "<matplotlib.legend.Legend at 0x7f7a6cdc0b00>"
      ]
     },
     "execution_count": 223,
     "metadata": {},
     "output_type": "execute_result"
    },
    {
     "data": {
      "image/png": "[encoded data removed]",
      "text/plain": [
       "<Figure size 432x288 with 1 Axes>"
      ]
     },
     "metadata": {
      "needs_background": "light"
     },
     "output_type": "display_data"
    }
   ],
   "source": [
    "plt.plot(range(1,18),pca90_noref_scores,marker='x',label='PCA 90')\n",
    "plt.plot(range(1,18),pca95_noref_scores,marker='X',label='PCA 95')\n",
    "plt.plot(range(1,18),pca99_noref_scores,marker='o',label='PCA 99')\n",
    "plt.plot(range(1,18),raw_noref_scores,marker='.', label='All Features')\n",
    "plt.title(\"Boyajian's Star Scores\")\n",
    "plt.legend()"
   ]
  },
  {
   "cell_type": "code",
   "execution_count": 155,
   "metadata": {},
   "outputs": [
    {
     "data": {
      "text/plain": [
       "Index(['4', '5', '6', '7', '8', '9', '10', '11', '12', '13', 'Average', 's4',\n",
       "       's5', 's6', 's7', 's8', 's9', 's10', 's11', 's12', 's13', 'sAverage',\n",
       "       'PCA90_4', 'PCA90_5', 'PCA90_6', 'PCA90_7', 'PCA90_8', 'PCA90_9',\n",
       "       'PCA90_10', 'PCA90_11', 'PCA90_12', 'PCA90_13', 'PCA90_Average',\n",
       "       'PCA90_s4', 'PCA90_s5', 'PCA90_s6', 'PCA90_s7', 'PCA90_s8', 'PCA90_s9',\n",
       "       'PCA90_s10', 'PCA90_s11', 'PCA90_s12', 'PCA90_s13', 'PCA90_sAverage',\n",
       "       'PCA95_4', 'PCA95_5', 'PCA95_6', 'PCA95_7', 'PCA95_8', 'PCA95_9',\n",
       "       'PCA95_10', 'PCA95_11', 'PCA95_12', 'PCA95_13', 'PCA95_Average',\n",
       "       'PCA95_s4', 'PCA95_s5', 'PCA95_s6', 'PCA95_s7', 'PCA95_s8', 'PCA95_s9',\n",
       "       'PCA95_s10', 'PCA95_s11', 'PCA95_s12', 'PCA95_s13', 'PCA95_sAverage',\n",
       "       'PCA99_4', 'PCA99_5', 'PCA99_6', 'PCA99_7', 'PCA99_8', 'PCA99_9',\n",
       "       'PCA99_10', 'PCA99_11', 'PCA99_12', 'PCA99_13', 'PCA99_Average',\n",
       "       'PCA99_s4', 'PCA99_s5', 'PCA99_s6', 'PCA99_s7', 'PCA99_s8', 'PCA99_s9',\n",
       "       'PCA99_s10', 'PCA99_s11', 'PCA99_s12', 'PCA99_s13', 'PCA99_sAverage'],\n",
       "      dtype='object')"
      ]
     },
     "execution_count": 155,
     "metadata": {},
     "output_type": "execute_result"
    }
   ],
   "source": [
    "Q_noref['Q2'].scores.keys()"
   ]
  },
  {
   "cell_type": "code",
   "execution_count": 7,
   "metadata": {},
   "outputs": [],
   "source": [
    "fts_minus_rats = ['longtermtrend', 'meanmedrat', 'skews', 'varss', 'coeffvar', 'stds',\n",
    "       'numoutliers', 'numnegoutliers', 'numposoutliers', 'numout1s', 'kurt',\n",
    "       'mad', 'maxslope', 'minslope', 'meanpslope', 'meannslope', 'g_asymm',\n",
    "       'rough_g_asymm', 'diff_asymm', 'skewslope', 'varabsslope', 'varslope',\n",
    "       'meanabsslope', 'absmeansecder', 'num_pspikes', 'num_nspikes',\n",
    "       'num_psdspikes', 'num_nsdspikes', 'stdratio', 'pstrend', 'num_zcross',\n",
    "       'num_pm', 'len_nmax', 'len_nmin', 'mautocorrcoef', 'ptpslopes',\n",
    "       'periodicity', 'periodicityr', 'naiveperiod', 'maxvars', 'maxvarsr',\n",
    "       'oeratio', 'amp', 'normamp', 'mbp', 'mid20', 'mid35', 'mid50', 'mid65',\n",
    "       'mid80', 'percentamp', 'magratio', 'sautocorrcoef', 'autocorrcoef',\n",
    "       'flatmean', 'tflatmean', 'roundmean', 'troundmean']\n"
   ]
  },
  {
   "cell_type": "code",
   "execution_count": 8,
   "metadata": {},
   "outputs": [],
   "source": [
    "Q='Q1'\n",
    "# Use StandardScaler to normalize all features\n",
    "Q_data_scaled = qt.data_scaler(Q_dict[Q].data.loc[:,fts_minus_rats])\n",
    "# Score each object by its proximity to its neighbors, use sampling to improve computing time\n",
    "scores = dist_scores_s(data = Q_data_scaled,samp_size=1000,n_iter=10,k=1)\n",
    "# Scale the data by the score of the sinusoid (which must be the final index)\n",
    "scoresdf = pd.DataFrame(data = scores.T/scores[-1], columns=['Unreduced'],index=Q_data_scaled.index)\n",
    "# Save scores to the cluster outlier object. \n",
    "# Note: Not sure why it's rescaled... probably leftover and redundant. Shouldn't hurt anything\n",
    "# since the score of the sinusoid should be scaled to 1 by all post-score scaling.\n",
    "Q_dict[Q].scores['minus_rats'] = scoresdf/scoresdf.loc['sinusoid','Unreduced']"
   ]
  },
  {
   "cell_type": "code",
   "execution_count": 9,
   "metadata": {},
   "outputs": [
    {
     "ename": "NameError",
     "evalue": "name 'Observations' is not defined",
     "output_type": "error",
     "traceback": [
      "\u001b[0;31m---------------------------------------------------------------------------\u001b[0m",
      "\u001b[0;31mNameError\u001b[0m                                 Traceback (most recent call last)",
      "\u001b[0;32m<ipython-input-9-f64542d553c1>\u001b[0m in \u001b[0;36m<module>\u001b[0;34m\u001b[0m\n\u001b[0;32m----> 1\u001b[0;31m \u001b[0mqt\u001b[0m\u001b[0;34m.\u001b[0m\u001b[0mplot_top_n\u001b[0m\u001b[0;34m(\u001b[0m\u001b[0mQ_dict\u001b[0m\u001b[0;34m[\u001b[0m\u001b[0;34m'Q1'\u001b[0m\u001b[0;34m]\u001b[0m\u001b[0;34m,\u001b[0m\u001b[0msortby\u001b[0m\u001b[0;34m=\u001b[0m\u001b[0;34m'minus_rats'\u001b[0m\u001b[0;34m)\u001b[0m\u001b[0;34m\u001b[0m\u001b[0;34m\u001b[0m\u001b[0m\n\u001b[0m",
      "\u001b[0;32m~/Documents/KeplerML/python/quarterTools.py\u001b[0m in \u001b[0;36mplot_top_n\u001b[0;34m(Q_coo, n, sortby, top_n_df)\u001b[0m\n\u001b[1;32m    397\u001b[0m     \u001b[0mfilenames\u001b[0m \u001b[0;34m=\u001b[0m \u001b[0mlist\u001b[0m\u001b[0;34m(\u001b[0m\u001b[0mtmp\u001b[0m\u001b[0;34m.\u001b[0m\u001b[0mindex\u001b[0m\u001b[0;34m[\u001b[0m\u001b[0;34m:\u001b[0m\u001b[0mn\u001b[0m\u001b[0;34m]\u001b[0m\u001b[0;34m)\u001b[0m\u001b[0;34m\u001b[0m\u001b[0;34m\u001b[0m\u001b[0m\n\u001b[1;32m    398\u001b[0m     \u001b[0mobj_ids\u001b[0m \u001b[0;34m=\u001b[0m \u001b[0;34m[\u001b[0m\u001b[0mi\u001b[0m\u001b[0;34m[\u001b[0m\u001b[0;34m:\u001b[0m\u001b[0;36m13\u001b[0m\u001b[0;34m]\u001b[0m \u001b[0;32mfor\u001b[0m \u001b[0mi\u001b[0m \u001b[0;32min\u001b[0m \u001b[0mtmp\u001b[0m\u001b[0;34m.\u001b[0m\u001b[0mindex\u001b[0m\u001b[0;34m[\u001b[0m\u001b[0;34m:\u001b[0m\u001b[0mn\u001b[0m\u001b[0;34m]\u001b[0m\u001b[0;34m]\u001b[0m\u001b[0;34m\u001b[0m\u001b[0;34m\u001b[0m\u001b[0m\n\u001b[0;32m--> 399\u001b[0;31m     \u001b[0mkeplerObs\u001b[0m \u001b[0;34m=\u001b[0m \u001b[0mObservations\u001b[0m\u001b[0;34m.\u001b[0m\u001b[0mquery_criteria\u001b[0m\u001b[0;34m(\u001b[0m\u001b[0mtarget_name\u001b[0m\u001b[0;34m=\u001b[0m\u001b[0mobj_ids\u001b[0m\u001b[0;34m,\u001b[0m \u001b[0mobs_collection\u001b[0m\u001b[0;34m=\u001b[0m\u001b[0;34m'Kepler'\u001b[0m\u001b[0;34m)\u001b[0m\u001b[0;34m\u001b[0m\u001b[0;34m\u001b[0m\u001b[0m\n\u001b[0m\u001b[1;32m    400\u001b[0m     \u001b[0mkeplerProds\u001b[0m \u001b[0;34m=\u001b[0m \u001b[0mObservations\u001b[0m\u001b[0;34m.\u001b[0m\u001b[0mget_product_list\u001b[0m\u001b[0;34m(\u001b[0m\u001b[0mkeplerObs\u001b[0m\u001b[0;34m)\u001b[0m\u001b[0;34m\u001b[0m\u001b[0;34m\u001b[0m\u001b[0m\n\u001b[1;32m    401\u001b[0m     \u001b[0myourProd\u001b[0m \u001b[0;34m=\u001b[0m \u001b[0mObservations\u001b[0m\u001b[0;34m.\u001b[0m\u001b[0mfilter_products\u001b[0m\u001b[0;34m(\u001b[0m\u001b[0mkeplerProds\u001b[0m\u001b[0;34m,\u001b[0m \u001b[0mextension\u001b[0m\u001b[0;34m=\u001b[0m\u001b[0mfilenames\u001b[0m\u001b[0;34m)\u001b[0m\u001b[0;34m\u001b[0m\u001b[0;34m\u001b[0m\u001b[0m\n",
      "\u001b[0;31mNameError\u001b[0m: name 'Observations' is not defined"
     ]
    }
   ],
   "source": [
    "qt.plot_top_n(Q_dict['Q1'],sortby='minus_rats')"
   ]
  },
  {
   "cell_type": "code",
   "execution_count": null,
   "metadata": {},
   "outputs": [],
   "source": [
    "# Starting with full-featured scoring\n",
    "# Loop through all quarters in Q_dict.\n",
    "for Q in Q_dict.keys():\n",
    "    # Use StandardScaler to normalize all features\n",
    "    Q_data_scaled = qt.data_scaler(Q_dict[Q].data.loc[:,fts_minus_rats])\n",
    "    # Score each object by its proximity to its neighbors, use sampling to improve computing time\n",
    "    scores = dist_scores_s(data = Q_data_scaled,samp_size=1000,n_iter=10,k=1)\n",
    "    # Scale the data by the score of the sinusoid (which must be the final index)\n",
    "    scoresdf = pd.DataFrame(data = scores.T/scores[-1], columns=['Unreduced'],index=Q_data_scaled.index)\n",
    "    # Save scores to the cluster outlier object. \n",
    "    # Note: Not sure why it's rescaled... probably leftover and redundant. Shouldn't hurt anything\n",
    "    # since the score of the sinusoid should be scaled to 1 by all post-score scaling.\n",
    "    Q_dict[Q].scores['minus_rats'] = scoresdf/scoresdf.loc['sinusoid','Unreduced']"
   ]
  }
 ],
 "metadata": {
  "kernelspec": {
   "display_name": "Python 3",
   "language": "python",
   "name": "python3"
  },
  "language_info": {
   "codemirror_mode": {
    "name": "ipython",
    "version": 3
   },
   "file_extension": ".py",
   "mimetype": "text/x-python",
   "name": "python",
   "nbconvert_exporter": "python",
   "pygments_lexer": "ipython3",
   "version": "3.7.5"
  }
 },
 "nbformat": 4,
 "nbformat_minor": 4
}
