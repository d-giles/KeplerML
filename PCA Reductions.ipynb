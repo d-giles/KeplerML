{
 "cells": [
  {
   "cell_type": "markdown",
   "metadata": {},
   "source": [
    "## History "
   ]
  },
  {
   "cell_type": "markdown",
   "metadata": {},
   "source": [
    "This notebook previously sought to explore the utility of dimensionality reduction with PCA prior to clustering considering 3 levels of variance explained: 90%, 95%, and 99%. \n",
    "Aside from the reduction, the data was processed in the same way as done previously. Prior to dimensionality reduction, the was scaled using sklearn's standardScaler. After reduction, the data was clustered using the method clusterOutliers.db_out.\n",
    "These reductions were compared to the clustering on the full set of features from the paper as well as a rerun of the clustering on the full set of features (the rerun is hereafter referred to as the baseline) and a summary of these results is stored in the Google Sheets file 'PCA Reduction'.\n",
    "In short:\n",
    "Treating the paper data as the ground truth:\n",
    "Precision: 100%, Recall: 68%\n",
    "The paper data had a stricter definition of a cluster and contained essentially every non-core data point identified in the reductions and the rerun baseline. Almost every point identified as an outlier or an edge member in the reductions was identified as such in the paper's results. If we treat the paper as the ground truth (problematic) then the precision of the reductions is perfect.\n",
    "The reductions (and rerun baseline) clustered more of the data and identified between 63% and 70% of the non-core identified in the paper data, a recall (assuming the paper is the ground truth) of about 68%.\n",
    "\n",
    "Treating the new baseline (reclustering on the full set of features) as the ground truth:\n",
    "Precision: 90%-99%, recall: 85%-90%\n",
    "\n",
    "The reduced recall as compared to the paper is mitigated when examining against the re-clustered data. There is not a simple way to say exactly how good the results of the reduced data are since there is no simple way of saying what the ground truth should really be as there is not a simple way of defining what an outlier should be."
   ]
  },
  {
   "cell_type": "code",
   "execution_count": 1,
   "metadata": {
    "collapsed": true
   },
   "outputs": [],
   "source": [
    "# Import the custom code developed for this work\n",
    "import sys\n",
    "sys.path.append('python')\n",
    "from clusterOutliers import clusterOutliers as coo\n",
    "from clusterOutliers import import_gen\n",
    "import quarterTools as qt"
   ]
  },
  {
   "cell_type": "markdown",
   "metadata": {},
   "source": [
    "# Cluster-Outlier Object creation from calculated features"
   ]
  },
  {
   "cell_type": "markdown",
   "metadata": {},
   "source": [
    "Calling import_gen with defaults, creates an importer for clusterOutlier objects w/ data \n",
    "stored in a common directory with a common naming convention.\n",
    "\n",
    "Defaults:\n",
    "* path to data files directory (filedir): /home/dgiles/Documents/KeplerLCs/output/\n",
    "* output file suffix (suffix): \\_output.p\n",
    "* path to fits files directory (fitsdir): /home/dgiles/Documents/KeplerLCs/fitsFiles\n",
    "* output file extension (out_file_ext): .coo\n",
    "    \n",
    "This has been executed on 5/19/2019 to initialize the cluster outlier objects, this cell does not need to be run again\n",
    "unless the definition of the object is significantly altered as it will overwrite the existing object based only on the \n",
    "feature data. Doing this would overwrite any work or additions made to the cluster outlier object including \n",
    "dimensionality reductions, outlier scoring, and any other analysis stored in these objects."
   ]
  },
  {
   "cell_type": "code",
   "execution_count": null,
   "metadata": {},
   "outputs": [],
   "source": [
    "import_quarter = import_gen()\n",
    "# Q_dict contains a clusterOutlier object for each quarter.\n",
    "Q_dict = {'Q{}'.format(i):import_quarter('Q{}'.format(i)) for i in range(1,18)}\n",
    "for k in Q_dict:\n",
    "    # This is commented out to prevent accidental execution, it can overwrite previous work with the same name\n",
    "    #Q_dict[k].save() "
   ]
  },
  {
   "cell_type": "markdown",
   "metadata": {},
   "source": [
    "## Cluster-Outlier Object Import"
   ]
  },
  {
   "cell_type": "code",
   "execution_count": 2,
   "metadata": {},
   "outputs": [],
   "source": [
    "import pickle\n",
    "Q_dict = dict()\n",
    "for i in range(1,18):\n",
    "    with open('/home/dgiles/Documents/KeplerLCs/output/Q{}.coo'.format(i),'rb') as file:\n",
    "        Q_dict['Q{}'.format(i)]=pickle.load(file)"
   ]
  },
  {
   "cell_type": "markdown",
   "metadata": {},
   "source": [
    "# Reductions"
   ]
  },
  {
   "cell_type": "markdown",
   "metadata": {},
   "source": [
    "### Example"
   ]
  },
  {
   "cell_type": "code",
   "execution_count": 4,
   "metadata": {},
   "outputs": [
    {
     "name": "stdout",
     "output_type": "stream",
     "text": [
      "Q3.coo imported\n",
      "Scaling data using StandardScaler...\n"
     ]
    },
    {
     "name": "stderr",
     "output_type": "stream",
     "text": [
      "/home/dgiles/anaconda3/envs/KeplerFull37/lib/python3.7/site-packages/sklearn/preprocessing/data.py:645: DataConversionWarning: Data with input dtype float64, object were all converted to float64 by StandardScaler.\n",
      "  return self.partial_fit(X, y)\n",
      "python/quarterTools.py:90: DataConversionWarning: Data with input dtype float64, object were all converted to float64 by StandardScaler.\n",
      "  scaled_data = scaler.transform(data)\n"
     ]
    },
    {
     "name": "stdout",
     "output_type": "stream",
     "text": [
      "Finding minimum number of dimensions to explain 90.0% of the variance...\n",
      "\n",
      "        Dimensions: 18,\n",
      "        Variance explained: 91.1%\n",
      "        \n"
     ]
    },
    {
     "name": "stderr",
     "output_type": "stream",
     "text": [
      "/home/dgiles/anaconda3/envs/KeplerFull37/lib/python3.7/site-packages/sklearn/preprocessing/data.py:645: DataConversionWarning: Data with input dtype float64, object were all converted to float64 by StandardScaler.\n",
      "  return self.partial_fit(X, y)\n",
      "python/quarterTools.py:90: DataConversionWarning: Data with input dtype float64, object were all converted to float64 by StandardScaler.\n",
      "  scaled_data = scaler.transform(data)\n"
     ]
    },
    {
     "name": "stdout",
     "output_type": "stream",
     "text": [
      "Finding minimum number of dimensions to explain 95.0% of the variance...\n",
      "\n",
      "        Dimensions: 23,\n",
      "        Variance explained: 95.6%\n",
      "        \n"
     ]
    }
   ],
   "source": [
    "import pickle\n",
    "with open('/home/dgiles/Documents/KeplerLCs/output/Q3.coo','rb') as file:\n",
    "    Q3=pickle.load(file)\n",
    "    print(\"Q3.coo imported\")\n",
    "# by default the reduction method assumes that data has not been scaled. The default scaler is StandardScaler.\n",
    "pca90 = Q3.pca_red(df='self',red_name='PCA90',var_rat=0.9,scaled=False,verbose=True)\n",
    "# Data can be pre-scaled and fed in. Techincally the method could be run on data outside the object too,\n",
    "# but in that case it would be preferable to use the actual sklearn package directly.\n",
    "scaled = qt.data_scaler(Q3.data)\n",
    "pca95 = Q3.pca_red(df=scaled,red_name='PCA95',var_rat=0.95,scaled=True,verbose=True)"
   ]
  },
  {
   "cell_type": "markdown",
   "metadata": {},
   "source": [
    "\"\"\"\n",
    "Creating PCA reductions for each quarter that explain 90%, 95%, and 99% of variance\n",
    "\n",
    "Reductions have been produced and saved in their respective cluster outlier files, output has been suppressed, cell converted to markdown to avoid accidental execution.\n",
    "\"\"\"\n",
    "```\n",
    "for k in Q_dict.keys():\n",
    "    print(\"Starting \"+k)\n",
    "    pca90 = Q_dict[k].pca_red(df='self',red_name='PCA90',var_rat=0.9,scaled=False,verbose=False)\n",
    "    pca95 = Q_dict[k].pca_red(df='self',red_name='PCA95',var_rat=0.95,scaled=False,verbose=False)\n",
    "    pca99 = Q_dict[k].pca_red(df='self',red_name='PCA99',var_rat=0.99,scaled=False,verbose=False)\n",
    "    Q_dict[k].save()\n",
    "```"
   ]
  },
  {
   "cell_type": "markdown",
   "metadata": {},
   "source": [
    "Saving reductions to a seperate file (probably deprecated? I can't remember why I did this)"
   ]
  },
  {
   "cell_type": "code",
   "execution_count": null,
   "metadata": {},
   "outputs": [],
   "source": [
    "for k in list(Q_dict.keys())[1:-1]:\n",
    "    print(k,Q_dict[k].reductions.keys())\n",
    "    with open('/home/dgiles/Documents/KeplerLCs/output/'+k+\".rdct\",'wb') as file:\n",
    "        pickle.dump(Q_dict[k].reductions,file)"
   ]
  },
  {
   "cell_type": "code",
   "execution_count": 4,
   "metadata": {},
   "outputs": [
    {
     "data": {
      "text/plain": [
       "dict_keys(['PCA90', 'PCA95', 'PCA99'])"
      ]
     },
     "execution_count": 4,
     "metadata": {},
     "output_type": "execute_result"
    }
   ],
   "source": [
    "Q_dict['Q4'].reductions.keys()"
   ]
  },
  {
   "cell_type": "code",
   "execution_count": 8,
   "metadata": {},
   "outputs": [],
   "source": [
    "featCSV = \"/home/dgiles/Documents/KeplerLCs/output/Archive/Q4_FullSample.csv\" # Path to csv containing feature data (should be a pandas dataframe saved as a csv)\n",
    "fitsDir = \"/home/dgiles/Documents/KeplerLCs/fitsFiles/Q4fitsfiles\" # path to fits files\n",
    "Q4_sample = coo(featCSV,fitsDir)"
   ]
  },
  {
   "cell_type": "code",
   "execution_count": 11,
   "metadata": {},
   "outputs": [],
   "source": [
    "common_sampler = qt.make_sampler(Q4_sample.files)"
   ]
  },
  {
   "cell_type": "code",
   "execution_count": 12,
   "metadata": {},
   "outputs": [],
   "source": [
    "Q4_common_PCA90 = common_sampler(Q_dict['Q4'].reductions['PCA90'])"
   ]
  },
  {
   "cell_type": "code",
   "execution_count": 14,
   "metadata": {},
   "outputs": [
    {
     "name": "stdout",
     "output_type": "stream",
     "text": [
      "Estimating Parameters...\n",
      "Sampling data for parameter estimation...\n",
      "Calculating nearest neighbor distances...\n",
      "Finding elbow...\n",
      "\n",
      "        Epsilon is in the neighborhood of 03.22.\n",
      "        \n",
      "Scaling density...\n",
      "Clustering data with DBSCAN, eps=03.22,min_samples=59...\n",
      "There are 4186 total outliers and 1882 edge members.\n"
     ]
    }
   ],
   "source": [
    "labels = Q_dict['Q4'].db_out(Q4_common_PCA90)"
   ]
  },
  {
   "cell_type": "markdown",
   "metadata": {},
   "source": [
    "## Timing performance "
   ]
  },
  {
   "cell_type": "code",
   "execution_count": 36,
   "metadata": {},
   "outputs": [],
   "source": [
    "import pickle\n",
    "from datetime import datetime\n",
    "import pandas as pd\n",
    "import numpy as np\n",
    "from datetime import timedelta"
   ]
  },
  {
   "cell_type": "code",
   "execution_count": 17,
   "metadata": {},
   "outputs": [],
   "source": [
    "def foo(Q):\n",
    "    with open('/home/dgiles/Documents/KeplerLCs/output/{}.coo'.format(Q),'rb') as file:\n",
    "        Qcoo=pickle.load(file)\n",
    "        print(\"{}.coo imported\".format(Q))\n",
    "        \n",
    "    timestart = datetime.now()\n",
    "    pca90 = Qcoo.pca_red(df='self',red_name='PCA90',var_rat=0.9,scaled=False,verbose=False)\n",
    "    time90 = datetime.now()\n",
    "    pca95 = Qcoo.pca_red(df='self',red_name='PCA95',var_rat=0.95,scaled=False,verbose=False)\n",
    "    time95 = datetime.now()\n",
    "    pca99 = Qcoo.pca_red(df='self',red_name='PCA99',var_rat=0.99,scaled=False,verbose=False)\n",
    "    time99 = datetime.now()\n",
    "    return [time90-timestart,time95-time90,time99-time95]"
   ]
  },
  {
   "cell_type": "code",
   "execution_count": 45,
   "metadata": {},
   "outputs": [
    {
     "name": "stdout",
     "output_type": "stream",
     "text": [
      "Q1.coo imported\n"
     ]
    },
    {
     "name": "stderr",
     "output_type": "stream",
     "text": [
      "/home/dgiles/anaconda3/envs/KeplerFull37/lib/python3.7/site-packages/sklearn/preprocessing/data.py:645: DataConversionWarning: Data with input dtype int64, float64 were all converted to float64 by StandardScaler.\n",
      "  return self.partial_fit(X, y)\n",
      "python/quarterTools.py:90: DataConversionWarning: Data with input dtype int64, float64 were all converted to float64 by StandardScaler.\n",
      "  scaled_data = scaler.transform(data)\n",
      "/home/dgiles/anaconda3/envs/KeplerFull37/lib/python3.7/site-packages/sklearn/preprocessing/data.py:645: DataConversionWarning: Data with input dtype int64, float64 were all converted to float64 by StandardScaler.\n",
      "  return self.partial_fit(X, y)\n",
      "python/quarterTools.py:90: DataConversionWarning: Data with input dtype int64, float64 were all converted to float64 by StandardScaler.\n",
      "  scaled_data = scaler.transform(data)\n",
      "/home/dgiles/anaconda3/envs/KeplerFull37/lib/python3.7/site-packages/sklearn/preprocessing/data.py:645: DataConversionWarning: Data with input dtype int64, float64 were all converted to float64 by StandardScaler.\n",
      "  return self.partial_fit(X, y)\n",
      "python/quarterTools.py:90: DataConversionWarning: Data with input dtype int64, float64 were all converted to float64 by StandardScaler.\n",
      "  scaled_data = scaler.transform(data)\n"
     ]
    },
    {
     "name": "stdout",
     "output_type": "stream",
     "text": [
      "Q2.coo imported\n"
     ]
    },
    {
     "name": "stderr",
     "output_type": "stream",
     "text": [
      "/home/dgiles/anaconda3/envs/KeplerFull37/lib/python3.7/site-packages/sklearn/preprocessing/data.py:645: DataConversionWarning: Data with input dtype float64, object were all converted to float64 by StandardScaler.\n",
      "  return self.partial_fit(X, y)\n",
      "python/quarterTools.py:90: DataConversionWarning: Data with input dtype float64, object were all converted to float64 by StandardScaler.\n",
      "  scaled_data = scaler.transform(data)\n",
      "/home/dgiles/anaconda3/envs/KeplerFull37/lib/python3.7/site-packages/sklearn/preprocessing/data.py:645: DataConversionWarning: Data with input dtype float64, object were all converted to float64 by StandardScaler.\n",
      "  return self.partial_fit(X, y)\n",
      "python/quarterTools.py:90: DataConversionWarning: Data with input dtype float64, object were all converted to float64 by StandardScaler.\n",
      "  scaled_data = scaler.transform(data)\n",
      "/home/dgiles/anaconda3/envs/KeplerFull37/lib/python3.7/site-packages/sklearn/preprocessing/data.py:645: DataConversionWarning: Data with input dtype float64, object were all converted to float64 by StandardScaler.\n",
      "  return self.partial_fit(X, y)\n",
      "python/quarterTools.py:90: DataConversionWarning: Data with input dtype float64, object were all converted to float64 by StandardScaler.\n",
      "  scaled_data = scaler.transform(data)\n"
     ]
    },
    {
     "name": "stdout",
     "output_type": "stream",
     "text": [
      "Q3.coo imported\n"
     ]
    },
    {
     "name": "stderr",
     "output_type": "stream",
     "text": [
      "/home/dgiles/anaconda3/envs/KeplerFull37/lib/python3.7/site-packages/sklearn/preprocessing/data.py:645: DataConversionWarning: Data with input dtype float64, object were all converted to float64 by StandardScaler.\n",
      "  return self.partial_fit(X, y)\n",
      "python/quarterTools.py:90: DataConversionWarning: Data with input dtype float64, object were all converted to float64 by StandardScaler.\n",
      "  scaled_data = scaler.transform(data)\n",
      "/home/dgiles/anaconda3/envs/KeplerFull37/lib/python3.7/site-packages/sklearn/preprocessing/data.py:645: DataConversionWarning: Data with input dtype float64, object were all converted to float64 by StandardScaler.\n",
      "  return self.partial_fit(X, y)\n",
      "python/quarterTools.py:90: DataConversionWarning: Data with input dtype float64, object were all converted to float64 by StandardScaler.\n",
      "  scaled_data = scaler.transform(data)\n",
      "/home/dgiles/anaconda3/envs/KeplerFull37/lib/python3.7/site-packages/sklearn/preprocessing/data.py:645: DataConversionWarning: Data with input dtype float64, object were all converted to float64 by StandardScaler.\n",
      "  return self.partial_fit(X, y)\n",
      "python/quarterTools.py:90: DataConversionWarning: Data with input dtype float64, object were all converted to float64 by StandardScaler.\n",
      "  scaled_data = scaler.transform(data)\n"
     ]
    },
    {
     "name": "stdout",
     "output_type": "stream",
     "text": [
      "Q4.coo imported\n"
     ]
    },
    {
     "name": "stderr",
     "output_type": "stream",
     "text": [
      "/home/dgiles/anaconda3/envs/KeplerFull37/lib/python3.7/site-packages/sklearn/preprocessing/data.py:645: DataConversionWarning: Data with input dtype float64, object were all converted to float64 by StandardScaler.\n",
      "  return self.partial_fit(X, y)\n",
      "python/quarterTools.py:90: DataConversionWarning: Data with input dtype float64, object were all converted to float64 by StandardScaler.\n",
      "  scaled_data = scaler.transform(data)\n",
      "/home/dgiles/anaconda3/envs/KeplerFull37/lib/python3.7/site-packages/sklearn/preprocessing/data.py:645: DataConversionWarning: Data with input dtype float64, object were all converted to float64 by StandardScaler.\n",
      "  return self.partial_fit(X, y)\n",
      "python/quarterTools.py:90: DataConversionWarning: Data with input dtype float64, object were all converted to float64 by StandardScaler.\n",
      "  scaled_data = scaler.transform(data)\n",
      "/home/dgiles/anaconda3/envs/KeplerFull37/lib/python3.7/site-packages/sklearn/preprocessing/data.py:645: DataConversionWarning: Data with input dtype float64, object were all converted to float64 by StandardScaler.\n",
      "  return self.partial_fit(X, y)\n",
      "python/quarterTools.py:90: DataConversionWarning: Data with input dtype float64, object were all converted to float64 by StandardScaler.\n",
      "  scaled_data = scaler.transform(data)\n"
     ]
    },
    {
     "name": "stdout",
     "output_type": "stream",
     "text": [
      "Q5.coo imported\n"
     ]
    },
    {
     "name": "stderr",
     "output_type": "stream",
     "text": [
      "/home/dgiles/anaconda3/envs/KeplerFull37/lib/python3.7/site-packages/sklearn/preprocessing/data.py:645: DataConversionWarning: Data with input dtype float64, object were all converted to float64 by StandardScaler.\n",
      "  return self.partial_fit(X, y)\n",
      "python/quarterTools.py:90: DataConversionWarning: Data with input dtype float64, object were all converted to float64 by StandardScaler.\n",
      "  scaled_data = scaler.transform(data)\n",
      "/home/dgiles/anaconda3/envs/KeplerFull37/lib/python3.7/site-packages/sklearn/preprocessing/data.py:645: DataConversionWarning: Data with input dtype float64, object were all converted to float64 by StandardScaler.\n",
      "  return self.partial_fit(X, y)\n",
      "python/quarterTools.py:90: DataConversionWarning: Data with input dtype float64, object were all converted to float64 by StandardScaler.\n",
      "  scaled_data = scaler.transform(data)\n",
      "/home/dgiles/anaconda3/envs/KeplerFull37/lib/python3.7/site-packages/sklearn/preprocessing/data.py:645: DataConversionWarning: Data with input dtype float64, object were all converted to float64 by StandardScaler.\n",
      "  return self.partial_fit(X, y)\n",
      "python/quarterTools.py:90: DataConversionWarning: Data with input dtype float64, object were all converted to float64 by StandardScaler.\n",
      "  scaled_data = scaler.transform(data)\n"
     ]
    },
    {
     "name": "stdout",
     "output_type": "stream",
     "text": [
      "Q6.coo imported\n"
     ]
    },
    {
     "name": "stderr",
     "output_type": "stream",
     "text": [
      "/home/dgiles/anaconda3/envs/KeplerFull37/lib/python3.7/site-packages/sklearn/preprocessing/data.py:645: DataConversionWarning: Data with input dtype float64, object were all converted to float64 by StandardScaler.\n",
      "  return self.partial_fit(X, y)\n",
      "python/quarterTools.py:90: DataConversionWarning: Data with input dtype float64, object were all converted to float64 by StandardScaler.\n",
      "  scaled_data = scaler.transform(data)\n",
      "/home/dgiles/anaconda3/envs/KeplerFull37/lib/python3.7/site-packages/sklearn/preprocessing/data.py:645: DataConversionWarning: Data with input dtype float64, object were all converted to float64 by StandardScaler.\n",
      "  return self.partial_fit(X, y)\n",
      "python/quarterTools.py:90: DataConversionWarning: Data with input dtype float64, object were all converted to float64 by StandardScaler.\n",
      "  scaled_data = scaler.transform(data)\n",
      "/home/dgiles/anaconda3/envs/KeplerFull37/lib/python3.7/site-packages/sklearn/preprocessing/data.py:645: DataConversionWarning: Data with input dtype float64, object were all converted to float64 by StandardScaler.\n",
      "  return self.partial_fit(X, y)\n",
      "python/quarterTools.py:90: DataConversionWarning: Data with input dtype float64, object were all converted to float64 by StandardScaler.\n",
      "  scaled_data = scaler.transform(data)\n"
     ]
    },
    {
     "name": "stdout",
     "output_type": "stream",
     "text": [
      "Q7.coo imported\n"
     ]
    },
    {
     "name": "stderr",
     "output_type": "stream",
     "text": [
      "/home/dgiles/anaconda3/envs/KeplerFull37/lib/python3.7/site-packages/sklearn/preprocessing/data.py:645: DataConversionWarning: Data with input dtype float64, object were all converted to float64 by StandardScaler.\n",
      "  return self.partial_fit(X, y)\n",
      "python/quarterTools.py:90: DataConversionWarning: Data with input dtype float64, object were all converted to float64 by StandardScaler.\n",
      "  scaled_data = scaler.transform(data)\n",
      "/home/dgiles/anaconda3/envs/KeplerFull37/lib/python3.7/site-packages/sklearn/preprocessing/data.py:645: DataConversionWarning: Data with input dtype float64, object were all converted to float64 by StandardScaler.\n",
      "  return self.partial_fit(X, y)\n",
      "python/quarterTools.py:90: DataConversionWarning: Data with input dtype float64, object were all converted to float64 by StandardScaler.\n",
      "  scaled_data = scaler.transform(data)\n",
      "/home/dgiles/anaconda3/envs/KeplerFull37/lib/python3.7/site-packages/sklearn/preprocessing/data.py:645: DataConversionWarning: Data with input dtype float64, object were all converted to float64 by StandardScaler.\n",
      "  return self.partial_fit(X, y)\n",
      "python/quarterTools.py:90: DataConversionWarning: Data with input dtype float64, object were all converted to float64 by StandardScaler.\n",
      "  scaled_data = scaler.transform(data)\n"
     ]
    },
    {
     "name": "stdout",
     "output_type": "stream",
     "text": [
      "Q8.coo imported\n"
     ]
    },
    {
     "name": "stderr",
     "output_type": "stream",
     "text": [
      "/home/dgiles/anaconda3/envs/KeplerFull37/lib/python3.7/site-packages/sklearn/preprocessing/data.py:645: DataConversionWarning: Data with input dtype float64, object were all converted to float64 by StandardScaler.\n",
      "  return self.partial_fit(X, y)\n",
      "python/quarterTools.py:90: DataConversionWarning: Data with input dtype float64, object were all converted to float64 by StandardScaler.\n",
      "  scaled_data = scaler.transform(data)\n",
      "/home/dgiles/anaconda3/envs/KeplerFull37/lib/python3.7/site-packages/sklearn/preprocessing/data.py:645: DataConversionWarning: Data with input dtype float64, object were all converted to float64 by StandardScaler.\n",
      "  return self.partial_fit(X, y)\n",
      "python/quarterTools.py:90: DataConversionWarning: Data with input dtype float64, object were all converted to float64 by StandardScaler.\n",
      "  scaled_data = scaler.transform(data)\n",
      "/home/dgiles/anaconda3/envs/KeplerFull37/lib/python3.7/site-packages/sklearn/preprocessing/data.py:645: DataConversionWarning: Data with input dtype float64, object were all converted to float64 by StandardScaler.\n",
      "  return self.partial_fit(X, y)\n",
      "python/quarterTools.py:90: DataConversionWarning: Data with input dtype float64, object were all converted to float64 by StandardScaler.\n",
      "  scaled_data = scaler.transform(data)\n"
     ]
    },
    {
     "name": "stdout",
     "output_type": "stream",
     "text": [
      "Q9.coo imported\n"
     ]
    },
    {
     "name": "stderr",
     "output_type": "stream",
     "text": [
      "/home/dgiles/anaconda3/envs/KeplerFull37/lib/python3.7/site-packages/sklearn/preprocessing/data.py:645: DataConversionWarning: Data with input dtype float64, object were all converted to float64 by StandardScaler.\n",
      "  return self.partial_fit(X, y)\n",
      "python/quarterTools.py:90: DataConversionWarning: Data with input dtype float64, object were all converted to float64 by StandardScaler.\n",
      "  scaled_data = scaler.transform(data)\n",
      "/home/dgiles/anaconda3/envs/KeplerFull37/lib/python3.7/site-packages/sklearn/preprocessing/data.py:645: DataConversionWarning: Data with input dtype float64, object were all converted to float64 by StandardScaler.\n",
      "  return self.partial_fit(X, y)\n",
      "python/quarterTools.py:90: DataConversionWarning: Data with input dtype float64, object were all converted to float64 by StandardScaler.\n",
      "  scaled_data = scaler.transform(data)\n",
      "/home/dgiles/anaconda3/envs/KeplerFull37/lib/python3.7/site-packages/sklearn/preprocessing/data.py:645: DataConversionWarning: Data with input dtype float64, object were all converted to float64 by StandardScaler.\n",
      "  return self.partial_fit(X, y)\n",
      "python/quarterTools.py:90: DataConversionWarning: Data with input dtype float64, object were all converted to float64 by StandardScaler.\n",
      "  scaled_data = scaler.transform(data)\n"
     ]
    },
    {
     "name": "stdout",
     "output_type": "stream",
     "text": [
      "Q10.coo imported\n"
     ]
    },
    {
     "name": "stderr",
     "output_type": "stream",
     "text": [
      "/home/dgiles/anaconda3/envs/KeplerFull37/lib/python3.7/site-packages/sklearn/preprocessing/data.py:645: DataConversionWarning: Data with input dtype float64, object were all converted to float64 by StandardScaler.\n",
      "  return self.partial_fit(X, y)\n",
      "python/quarterTools.py:90: DataConversionWarning: Data with input dtype float64, object were all converted to float64 by StandardScaler.\n",
      "  scaled_data = scaler.transform(data)\n",
      "/home/dgiles/anaconda3/envs/KeplerFull37/lib/python3.7/site-packages/sklearn/preprocessing/data.py:645: DataConversionWarning: Data with input dtype float64, object were all converted to float64 by StandardScaler.\n",
      "  return self.partial_fit(X, y)\n",
      "python/quarterTools.py:90: DataConversionWarning: Data with input dtype float64, object were all converted to float64 by StandardScaler.\n",
      "  scaled_data = scaler.transform(data)\n",
      "/home/dgiles/anaconda3/envs/KeplerFull37/lib/python3.7/site-packages/sklearn/preprocessing/data.py:645: DataConversionWarning: Data with input dtype float64, object were all converted to float64 by StandardScaler.\n",
      "  return self.partial_fit(X, y)\n",
      "python/quarterTools.py:90: DataConversionWarning: Data with input dtype float64, object were all converted to float64 by StandardScaler.\n",
      "  scaled_data = scaler.transform(data)\n"
     ]
    },
    {
     "name": "stdout",
     "output_type": "stream",
     "text": [
      "Q11.coo imported\n"
     ]
    },
    {
     "name": "stderr",
     "output_type": "stream",
     "text": [
      "/home/dgiles/anaconda3/envs/KeplerFull37/lib/python3.7/site-packages/sklearn/preprocessing/data.py:645: DataConversionWarning: Data with input dtype float64, object were all converted to float64 by StandardScaler.\n",
      "  return self.partial_fit(X, y)\n",
      "python/quarterTools.py:90: DataConversionWarning: Data with input dtype float64, object were all converted to float64 by StandardScaler.\n",
      "  scaled_data = scaler.transform(data)\n",
      "/home/dgiles/anaconda3/envs/KeplerFull37/lib/python3.7/site-packages/sklearn/preprocessing/data.py:645: DataConversionWarning: Data with input dtype float64, object were all converted to float64 by StandardScaler.\n",
      "  return self.partial_fit(X, y)\n",
      "python/quarterTools.py:90: DataConversionWarning: Data with input dtype float64, object were all converted to float64 by StandardScaler.\n",
      "  scaled_data = scaler.transform(data)\n",
      "/home/dgiles/anaconda3/envs/KeplerFull37/lib/python3.7/site-packages/sklearn/preprocessing/data.py:645: DataConversionWarning: Data with input dtype float64, object were all converted to float64 by StandardScaler.\n",
      "  return self.partial_fit(X, y)\n",
      "python/quarterTools.py:90: DataConversionWarning: Data with input dtype float64, object were all converted to float64 by StandardScaler.\n",
      "  scaled_data = scaler.transform(data)\n"
     ]
    },
    {
     "name": "stdout",
     "output_type": "stream",
     "text": [
      "Q12.coo imported\n"
     ]
    },
    {
     "name": "stderr",
     "output_type": "stream",
     "text": [
      "/home/dgiles/anaconda3/envs/KeplerFull37/lib/python3.7/site-packages/sklearn/preprocessing/data.py:645: DataConversionWarning: Data with input dtype float64, object were all converted to float64 by StandardScaler.\n",
      "  return self.partial_fit(X, y)\n",
      "python/quarterTools.py:90: DataConversionWarning: Data with input dtype float64, object were all converted to float64 by StandardScaler.\n",
      "  scaled_data = scaler.transform(data)\n",
      "/home/dgiles/anaconda3/envs/KeplerFull37/lib/python3.7/site-packages/sklearn/preprocessing/data.py:645: DataConversionWarning: Data with input dtype float64, object were all converted to float64 by StandardScaler.\n",
      "  return self.partial_fit(X, y)\n",
      "python/quarterTools.py:90: DataConversionWarning: Data with input dtype float64, object were all converted to float64 by StandardScaler.\n",
      "  scaled_data = scaler.transform(data)\n",
      "/home/dgiles/anaconda3/envs/KeplerFull37/lib/python3.7/site-packages/sklearn/preprocessing/data.py:645: DataConversionWarning: Data with input dtype float64, object were all converted to float64 by StandardScaler.\n",
      "  return self.partial_fit(X, y)\n",
      "python/quarterTools.py:90: DataConversionWarning: Data with input dtype float64, object were all converted to float64 by StandardScaler.\n",
      "  scaled_data = scaler.transform(data)\n"
     ]
    },
    {
     "name": "stdout",
     "output_type": "stream",
     "text": [
      "Q13.coo imported\n"
     ]
    },
    {
     "name": "stderr",
     "output_type": "stream",
     "text": [
      "/home/dgiles/anaconda3/envs/KeplerFull37/lib/python3.7/site-packages/sklearn/preprocessing/data.py:645: DataConversionWarning: Data with input dtype float64, object were all converted to float64 by StandardScaler.\n",
      "  return self.partial_fit(X, y)\n",
      "python/quarterTools.py:90: DataConversionWarning: Data with input dtype float64, object were all converted to float64 by StandardScaler.\n",
      "  scaled_data = scaler.transform(data)\n",
      "/home/dgiles/anaconda3/envs/KeplerFull37/lib/python3.7/site-packages/sklearn/preprocessing/data.py:645: DataConversionWarning: Data with input dtype float64, object were all converted to float64 by StandardScaler.\n",
      "  return self.partial_fit(X, y)\n",
      "python/quarterTools.py:90: DataConversionWarning: Data with input dtype float64, object were all converted to float64 by StandardScaler.\n",
      "  scaled_data = scaler.transform(data)\n",
      "/home/dgiles/anaconda3/envs/KeplerFull37/lib/python3.7/site-packages/sklearn/preprocessing/data.py:645: DataConversionWarning: Data with input dtype float64, object were all converted to float64 by StandardScaler.\n",
      "  return self.partial_fit(X, y)\n",
      "python/quarterTools.py:90: DataConversionWarning: Data with input dtype float64, object were all converted to float64 by StandardScaler.\n",
      "  scaled_data = scaler.transform(data)\n"
     ]
    },
    {
     "name": "stdout",
     "output_type": "stream",
     "text": [
      "Q14.coo imported\n"
     ]
    },
    {
     "name": "stderr",
     "output_type": "stream",
     "text": [
      "/home/dgiles/anaconda3/envs/KeplerFull37/lib/python3.7/site-packages/sklearn/preprocessing/data.py:645: DataConversionWarning: Data with input dtype float64, object were all converted to float64 by StandardScaler.\n",
      "  return self.partial_fit(X, y)\n",
      "python/quarterTools.py:90: DataConversionWarning: Data with input dtype float64, object were all converted to float64 by StandardScaler.\n",
      "  scaled_data = scaler.transform(data)\n",
      "/home/dgiles/anaconda3/envs/KeplerFull37/lib/python3.7/site-packages/sklearn/preprocessing/data.py:645: DataConversionWarning: Data with input dtype float64, object were all converted to float64 by StandardScaler.\n",
      "  return self.partial_fit(X, y)\n",
      "python/quarterTools.py:90: DataConversionWarning: Data with input dtype float64, object were all converted to float64 by StandardScaler.\n",
      "  scaled_data = scaler.transform(data)\n",
      "/home/dgiles/anaconda3/envs/KeplerFull37/lib/python3.7/site-packages/sklearn/preprocessing/data.py:645: DataConversionWarning: Data with input dtype float64, object were all converted to float64 by StandardScaler.\n",
      "  return self.partial_fit(X, y)\n",
      "python/quarterTools.py:90: DataConversionWarning: Data with input dtype float64, object were all converted to float64 by StandardScaler.\n",
      "  scaled_data = scaler.transform(data)\n"
     ]
    },
    {
     "name": "stdout",
     "output_type": "stream",
     "text": [
      "Q15.coo imported\n"
     ]
    },
    {
     "name": "stderr",
     "output_type": "stream",
     "text": [
      "/home/dgiles/anaconda3/envs/KeplerFull37/lib/python3.7/site-packages/sklearn/preprocessing/data.py:645: DataConversionWarning: Data with input dtype float64, object were all converted to float64 by StandardScaler.\n",
      "  return self.partial_fit(X, y)\n",
      "python/quarterTools.py:90: DataConversionWarning: Data with input dtype float64, object were all converted to float64 by StandardScaler.\n",
      "  scaled_data = scaler.transform(data)\n",
      "/home/dgiles/anaconda3/envs/KeplerFull37/lib/python3.7/site-packages/sklearn/preprocessing/data.py:645: DataConversionWarning: Data with input dtype float64, object were all converted to float64 by StandardScaler.\n",
      "  return self.partial_fit(X, y)\n",
      "python/quarterTools.py:90: DataConversionWarning: Data with input dtype float64, object were all converted to float64 by StandardScaler.\n",
      "  scaled_data = scaler.transform(data)\n",
      "/home/dgiles/anaconda3/envs/KeplerFull37/lib/python3.7/site-packages/sklearn/preprocessing/data.py:645: DataConversionWarning: Data with input dtype float64, object were all converted to float64 by StandardScaler.\n",
      "  return self.partial_fit(X, y)\n",
      "python/quarterTools.py:90: DataConversionWarning: Data with input dtype float64, object were all converted to float64 by StandardScaler.\n",
      "  scaled_data = scaler.transform(data)\n"
     ]
    },
    {
     "name": "stdout",
     "output_type": "stream",
     "text": [
      "Q16.coo imported\n"
     ]
    },
    {
     "name": "stderr",
     "output_type": "stream",
     "text": [
      "/home/dgiles/anaconda3/envs/KeplerFull37/lib/python3.7/site-packages/sklearn/preprocessing/data.py:645: DataConversionWarning: Data with input dtype float64, object were all converted to float64 by StandardScaler.\n",
      "  return self.partial_fit(X, y)\n",
      "python/quarterTools.py:90: DataConversionWarning: Data with input dtype float64, object were all converted to float64 by StandardScaler.\n",
      "  scaled_data = scaler.transform(data)\n",
      "/home/dgiles/anaconda3/envs/KeplerFull37/lib/python3.7/site-packages/sklearn/preprocessing/data.py:645: DataConversionWarning: Data with input dtype float64, object were all converted to float64 by StandardScaler.\n",
      "  return self.partial_fit(X, y)\n",
      "python/quarterTools.py:90: DataConversionWarning: Data with input dtype float64, object were all converted to float64 by StandardScaler.\n",
      "  scaled_data = scaler.transform(data)\n",
      "/home/dgiles/anaconda3/envs/KeplerFull37/lib/python3.7/site-packages/sklearn/preprocessing/data.py:645: DataConversionWarning: Data with input dtype float64, object were all converted to float64 by StandardScaler.\n",
      "  return self.partial_fit(X, y)\n",
      "python/quarterTools.py:90: DataConversionWarning: Data with input dtype float64, object were all converted to float64 by StandardScaler.\n",
      "  scaled_data = scaler.transform(data)\n"
     ]
    },
    {
     "name": "stdout",
     "output_type": "stream",
     "text": [
      "Q17.coo imported\n"
     ]
    },
    {
     "name": "stderr",
     "output_type": "stream",
     "text": [
      "/home/dgiles/anaconda3/envs/KeplerFull37/lib/python3.7/site-packages/sklearn/preprocessing/data.py:645: DataConversionWarning: Data with input dtype float64, object were all converted to float64 by StandardScaler.\n",
      "  return self.partial_fit(X, y)\n",
      "python/quarterTools.py:90: DataConversionWarning: Data with input dtype float64, object were all converted to float64 by StandardScaler.\n",
      "  scaled_data = scaler.transform(data)\n",
      "/home/dgiles/anaconda3/envs/KeplerFull37/lib/python3.7/site-packages/sklearn/preprocessing/data.py:645: DataConversionWarning: Data with input dtype float64, object were all converted to float64 by StandardScaler.\n",
      "  return self.partial_fit(X, y)\n",
      "python/quarterTools.py:90: DataConversionWarning: Data with input dtype float64, object were all converted to float64 by StandardScaler.\n",
      "  scaled_data = scaler.transform(data)\n",
      "/home/dgiles/anaconda3/envs/KeplerFull37/lib/python3.7/site-packages/sklearn/preprocessing/data.py:645: DataConversionWarning: Data with input dtype float64, object were all converted to float64 by StandardScaler.\n",
      "  return self.partial_fit(X, y)\n",
      "python/quarterTools.py:90: DataConversionWarning: Data with input dtype float64, object were all converted to float64 by StandardScaler.\n",
      "  scaled_data = scaler.transform(data)\n"
     ]
    }
   ],
   "source": [
    "rdct_times = pd.DataFrame(index=Q_dict.keys(),data=[],columns=['PCA90_times','PCA95_times','PCA99_times'])\n",
    "for Q in Q_dict.keys():\n",
    "    rdct_times.loc[Q]=foo(Q)"
   ]
  },
  {
   "cell_type": "code",
   "execution_count": 34,
   "metadata": {},
   "outputs": [
    {
     "data": {
      "text/plain": [
       "20.287922"
      ]
     },
     "execution_count": 34,
     "metadata": {},
     "output_type": "execute_result"
    }
   ],
   "source": [
    "(sum(Q_times,timedelta(0))/len(Q_times)).total_seconds()"
   ]
  },
  {
   "cell_type": "code",
   "execution_count": 49,
   "metadata": {},
   "outputs": [
    {
     "data": {
      "text/plain": [
       "12.344685"
      ]
     },
     "execution_count": 49,
     "metadata": {},
     "output_type": "execute_result"
    }
   ],
   "source": [
    "timedelta.total_seconds(Q_times[0])"
   ]
  },
  {
   "cell_type": "code",
   "execution_count": 63,
   "metadata": {},
   "outputs": [],
   "source": [
    "rdct_times.to_csv('reduction_times.csv')"
   ]
  },
  {
   "cell_type": "code",
   "execution_count": 61,
   "metadata": {},
   "outputs": [],
   "source": [
    "rdct_times['PCA99_times']=rdct_times.PCA99_times.apply(timedelta.total_seconds)"
   ]
  },
  {
   "cell_type": "code",
   "execution_count": 62,
   "metadata": {},
   "outputs": [
    {
     "data": {
      "text/html": [
       "<div>\n",
       "<style scoped>\n",
       "    .dataframe tbody tr th:only-of-type {\n",
       "        vertical-align: middle;\n",
       "    }\n",
       "\n",
       "    .dataframe tbody tr th {\n",
       "        vertical-align: top;\n",
       "    }\n",
       "\n",
       "    .dataframe thead th {\n",
       "        text-align: right;\n",
       "    }\n",
       "</style>\n",
       "<table border=\"1\" class=\"dataframe\">\n",
       "  <thead>\n",
       "    <tr style=\"text-align: right;\">\n",
       "      <th></th>\n",
       "      <th>PCA90_times</th>\n",
       "      <th>PCA95_times</th>\n",
       "      <th>PCA99_times</th>\n",
       "    </tr>\n",
       "  </thead>\n",
       "  <tbody>\n",
       "    <tr>\n",
       "      <th>Q1</th>\n",
       "      <td>10.800959</td>\n",
       "      <td>15.733025</td>\n",
       "      <td>31.469359</td>\n",
       "    </tr>\n",
       "    <tr>\n",
       "      <th>Q2</th>\n",
       "      <td>15.636804</td>\n",
       "      <td>23.474980</td>\n",
       "      <td>40.848296</td>\n",
       "    </tr>\n",
       "    <tr>\n",
       "      <th>Q3</th>\n",
       "      <td>17.268312</td>\n",
       "      <td>23.718734</td>\n",
       "      <td>40.539367</td>\n",
       "    </tr>\n",
       "    <tr>\n",
       "      <th>Q4</th>\n",
       "      <td>16.412181</td>\n",
       "      <td>26.082970</td>\n",
       "      <td>43.468744</td>\n",
       "    </tr>\n",
       "    <tr>\n",
       "      <th>Q5</th>\n",
       "      <td>15.084672</td>\n",
       "      <td>23.907383</td>\n",
       "      <td>43.325367</td>\n",
       "    </tr>\n",
       "    <tr>\n",
       "      <th>Q6</th>\n",
       "      <td>15.155965</td>\n",
       "      <td>19.125999</td>\n",
       "      <td>30.751354</td>\n",
       "    </tr>\n",
       "    <tr>\n",
       "      <th>Q7</th>\n",
       "      <td>14.579648</td>\n",
       "      <td>20.126913</td>\n",
       "      <td>33.302158</td>\n",
       "    </tr>\n",
       "    <tr>\n",
       "      <th>Q8</th>\n",
       "      <td>14.638839</td>\n",
       "      <td>23.367365</td>\n",
       "      <td>39.939548</td>\n",
       "    </tr>\n",
       "    <tr>\n",
       "      <th>Q9</th>\n",
       "      <td>13.007518</td>\n",
       "      <td>18.856272</td>\n",
       "      <td>33.763662</td>\n",
       "    </tr>\n",
       "    <tr>\n",
       "      <th>Q10</th>\n",
       "      <td>13.070692</td>\n",
       "      <td>20.757123</td>\n",
       "      <td>35.445522</td>\n",
       "    </tr>\n",
       "    <tr>\n",
       "      <th>Q11</th>\n",
       "      <td>11.410296</td>\n",
       "      <td>15.350620</td>\n",
       "      <td>29.319100</td>\n",
       "    </tr>\n",
       "    <tr>\n",
       "      <th>Q12</th>\n",
       "      <td>13.619598</td>\n",
       "      <td>20.606698</td>\n",
       "      <td>34.838482</td>\n",
       "    </tr>\n",
       "    <tr>\n",
       "      <th>Q13</th>\n",
       "      <td>12.983753</td>\n",
       "      <td>20.923553</td>\n",
       "      <td>37.491560</td>\n",
       "    </tr>\n",
       "    <tr>\n",
       "      <th>Q14</th>\n",
       "      <td>12.869900</td>\n",
       "      <td>21.415612</td>\n",
       "      <td>36.214670</td>\n",
       "    </tr>\n",
       "    <tr>\n",
       "      <th>Q15</th>\n",
       "      <td>12.776386</td>\n",
       "      <td>20.199504</td>\n",
       "      <td>33.969706</td>\n",
       "    </tr>\n",
       "    <tr>\n",
       "      <th>Q16</th>\n",
       "      <td>12.131277</td>\n",
       "      <td>20.885750</td>\n",
       "      <td>34.578915</td>\n",
       "    </tr>\n",
       "    <tr>\n",
       "      <th>Q17</th>\n",
       "      <td>12.627555</td>\n",
       "      <td>18.433798</td>\n",
       "      <td>26.594540</td>\n",
       "    </tr>\n",
       "  </tbody>\n",
       "</table>\n",
       "</div>"
      ],
      "text/plain": [
       "     PCA90_times  PCA95_times  PCA99_times\n",
       "Q1     10.800959    15.733025    31.469359\n",
       "Q2     15.636804    23.474980    40.848296\n",
       "Q3     17.268312    23.718734    40.539367\n",
       "Q4     16.412181    26.082970    43.468744\n",
       "Q5     15.084672    23.907383    43.325367\n",
       "Q6     15.155965    19.125999    30.751354\n",
       "Q7     14.579648    20.126913    33.302158\n",
       "Q8     14.638839    23.367365    39.939548\n",
       "Q9     13.007518    18.856272    33.763662\n",
       "Q10    13.070692    20.757123    35.445522\n",
       "Q11    11.410296    15.350620    29.319100\n",
       "Q12    13.619598    20.606698    34.838482\n",
       "Q13    12.983753    20.923553    37.491560\n",
       "Q14    12.869900    21.415612    36.214670\n",
       "Q15    12.776386    20.199504    33.969706\n",
       "Q16    12.131277    20.885750    34.578915\n",
       "Q17    12.627555    18.433798    26.594540"
      ]
     },
     "execution_count": 62,
     "metadata": {},
     "output_type": "execute_result"
    }
   ],
   "source": [
    "rdct_times"
   ]
  },
  {
   "cell_type": "code",
   "execution_count": 65,
   "metadata": {},
   "outputs": [
    {
     "data": {
      "text/plain": [
       "dict_keys(['PCA90', 'PCA95', 'PCA99'])"
      ]
     },
     "execution_count": 65,
     "metadata": {},
     "output_type": "execute_result"
    }
   ],
   "source": [
    "Q_dict['Q1'].reductions.keys()"
   ]
  },
  {
   "cell_type": "code",
   "execution_count": 67,
   "metadata": {},
   "outputs": [
    {
     "data": {
      "text/plain": [
       "Index(['PCA90_times', 'PCA95_times', 'PCA99_times'], dtype='object')"
      ]
     },
     "execution_count": 67,
     "metadata": {},
     "output_type": "execute_result"
    }
   ],
   "source": [
    "rdct_times.columns"
   ]
  },
  {
   "cell_type": "code",
   "execution_count": 66,
   "metadata": {},
   "outputs": [],
   "source": [
    "def foo(Q):\n",
    "    with open('/home/dgiles/Documents/KeplerLCs/output/{}.coo'.format(Q),'rb') as file:\n",
    "        Qcoo=pickle.load(file)\n",
    "        print(\"{}.coo imported\".format(Q))\n",
    "    timestart = datetime.now()\n",
    "    labels = Q_dict[Q].db_out(df='self',verbose=False)\n",
    "    timebase = datetime.now()\n",
    "    #pca90 = Q_dict[Q].db_out(df=Q_dict[Q].reductions['PCA90'],verbose=False)\n",
    "    #time90 = datetime.now()\n",
    "    #pca95 = Q_dict[Q].db_out(df=Q_dict[Q].reductions['PCA95'],verbose=False)\n",
    "    #time95 = datetime.now()\n",
    "    #pca99 = Q_dict[Q].db_out(df=Q_dict[Q].reductions['PCA99'],verbose=False)\n",
    "    #time99 = datetime.now()\n",
    "    return [timebase-timestart]#,time90-timebase,time95-time90,time99-time95]"
   ]
  },
  {
   "cell_type": "code",
   "execution_count": 68,
   "metadata": {},
   "outputs": [
    {
     "name": "stdout",
     "output_type": "stream",
     "text": [
      "Q1.coo imported\n",
      "Q2.coo imported\n",
      "Q3.coo imported\n",
      "Q4.coo imported\n",
      "Q5.coo imported\n",
      "Q6.coo imported\n",
      "Q7.coo imported\n",
      "Q8.coo imported\n",
      "Q9.coo imported\n",
      "Q10.coo imported\n",
      "Q11.coo imported\n",
      "Q12.coo imported\n",
      "Q13.coo imported\n",
      "Q14.coo imported\n",
      "Q15.coo imported\n",
      "Q16.coo imported\n",
      "Q17.coo imported\n"
     ]
    }
   ],
   "source": [
    "cluster_times = pd.DataFrame(index=Q_dict.keys(),\n",
    "                             data=[],\n",
    "                             columns=['base_times','PCA90_times','PCA95_times','PCA99_times'])\n",
    "\n",
    "for Q in Q_dict.keys():\n",
    "    cluster_times.loc[Q]=foo(Q)"
   ]
  },
  {
   "cell_type": "code",
   "execution_count": 69,
   "metadata": {},
   "outputs": [
    {
     "data": {
      "text/html": [
       "<div>\n",
       "<style scoped>\n",
       "    .dataframe tbody tr th:only-of-type {\n",
       "        vertical-align: middle;\n",
       "    }\n",
       "\n",
       "    .dataframe tbody tr th {\n",
       "        vertical-align: top;\n",
       "    }\n",
       "\n",
       "    .dataframe thead th {\n",
       "        text-align: right;\n",
       "    }\n",
       "</style>\n",
       "<table border=\"1\" class=\"dataframe\">\n",
       "  <thead>\n",
       "    <tr style=\"text-align: right;\">\n",
       "      <th></th>\n",
       "      <th>base_times</th>\n",
       "      <th>PCA90_times</th>\n",
       "      <th>PCA95_times</th>\n",
       "      <th>PCA99_times</th>\n",
       "    </tr>\n",
       "  </thead>\n",
       "  <tbody>\n",
       "    <tr>\n",
       "      <th>Q1</th>\n",
       "      <td>0:00:00.664112</td>\n",
       "      <td>0:05:36.920364</td>\n",
       "      <td>0:06:31.406803</td>\n",
       "      <td>0:07:49.503053</td>\n",
       "    </tr>\n",
       "    <tr>\n",
       "      <th>Q2</th>\n",
       "      <td>0:00:00.597309</td>\n",
       "      <td>0:06:07.008624</td>\n",
       "      <td>0:07:13.794225</td>\n",
       "      <td>0:10:11.842755</td>\n",
       "    </tr>\n",
       "    <tr>\n",
       "      <th>Q3</th>\n",
       "      <td>0:00:00.585696</td>\n",
       "      <td>0:05:33.111268</td>\n",
       "      <td>0:06:19.336950</td>\n",
       "      <td>0:07:58.892724</td>\n",
       "    </tr>\n",
       "    <tr>\n",
       "      <th>Q4</th>\n",
       "      <td>0:00:00.599547</td>\n",
       "      <td>0:05:28.040484</td>\n",
       "      <td>0:06:40.874488</td>\n",
       "      <td>0:08:10.595437</td>\n",
       "    </tr>\n",
       "    <tr>\n",
       "      <th>Q5</th>\n",
       "      <td>0:00:00.683147</td>\n",
       "      <td>0:07:17.708614</td>\n",
       "      <td>0:08:28.320800</td>\n",
       "      <td>0:10:20.854077</td>\n",
       "    </tr>\n",
       "    <tr>\n",
       "      <th>Q6</th>\n",
       "      <td>0:00:00.667909</td>\n",
       "      <td>0:04:46.475251</td>\n",
       "      <td>0:07:41.115918</td>\n",
       "      <td>0:07:28.367959</td>\n",
       "    </tr>\n",
       "    <tr>\n",
       "      <th>Q7</th>\n",
       "      <td>0:00:00.594571</td>\n",
       "      <td>0:05:15.496100</td>\n",
       "      <td>0:06:06.243251</td>\n",
       "      <td>0:08:08.195946</td>\n",
       "    </tr>\n",
       "    <tr>\n",
       "      <th>Q8</th>\n",
       "      <td>0:00:00.601752</td>\n",
       "      <td>0:07:17.999669</td>\n",
       "      <td>0:08:24.057016</td>\n",
       "      <td>0:10:29.516116</td>\n",
       "    </tr>\n",
       "    <tr>\n",
       "      <th>Q9</th>\n",
       "      <td>0:00:00.578084</td>\n",
       "      <td>0:05:26.499160</td>\n",
       "      <td>0:06:26.872182</td>\n",
       "      <td>0:08:36.890855</td>\n",
       "    </tr>\n",
       "    <tr>\n",
       "      <th>Q10</th>\n",
       "      <td>0:00:00.582821</td>\n",
       "      <td>0:06:35.383877</td>\n",
       "      <td>0:07:38.692501</td>\n",
       "      <td>0:08:57.583528</td>\n",
       "    </tr>\n",
       "    <tr>\n",
       "      <th>Q11</th>\n",
       "      <td>0:00:00.577664</td>\n",
       "      <td>0:06:17.961355</td>\n",
       "      <td>0:06:05.923003</td>\n",
       "      <td>0:09:20.428509</td>\n",
       "    </tr>\n",
       "    <tr>\n",
       "      <th>Q12</th>\n",
       "      <td>0:00:00.595738</td>\n",
       "      <td>0:05:17.997803</td>\n",
       "      <td>0:06:06.994608</td>\n",
       "      <td>0:07:52.306944</td>\n",
       "    </tr>\n",
       "    <tr>\n",
       "      <th>Q13</th>\n",
       "      <td>0:00:00.601265</td>\n",
       "      <td>0:05:20.056013</td>\n",
       "      <td>0:06:33.483943</td>\n",
       "      <td>0:07:22.054961</td>\n",
       "    </tr>\n",
       "    <tr>\n",
       "      <th>Q14</th>\n",
       "      <td>0:00:00.582310</td>\n",
       "      <td>0:05:41.433866</td>\n",
       "      <td>0:06:51.269738</td>\n",
       "      <td>0:08:22.017473</td>\n",
       "    </tr>\n",
       "    <tr>\n",
       "      <th>Q15</th>\n",
       "      <td>0:00:00.573203</td>\n",
       "      <td>0:06:48.912894</td>\n",
       "      <td>0:08:44.503913</td>\n",
       "      <td>0:09:47.082341</td>\n",
       "    </tr>\n",
       "    <tr>\n",
       "      <th>Q16</th>\n",
       "      <td>0:00:00.586726</td>\n",
       "      <td>0:08:10.919326</td>\n",
       "      <td>0:09:57.492539</td>\n",
       "      <td>0:11:47.762459</td>\n",
       "    </tr>\n",
       "    <tr>\n",
       "      <th>Q17</th>\n",
       "      <td>0:00:00.586235</td>\n",
       "      <td>0:08:51.438540</td>\n",
       "      <td>0:09:58.873602</td>\n",
       "      <td>0:12:09.100326</td>\n",
       "    </tr>\n",
       "  </tbody>\n",
       "</table>\n",
       "</div>"
      ],
      "text/plain": [
       "         base_times     PCA90_times     PCA95_times     PCA99_times\n",
       "Q1   0:00:00.664112  0:05:36.920364  0:06:31.406803  0:07:49.503053\n",
       "Q2   0:00:00.597309  0:06:07.008624  0:07:13.794225  0:10:11.842755\n",
       "Q3   0:00:00.585696  0:05:33.111268  0:06:19.336950  0:07:58.892724\n",
       "Q4   0:00:00.599547  0:05:28.040484  0:06:40.874488  0:08:10.595437\n",
       "Q5   0:00:00.683147  0:07:17.708614  0:08:28.320800  0:10:20.854077\n",
       "Q6   0:00:00.667909  0:04:46.475251  0:07:41.115918  0:07:28.367959\n",
       "Q7   0:00:00.594571  0:05:15.496100  0:06:06.243251  0:08:08.195946\n",
       "Q8   0:00:00.601752  0:07:17.999669  0:08:24.057016  0:10:29.516116\n",
       "Q9   0:00:00.578084  0:05:26.499160  0:06:26.872182  0:08:36.890855\n",
       "Q10  0:00:00.582821  0:06:35.383877  0:07:38.692501  0:08:57.583528\n",
       "Q11  0:00:00.577664  0:06:17.961355  0:06:05.923003  0:09:20.428509\n",
       "Q12  0:00:00.595738  0:05:17.997803  0:06:06.994608  0:07:52.306944\n",
       "Q13  0:00:00.601265  0:05:20.056013  0:06:33.483943  0:07:22.054961\n",
       "Q14  0:00:00.582310  0:05:41.433866  0:06:51.269738  0:08:22.017473\n",
       "Q15  0:00:00.573203  0:06:48.912894  0:08:44.503913  0:09:47.082341\n",
       "Q16  0:00:00.586726  0:08:10.919326  0:09:57.492539  0:11:47.762459\n",
       "Q17  0:00:00.586235  0:08:51.438540  0:09:58.873602  0:12:09.100326"
      ]
     },
     "execution_count": 69,
     "metadata": {},
     "output_type": "execute_result"
    }
   ],
   "source": [
    "cluster_times"
   ]
  },
  {
   "cell_type": "code",
   "execution_count": 70,
   "metadata": {},
   "outputs": [],
   "source": [
    "for col in cluster_times.columns:\n",
    "    cluster_times[col]=cluster_times[col].apply(timedelta.total_seconds)\n",
    "cluster_times.to_csv('cluster_times.csv')"
   ]
  },
  {
   "cell_type": "code",
   "execution_count": 2,
   "metadata": {},
   "outputs": [],
   "source": [
    "import pickle\n",
    "Q_dict = dict()\n",
    "for i in range(1,18):\n",
    "    with open('/home/dgiles/Documents/KeplerLCs/output/Q{}.coo'.format(i),'rb') as file:\n",
    "        Q_dict['Q{}'.format(i)]=pickle.load(file)\n",
    "        "
   ]
  },
  {
   "cell_type": "code",
   "execution_count": 4,
   "metadata": {},
   "outputs": [
    {
     "data": {
      "text/html": [
       "<div>\n",
       "<style scoped>\n",
       "    .dataframe tbody tr th:only-of-type {\n",
       "        vertical-align: middle;\n",
       "    }\n",
       "\n",
       "    .dataframe tbody tr th {\n",
       "        vertical-align: top;\n",
       "    }\n",
       "\n",
       "    .dataframe thead th {\n",
       "        text-align: right;\n",
       "    }\n",
       "</style>\n",
       "<table border=\"1\" class=\"dataframe\">\n",
       "  <thead>\n",
       "    <tr style=\"text-align: right;\">\n",
       "      <th></th>\n",
       "      <th>longtermtrend</th>\n",
       "      <th>meanmedrat</th>\n",
       "      <th>skews</th>\n",
       "      <th>varss</th>\n",
       "      <th>coeffvar</th>\n",
       "      <th>stds</th>\n",
       "      <th>kurt</th>\n",
       "      <th>mad</th>\n",
       "      <th>maxslope</th>\n",
       "      <th>minslope</th>\n",
       "      <th>...</th>\n",
       "      <th>percentamp</th>\n",
       "      <th>magratio</th>\n",
       "      <th>sautocorrcoef</th>\n",
       "      <th>autocorrcoef</th>\n",
       "      <th>flatmean</th>\n",
       "      <th>tflatmean</th>\n",
       "      <th>roundmean</th>\n",
       "      <th>troundmean</th>\n",
       "      <th>roundrat</th>\n",
       "      <th>flatrat</th>\n",
       "    </tr>\n",
       "  </thead>\n",
       "  <tbody>\n",
       "    <tr>\n",
       "      <th>count</th>\n",
       "      <td>1.662790e+05</td>\n",
       "      <td>166279.000000</td>\n",
       "      <td>166279.000000</td>\n",
       "      <td>1.662790e+05</td>\n",
       "      <td>166279.000000</td>\n",
       "      <td>166279.000000</td>\n",
       "      <td>166279.000000</td>\n",
       "      <td>166279.000000</td>\n",
       "      <td>166279.000000</td>\n",
       "      <td>166279.000000</td>\n",
       "      <td>...</td>\n",
       "      <td>166279.000000</td>\n",
       "      <td>166279.000000</td>\n",
       "      <td>166279.000000</td>\n",
       "      <td>166279.000000</td>\n",
       "      <td>166279.000000</td>\n",
       "      <td>166279.000000</td>\n",
       "      <td>166279.000000</td>\n",
       "      <td>166279.000000</td>\n",
       "      <td>166279.000000</td>\n",
       "      <td>166279.000000</td>\n",
       "    </tr>\n",
       "    <tr>\n",
       "      <th>mean</th>\n",
       "      <td>9.371762e-07</td>\n",
       "      <td>0.999961</td>\n",
       "      <td>3.340188</td>\n",
       "      <td>3.351354e-04</td>\n",
       "      <td>0.001764</td>\n",
       "      <td>0.001849</td>\n",
       "      <td>123.111624</td>\n",
       "      <td>0.001132</td>\n",
       "      <td>0.086729</td>\n",
       "      <td>-0.083243</td>\n",
       "      <td>...</td>\n",
       "      <td>0.012911</td>\n",
       "      <td>3.734413</td>\n",
       "      <td>-0.377254</td>\n",
       "      <td>0.450403</td>\n",
       "      <td>0.021728</td>\n",
       "      <td>0.025312</td>\n",
       "      <td>0.084013</td>\n",
       "      <td>-0.092002</td>\n",
       "      <td>-0.890005</td>\n",
       "      <td>1.195254</td>\n",
       "    </tr>\n",
       "    <tr>\n",
       "      <th>std</th>\n",
       "      <td>3.665585e-04</td>\n",
       "      <td>0.008698</td>\n",
       "      <td>7.260049</td>\n",
       "      <td>5.349720e-02</td>\n",
       "      <td>0.017906</td>\n",
       "      <td>0.018213</td>\n",
       "      <td>346.105208</td>\n",
       "      <td>0.006450</td>\n",
       "      <td>0.543824</td>\n",
       "      <td>0.419445</td>\n",
       "      <td>...</td>\n",
       "      <td>0.082309</td>\n",
       "      <td>4.334264</td>\n",
       "      <td>0.283425</td>\n",
       "      <td>0.368717</td>\n",
       "      <td>0.242568</td>\n",
       "      <td>0.265486</td>\n",
       "      <td>4.864805</td>\n",
       "      <td>4.656313</td>\n",
       "      <td>508.366026</td>\n",
       "      <td>1.519619</td>\n",
       "    </tr>\n",
       "    <tr>\n",
       "      <th>min</th>\n",
       "      <td>-8.239169e-02</td>\n",
       "      <td>-0.325208</td>\n",
       "      <td>-42.724255</td>\n",
       "      <td>3.043061e-10</td>\n",
       "      <td>-5.672508</td>\n",
       "      <td>0.000017</td>\n",
       "      <td>-1.880190</td>\n",
       "      <td>0.000009</td>\n",
       "      <td>0.001443</td>\n",
       "      <td>-56.360523</td>\n",
       "      <td>...</td>\n",
       "      <td>0.000092</td>\n",
       "      <td>0.000993</td>\n",
       "      <td>-0.975890</td>\n",
       "      <td>-0.936395</td>\n",
       "      <td>-0.100668</td>\n",
       "      <td>-0.098674</td>\n",
       "      <td>-149.433333</td>\n",
       "      <td>-285.934677</td>\n",
       "      <td>-123456.000000</td>\n",
       "      <td>-91.427759</td>\n",
       "    </tr>\n",
       "    <tr>\n",
       "      <th>25%</th>\n",
       "      <td>-6.164370e-07</td>\n",
       "      <td>0.999998</td>\n",
       "      <td>0.081774</td>\n",
       "      <td>1.012456e-07</td>\n",
       "      <td>0.000318</td>\n",
       "      <td>0.000318</td>\n",
       "      <td>0.343933</td>\n",
       "      <td>0.000190</td>\n",
       "      <td>0.026899</td>\n",
       "      <td>-0.076667</td>\n",
       "      <td>...</td>\n",
       "      <td>0.003026</td>\n",
       "      <td>1.044859</td>\n",
       "      <td>-0.498457</td>\n",
       "      <td>0.102779</td>\n",
       "      <td>0.004783</td>\n",
       "      <td>0.003993</td>\n",
       "      <td>-0.035727</td>\n",
       "      <td>-0.017802</td>\n",
       "      <td>-1.014421</td>\n",
       "      <td>1.058415</td>\n",
       "    </tr>\n",
       "    <tr>\n",
       "      <th>50%</th>\n",
       "      <td>-5.262431e-09</td>\n",
       "      <td>1.000007</td>\n",
       "      <td>0.564201</td>\n",
       "      <td>2.819561e-07</td>\n",
       "      <td>0.000531</td>\n",
       "      <td>0.000531</td>\n",
       "      <td>4.724970</td>\n",
       "      <td>0.000314</td>\n",
       "      <td>0.046925</td>\n",
       "      <td>-0.046883</td>\n",
       "      <td>...</td>\n",
       "      <td>0.006044</td>\n",
       "      <td>2.251401</td>\n",
       "      <td>-0.487424</td>\n",
       "      <td>0.347322</td>\n",
       "      <td>0.008159</td>\n",
       "      <td>0.006748</td>\n",
       "      <td>-0.006172</td>\n",
       "      <td>0.007027</td>\n",
       "      <td>-0.156886</td>\n",
       "      <td>1.167688</td>\n",
       "    </tr>\n",
       "    <tr>\n",
       "      <th>75%</th>\n",
       "      <td>6.244583e-07</td>\n",
       "      <td>1.000019</td>\n",
       "      <td>2.780292</td>\n",
       "      <td>7.525685e-07</td>\n",
       "      <td>0.000867</td>\n",
       "      <td>0.000868</td>\n",
       "      <td>51.072044</td>\n",
       "      <td>0.000523</td>\n",
       "      <td>0.076757</td>\n",
       "      <td>-0.026836</td>\n",
       "      <td>...</td>\n",
       "      <td>0.012380</td>\n",
       "      <td>4.598552</td>\n",
       "      <td>-0.453832</td>\n",
       "      <td>0.857990</td>\n",
       "      <td>0.012324</td>\n",
       "      <td>0.010234</td>\n",
       "      <td>0.015515</td>\n",
       "      <td>0.041276</td>\n",
       "      <td>0.728192</td>\n",
       "      <td>1.288302</td>\n",
       "    </tr>\n",
       "    <tr>\n",
       "      <th>max</th>\n",
       "      <td>7.015344e-02</td>\n",
       "      <td>3.434339</td>\n",
       "      <td>62.274471</td>\n",
       "      <td>1.893018e+01</td>\n",
       "      <td>1.337901</td>\n",
       "      <td>4.350882</td>\n",
       "      <td>3938.013111</td>\n",
       "      <td>0.680921</td>\n",
       "      <td>70.261696</td>\n",
       "      <td>-0.001465</td>\n",
       "      <td>...</td>\n",
       "      <td>20.883038</td>\n",
       "      <td>105.570994</td>\n",
       "      <td>0.995079</td>\n",
       "      <td>0.999999</td>\n",
       "      <td>19.227104</td>\n",
       "      <td>15.378776</td>\n",
       "      <td>266.550377</td>\n",
       "      <td>132.343519</td>\n",
       "      <td>92467.139890</td>\n",
       "      <td>588.931409</td>\n",
       "    </tr>\n",
       "  </tbody>\n",
       "</table>\n",
       "<p>8 rows × 48 columns</p>\n",
       "</div>"
      ],
      "text/plain": [
       "       longtermtrend     meanmedrat          skews         varss  \\\n",
       "count   1.662790e+05  166279.000000  166279.000000  1.662790e+05   \n",
       "mean    9.371762e-07       0.999961       3.340188  3.351354e-04   \n",
       "std     3.665585e-04       0.008698       7.260049  5.349720e-02   \n",
       "min    -8.239169e-02      -0.325208     -42.724255  3.043061e-10   \n",
       "25%    -6.164370e-07       0.999998       0.081774  1.012456e-07   \n",
       "50%    -5.262431e-09       1.000007       0.564201  2.819561e-07   \n",
       "75%     6.244583e-07       1.000019       2.780292  7.525685e-07   \n",
       "max     7.015344e-02       3.434339      62.274471  1.893018e+01   \n",
       "\n",
       "            coeffvar           stds           kurt            mad  \\\n",
       "count  166279.000000  166279.000000  166279.000000  166279.000000   \n",
       "mean        0.001764       0.001849     123.111624       0.001132   \n",
       "std         0.017906       0.018213     346.105208       0.006450   \n",
       "min        -5.672508       0.000017      -1.880190       0.000009   \n",
       "25%         0.000318       0.000318       0.343933       0.000190   \n",
       "50%         0.000531       0.000531       4.724970       0.000314   \n",
       "75%         0.000867       0.000868      51.072044       0.000523   \n",
       "max         1.337901       4.350882    3938.013111       0.680921   \n",
       "\n",
       "            maxslope       minslope  ...     percentamp       magratio  \\\n",
       "count  166279.000000  166279.000000  ...  166279.000000  166279.000000   \n",
       "mean        0.086729      -0.083243  ...       0.012911       3.734413   \n",
       "std         0.543824       0.419445  ...       0.082309       4.334264   \n",
       "min         0.001443     -56.360523  ...       0.000092       0.000993   \n",
       "25%         0.026899      -0.076667  ...       0.003026       1.044859   \n",
       "50%         0.046925      -0.046883  ...       0.006044       2.251401   \n",
       "75%         0.076757      -0.026836  ...       0.012380       4.598552   \n",
       "max        70.261696      -0.001465  ...      20.883038     105.570994   \n",
       "\n",
       "       sautocorrcoef   autocorrcoef       flatmean      tflatmean  \\\n",
       "count  166279.000000  166279.000000  166279.000000  166279.000000   \n",
       "mean       -0.377254       0.450403       0.021728       0.025312   \n",
       "std         0.283425       0.368717       0.242568       0.265486   \n",
       "min        -0.975890      -0.936395      -0.100668      -0.098674   \n",
       "25%        -0.498457       0.102779       0.004783       0.003993   \n",
       "50%        -0.487424       0.347322       0.008159       0.006748   \n",
       "75%        -0.453832       0.857990       0.012324       0.010234   \n",
       "max         0.995079       0.999999      19.227104      15.378776   \n",
       "\n",
       "           roundmean     troundmean       roundrat        flatrat  \n",
       "count  166279.000000  166279.000000  166279.000000  166279.000000  \n",
       "mean        0.084013      -0.092002      -0.890005       1.195254  \n",
       "std         4.864805       4.656313     508.366026       1.519619  \n",
       "min      -149.433333    -285.934677 -123456.000000     -91.427759  \n",
       "25%        -0.035727      -0.017802      -1.014421       1.058415  \n",
       "50%        -0.006172       0.007027      -0.156886       1.167688  \n",
       "75%         0.015515       0.041276       0.728192       1.288302  \n",
       "max       266.550377     132.343519   92467.139890     588.931409  \n",
       "\n",
       "[8 rows x 48 columns]"
      ]
     },
     "execution_count": 4,
     "metadata": {},
     "output_type": "execute_result"
    }
   ],
   "source": [
    "Q_dict['Q2'].data.describe()"
   ]
  },
  {
   "cell_type": "code",
   "execution_count": null,
   "metadata": {},
   "outputs": [],
   "source": []
  }
 ],
 "metadata": {
  "kernelspec": {
   "display_name": "Python 3",
   "language": "python",
   "name": "python3"
  },
  "language_info": {
   "codemirror_mode": {
    "name": "ipython",
    "version": 3
   },
   "file_extension": ".py",
   "mimetype": "text/x-python",
   "name": "python",
   "nbconvert_exporter": "python",
   "pygments_lexer": "ipython3",
   "version": "3.7.3"
  }
 },
 "nbformat": 4,
 "nbformat_minor": 2
}
