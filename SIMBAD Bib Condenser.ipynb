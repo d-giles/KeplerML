{
 "cells": [
  {
   "cell_type": "code",
   "execution_count": 1,
   "metadata": {},
   "outputs": [],
   "source": [
    "with open('../../Downloads/simbad_bib.csv','r') as file:\n",
    "    lines = file.readlines()"
   ]
  },
  {
   "cell_type": "code",
   "execution_count": 2,
   "metadata": {},
   "outputs": [
    {
     "data": {
      "text/plain": [
       "['C.D.S.  -  SIMBAD4 rel 1.7  -  2019.01.14CET20:18:02\\n',\n",
       " '\\n',\n",
       " 'KIC000757099\\n',\n",
       " '------------\\n',\n",
       " '\\n',\n",
       " 'Object KIC 757099  ---  Ce*  ---  OID=@7962322   (@@-1,255)  ---  coobox=19949\\n',\n",
       " '\\n',\n",
       " 'Coordinates(ICRS,ep=J2000,eq=2000): 19 24 10.3300062557  +36 35 37.602761776 (Opt ) A [0.0199 0.0276 90] 2018yCat.1345....0G\\n',\n",
       " '\\n',\n",
       " 'Identifiers (3):\\n',\n",
       " '   KIC 757099                      2MASS J19241033+3635377         Gaia DR2 2050233601176543104  \\n',\n",
       " '\\n',\n",
       " 'Bibcodes  2009-2019 () (3):\\n',\n",
       " '  2016ApJ...829...23D  2014ApJS..211...24M  2011A&A...529A..89D            \\n',\n",
       " '\\n',\n",
       " 'Notes (0) :\\n',\n",
       " '\\n',\n",
       " '================================================================================\\n',\n",
       " '\\n',\n",
       " 'C.D.S.  -  SIMBAD4 rel 1.7  -  2019.01.14CET20:18:02\\n']"
      ]
     },
     "execution_count": 2,
     "metadata": {},
     "output_type": "execute_result"
    }
   ],
   "source": [
    "lines[:20]"
   ]
  },
  {
   "cell_type": "code",
   "execution_count": 97,
   "metadata": {},
   "outputs": [],
   "source": [
    "def condense(lines,newline=True):\n",
    "    \"\"\"\n",
    "    Takes SIMBAD produced CSV and condenses it to just the KIC and the bibcodes\n",
    "    lines (list of strings) - Simbad output imported by line.\n",
    "    newline (boolean) - If True, will add a new line for each bibcode, if False, all information for each source\n",
    "    is output to the same line, seperated by commas.\n",
    "    \"\"\"\n",
    "    cond = []\n",
    "    ids = []\n",
    "    for l in lines:\n",
    "        if l[:3] == 'KIC':\n",
    "            # Object identifier\n",
    "            if newline:cond.append(l)\n",
    "            else:cond.append(l[:-2]+',')\n",
    "            ids.append(l)\n",
    "        elif l[:3]=='Bib':\n",
    "            # Figures out how many bibcodes are associated with this object.\n",
    "            nbibs = int(l[24:len(l)-3]) # Number of bib items\n",
    "            biblines = int(nbibs/4) # Number of full lines the bib items take up in the SIMBAD output\n",
    "            lastline = nbibs - biblines*4 # Number of bib items in the last line of the SIMBAD output\n",
    "            i = 1\n",
    "        elif l[:4]=='  20':\n",
    "            if i <= biblines:\n",
    "                if newline:\n",
    "                    cond.append(','+l[2:21]+'\\n')\n",
    "                    cond.append(','+l[23:42]+'\\n')\n",
    "                    cond.append(','+l[44:63]+'\\n')\n",
    "                    cond.append(','+l[65:])\n",
    "                else:\n",
    "                    cond.append(l[2:21]+',')\n",
    "                    cond.append(l[23:42]+',')\n",
    "                    cond.append(l[44:63]+',')\n",
    "                    cond.append(l[65:84]+',')\n",
    "                i+=1\n",
    "            else:\n",
    "                j=0\n",
    "                while j<lastline:\n",
    "                    if newline:cond.append(','+l[2+21*j:21+21*j]+'\\n')\n",
    "                    else:cond.append(l[2+21*j:21+21*j]+',')\n",
    "                    j+=1\n",
    "                if not newline:cond.append('\\n')\n",
    "                    \n",
    "    return ids,cond"
   ]
  },
  {
   "cell_type": "code",
   "execution_count": 98,
   "metadata": {},
   "outputs": [
    {
     "data": {
      "text/plain": [
       "['KIC000757099\\n',\n",
       " ',2016ApJ...829...23D\\n',\n",
       " ',2014ApJS..211...24M\\n',\n",
       " ',2011A&A...529A..89D\\n',\n",
       " 'KIC000757450\\n',\n",
       " ',2018ApJ...856..155G\\n',\n",
       " ',2018MNRAS.477..175O\\n',\n",
       " ',2017AJ....154...60W\\n',\n",
       " ',2016ApJ...822...86M\\n',\n",
       " ',2016ApJ...825...98H\\n',\n",
       " ',2016ApJS..224...19M\\n',\n",
       " ',2016ApJS..225....9H\\n',\n",
       " ',2015A&A...575A..85B\\n',\n",
       " ',2015ApJ...798...66D\\n',\n",
       " ',2015ApJ...801....3M\\n',\n",
       " ',2015ApJ...806...97K\\n',\n",
       " ',2015ApJ...807...78F\\n',\n",
       " ',2015ApJ...807..170H\\n',\n",
       " ',2015ApJ...809....8B\\n',\n",
       " ',2015ApJ...814..130M\\n']"
      ]
     },
     "execution_count": 98,
     "metadata": {},
     "output_type": "execute_result"
    }
   ],
   "source": [
    "ids, cond = condense(lines,newline=True)\n",
    "cond[:20]\n",
    "#with open('../../Downloads/bib_cond1.csv','w') as file:\n",
    "#    file.writelines(cond)"
   ]
  },
  {
   "cell_type": "code",
   "execution_count": 5,
   "metadata": {},
   "outputs": [
    {
     "data": {
      "text/plain": [
       "['KIC00075709,',\n",
       " '2016ApJ...829...23D,',\n",
       " '2014ApJS..211...24M,',\n",
       " '2011A&A...529A..89D,',\n",
       " '\\n',\n",
       " 'KIC00075745,',\n",
       " '2018ApJ...856..155G,',\n",
       " '2018MNRAS.477..175O,',\n",
       " '2017AJ....154...60W,',\n",
       " '2016ApJ...822...86M,',\n",
       " '2016ApJ...825...98H,',\n",
       " '2016ApJS..224...19M,',\n",
       " '2016ApJS..225....9H,',\n",
       " '2015A&A...575A..85B,',\n",
       " '2015ApJ...798...66D,',\n",
       " '2015ApJ...801....3M,',\n",
       " '2015ApJ...806...97K,',\n",
       " '2015ApJ...807...78F,',\n",
       " '2015ApJ...807..170H,',\n",
       " '2015ApJ...809....8B,']"
      ]
     },
     "execution_count": 5,
     "metadata": {},
     "output_type": "execute_result"
    }
   ],
   "source": [
    "ids, cond = condense(lines,newline=False)\n",
    "#with open('../../Downloads/bib_cond1.csv','w') as file:\n",
    "#    file.writelines(cond)\n",
    "cond[:20]"
   ]
  },
  {
   "cell_type": "code",
   "execution_count": 93,
   "metadata": {},
   "outputs": [
    {
     "data": {
      "text/plain": [
       "'KIC'"
      ]
     },
     "execution_count": 93,
     "metadata": {},
     "output_type": "execute_result"
    }
   ],
   "source": [
    "cond[0][:3]"
   ]
  },
  {
   "cell_type": "code",
   "execution_count": 107,
   "metadata": {},
   "outputs": [],
   "source": [
    "IDs=[]\n",
    "Bib=[]\n",
    "\n",
    "for i in cond:\n",
    "    if i[:3]=='KIC':\n",
    "        IDs.append(i[:-1])\n",
    "        if i!=cond[0]:\n",
    "            Bib.append(bibs)\n",
    "        bibs = []\n",
    "    else:\n",
    "        bibs.append(i[1:-1])\n",
    "Bib.append(bibs)"
   ]
  },
  {
   "cell_type": "code",
   "execution_count": 108,
   "metadata": {},
   "outputs": [
    {
     "data": {
      "text/plain": [
       "[['2016ApJ...829...23D', '2014ApJS..211...24M', '2011A&A...529A..89D'],\n",
       " ['2018ApJ...856..155G',\n",
       "  '2018MNRAS.477..175O',\n",
       "  '2017AJ....154...60W',\n",
       "  '2016ApJ...822...86M',\n",
       "  '2016ApJ...825...98H',\n",
       "  '2016ApJS..224...19M',\n",
       "  '2016ApJS..225....9H',\n",
       "  '2015A&A...575A..85B',\n",
       "  '2015ApJ...798...66D',\n",
       "  '2015ApJ...801....3M',\n",
       "  '2015ApJ...806...97K',\n",
       "  '2015ApJ...807...78F',\n",
       "  '2015ApJ...807..170H',\n",
       "  '2015ApJ...809....8B',\n",
       "  '2015ApJ...814..130M',\n",
       "  '2015ApJS..217...16R',\n",
       "  '2014AJ....147..119C',\n",
       "  '2014ApJS..210...19B',\n",
       "  '2013A&A...554A.114H',\n",
       "  '2013A&A...556A.150S',\n",
       "  '2013A&A...560A...4R',\n",
       "  '2013ApJ...775L..11M',\n",
       "  '2013ApJS..208...16M',\n",
       "  '2013MNRAS.436.1883W',\n",
       "  '2012ApJ...752...53L',\n",
       "  '2012ApJ...752...72D',\n",
       "  '2012ApJ...756..185F',\n",
       "  '2012ApJ...756..186S',\n",
       "  '2012ApJS..199...24T',\n",
       "  '2011A&A...529A..89D',\n",
       "  '2011ApJ...728..117B',\n",
       "  '2011ApJ...736...19B',\n",
       "  '2011ApJ...738..170M',\n",
       "  '2011ApJS..197....2F',\n",
       "  '2011ApJS..197...12D'],\n",
       " ['2015A&A...583A..65R',\n",
       "  '2014ApJS..211...24M',\n",
       "  '2013A&A...560A...4R',\n",
       "  '2013AJ....146..156D',\n",
       "  '2011AJ....141...50W'],\n",
       " ['2015A&A...583A..65R',\n",
       "  '2015ApJ...798...92W',\n",
       "  '2014ApJS..211...24M',\n",
       "  '2013A&A...557L..10N',\n",
       "  '2013A&A...560A...4R'],\n",
       " ['2017A&A...603A..52R',\n",
       "  '2015A&A...583A..65R',\n",
       "  '2015ApJ...809....8B',\n",
       "  '2014ApJS..211...24M',\n",
       "  '2013A&A...557L..10N',\n",
       "  '2013A&A...560A...4R',\n",
       "  '2011A&A...529A..89D'],\n",
       " ['2018ApJ...859...87Y',\n",
       "  '2017ApJ...834..207M',\n",
       "  '2016A&A...594A..39F',\n",
       "  '2015A&A...583A..65R',\n",
       "  '2015MNRAS.447.2714B',\n",
       "  '2014ApJS..211...24M',\n",
       "  '2013A&A...560A...4R'],\n",
       " ['2017AJ....154..105K',\n",
       "  '2016AJ....151...68K',\n",
       "  '2016ApJ...822...86M',\n",
       "  '2016ApJ...824...15V',\n",
       "  '2014AJ....147..119C',\n",
       "  '2014AJ....148..125P',\n",
       "  '2014MNRAS.437.3473A',\n",
       "  '2012ApJS..199...24T',\n",
       "  '2011AJ....141...83P',\n",
       "  '2011AJ....142..160S'],\n",
       " ['2016A&A...594A..39F', '2015ApJ...809....8B', '2014ApJS..211...24M'],\n",
       " ['2016A&A...594A..39F',\n",
       "  '2016ApJ...829...23D',\n",
       "  '2015A&A...583A..65R',\n",
       "  '2013A&A...557L..10N',\n",
       "  '2013A&A...560A...4R'],\n",
       " ['2017A&A...602A.110K',\n",
       "  '2016AJ....151...68K',\n",
       "  '2016ApJ...822...86M',\n",
       "  '2015ApJ...809....8B',\n",
       "  '2015ApJS..217...16R',\n",
       "  '2014AJ....147..119C',\n",
       "  '2014ApJS..210...19B',\n",
       "  '2014MNRAS.437.3473A',\n",
       "  '2013MNRAS.436.1883W',\n",
       "  '2012ApJS..199...24T',\n",
       "  '2011A&A...529A..89D',\n",
       "  '2011AJ....142..160S',\n",
       "  '2011ApJ...736...19B']]"
      ]
     },
     "execution_count": 108,
     "metadata": {},
     "output_type": "execute_result"
    }
   ],
   "source": [
    "Bib[:10]"
   ]
  },
  {
   "cell_type": "markdown",
   "metadata": {},
   "source": [
    "## As Numpy Arrays"
   ]
  },
  {
   "cell_type": "code",
   "execution_count": 140,
   "metadata": {},
   "outputs": [],
   "source": [
    "adict['newkey']=['thisdefinesanewkey']\n",
    "adict['newkey']+=['thisnewthing']"
   ]
  },
  {
   "cell_type": "code",
   "execution_count": 149,
   "metadata": {},
   "outputs": [],
   "source": [
    "adict['newerkey']=[]"
   ]
  },
  {
   "cell_type": "code",
   "execution_count": 151,
   "metadata": {},
   "outputs": [],
   "source": [
    "adict['newerkey']+=['new']"
   ]
  },
  {
   "cell_type": "code",
   "execution_count": 152,
   "metadata": {},
   "outputs": [
    {
     "data": {
      "text/plain": [
       "{'key': ['thefirst', 'anew', 'a', 'n', 'e', 'w', 'e', 'r'],\n",
       " 'newerkey': ['new'],\n",
       " 'newkey': ['thisdefinesanewkey', 'thisnewthing']}"
      ]
     },
     "execution_count": 152,
     "metadata": {},
     "output_type": "execute_result"
    }
   ],
   "source": [
    "adict"
   ]
  },
  {
   "cell_type": "code",
   "execution_count": 4,
   "metadata": {},
   "outputs": [],
   "source": [
    "import numpy as np"
   ]
  },
  {
   "cell_type": "code",
   "execution_count": 159,
   "metadata": {},
   "outputs": [],
   "source": [
    "def bibcodeOrganizer(condensed):\n",
    "    \"\"\"\n",
    "    Takes SIMBAD produced CSV and condenses it to just the KIC and the bibcodes\n",
    "    lines (list of strings) - Simbad output imported by line.\n",
    "    \n",
    "    returns:\n",
    "        IDs, Bibs\n",
    "        Bibs_by_KIC\n",
    "        KICs_by_Bib\n",
    "    \"\"\"\n",
    "    Bibs_by_KIC = dict()\n",
    "    KICs_by_Bib = dict()\n",
    "    \n",
    "    for i in condensed:\n",
    "        if i[:3]=='KIC':\n",
    "            kic=i[:-1]\n",
    "            Bibs_by_KIC[kic]=[]\n",
    "        else:\n",
    "            Bibs_by_KIC[kic]+=[i[1:-1]]\n",
    "            if i[1:-1] in KICs_by_Bib.keys():\n",
    "                KICs_by_Bib[i[1:-1]]+=[kic]\n",
    "            else: \n",
    "                KICs_by_Bib[i[1:-1]]=[kic]\n",
    "    \n",
    "    KIC_IDs = list(Bibs_by_KIC.keys())\n",
    "    Unique_Bibcodes = list(KICs_by_Bib.keys())\n",
    "    return KIC_IDs,Unique_Bibcodes,Bibs_by_KIC,KICs_by_Bib"
   ]
  },
  {
   "cell_type": "code",
   "execution_count": 160,
   "metadata": {},
   "outputs": [],
   "source": [
    "ids, bibs, kic_dict, bib_dict = bibcodeOrganizer(cond)"
   ]
  },
  {
   "cell_type": "code",
   "execution_count": 168,
   "metadata": {},
   "outputs": [
    {
     "name": "stdout",
     "output_type": "stream",
     "text": [
      "KIC000757099 ['2016ApJ...829...23D', '2014ApJS..211...24M', '2011A&A...529A..89D']\n"
     ]
    }
   ],
   "source": [
    "print(ids[0],kic_dict[ids[0]])"
   ]
  },
  {
   "cell_type": "code",
   "execution_count": 167,
   "metadata": {},
   "outputs": [
    {
     "name": "stdout",
     "output_type": "stream",
     "text": [
      "2016ApJ...829...23D ['KIC000757099', 'KIC001026861', 'KIC001028018', 'KIC001570924', 'KIC001572353', 'KIC001572802', 'KIC001573138', 'KIC001573174', 'KIC001721614', 'KIC001722506']\n"
     ]
    }
   ],
   "source": [
    "print(bibs[0],bib_dict[bibs[0]][:10])"
   ]
  },
  {
   "cell_type": "code",
   "execution_count": null,
   "metadata": {},
   "outputs": [],
   "source": []
  }
 ],
 "metadata": {
  "kernelspec": {
   "display_name": "Python 3",
   "language": "python",
   "name": "python3"
  },
  "language_info": {
   "codemirror_mode": {
    "name": "ipython",
    "version": 3
   },
   "file_extension": ".py",
   "mimetype": "text/x-python",
   "name": "python",
   "nbconvert_exporter": "python",
   "pygments_lexer": "ipython3",
   "version": "3.6.1"
  }
 },
 "nbformat": 4,
 "nbformat_minor": 2
}
