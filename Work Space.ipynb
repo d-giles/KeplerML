{
 "cells": [
  {
   "cell_type": "markdown",
   "metadata": {},
   "source": [
    "## Plotting:"
   ]
  },
  {
   "cell_type": "code",
   "execution_count": 37,
   "metadata": {
    "collapsed": false,
    "deletable": true,
    "editable": true,
    "scrolled": true
   },
   "outputs": [
    {
     "data": {
      "image/png": "[encoded data removed]",
      "text/plain": [
       "<matplotlib.figure.Figure at 0x7f9712d45390>"
      ]
     },
     "metadata": {},
     "output_type": "display_data"
    },
    {
     "data": {
      "image/png": "[encoded data removed]",
      "text/plain": [
       "<matplotlib.figure.Figure at 0x7f9713304a90>"
      ]
     },
     "metadata": {},
     "output_type": "display_data"
    }
   ],
   "source": [
    "import matplotlib\n",
    "import matplotlib.pyplot as plt\n",
    "from matplotlib.figure import Figure\n",
    "%matplotlib inline\n",
    "x = [1,2,3,4,5]\n",
    "y = [1,2,3,4,5]\n",
    "plt.figure(1)\n",
    "ax1 = plt.subplot(441)\n",
    "ax1.set_title('Fig 1')\n",
    "ax1.scatter(x,y)\n",
    "ax2 = plt.subplot(412)\n",
    "ax2.scatter(x,y)\n",
    "ax2.set_title('Fig 2')\n",
    "plt.figure(2)\n",
    "ax3 = plt.subplot(413)\n",
    "plt.ylabel('normalized flux')\n",
    "ax3.scatter(x,y)\n",
    "ax3.set_title('Fig 3')\n",
    "ax4 = plt.subplot(414)\n",
    "ax4.plot(x,y)\n",
    "ax4.set_title('Fig 4')\n",
    "plt.xlabel('time')\n",
    "plt.tight_layout()\n",
    "plt.show()\n"
   ]
  },
  {
   "cell_type": "markdown",
   "metadata": {},
   "source": [
    "## Pandas Dataframes:"
   ]
  },
  {
   "cell_type": "code",
   "execution_count": 81,
   "metadata": {
    "collapsed": false,
    "scrolled": true
   },
   "outputs": [
    {
     "data": {
      "text/html": [
       "<div>\n",
       "<table border=\"1\" class=\"dataframe\">\n",
       "  <thead>\n",
       "    <tr style=\"text-align: right;\">\n",
       "      <th></th>\n",
       "      <th>f1</th>\n",
       "      <th>f2</th>\n",
       "      <th>f3</th>\n",
       "    </tr>\n",
       "  </thead>\n",
       "  <tbody>\n",
       "    <tr>\n",
       "      <th>alpha</th>\n",
       "      <td>[1, 2, 3]</td>\n",
       "      <td>1</td>\n",
       "      <td>1</td>\n",
       "    </tr>\n",
       "    <tr>\n",
       "      <th>bravo</th>\n",
       "      <td>[2, 3, 1]</td>\n",
       "      <td>2</td>\n",
       "      <td>2</td>\n",
       "    </tr>\n",
       "    <tr>\n",
       "      <th>charlie</th>\n",
       "      <td>[3, 1, 2]</td>\n",
       "      <td>3</td>\n",
       "      <td>3</td>\n",
       "    </tr>\n",
       "  </tbody>\n",
       "</table>\n",
       "</div>"
      ],
      "text/plain": [
       "                f1  f2  f3\n",
       "alpha    [1, 2, 3]   1   1\n",
       "bravo    [2, 3, 1]   2   2\n",
       "charlie  [3, 1, 2]   3   3"
      ]
     },
     "execution_count": 81,
     "metadata": {},
     "output_type": "execute_result"
    }
   ],
   "source": [
    "import numpy as np\n",
    "import pandas as pd\n",
    "f1 = [[1,2,3],[2,3,1],[3,1,2]]\n",
    "f2 = f3 = [1,2,3]\n",
    "df = pd.DataFrame({'f1':f1,'f2':f2,'f3':f3},index=['alpha','bravo','charlie'])\n",
    "df"
   ]
  },
  {
   "cell_type": "code",
   "execution_count": 57,
   "metadata": {
    "collapsed": false
   },
   "outputs": [
    {
     "data": {
      "text/html": [
       "<div>\n",
       "<table border=\"1\" class=\"dataframe\">\n",
       "  <thead>\n",
       "    <tr style=\"text-align: right;\">\n",
       "      <th></th>\n",
       "      <th>f1</th>\n",
       "      <th>f2</th>\n",
       "      <th>f3</th>\n",
       "    </tr>\n",
       "  </thead>\n",
       "  <tbody>\n",
       "    <tr>\n",
       "      <th>alpha</th>\n",
       "      <td>[1, 2, 3]</td>\n",
       "      <td>1</td>\n",
       "      <td>1</td>\n",
       "    </tr>\n",
       "    <tr>\n",
       "      <th>bravo</th>\n",
       "      <td>[2, 3, 1]</td>\n",
       "      <td>2</td>\n",
       "      <td>2</td>\n",
       "    </tr>\n",
       "  </tbody>\n",
       "</table>\n",
       "</div>"
      ],
      "text/plain": [
       "              f1  f2  f3\n",
       "alpha  [1, 2, 3]   1   1\n",
       "bravo  [2, 3, 1]   2   2"
      ]
     },
     "execution_count": 57,
     "metadata": {},
     "output_type": "execute_result"
    }
   ],
   "source": [
    "df[df.index.str.contains('|'.join(['alpha','bravo']))]"
   ]
  },
  {
   "cell_type": "code",
   "execution_count": 90,
   "metadata": {
    "collapsed": false
   },
   "outputs": [
    {
     "data": {
      "text/plain": [
       "array([1, 2, 3])"
      ]
     },
     "execution_count": 90,
     "metadata": {},
     "output_type": "execute_result"
    }
   ],
   "source": [
    "a = np.array(df[['f2','f3']])\n",
    "a[:,0]"
   ]
  },
  {
   "cell_type": "markdown",
   "metadata": {},
   "source": [
    "### Add a feature"
   ]
  },
  {
   "cell_type": "code",
   "execution_count": 70,
   "metadata": {
    "collapsed": true
   },
   "outputs": [],
   "source": [
    "df['f4']=list(np.array([[1,2,3],[2,3,1],[3,1,2]]))\n"
   ]
  },
  {
   "cell_type": "code",
   "execution_count": 71,
   "metadata": {
    "collapsed": false,
    "scrolled": true
   },
   "outputs": [],
   "source": [
    "df2 = pd.DataFrame({'f1':[[4,4,4]],'f2':[4],'f3':[4],'f4':[[4,4,4]]},index=['delta'])"
   ]
  },
  {
   "cell_type": "code",
   "execution_count": 76,
   "metadata": {
    "collapsed": false
   },
   "outputs": [
    {
     "data": {
      "text/html": [
       "<div>\n",
       "<table border=\"1\" class=\"dataframe\">\n",
       "  <thead>\n",
       "    <tr style=\"text-align: right;\">\n",
       "      <th></th>\n",
       "      <th>f1</th>\n",
       "      <th>f2</th>\n",
       "      <th>f3</th>\n",
       "      <th>f4</th>\n",
       "    </tr>\n",
       "  </thead>\n",
       "  <tbody>\n",
       "    <tr>\n",
       "      <th>bravo</th>\n",
       "      <td>[2, 3, 1]</td>\n",
       "      <td>2</td>\n",
       "      <td>2</td>\n",
       "      <td>[2, 3, 1]</td>\n",
       "    </tr>\n",
       "    <tr>\n",
       "      <th>charlie</th>\n",
       "      <td>[3, 1, 2]</td>\n",
       "      <td>3</td>\n",
       "      <td>3</td>\n",
       "      <td>[3, 1, 2]</td>\n",
       "    </tr>\n",
       "    <tr>\n",
       "      <th>delta</th>\n",
       "      <td>[4, 4, 4]</td>\n",
       "      <td>4</td>\n",
       "      <td>4</td>\n",
       "      <td>[4, 4, 4]</td>\n",
       "    </tr>\n",
       "  </tbody>\n",
       "</table>\n",
       "</div>"
      ],
      "text/plain": [
       "                f1  f2  f3         f4\n",
       "bravo    [2, 3, 1]   2   2  [2, 3, 1]\n",
       "charlie  [3, 1, 2]   3   3  [3, 1, 2]\n",
       "delta    [4, 4, 4]   4   4  [4, 4, 4]"
      ]
     },
     "execution_count": 76,
     "metadata": {},
     "output_type": "execute_result"
    }
   ],
   "source": [
    "df = df.drop(df.index[0])\n",
    "df = df.append(df2)\n",
    "df"
   ]
  },
  {
   "cell_type": "code",
   "execution_count": 26,
   "metadata": {
    "collapsed": false
   },
   "outputs": [
    {
     "name": "stdout",
     "output_type": "stream",
     "text": [
      "Importing lightcurve data from data/Training_set_lightcurves/\n",
      "Finished importing lightcurve data.\n"
     ]
    }
   ],
   "source": [
    "import pandas as pd\n",
    "import sys\n",
    "sys.path.append('python')\n",
    "import keplerml\n",
    "\n",
    "data = pd.read_csv('data/output/out.csv',index_col=0)\n",
    "fitsDir = 'data/Training_set_lightcurves/'\n",
    "files = data.index\n"
   ]
  },
  {
   "cell_type": "code",
   "execution_count": 3,
   "metadata": {
    "collapsed": true
   },
   "outputs": [],
   "source": [
    "feats = \"/home/dgiles/Documents/KeplerLCs/output/Q1_output.csv\"\n",
    "df = pd.read_csv(feats,index_col=0)\n"
   ]
  },
  {
   "cell_type": "markdown",
   "metadata": {},
   "source": [
    "## Using CUDA to calculate distances between N points"
   ]
  },
  {
   "cell_type": "code",
   "execution_count": 1,
   "metadata": {
    "collapsed": false
   },
   "outputs": [
    {
     "name": "stderr",
     "output_type": "stream",
     "text": [
      "numbapro:1: ImportWarning: The numbapro package is deprecated in favour of the accelerate package. Please update your code to use equivalent functions from accelerate.\n",
      "/home/dgiles/anaconda/lib/python2.7/site-packages/numba/cuda/decorators.py:107: UserWarning: autojit is deprecated and will be removed in a future release. Use jit instead.\n",
      "  warn('autojit is deprecated and will be removed in a future release. Use jit instead.')\n"
     ]
    }
   ],
   "source": [
    "from numbapro import cuda\n",
    "import random\n",
    "import numpy as np\n",
    "\n",
    "@cuda.autojit\n",
    "def dist_cuda(dx,dd):\n",
    "    bx = cuda.blockIdx.x # which block in the grid?\n",
    "    bw = cuda.blockDim.x # what is the size of a block?\n",
    "    tx = cuda.threadIdx.x # unique thread ID within a blcok\n",
    "    j = tx + bx * bw\n",
    "\n",
    "    N=len(dx[0])\n",
    "    #dd[j]=dx[0][j]\n",
    "    #dd[j]=num\n",
    "    \n",
    "    #\"\"\"\n",
    "    for i in range(j+1,N):\n",
    "        d_ph = 0\n",
    "        for dim in range(len(dx)):\n",
    "            d_ph += (dx[dim][j]-dx[dim][i])**2\n",
    "            \n",
    "        # this is the distance to point i from point j. A good jumping off point\n",
    "        # for any other scoring metric...\n",
    "        dd[i][j]=dd[j][i]=d_ph**.5\n",
    "    #\"\"\"\n",
    "\n",
    "    \n",
    "def main():\n",
    "    # Calculates distances between N points of arbitrary dimensionality.\n",
    "    \n",
    "    # pts as array of N points with dim dimensions, n_pts x n_dims\n",
    "    pts = np.array([[i,j] for i in range(10) for j in range(10)])\n",
    "    # pts = np.array([[random.randint(0,100),random.randint(0,100)] for i in range(N)])\n",
    "    N=len(pts)\n",
    "    # Transpose pts array to n_dims x n_pts, each index of x contains all of a dimensions coordinates\n",
    "    x = np.array(pts.T)\n",
    "    # Resulting matrix will be n_pts x n_pts\n",
    "    d = np.array([np.zeros(N) for i in range(N)])\n",
    "    # Allocate host memory arrays\n",
    "    \n",
    "    #d = np.zeros(N*N)\n",
    "\n",
    "    # Allocate and copy GPU/device memory\n",
    "    d_x = cuda.to_device(x)\n",
    "    d_d = cuda.to_device(d)\n",
    "\n",
    "    threads_per_block = 128\n",
    "    number_of_blocks =N/128+1 \n",
    "    \n",
    "    dist_cuda [ number_of_blocks, threads_per_block ] (d_x,d_d)\n",
    "\n",
    "    d_d.copy_to_host(d)\n",
    "    return d\n",
    "\n",
    "\n",
    "D = main() # Execute the program"
   ]
  },
  {
   "cell_type": "code",
   "execution_count": 67,
   "metadata": {
    "collapsed": false
   },
   "outputs": [],
   "source": [
    "from numbapro import cuda\n",
    "import random\n",
    "import numpy as np\n",
    "\n",
    "@cuda.autojit\n",
    "def dist_cuda(dx,dd):\n",
    "    bx = cuda.blockIdx.x # which block in the grid?\n",
    "    bw = cuda.blockDim.x # what is the size of a block?\n",
    "    tx = cuda.threadIdx.x # unique thread ID within a blcok\n",
    "    i = tx + bx * bw\n",
    "    if i>len(dd):\n",
    "        return\n",
    "    d_ph=0\n",
    "    for dim in range(len(dx)):\n",
    "        # d_ph is a distance placeholder\n",
    "        # calculating the distance of all points to the zeroth pt\n",
    "        d_ph += (dx[dim][i]-dx[dim][0])**2\n",
    "            \n",
    "    dd[i]=d_ph**.5\n",
    "    return\n",
    "\n",
    "def main():\n",
    "    # Calculates distances between N points of arbitrary dimensionality.\n",
    "    \n",
    "    # pts as array of N points with dim dimensions, n_pts x n_dims\n",
    "    pts = np.array([[i,j] for i in range(10) for j in range(10)])\n",
    "    # pts = np.array([[random.randint(0,100),random.randint(0,100)] for i in range(N)])\n",
    "    N=len(pts)\n",
    "    \n",
    "    # Allocate host memory arrays\n",
    "    # Transpose pts array to n_dims x n_pts, each index of x contains all of a dimensions coordinates\n",
    "    x = np.array(pts.T)\n",
    "    d = np.zeros(N)\n",
    "\n",
    "\n",
    "    # Allocate and copy GPU/device memory\n",
    "    d_x = cuda.to_device(x)\n",
    "    d_d = cuda.to_device(d)\n",
    "\n",
    "    threads_per_block = 128\n",
    "    number_of_blocks =N/128+1 \n",
    "    \n",
    "    dist_cuda [ number_of_blocks, threads_per_block ] (d_x,d_d)\n",
    "\n",
    "    d_d.copy_to_host(d)\n",
    "    return d\n",
    "\n",
    "\n",
    "D = main() # Execute the program"
   ]
  },
  {
   "cell_type": "code",
   "execution_count": 69,
   "metadata": {
    "collapsed": false
   },
   "outputs": [
    {
     "data": {
      "text/plain": [
       "array([  0.        ,   1.        ,   2.        ,   3.        ,\n",
       "         4.        ,   5.        ,   6.        ,   7.        ,\n",
       "         8.        ,   9.        ,   1.        ,   1.41421356,\n",
       "         2.23606798,   3.16227766,   4.12310563,   5.09901951,\n",
       "         6.08276253,   7.07106781,   8.06225775,   9.05538514,\n",
       "         2.        ,   2.23606798,   2.82842712,   3.60555128,\n",
       "         4.47213595,   5.38516481,   6.32455532,   7.28010989,\n",
       "         8.24621125,   9.21954446,   3.        ,   3.16227766,\n",
       "         3.60555128,   4.24264069,   5.        ,   5.83095189,\n",
       "         6.70820393,   7.61577311,   8.54400375,   9.48683298,\n",
       "         4.        ,   4.12310563,   4.47213595,   5.        ,\n",
       "         5.65685425,   6.40312424,   7.21110255,   8.06225775,\n",
       "         8.94427191,   9.8488578 ,   5.        ,   5.09901951,\n",
       "         5.38516481,   5.83095189,   6.40312424,   7.07106781,\n",
       "         7.81024968,   8.60232527,   9.43398113,  10.29563014,\n",
       "         6.        ,   6.08276253,   6.32455532,   6.70820393,\n",
       "         7.21110255,   7.81024968,   8.48528137,   9.21954446,\n",
       "        10.        ,  10.81665383,   7.        ,   7.07106781,\n",
       "         7.28010989,   7.61577311,   8.06225775,   8.60232527,\n",
       "         9.21954446,   9.89949494,  10.63014581,  11.40175425,\n",
       "         8.        ,   8.06225775,   8.24621125,   8.54400375,\n",
       "         8.94427191,   9.43398113,  10.        ,  10.63014581,\n",
       "        11.3137085 ,  12.04159458,   9.        ,   9.05538514,\n",
       "         9.21954446,   9.48683298,   9.8488578 ,  10.29563014,\n",
       "        10.81665383,  11.40175425,  12.04159458,  12.72792206])"
      ]
     },
     "execution_count": 69,
     "metadata": {},
     "output_type": "execute_result"
    }
   ],
   "source": [
    "D"
   ]
  },
  {
   "cell_type": "code",
   "execution_count": 92,
   "metadata": {
    "collapsed": false
   },
   "outputs": [
    {
     "data": {
      "text/plain": [
       "array([[ 1, 10],\n",
       "       [ 0,  0],\n",
       "       [ 0,  1],\n",
       "       [ 0,  2]])"
      ]
     },
     "execution_count": 92,
     "metadata": {},
     "output_type": "execute_result"
    }
   ],
   "source": [
    "import numpy as np\n",
    "a = np.array([[0,0],[0,1],[0,2]])\n",
    "a = np.insert(a,0,[1,10],axis=0)"
   ]
  },
  {
   "cell_type": "code",
   "execution_count": 7,
   "metadata": {
    "collapsed": false
   },
   "outputs": [
    {
     "name": "stdout",
     "output_type": "stream",
     "text": [
      "1\n",
      "3\n",
      "2\n"
     ]
    }
   ],
   "source": [
    "adict = {'a':1,'b':2,'c':3}\n",
    "for i in adict:\n",
    "    print adict[i]"
   ]
  },
  {
   "cell_type": "code",
   "execution_count": 34,
   "metadata": {
    "collapsed": false,
    "scrolled": true
   },
   "outputs": [
    {
     "name": "stdout",
     "output_type": "stream",
     "text": [
      "Estimating Parameters...\n",
      "\n",
      "    Epsilon is in the neighborhood of 6.91444764188, \n",
      "    with an average of 2000.0 neighbors within epsilon,\n",
      "    1000.0 neighbors in half circle (neighbors/2).\n",
      "    \n",
      "0:07:17.968814\n"
     ]
    }
   ],
   "source": [
    "import pandas as pd\n",
    "import sys\n",
    "sys.path.append('python')\n",
    "import clusterOutliers\n",
    "from numbapro import cuda\n",
    "import numpy as np\n",
    "from datetime import datetime\n",
    "from sklearn import preprocessing\n",
    "from sklearn.neighbors import NearestNeighbors\n",
    "\n",
    "def scale_data(df):\n",
    "    data = df.iloc[:,0:60]\n",
    "    scaler = preprocessing.StandardScaler().fit(data)\n",
    "    scaledData = scaler.transform(data)\n",
    "    df_scaled = pd.DataFrame(columns=data.columns[0:60],index = data.index,data=scaledData)\n",
    "    return np.array(df_scaled)\n",
    "\n",
    "def eps_est(data):\n",
    "    \n",
    "    # distance array containing all distances\n",
    "    nbrs = NearestNeighbors(n_neighbors=int(np.ceil(.2*len(data))), algorithm='ball_tree').fit(data)\n",
    "    distances, indices = nbrs.kneighbors(data)\n",
    "    # Distance to 2*N/100th instead of 4th because: ... reasons\n",
    "    neighbors = int(np.ceil(.02*len(data)))\n",
    "    distArr = distances[:,neighbors]\n",
    "    distArr.sort()\n",
    "    pts = range(len(distArr))\n",
    "\n",
    "    # The following looks for the first instance (past the mid point)\n",
    "    # where the mean of the following [number] points\n",
    "    # is at least (cutoff-1)*100% greater than the mean of the previous [number] points.\n",
    "    # Alternatively, we could consider the variance of the points and draw conclusions from that\n",
    "    \n",
    "    if len(data) <= 200:\n",
    "        number = 10\n",
    "    else:\n",
    "        number = 50\n",
    "    cutoff = 1.05\n",
    "    for i in range(int(np.ceil(len(pts)/2)),len(pts)-number):\n",
    "        if np.mean(distArr[i+1:i+number])>=cutoff*np.mean(distArr[i-number:i-1]):\n",
    "            dbEps = distArr[i]\n",
    "            break\n",
    "\n",
    "    # Estimating nneighbors by finding the number of pts. \n",
    "    # that fall w/in our determined eps for each point.\n",
    "\n",
    "    count = np.zeros(len(pts))\n",
    "    for i in pts:    \n",
    "        for dist in distances[i]:\n",
    "            if dist <= dbEps:\n",
    "                count[i]+=1\n",
    "    average = np.median(count)\n",
    "    sigma = np.std(count)\n",
    "    neighbors = average/2 # Divide by 2 for pts on the edges of clusters\n",
    "    print(\"\"\"\n",
    "    Epsilon is in the neighborhood of %s, \n",
    "    with an average of %s neighbors within epsilon,\n",
    "    %s neighbors in half circle (neighbors/2).\n",
    "    \"\"\"%(dbEps,average,neighbors))\n",
    "    return dbEps,neighbors\n",
    "\n",
    "@cuda.autojit\n",
    "def dist_cuda(dx,dd,dj):\n",
    "    bx = cuda.blockIdx.x # which block in the grid?\n",
    "    bw = cuda.blockDim.x # what is the size of a block?\n",
    "    tx = cuda.threadIdx.x # unique thread ID within a blcok\n",
    "    i = tx + bx * bw\n",
    "    \n",
    "    if i>len(dd):\n",
    "        return\n",
    "\n",
    "    # d_ph is a distance placeholder\n",
    "    d_ph=0\n",
    "    for dim in range(len(dx)):\n",
    "        d_ph += (dx[dim][i]-dx[dim][dj[0]])**2\n",
    "\n",
    "    dd[i]=d_ph**.5\n",
    "    return\n",
    "    \n",
    "def distances(pts):\n",
    "    # Calculates distances between N points of arbitrary dimensionality.\n",
    "    \n",
    "    print(\"Estimating Parameters...\")\n",
    "    # Computationally expensive to calculate, using a sample if too many points\n",
    "    if len(pts)>10000:\n",
    "        sample = np.random.random_integers(0,len(pts),10000)\n",
    "        X_sample = pts[sample]\n",
    "    else:\n",
    "        X_sample = pts\n",
    "        \n",
    "    dbEps,neighbors= eps_est(X_sample)\n",
    "    if len(pts)>10000:\n",
    "        # Scaling neighbors assuming sample is representative\n",
    "        neighbors = int(neighbors*len(pts)/10000)\n",
    "        \n",
    "    # pts = np.array([[random.randint(0,100),random.randint(0,100)] for i in range(N)])\n",
    "    N=len(pts)\n",
    "    # Transpose pts array to n_dims x n_pts, each index of x contains all of a dimensions coordinates\n",
    "    x = np.array(pts.T)\n",
    "    # Resulting matrix will be n_pts x n_pts\n",
    "    D=[]\n",
    "    for i in range(10000):\n",
    "        # Allocate host memory arrays\n",
    "        d = np.zeros(N)\n",
    "        j = np.array([i],dtype=np.int)\n",
    "\n",
    "        # Allocate and copy GPU/device memory\n",
    "        d_x = cuda.to_device(x)\n",
    "        d_d = cuda.to_device(d)\n",
    "        d_j = cuda.to_device(j)\n",
    "\n",
    "        threads_per_block = 128\n",
    "        number_of_blocks =N/128+1 \n",
    "\n",
    "        dist_cuda [ number_of_blocks, threads_per_block ] (d_x,d_d,d_j)\n",
    "\n",
    "        d_d.copy_to_host(d)\n",
    "        d.sort()\n",
    "        if d[neighbors] > dbEps:\n",
    "            D.append(-1)\n",
    "        else:\n",
    "            D.append(0)\n",
    "    return D\n",
    "\n",
    "featCSV = \"/home/dgiles/Documents/KeplerLCs/output/Q4_FullSample.csv\" # Path to csv containing feature data (should be a pandas dataframe saved as a csv)\n",
    "fitsDir = \"/home/dgiles/Documents/KeplerLCs/fitsFiles/Q4fitsfiles\" # path to fits files\n",
    "Q4 = clusterOutliers.clusterOutliers(featCSV,fitsDir)\n",
    "Q4.dataSample = Q4.data\n",
    "Q4.filesSample =Q4.dataSample.index\n",
    "Q4.sampleGenerated = True\n",
    "Q4.sampleTSNE = True\n",
    "\n",
    "start = datetime.now()\n",
    "dataScaled = scale_data(Q4.dataSample)\n",
    "D = distances(dataScaled) # Execute the program\n",
    "print(datetime.now()-start)\n"
   ]
  },
  {
   "cell_type": "code",
   "execution_count": 26,
   "metadata": {
    "collapsed": false
   },
   "outputs": [],
   "source": [
    "a.sort()"
   ]
  },
  {
   "cell_type": "code",
   "execution_count": 27,
   "metadata": {
    "collapsed": false
   },
   "outputs": [
    {
     "data": {
      "text/plain": [
       "array([ 0.        ,  0.99294094,  1.04539396,  1.0599843 ,  1.08838669,\n",
       "        1.10757538,  1.11530782,  1.13157379,  1.14715207,  1.16740044])"
      ]
     },
     "execution_count": 27,
     "metadata": {},
     "output_type": "execute_result"
    }
   ],
   "source": [
    "a[0:10]"
   ]
  },
  {
   "cell_type": "code",
   "execution_count": 1,
   "metadata": {
    "collapsed": false
   },
   "outputs": [
    {
     "name": "stderr",
     "output_type": "stream",
     "text": [
      "numbapro:1: ImportWarning: The numbapro package is deprecated in favour of the accelerate package. Please update your code to use equivalent functions from accelerate.\n",
      "/home/dgiles/anaconda/lib/python2.7/site-packages/numba/cuda/decorators.py:107: UserWarning: autojit is deprecated and will be removed in a future release. Use jit instead.\n",
      "  warn('autojit is deprecated and will be removed in a future release. Use jit instead.')\n"
     ]
    }
   ],
   "source": [
    "import matplotlib\n",
    "matplotlib.use('TkAgg')\n",
    "import matplotlib.pyplot as plt\n",
    "from matplotlib.figure import Figure\n",
    "from matplotlib.backends.backend_tkagg import FigureCanvasTkAgg, NavigationToolbar2TkAgg\n",
    "from matplotlib import colors\n",
    "import matplotlib.cm as cmx\n",
    "import matplotlib.gridspec as gridspec\n",
    "import numpy as np\n",
    "np.set_printoptions(threshold='nan')\n",
    "import pandas as pd\n",
    "import seaborn as sns\n",
    "import sys\n",
    "if sys.version_info[0] < 3:\n",
    "    import Tkinter as Tk\n",
    "else:\n",
    "    import tkinter as Tk\n",
    "    \n",
    "from tkFileDialog import askopenfilename,askdirectory,asksaveasfile\n",
    "sys.path.append('python')\n",
    "import clusterOutliers\n",
    "import keplerml\n",
    "\n",
    "featCSV = \"/home/dgiles/Documents/KeplerLCs/output/Q4_FullSample.csv\" # Path to csv containing feature data (should be a pandas dataframe saved as a csv)\n",
    "fitsDir = \"/home/dgiles/Documents/KeplerLCs/fitsFiles/Q4fitsfiles\" # path to fits files\n",
    "Q4 = clusterOutliers.clusterOutliers(featCSV,fitsDir)\n",
    "Q4.dataSample = Q4.data\n",
    "Q4.filesSample =Q4.dataSample.index\n",
    "Q4.sampleGenerated = True\n",
    "Q4.sampleTSNE = True"
   ]
  },
  {
   "cell_type": "code",
   "execution_count": 2,
   "metadata": {
    "collapsed": true
   },
   "outputs": [],
   "source": [
    "out_sample = Q4.dataSample[Q4.dataSample.db_out==-1]"
   ]
  },
  {
   "cell_type": "code",
   "execution_count": 3,
   "metadata": {
    "collapsed": false
   },
   "outputs": [
    {
     "name": "stdout",
     "output_type": "stream",
     "text": [
      "Estimating Parameters...\n",
      "\n",
      "    Epsilon is in the neighborhood of 418.665745085, \n",
      "    with an average of 356.0 neighbors within epsilon,\n",
      "    178.0 neighbors in half circle (neighbors/2).\n",
      "    \n",
      "Clustering data with DBSCAN...\n",
      "There were 1 clusters and 402 total outliers\n"
     ]
    },
    {
     "name": "stderr",
     "output_type": "stream",
     "text": [
      "/home/dgiles/anaconda/lib/python2.7/site-packages/ipykernel/__main__.py:1: SettingWithCopyWarning: \n",
      "A value is trying to be set on a copy of a slice from a DataFrame.\n",
      "Try using .loc[row_indexer,col_indexer] = value instead\n",
      "\n",
      "See the caveats in the documentation: http://pandas.pydata.org/pandas-docs/stable/indexing.html#indexing-view-versus-copy\n",
      "  if __name__ == '__main__':\n"
     ]
    }
   ],
   "source": [
    "out_sample['out_out'] = Q4.db_out(out_sample)"
   ]
  },
  {
   "cell_type": "code",
   "execution_count": 5,
   "metadata": {
    "collapsed": false
   },
   "outputs": [
    {
     "name": "stdout",
     "output_type": "stream",
     "text": [
      "Plotting.\n",
      "window closed.\n"
     ]
    },
    {
     "ename": "SystemExit",
     "evalue": "",
     "output_type": "error",
     "traceback": [
      "An exception has occurred, use %tb to see the full traceback.\n",
      "\u001b[1;31mSystemExit\u001b[0m\n"
     ]
    },
    {
     "name": "stderr",
     "output_type": "stream",
     "text": [
      "To exit: use 'exit', 'quit', or Ctrl-D.\n"
     ]
    }
   ],
   "source": [
    "Q4.plot_sample(df=out_sample,pathtofits=Q4.fitsDir,clusterLabels=out_sample.out_out,reduction_method='pca')"
   ]
  },
  {
   "cell_type": "code",
   "execution_count": 1,
   "metadata": {
    "collapsed": false
   },
   "outputs": [
    {
     "name": "stderr",
     "output_type": "stream",
     "text": [
      "numbapro:1: ImportWarning: The numbapro package is deprecated in favour of the accelerate package. Please update your code to use equivalent functions from accelerate.\n",
      "/home/dgiles/anaconda/lib/python2.7/site-packages/numba/cuda/decorators.py:107: UserWarning: autojit is deprecated and will be removed in a future release. Use jit instead.\n",
      "  warn('autojit is deprecated and will be removed in a future release. Use jit instead.')\n"
     ]
    }
   ],
   "source": [
    "import matplotlib\n",
    "matplotlib.use('TkAgg')\n",
    "import matplotlib.pyplot as plt\n",
    "from matplotlib.figure import Figure\n",
    "from matplotlib.backends.backend_tkagg import FigureCanvasTkAgg, NavigationToolbar2TkAgg\n",
    "from matplotlib import colors\n",
    "import matplotlib.cm as cmx\n",
    "import matplotlib.gridspec as gridspec\n",
    "import numpy as np\n",
    "np.set_printoptions(threshold='nan')\n",
    "import pandas as pd\n",
    "import seaborn as sns\n",
    "import sys\n",
    "if sys.version_info[0] < 3:\n",
    "    import Tkinter as Tk\n",
    "else:\n",
    "    import tkinter as Tk\n",
    "    \n",
    "from tkFileDialog import askopenfilename,askdirectory,asksaveasfile\n",
    "sys.path.append('python')\n",
    "import clusterOutliers\n",
    "import keplerml\n",
    "\n",
    "import pyfits\n",
    "from numbapro import cuda\n",
    "from matplotlib.widgets import Slider\n",
    "from sklearn.cluster import DBSCAN\n",
    "from sklearn.neighbors import NearestNeighbors"
   ]
  },
  {
   "cell_type": "code",
   "execution_count": 2,
   "metadata": {
    "collapsed": true
   },
   "outputs": [],
   "source": [
    "featCSV = \"/home/dgiles/Documents/KeplerLCs/output/Q4_outliers.csv\" # Path to csv containing feature data (should be a pandas dataframe saved as a csv)\n",
    "fitsDir = \"/home/dgiles/Documents/KeplerLCs/fitsFiles/Q4fitsfiles\" # path to fits files\n",
    "Q4 = clusterOutliers.clusterOutliers(featCSV,fitsDir)\n",
    "\n",
    "featCSV = \"/home/dgiles/Documents/KeplerLCs/output/Q8_outliers.csv\" # Path to csv containing feature data (should be a pandas dataframe saved as a csv)\n",
    "fitsDir = \"/home/dgiles/Documents/KeplerLCs/fitsFiles/Q8fitsfiles\" # path to fits files\n",
    "Q8 = clusterOutliers.clusterOutliers(featCSV,fitsDir)\n",
    "\n",
    "featCSV = \"/home/dgiles/Documents/KeplerLCs/output/Q11_outliers.csv\" # Path to csv containing feature data (should be a pandas dataframe saved as a csv)\n",
    "fitsDir = \"/home/dgiles/Documents/KeplerLCs/fitsFiles/Q11fitsfiles\" # path to fits files\n",
    "Q11 = clusterOutliers.clusterOutliers(featCSV,fitsDir)\n",
    "\n",
    "featCSV = \"/home/dgiles/Documents/KeplerLCs/output/Q16_outliers.csv\" # Path to csv containing feature data (should be a pandas dataframe saved as a csv)\n",
    "fitsDir = \"/home/dgiles/Documents/KeplerLCs/fitsFiles/Q16fitsfiles\" # path to fits files\n",
    "Q16 = clusterOutliers.clusterOutliers(featCSV,fitsDir)\n",
    "\n",
    "\n",
    "Q_dict = {'Q8':Q8,'Q4':Q4,'Q11':Q11,'Q16':Q16}\n",
    "for q in Q_dict:\n",
    "    Q = Q_dict[q]\n",
    "    Q.outliers = Q.data"
   ]
  },
  {
   "cell_type": "code",
   "execution_count": 4,
   "metadata": {
    "collapsed": false
   },
   "outputs": [
    {
     "name": "stdout",
     "output_type": "stream",
     "text": [
      "Plotting.\n",
      "window closed.\n"
     ]
    },
    {
     "ename": "SystemExit",
     "evalue": "",
     "output_type": "error",
     "traceback": [
      "An exception has occurred, use %tb to see the full traceback.\n",
      "\u001b[1;31mSystemExit\u001b[0m\n"
     ]
    },
    {
     "name": "stderr",
     "output_type": "stream",
     "text": [
      "To exit: use 'exit', 'quit', or Ctrl-D.\n"
     ]
    }
   ],
   "source": [
    "root = Tk.Tk()\n",
    "root.wm_title(\"Scatter\")\n",
    "\n",
    "\"\"\"--- import light curve data ---\"\"\"\n",
    "Q = Q_dict['Q4']\n",
    "Qdf = Q.outliers\n",
    "\n",
    "# data is an array containing each data point\n",
    "data = np.array(Qdf[['tsne_x','tsne_y']])\n",
    "\n",
    "# tsneX has all the x-coordinates\n",
    "tsneX = Qdf.tsne_x\n",
    "# tsneY has all the y-coordinates\n",
    "tsneY = Qdf.tsne_y\n",
    "\n",
    "\"\"\"--- Organizing data and Labels ---\"\"\"\n",
    "\n",
    "fig = Figure(figsize=(20,10))\n",
    "\n",
    "# a tk.DrawingArea\n",
    "canvas = FigureCanvasTkAgg(fig, master=root)\n",
    "canvas.get_tk_widget().pack(side=Tk.TOP, fill=Tk.BOTH, expand=1)\n",
    "# Toolbar to help navigate the data (pan, zoom, save image, etc.)\n",
    "toolbar = NavigationToolbar2TkAgg(canvas, root)\n",
    "toolbar.update()\n",
    "canvas._tkcanvas.pack(side=Tk.TOP, fill=Tk.BOTH, expand=1)\n",
    "\n",
    "gs = gridspec.GridSpec(20,6)\n",
    "\n",
    "\n",
    "def eps_est(data,n):\n",
    "    \n",
    "    # distance array containing all distances\n",
    "    nbrs = NearestNeighbors(n_neighbors=int(np.ceil(.1*len(data))), algorithm='ball_tree').fit(data)\n",
    "    distances, indices = nbrs.kneighbors(data)\n",
    "    # Distance to 2*N/100th instead of 4th because: ... reasons\n",
    "    neighbors = n\n",
    "    distArr = distances[:,neighbors]\n",
    "    distArr.sort()\n",
    "    pts = range(len(distArr))\n",
    "\n",
    "    # The following looks for the first instance (past the mid point)\n",
    "    # where the mean of the following [number] points\n",
    "    # is at least (cutoff-1)*100% greater than the mean of the previous [number] points.\n",
    "    \n",
    "    number = 5\n",
    "    cutoff = 1.05\n",
    "    for i in range(int(np.ceil(len(pts)/2)),len(pts)-number):\n",
    "        if np.mean(distArr[i+1:i+number])>=cutoff*np.mean(distArr[i-number:i-1]):\n",
    "            dbEps = distArr[i]\n",
    "            pt=pts[i]\n",
    "            break\n",
    "            \n",
    "    return dbEps\n",
    "\n",
    "def cluster_and_plot(X_scaled,eps,min_samples):\n",
    "    ax.cla()\n",
    "    est = DBSCAN(eps=eps,min_samples=min_samples,n_jobs=-1)\n",
    "    est.fit(X_scaled)\n",
    "    clusterLabels = est.labels_\n",
    "\n",
    "    data_out = Qdf[clusterLabels==-1]\n",
    "    outX = data_out.tsne_x\n",
    "    outY = data_out.tsne_y\n",
    "\n",
    "    # Set those labels\n",
    "    ax.set_xlabel(\"Reduced X\",fontsize=18)\n",
    "    ax.set_ylabel(\"Reduced Y\",fontsize=18)\n",
    "    # Scatter the data\n",
    "    ax.scatter(Qdf[clusterLabels!=-1].tsne_x,Qdf[clusterLabels!=-1].tsne_y,c=clusterLabels[clusterLabels!=-1],cmap=\"viridis\",alpha=.5)\n",
    "    ax.scatter(outX,outY,c='red',s=30,alpha=.8)\n",
    "    ax.annotate(\"Outliers: %6i\"%len(clusterLabels[clusterLabels==-1]),\n",
    "               xy=(0,0),textcoords=\"axes fraction\",xytext=(0.05,.9))\n",
    "    ax.annotate(\"Clusters: %6i\"%(max(clusterLabels)+1),\n",
    "               xy=(0,0),textcoords=\"axes fraction\",xytext=(0.05,.85))\n",
    "    ax.annotate(\"Epsilon: %6.3f\"%eps,\n",
    "               xy=(0,0),textcoords=\"axes fraction\",xytext=(0.05,.8))\n",
    "    ax.annotate(\"Min Neighbors: %6i\"%min_samples,\n",
    "               xy=(0,0),textcoords=\"axes fraction\",xytext=(0.05,.7))\n",
    "    return\n",
    "\n",
    "def update_eps(val):\n",
    "    eps = s_eps.val\n",
    "    min_samples = int(s_neighbors.val)\n",
    "\n",
    "    #X = Qdf.iloc[:,0:60]\n",
    "    #scaler = preprocessing.StandardScaler().fit(X)\n",
    "    #scaledData = scaler.transform(X)\n",
    "    #X_scaled = pd.DataFrame(columns=X.columns[0:60],index = X.index,data=scaledData)\n",
    "    \n",
    "    X_scaled = Qdf[['tsne_x','tsne_y']]\n",
    "    cluster_and_plot(X_scaled,eps,min_samples)\n",
    "    return\n",
    "\n",
    "    \n",
    "def update_neighbors(val):\n",
    "    min_samples = int(s_neighbors.val)\n",
    "    \n",
    "    #X = Qdf.iloc[:,0:60]\n",
    "    #scaler = preprocessing.StandardScaler().fit(X)\n",
    "    #scaledData = scaler.transform(X)\n",
    "    #X_scaled = pd.DataFrame(columns=X.columns[0:60],index = X.index,data=scaledData)\n",
    "    \n",
    "    X_scaled = Qdf[['tsne_x','tsne_y']]\n",
    "    # Automatically determines a suggestion for epsilon based on the number of neighbors chosen\n",
    "    eps = eps_est(X_scaled,min_samples)\n",
    "    # the following changes eps and initiates update_eps\n",
    "    s_eps.set_val(eps)\n",
    "    \n",
    "    return\n",
    "\n",
    "# Initial plot\n",
    "X_scaled = Qdf[['tsne_x','tsne_y']]\n",
    "min_samples=4\n",
    "eps = eps_est(X_scaled,min_samples)\n",
    "\n",
    "with sns.axes_style(\"white\"):\n",
    "    # empty subplot for scattered data\n",
    "    ax = fig.add_subplot(gs[0:17,:])\n",
    "\n",
    "    ax_neighbors = fig.add_subplot(gs[18,:])\n",
    "    ax_eps = fig.add_subplot(gs[19,:])\n",
    "\n",
    "    s_neighbors = Slider(ax_neighbors,'Neighbors',1,50,valinit=min_samples,valfmt='%2i')\n",
    "    s_eps = Slider(ax_eps,'Epsilon',.01,10,valinit=eps,valfmt='%8.3f')\n",
    "    \n",
    "cluster_and_plot(X_scaled,eps,min_samples)\n",
    "    \n",
    "canvas.draw()\n",
    "canvas.show()\n",
    "print(\"Plotting.\")\n",
    "s_eps.on_changed(update_eps)\n",
    "s_neighbors.on_changed(update_neighbors)\n",
    "\n",
    "def _delete_window():\n",
    "    print(\"window closed.\")\n",
    "    root.destroy()\n",
    "    sys.exit()\n",
    "\n",
    "root.protocol(\"WM_DELETE_WINDOW\",_delete_window)\n",
    "root.mainloop()"
   ]
  },
  {
   "cell_type": "code",
   "execution_count": 46,
   "metadata": {
    "collapsed": true
   },
   "outputs": [],
   "source": [
    "Q = Qdict['Q16']\n",
    "Qdf = Q.outliers\n",
    "data = Qdf[['tsne_x','tsne_y']]\n",
    "neighbors = 4\n",
    "\n",
    "# distance array containing all distances\n",
    "nbrs = NearestNeighbors(n_neighbors=int(np.ceil(.1*len(data))), algorithm='ball_tree').fit(data)\n",
    "distances, indices = nbrs.kneighbors(data)\n",
    "# Distance to 2*N/100th instead of 4th because: ... reasons\n",
    "\n",
    "distArr = distances[:,neighbors]\n",
    "distArr.sort()\n",
    "pts = range(len(distArr))\n",
    "\n",
    "# The following looks for the first instance (past the mid point)\n",
    "# where the mean of the following [number] points\n",
    "# is at least (cutoff-1)*100% greater than the mean of the previous [number] points.\n",
    "# Alternatively, we could consider the variance of the points and draw conclusions from that\n",
    "\n",
    "number = 5\n",
    "    \n",
    "cutoff = 1.05\n",
    "for i in range(int(np.ceil(len(pts)/2)),len(pts)-number):\n",
    "    if np.mean(distArr[i+1:i+number])>=cutoff*np.mean(distArr[i-number:i-1]):\n",
    "        dbEps = distArr[i]\n",
    "        pt=pts[i]\n",
    "        break\n",
    "\n",
    "plt.scatter(pts,distArr,c='black')\n",
    "plt.scatter(pt,dbEps,c='red',s=30)\n",
    "plt.show()"
   ]
  },
  {
   "cell_type": "code",
   "execution_count": 77,
   "metadata": {
    "collapsed": false
   },
   "outputs": [
    {
     "name": "stdout",
     "output_type": "stream",
     "text": [
      "('enter_axes', <matplotlib.axes._subplots.AxesSubplot object at 0x7f4544eaba90>)\n",
      "False\n",
      "('leave_axes', <matplotlib.axes._subplots.AxesSubplot object at 0x7f4544eaba90>)\n",
      "('enter_axes', <matplotlib.axes._subplots.AxesSubplot object at 0x7f4545944490>)\n",
      "True\n",
      "('leave_axes', <matplotlib.axes._subplots.AxesSubplot object at 0x7f4545944490>)\n",
      "('enter_axes', <matplotlib.axes._subplots.AxesSubplot object at 0x7f4545944c10>)\n",
      "False\n",
      "('leave_axes', <matplotlib.axes._subplots.AxesSubplot object at 0x7f4545944c10>)\n",
      "('enter_axes', <matplotlib.axes._subplots.AxesSubplot object at 0x7f4544eab990>)\n",
      "False\n",
      "('leave_axes', <matplotlib.axes._subplots.AxesSubplot object at 0x7f4544eab990>)\n",
      "('enter_axes', <matplotlib.axes._subplots.AxesSubplot object at 0x7f4545944490>)\n",
      "True\n",
      "('leave_axes', <matplotlib.axes._subplots.AxesSubplot object at 0x7f4545944490>)\n"
     ]
    }
   ],
   "source": [
    "\"\"\"\n",
    "Illustrate the figure and axes enter and leave events by changing the\n",
    "frame colors on enter and leave\n",
    "\"\"\"\n",
    "import matplotlib.pyplot as plt\n",
    "\n",
    "def enter_axes(event):\n",
    "    print('enter_axes', event.inaxes)\n",
    "    print(event.inaxes == ax1)\n",
    "    event.inaxes.patch.set_facecolor('yellow')\n",
    "    event.canvas.draw()\n",
    "\n",
    "def leave_axes(event):\n",
    "    print('leave_axes', event.inaxes)\n",
    "    event.inaxes.patch.set_facecolor('white')\n",
    "    event.canvas.draw()\n",
    "\n",
    "def enter_figure(event):\n",
    "    print('enter_figure', event.canvas.figure)\n",
    "    event.canvas.figure.patch.set_facecolor('red')\n",
    "    event.canvas.draw()\n",
    "\n",
    "def leave_figure(event):\n",
    "    print('leave_figure', event.canvas.figure)\n",
    "    event.canvas.figure.patch.set_facecolor('grey')\n",
    "    event.canvas.draw()\n",
    "\n",
    "fig1 = plt.figure()\n",
    "fig1.suptitle('mouse hover over figure or axes to trigger events')\n",
    "ax1 = fig1.add_subplot(211)\n",
    "ax2 = fig1.add_subplot(212)\n",
    "\n",
    "fig1.canvas.mpl_connect('figure_enter_event', enter_figure)\n",
    "fig1.canvas.mpl_connect('figure_leave_event', leave_figure)\n",
    "fig1.canvas.mpl_connect('axes_enter_event', enter_axes)\n",
    "fig1.canvas.mpl_connect('axes_leave_event', leave_axes)\n",
    "\n",
    "fig2 = plt.figure()\n",
    "fig2.suptitle('mouse hover over figure or axes to trigger events')\n",
    "ax1 = fig2.add_subplot(211)\n",
    "ax2 = fig2.add_subplot(212)\n",
    "\n",
    "fig2.canvas.mpl_connect('figure_enter_event', enter_figure)\n",
    "fig2.canvas.mpl_connect('figure_leave_event', leave_figure)\n",
    "fig2.canvas.mpl_connect('axes_enter_event', enter_axes)\n",
    "fig2.canvas.mpl_connect('axes_leave_event', leave_axes)\n",
    "\n",
    "plt.show()"
   ]
  },
  {
   "cell_type": "code",
   "execution_count": 44,
   "metadata": {
    "collapsed": false
   },
   "outputs": [],
   "source": [
    "from matplotlib import colors\n",
    "import matplotlib.cm as cmx\n",
    "clusterLabels = range(-1,10)\n",
    "cNorm  = colors.Normalize(vmin=min(clusterLabels),vmax=max(clusterLabels))\n",
    "scalarMap = cmx.ScalarMappable(norm=cNorm, cmap='viridis')\n",
    "color = scalarMap.to_rgba(10)\n",
    "fig = plt.figure()\n",
    "x=np.arange(100)\n",
    "y=np.sin(x)\n",
    "labels = np.zeros_like(x)\n",
    "labels.fill(4)\n",
    "plt.scatter(x,y,c=color)\n",
    "plt.show()"
   ]
  },
  {
   "cell_type": "code",
   "execution_count": 30,
   "metadata": {
    "collapsed": true
   },
   "outputs": [],
   "source": [
    "cNorm  = colors.Normalize(vmin=0, vmax=10)\n",
    "scalarMap = cmx.ScalarMappable(norm=cNorm, cmap='viridis')"
   ]
  },
  {
   "cell_type": "code",
   "execution_count": 2,
   "metadata": {
    "collapsed": false
   },
   "outputs": [],
   "source": []
  },
  {
   "cell_type": "code",
   "execution_count": 10,
   "metadata": {
    "collapsed": false
   },
   "outputs": [],
   "source": [
    "from accelerate.cuda import cuda\n",
    "import random\n",
    "import numpy as np\n",
    "\n",
    "@cuda.jit\n",
    "def dist_cuda(dx,dd):\n",
    "    bx = cuda.blockIdx.x # which block in the grid?\n",
    "    bw = cuda.blockDim.x # what is the size of a block?\n",
    "    tx = cuda.threadIdx.x # unique thread ID within a blcok\n",
    "    j = tx + bx * bw\n",
    "\n",
    "    N=len(dx[0])\n",
    "    #dd[j]=dx[0][j]\n",
    "    #dd[j]=num\n",
    "    \n",
    "    #\"\"\"\n",
    "    for i in range(j+1,N):\n",
    "        d_ph = 0\n",
    "        for dim in range(len(dx)):\n",
    "            d_ph += (dx[dim][j]-dx[dim][i])**2\n",
    "            \n",
    "        # this is the distance to point i from point j. A good jumping off point\n",
    "        # for any other scoring metric...\n",
    "        dd[i][j]=dd[j][i]=d_ph**.5\n",
    "    #\"\"\"\n",
    "\n",
    "    \n",
    "def main():\n",
    "    # Calculates distances between N points of arbitrary dimensionality.\n",
    "    \n",
    "    # pts as array of N points with dim dimensions, n_pts x n_dims\n",
    "    pts = np.array([[i,j] for i in range(10) for j in range(10)])\n",
    "    # pts = np.array([[random.randint(0,100),random.randint(0,100)] for i in range(N)])\n",
    "    N=len(pts)\n",
    "    # Transpose pts array to n_dims x n_pts, each index of x contains all of a dimensions coordinates\n",
    "    x = np.array(pts.T)\n",
    "    # Resulting matrix will be n_pts x n_pts\n",
    "    d = np.array([np.zeros(N) for i in range(N)])\n",
    "    # Allocate host memory arrays\n",
    "    \n",
    "    #d = np.zeros(N*N)\n",
    "\n",
    "    # Allocate and copy GPU/device memory\n",
    "    d_x = cuda.to_device(x)\n",
    "    d_d = cuda.to_device(d)\n",
    "\n",
    "    threads_per_block = 128\n",
    "    number_of_blocks =N/128+1 \n",
    "    \n",
    "    dist_cuda [ number_of_blocks, threads_per_block ] (d_x,d_d)\n",
    "\n",
    "    d_d.copy_to_host(d)\n",
    "    return d\n",
    "\n",
    "\n",
    "D = main() # Execute the program"
   ]
  },
  {
   "cell_type": "code",
   "execution_count": null,
   "metadata": {
    "collapsed": true
   },
   "outputs": [],
   "source": [
    "# A GPU application to do DBSCAN\n",
    "\"\"\"\n",
    "Needs to calculate distance to nth neighbor, and if it's outside of epsilon, it's an outlier.\n",
    "Otherwise, it's part of a cluster and that cluster needs to be identified.\n",
    "Clusters could always be identified later... if desired at all...\n",
    "\"\"\"\n",
    "def calc_nth_neighbor(dx,dd):\n",
    "    bx = cuda.blockIdx.x # which block in the grid?\n",
    "    bw = cuda.blockDim.x # what is the size of a block?\n",
    "    tx = cuda.threadIdx.x # unique thread ID within a blcok\n",
    "    j = tx + bx * bw\n",
    "\n",
    "    N=len(dx[0])\n",
    "    #dd[j]=dx[0][j]\n",
    "    #dd[j]=num\n",
    "    \n",
    "    #\"\"\"\n",
    "    for i in range(j+1,N):\n",
    "        d_ph = 0\n",
    "        for dim in range(len(dx)):\n",
    "            d_ph += (dx[dim][j]-dx[dim][i])**2\n",
    "        if d_ph**.5>cutoff:\n",
    "            dd=ignore\n",
    "        # this is the distance to point i from point j. A good jumping off point\n",
    "        # for any other scoring metric...\n",
    "        dd[i][j]=dd[j][i]=d_ph**.5\n",
    "    #\"\"\""
   ]
  },
  {
   "cell_type": "code",
   "execution_count": null,
   "metadata": {
    "collapsed": true
   },
   "outputs": [],
   "source": [
    "nbrs = NearestNeighbors(n_neighbors=int(max(n,100)), algorithm='ball_tree',n_jobs=-1).fit(data)\n",
    "distances, indices = nbrs.kneighbors(data)\n",
    "del nbrs\n",
    "distArr = distances[:,n]\n",
    "del distances\n",
    "for pt in distArr:\n",
    "    if pt>epsilon:\n",
    "        clusterLabel=-1\n",
    "    else:\n",
    "        clusterLabel=0\n"
   ]
  },
  {
   "cell_type": "code",
   "execution_count": 35,
   "metadata": {
    "collapsed": false
   },
   "outputs": [
    {
     "data": {
      "image/png": "[encoded data removed]",
      "text/plain": [
       "<matplotlib.figure.Figure at 0x7f9cd1eacb90>"
      ]
     },
     "metadata": {},
     "output_type": "display_data"
    }
   ],
   "source": [
    "import matplotlib.pyplot as plt\n",
    "%matplotlib inline\n",
    "fig,ax = plt.subplots()\n",
    "ax.scatter(0,0,s=200,c='#009999',edgecolors='none',label='Cluster')\n",
    "ax.scatter(1,0,s=200,c='#FF6633',edgecolors='none',label='Edge')\n",
    "ax.scatter(-1,0,s=200,c='#333366',edgecolors='none',label='Outlier')\n",
    "ax.scatter([],[],s=200,c='#000000',edgecolors='none',label='Fake news')\n",
    "ax.legend(scatterpoints=1)\n",
    "plt.show()"
   ]
  },
  {
   "cell_type": "code",
   "execution_count": null,
   "metadata": {
    "collapsed": true
   },
   "outputs": [],
   "source": []
  }
 ],
 "metadata": {
  "kernelspec": {
   "display_name": "Python 2",
   "language": "python",
   "name": "python2"
  },
  "language_info": {
   "codemirror_mode": {
    "name": "ipython",
    "version": 2
   },
   "file_extension": ".py",
   "mimetype": "text/x-python",
   "name": "python",
   "nbconvert_exporter": "python",
   "pygments_lexer": "ipython2",
   "version": "2.7.11"
  }
 },
 "nbformat": 4,
 "nbformat_minor": 0
}
